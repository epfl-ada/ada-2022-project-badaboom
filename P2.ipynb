{
 "cells": [
  {
   "cell_type": "code",
   "execution_count": null,
   "metadata": {},
   "outputs": [],
   "source": [
    "import pandas as pd\n",
    "import matplotlib.pyplot as plt\n",
    "import seaborn as sns\n",
    "import numpy as np\n",
    "import re\n",
    "import scipy.stats as st\n",
    "from vaderSentiment.vaderSentiment import SentimentIntensityAnalyzer\n",
    "sns.set_theme(style=\"whitegrid\")\n",
    "sns.set_palette(\"Set2\")"
   ]
  },
  {
   "cell_type": "markdown",
   "metadata": {},
   "source": [
    "# What is the recipe for the perfect movie in **BOLLYWOOD** vs. in **HOLLYWOOD**?"
   ]
  },
  {
   "cell_type": "markdown",
   "metadata": {},
   "source": [
    "## Data loading"
   ]
  },
  {
   "cell_type": "markdown",
   "metadata": {},
   "source": [
    "### CMU dataset\n",
    "\n",
    "| Column name          | Description                                                                                                                                                                                       |   |   |   |\n",
    "|----------------------|---------------------------------------------------------------------------------------------------------------------------------------------------------------------------------------------------|---|---|---|\n",
    "| wikipedia_movie_id | ID of the movie from wikipedia                                                                                                                                                 |   |   |   |\n",
    "| freebase_movie_id| ID of the movie from freebas                                                                                                                                            |   |   |   |\n",
    "| movie_name | Name of the movie                                                                                                                                                |   |   |   |\n",
    "| movie_release_date  | Date the movie was released                                                                                                                                      |   |   |   |\n",
    "| movie_box_office_revenue  | Revenue of the movie box office                                                                                                                           \n",
    "| movie_runtime  | Run time of the movie                                                                                                                                                 |   |   |   |\n",
    "| movie_languages | Languages of the movie                                                                                                                                                  |   |   |   |\n",
    "| movie_countries | Countries where the movie were created                                                                                                                                  |   |   |   |\n",
    "| movie_genres   | Genre of the movie                                                                                                                                              |   |   |   |"
   ]
  },
  {
   "cell_type": "markdown",
   "metadata": {},
   "source": [
    "The movie data set contains 81741 rows.\n",
    "\n"
   ]
  },
  {
   "cell_type": "code",
   "execution_count": null,
   "metadata": {},
   "outputs": [],
   "source": [
    "data_folder = './data/'\n",
    "\n",
    "names = ['wikipedia_movie_id','freebase_movie_id', 'movie_name', 'movie_release_date', 'movie_box_office_revenue', \n",
    "        'movie_runtime', 'movie_languages', 'movie_countries', 'movie_genres']\n",
    "\n",
    "movies_data = pd.read_csv(data_folder + 'movie.metadata.tsv', names = names, sep = '\\t', )\n",
    "\n",
    "movies_data[['movie_name', 'movie_languages', 'movie_countries', 'movie_genres']]= movies_data[['movie_name', 'movie_languages', 'movie_countries', 'movie_genres']].applymap(lambda x: str.lower(x))\n",
    "\n",
    "movies_data.head()"
   ]
  },
  {
   "cell_type": "markdown",
   "metadata": {},
   "source": [
    "### IMdb datasets (ratings, runtimes, isAdult)"
   ]
  },
  {
   "cell_type": "code",
   "execution_count": null,
   "metadata": {},
   "outputs": [],
   "source": [
    "#rating files loading\n",
    "ratings = pd.read_csv(data_folder + 'title.ratings.tsv.gz', sep='\\t', compression='gzip')\n",
    "titles = pd.read_csv(data_folder + 'title.basics.tsv.gz', sep='\\t', compression='gzip')"
   ]
  },
  {
   "cell_type": "markdown",
   "metadata": {},
   "source": [
    "## Preprocessing"
   ]
  },
  {
   "cell_type": "markdown",
   "metadata": {},
   "source": [
    "### IMdb and CMU datasets merging"
   ]
  },
  {
   "cell_type": "code",
   "execution_count": null,
   "metadata": {},
   "outputs": [],
   "source": [
    "#merging IMdb dataset with title, isAdult and runtimeMinutes with dataset with averageRating on movie ID (tconst)\n",
    "rates = titles.merge(ratings, how='left', on='tconst')[['averageRating', 'numVotes', 'originalTitle', 'isAdult', 'runtimeMinutes']]\n",
    "\n",
    "#putting all titles to lower case to match the CMU dataset movie names and dropping column with upper cases\n",
    "rates['movie_name'] = [ele.lower() for ele in rates['originalTitle'].astype(str)]\n",
    "rates=rates.drop(columns='originalTitle')\n",
    "\n",
    "#dropping all rows that have a movie name appearing multiple times so the merging on movie name with the CMU dataset is precise\n",
    "rates = rates.drop_duplicates('movie_name', keep=False)\n",
    "\n",
    "#converting runtimeMinutes to float and changing '\\\\N' to NaN to match the format in CMU dataset\n",
    "rates['runtimeMinutes']=list(map(lambda x: float(x) if x!='\\\\N' else None , rates['runtimeMinutes']))"
   ]
  },
  {
   "cell_type": "code",
   "execution_count": null,
   "metadata": {},
   "outputs": [],
   "source": [
    "#merging CMU dataset with the IMdb dataset\n",
    "movies_data_merged = movies_data.merge(rates, how = 'left', on='movie_name')\n",
    "\n",
    "#completing the NaN values in movie_runtime of the CMU dataset with the available ones of the IMdb dataset.\n",
    "#we trust more the CMU dataset than the IMdb one so we give priority to the runtime values of the CMU dataset\n",
    "# to the IMdb ones and use the IMdb only if the value is missing in the CMU.\n",
    "#finally we drop the column with the IMdb runtimes.\n",
    "movies_data_merged.loc[movies_data_merged['movie_runtime'].isna(), 'movie_runtime']=movies_data_merged.loc[movies_data_merged['movie_runtime'].isna(), 'runtimeMinutes']\n",
    "movies_data_merged=movies_data_merged.drop(columns='runtimeMinutes')"
   ]
  },
  {
   "cell_type": "code",
   "execution_count": null,
   "metadata": {},
   "outputs": [],
   "source": [
    "#finally creating the datasets with all indian movies and all american movies\n",
    "indian_movies = movies_data_merged[movies_data_merged['movie_countries'] == '{\"/m/03rk0\": \"india\"}'].reset_index()\n",
    "american_movies = movies_data_merged[movies_data_merged['movie_countries'] == '{\"/m/09c7w0\": \"united states of america\"}'].reset_index()\n",
    "\n",
    "print('There are %d indian films and %d american films in the dataset' % (len(indian_movies), len(american_movies)))"
   ]
  },
  {
   "cell_type": "markdown",
   "metadata": {},
   "source": [
    "## Asserting purity"
   ]
  },
  {
   "cell_type": "code",
   "execution_count": null,
   "metadata": {},
   "outputs": [],
   "source": [
    "print('wiki ID, indian: ', len(indian_movies.drop_duplicates('wikipedia_movie_id')), '\\nfreebase ID, indian: ', len(indian_movies.drop_duplicates('freebase_movie_id')))\n",
    "print('wiki ID, american: ', len(american_movies.drop_duplicates('wikipedia_movie_id')), '\\nfreebase ID, american: ', len(american_movies.drop_duplicates('freebase_movie_id')))"
   ]
  },
  {
   "cell_type": "markdown",
   "metadata": {},
   "source": [
    "Our indian and american movies data base both do not contain any duplicates on either wikipedia movie ID nor freebase ID."
   ]
  },
  {
   "cell_type": "markdown",
   "metadata": {},
   "source": [
    "## Missing values"
   ]
  },
  {
   "cell_type": "code",
   "execution_count": null,
   "metadata": {},
   "outputs": [],
   "source": [
    "indian_movies.info()"
   ]
  },
  {
   "cell_type": "code",
   "execution_count": null,
   "metadata": {},
   "outputs": [],
   "source": [
    "american_movies.info()"
   ]
  },
  {
   "cell_type": "markdown",
   "metadata": {},
   "source": [
    "We notice that the movie box office revenue is very often unavailable and present in very limited number in both datasets. Thus we probably won't use it for further analysis.\n",
    "\n",
    "The informations merged from the IMdb dataset (averageRating, numVotes and isAdult) are available in almost the half of the dataset which makes them still usable despite an important loss of data points."
   ]
  },
  {
   "cell_type": "markdown",
   "metadata": {},
   "source": [
    "## Analysis of ratings"
   ]
  },
  {
   "cell_type": "markdown",
   "metadata": {},
   "source": [
    "### Some global infos about ratings"
   ]
  },
  {
   "cell_type": "code",
   "execution_count": null,
   "metadata": {},
   "outputs": [],
   "source": [
    "print('%.3f percent of indian movies have a rating and %.3f percent of american movies have a rating' %\n",
    "(100-np.sum(indian_movies['averageRating'].isna())/indian_movies.shape[0]*100, 100-np.sum(american_movies['averageRating'].isna())/american_movies.shape[0]*100))\n",
    "\n",
    "print('Average rating of indian movies : %.3f \\tAverage rating of american movies : %.3f' %\n",
    "(np.mean(indian_movies['averageRating']), np.mean(american_movies['averageRating'])))"
   ]
  },
  {
   "cell_type": "markdown",
   "metadata": {},
   "source": [
    "### Distributions of movie ratings"
   ]
  },
  {
   "cell_type": "code",
   "execution_count": null,
   "metadata": {},
   "outputs": [],
   "source": [
    "plt.figure(figsize=(7,3))\n",
    "sns.histplot(x='averageRating', data=american_movies, alpha=0.5, label='American', stat = 'density', binrange=[0,10], bins = 20, kde=True)\n",
    "sns.histplot(x='averageRating', data=indian_movies, alpha=0.5, color='orange', stat = 'density', label='Indian', binrange=[0,10], bins = 20, kde=True)\n",
    "plt.title('Distribution of movies ratings')\n",
    "plt.legend()\n",
    "plt.show()"
   ]
  },
  {
   "cell_type": "code",
   "execution_count": null,
   "metadata": {},
   "outputs": [],
   "source": [
    "print('P-value for normality test of american ratings : %.10f \\tP-value for normality test of indian ratings : %.10f ' \n",
    "      % (st.normaltest(american_movies['averageRating'], nan_policy='omit').pvalue, st.normaltest(indian_movies['averageRating'], nan_policy='omit').pvalue))"
   ]
  },
  {
   "cell_type": "markdown",
   "metadata": {},
   "source": [
    "Indian and american movies get similar distributions of ratings. This will allow us to use more easily the ratings as an unbiased tool to estimate the success of a movie."
   ]
  },
  {
   "cell_type": "markdown",
   "metadata": {},
   "source": [
    "### Distribution of number of votes"
   ]
  },
  {
   "cell_type": "code",
   "execution_count": null,
   "metadata": {},
   "outputs": [],
   "source": [
    "plt.figure(figsize=(15,15))\n",
    "plt.subplot(2,2,1)\n",
    "sns.histplot(american_movies['numVotes'], bins=np.logspace(0,7,50), alpha =.5, binrange=[0., 1e7], stat = 'density')\n",
    "sns.histplot(indian_movies['numVotes'], bins=np.logspace(0,7,50), alpha=.5, binrange=[0., 1e7], color = 'orange', stat = 'density')\n",
    "plt.legend(labels=[\"American movies\",\"Indian movies\"])\n",
    "plt.yscale('log')\n",
    "plt.xscale('log')\n",
    "plt.xlabel('Number of votes')\n",
    "plt.title('Number of votes per film, differenciated by movie coutry')\n",
    "\n",
    "plt.subplot(2,2,2)\n",
    "sns.boxplot(data = pd.DataFrame({'USA': american_movies['numVotes'], 'India': indian_movies['numVotes']}))\n",
    "plt.yscale('log')\n",
    "plt.title('Distribution of votes per film, differenciated by movie coutry')\n",
    "plt.show()"
   ]
  },
  {
   "cell_type": "markdown",
   "metadata": {},
   "source": [
    "In this plot we can see that the distributions follow similar patterns, except in the extrems. Proportionally, indian movies have more films with few votes (less than 100 votes), and, inversly, american movies have a movies that exceed the maximum number of votes any indian film obtains\n",
    "\n",
    "In average, american films receive more votes, but Indian films receive enough votes so that we can deem their ratings reliable"
   ]
  },
  {
   "cell_type": "markdown",
   "metadata": {},
   "source": [
    "### Centering the data around each means for further analysis"
   ]
  },
  {
   "cell_type": "code",
   "execution_count": null,
   "metadata": {},
   "outputs": [],
   "source": [
    "#center data on mean\n",
    "indian_movies.loc[:,'centeredRating']=indian_movies['averageRating'].copy()-np.mean(indian_movies['averageRating'])\n",
    "american_movies.loc[:,'centeredRating']=american_movies['averageRating'].copy()-np.mean(american_movies['averageRating'])\n",
    "print('Centered average rating of indian movies : %.3f \\tCentered average rating of american movies : %.3f' %\n",
    "(np.mean(indian_movies['centeredRating']), np.mean(american_movies['centeredRating'])))"
   ]
  },
  {
   "cell_type": "markdown",
   "metadata": {},
   "source": [
    "## Runtimes analysis"
   ]
  },
  {
   "cell_type": "markdown",
   "metadata": {},
   "source": [
    "### Some global infos about runtimes"
   ]
  },
  {
   "cell_type": "code",
   "execution_count": null,
   "metadata": {},
   "outputs": [],
   "source": [
    "print('%.3f percent of indian movies have a runtime and %.3f percent of american movies have a runtime' %\n",
    "(100-np.sum(indian_movies['movie_runtime'].isna())/indian_movies.shape[0]*100, 100-np.sum(american_movies['movie_runtime'].isna())/american_movies.shape[0]*100))\n",
    "\n",
    "print('Average runtime of indian movies : %.3f \\tAverage runtime of american movies : %.3f' %\n",
    "(indian_movies['movie_runtime'].mean(), american_movies['movie_runtime'].mean()))\n"
   ]
  },
  {
   "cell_type": "markdown",
   "metadata": {},
   "source": [
    "### Distribution of movie runtimes"
   ]
  },
  {
   "cell_type": "code",
   "execution_count": null,
   "metadata": {},
   "outputs": [],
   "source": [
    "data_runtime = pd.DataFrame({'USA': american_movies.query('movie_runtime < 10000')['movie_runtime'], 'India': indian_movies.query('movie_runtime < 10000')['movie_runtime']})\n",
    "sns.histplot(data = data_runtime)\n",
    "plt.yscale('log')\n",
    "plt.legend(labels=[\"American movies\",\"Indian movies\"])\n",
    "plt.title(f'Distribution of runtimes (outlier of removed)')\n",
    "plt.show()"
   ]
  },
  {
   "cell_type": "markdown",
   "metadata": {},
   "source": [
    "From this plot we can see that we have a few outliers in both datasets. Looking at most of the films that are longer than 1000 minutes (16 hours), we decided that they could be discarted as they are either errors or not pertinent to our analysis (series of films instead of single film)."
   ]
  },
  {
   "cell_type": "code",
   "execution_count": null,
   "metadata": {},
   "outputs": [],
   "source": [
    "print('Number of films longer than 16 hours:', len(indian_movies.query('movie_runtime > 1000')) + len(american_movies.query('movie_runtime > 1000')))"
   ]
  },
  {
   "cell_type": "markdown",
   "metadata": {},
   "source": [
    "Deleting 8 films that are very likely to be errors shouldn't make default to our analysis"
   ]
  },
  {
   "cell_type": "code",
   "execution_count": null,
   "metadata": {},
   "outputs": [],
   "source": [
    "# deleting films with runtime longer than 6 hours\n",
    "\n",
    "indian_movies = indian_movies.query('movie_runtime < 1000')\n",
    "american_movies = american_movies.query('movie_runtime < 1000')"
   ]
  },
  {
   "cell_type": "code",
   "execution_count": null,
   "metadata": {},
   "outputs": [],
   "source": [
    "#defining number of bins to get roughly equal width between the 2 histograms\n",
    "data_runtime = pd.DataFrame({'USA': american_movies['movie_runtime'], 'India': indian_movies['movie_runtime']})\n",
    "#plotting\n",
    "plt.figure(figsize=(15,15))\n",
    "\n",
    "plt.subplot(2,2,1)\n",
    "sns.histplot(american_movies['movie_runtime'], alpha =.5, stat = 'density', bins = 100, binrange= [0,1000])\n",
    "sns.histplot(indian_movies['movie_runtime'], alpha=.5, color = 'orange', stat = 'density', bins = 100, binrange= [0,1000])\n",
    "plt.yscale('log')\n",
    "plt.legend(labels=[\"American movies\",\"Indian movies\"])\n",
    "plt.xlabel('Movie runtime')\n",
    "plt.title('Movie runtime, differenciated by movie coutry')\n",
    "\n",
    "\n",
    "plt.subplot(2,2,2)\n",
    "sns.violinplot(data = data_runtime)\n",
    "plt.ylabel('Minutes')\n",
    "plt.title(f'Distribution of runtimes (outlier of removed)')\n",
    "\n",
    "plt.show()"
   ]
  },
  {
   "cell_type": "code",
   "execution_count": null,
   "metadata": {},
   "outputs": [],
   "source": [
    "print('median runtime difference:', np.nanmedian(american_movies['movie_runtime'] - indian_movies['movie_runtime']))"
   ]
  },
  {
   "cell_type": "markdown",
   "metadata": {},
   "source": [
    "We notice that indian movies have a tendancy to be longer by ~56 minutes and that there are a lot of short american movies, perhaps the oldest films from the dataset.\n",
    "\n",
    "There could thus be a bias in our dataset, because early indian cinema might be under-represneted compared to early american cinema. We will investigate this bias when differentiating with respects to time.\n",
    "\n",
    "It would be interesting to further study the evolution of these tendancies through time and integrate runtime to our analysis. Do we tend to a global equilibrium in the runtimes between indian and american movies revealing a standardization?"
   ]
  },
  {
   "cell_type": "markdown",
   "metadata": {},
   "source": [
    "## Numbers of Indian vs American movies per year"
   ]
  },
  {
   "cell_type": "code",
   "execution_count": null,
   "metadata": {},
   "outputs": [],
   "source": [
    "indian_movies_years = indian_movies.copy()\n",
    "\n",
    "#slice the movie release date column to only have the years, and transform them as integer again\n",
    "indian_movies_years['movie_release_date'] = indian_movies['movie_release_date'].dropna().astype('str').apply(lambda s: s[0:4]).astype('int')\n",
    "\n",
    "#count the numbers of movies per year there are for indian movies\n",
    "n_movie_per_year_indian = indian_movies_years.groupby('movie_release_date')['movie_name'].agg(['count'])\n",
    "\n",
    "#change the movie release date as a column\n",
    "n_movie_per_year_indian = pd.DataFrame(n_movie_per_year_indian).reset_index()\n",
    "\n",
    "#sort the values\n",
    "n_movie_per_year_indian['movie_release_date'] = n_movie_per_year_indian['movie_release_date'].sort_values()\n",
    "\n",
    "n_movie_per_year_indian"
   ]
  },
  {
   "cell_type": "code",
   "execution_count": null,
   "metadata": {},
   "outputs": [],
   "source": [
    "american_movies_years = american_movies.copy()\n",
    "\n",
    "#slice the movie release date column to only have the years, and transform them as integer again\n",
    "american_movies_years['movie_release_date'] = american_movies['movie_release_date'].dropna().astype('str').apply(lambda s: s[0:4]).astype('int')\n",
    "\n",
    "#count the numbers of movies per year there are for american movies\n",
    "n_movie_per_year_american = american_movies_years.groupby('movie_release_date')['movie_name'].agg(['count'])\n",
    "\n",
    "#change the movie release date as a column\n",
    "n_movie_per_year_american = pd.DataFrame(n_movie_per_year_american).reset_index()\n",
    "\n",
    "#sort the values\n",
    "n_movie_per_year_american['movie_release_date'] = n_movie_per_year_american['movie_release_date'].sort_values()\n",
    "\n",
    "n_movie_per_year_american"
   ]
  },
  {
   "cell_type": "markdown",
   "metadata": {},
   "source": [
    "Let us slice the data to have the same time frame: from 1912 to 2014 for both Indian and American movies."
   ]
  },
  {
   "cell_type": "code",
   "execution_count": null,
   "metadata": {},
   "outputs": [],
   "source": [
    "#Slice the data to have same time frame for both Indian and American movies data sets\n",
    "n_movie_per_year_american = n_movie_per_year_american.query('movie_release_date <= 2014 & movie_release_date >= 1912')"
   ]
  },
  {
   "cell_type": "code",
   "execution_count": null,
   "metadata": {},
   "outputs": [],
   "source": [
    "#Plot both Indian and American numbers of movies per year\n",
    "sns.lineplot(data= n_movie_per_year_indian, x='movie_release_date', y = 'count', label='indian')\n",
    "sns.lineplot(data= n_movie_per_year_american, x='movie_release_date', y = 'count', label='american')\n",
    "plt.title('Indian vs American movies per year ')\n",
    "plt.xlabel('Movie release year')\n",
    "plt.ylabel('Number of movies per year')\n",
    "plt.show()"
   ]
  },
  {
   "cell_type": "markdown",
   "metadata": {},
   "source": [
    "We can observe a peak starting to grow from the 2000 years for both Hollywood and Bollywood movies."
   ]
  },
  {
   "cell_type": "code",
   "execution_count": null,
   "metadata": {},
   "outputs": [],
   "source": [
    "#Zoom in during the peak of Indian and American released movie years\n",
    "sns.lineplot(data= n_movie_per_year_indian, x='movie_release_date', y = 'count', label='indian')\n",
    "sns.lineplot(data= n_movie_per_year_american, x='movie_release_date', y = 'count', label='american')\n",
    "plt.title('Indian vs American movies per year, from the 2000s')\n",
    "plt.xlabel('Movie release year')\n",
    "plt.ylabel('Number of movies per year')\n",
    "plt.axis([2000, 2014, 0, 1000])\n",
    "plt.show()"
   ]
  },
  {
   "cell_type": "markdown",
   "metadata": {},
   "source": [
    "The peak of released movies are at 2006 for Hollywood and 2008 Bollywood respectively.\n",
    "\n",
    "At 2014 it goes back to nearly 0 films released, but we should investigate carefully the data set that explain this lack of data.\n",
    "\n",
    "Thus we begin the data set in 1950 for both Hollywood and Bollywood movies and cut the data set to 2006 for both Hollywood and Bollywood movies.\n"
   ]
  },
  {
   "cell_type": "code",
   "execution_count": null,
   "metadata": {},
   "outputs": [],
   "source": [
    "# transform the movie release date column to only have the years, and transform them as integer again\n",
    "indian_movies['movie_release_date'] = indian_movies['movie_release_date'].dropna().astype('str').apply(lambda s: s[0:4]).astype('int')\n",
    "american_movies['movie_release_date'] = american_movies['movie_release_date'].dropna().astype('str').apply(lambda s: s[0:4]).astype('int')\n",
    "\n",
    "# Cut the data from 1950 to 2006 to have the same time frame for both Indian and American movies data sets\n",
    "cut_american_movies = american_movies.query('movie_release_date <= 2010 & movie_release_date >= 1980')\n",
    "cut_indian_movies = indian_movies.query('movie_release_date <= 2010 & movie_release_date >= 1980')"
   ]
  },
  {
   "cell_type": "markdown",
   "metadata": {},
   "source": [
    "## Movie genre analysis"
   ]
  },
  {
   "cell_type": "code",
   "execution_count": null,
   "metadata": {},
   "outputs": [],
   "source": [
    "test_indian = indian_movies.copy()\n",
    "#remove {}\n",
    "test_indian['cleared_movie_genres'] = test_indian['movie_genres'].str[1:-1]\n",
    "#remove films without genre\n",
    "test_indian = test_indian.query(\"cleared_movie_genres != ''\")\n",
    "\n",
    "test_indian.head()"
   ]
  },
  {
   "cell_type": "code",
   "execution_count": null,
   "metadata": {},
   "outputs": [],
   "source": [
    "#create list with all genres and count each genre number of apparation\n",
    "all_genres_listed_indian = test_indian['cleared_movie_genres'].str.split(pat=\",\")\n",
    "\n",
    "ls = []\n",
    "for i in all_genres_listed_indian:\n",
    "    ls.extend(i)\n",
    " \n",
    "all_genres_indian = pd.Series(ls)\n",
    "all_genres_indian = all_genres_indian.str.strip().value_counts()\n",
    "all_genres_indian.index = [ele.split(':')[1][2:-1] for ele in all_genres_indian.index]"
   ]
  },
  {
   "cell_type": "code",
   "execution_count": null,
   "metadata": {},
   "outputs": [],
   "source": [
    "#ploting the first 50 genres\n",
    "first_genres_indian = all_genres_indian[:50]\n",
    "f, ax = plt.subplots(figsize=(6, 10))\n",
    "sns.barplot(y = first_genres_indian.index, x = first_genres_indian).set_title('Movie genres apparition in indian movies')\n",
    "sns.despine(left=True, bottom=True)"
   ]
  },
  {
   "cell_type": "code",
   "execution_count": null,
   "metadata": {},
   "outputs": [],
   "source": [
    "test_american = american_movies.copy()\n",
    "#remove {}\n",
    "test_american['cleared_movie_genres'] = test_american['movie_genres'].str[1:-1]\n",
    "#remove films without genre\n",
    "test_american = test_american.query(\"cleared_movie_genres != ''\")\n",
    "test_american.head()"
   ]
  },
  {
   "cell_type": "code",
   "execution_count": null,
   "metadata": {},
   "outputs": [],
   "source": [
    "#create list with all genres and count each genre number of apparation\n",
    "all_genres_listed_american = test_american['cleared_movie_genres'].str.split(pat=\",\")\n",
    "\n",
    "ls = []\n",
    "for i in all_genres_listed_american:\n",
    "    ls.extend(i)\n",
    " \n",
    "all_genres_american = pd.Series(ls)\n",
    "all_genres_american = all_genres_american.str.strip().value_counts()\n",
    "all_genres_american.index=[ele.split(':')[1][2:-1] for ele in all_genres_american.index]"
   ]
  },
  {
   "cell_type": "code",
   "execution_count": null,
   "metadata": {},
   "outputs": [],
   "source": [
    "#ploting the first 50 genres\n",
    "first_genres_american = all_genres_american[:50]\n",
    "f, ax = plt.subplots(figsize=(6, 10))\n",
    "sns.barplot(y = first_genres_american.index, x = first_genres_american).set_title('Movie genres apparition in American movies')\n",
    "sns.despine(left=True, bottom=True)\n"
   ]
  },
  {
   "cell_type": "markdown",
   "metadata": {},
   "source": [
    "To compare them with each other, we calculate the frequency of movie genre in each region"
   ]
  },
  {
   "cell_type": "code",
   "execution_count": null,
   "metadata": {},
   "outputs": [],
   "source": [
    "#calculate frequencies of movie genre in each production\n",
    "all_genres_american_frequency = all_genres_american/len(american_movies)\n",
    "first_genres_american_frequency = all_genres_american_frequency[:50]\n",
    "all_genres_indian_frequency = all_genres_indian/len(indian_movies)\n",
    "first_genres_indian_frequency = all_genres_indian_frequency[:50]"
   ]
  },
  {
   "cell_type": "code",
   "execution_count": null,
   "metadata": {},
   "outputs": [],
   "source": [
    "#ploting the first 50 genres\n",
    "fig, ax = plt.subplots(1,2,figsize=(10, 10),sharex = True, constrained_layout=True)\n",
    "fig.suptitle('Movie genres frequency in american and indian films')\n",
    "ax[0].set_title('America')\n",
    "ax[1].set_title('India')\n",
    "\n",
    "sns.barplot(ax = ax[0],y = first_genres_american_frequency.index, x = first_genres_american_frequency, label=\"American\", color=\"b\")\n",
    "sns.barplot(ax = ax[1], y = first_genres_indian_frequency.index, x = first_genres_indian_frequency, label=\"Indian\", color=\"r\")"
   ]
  },
  {
   "cell_type": "code",
   "execution_count": null,
   "metadata": {},
   "outputs": [],
   "source": [
    "print(\"Indian movies have a total of %d different movies genres and american have %d\" %(len(all_genres_indian.index), len(all_genres_american.index)))"
   ]
  },
  {
   "cell_type": "markdown",
   "metadata": {},
   "source": [
    "As the plots show, \"drama\" is the prominent movie genre in both american and indian movies. However, american movies seems to have a better distribution of different genres than indian that are clearly more focused around \"drama\".\n",
    "\n",
    "Furthermore, both of them have a large number of different movie genres which can make the analysis difficult. Moreover, genres like \"silent film\" or \"world cinema\" are not specific theme to categorize the movies. In the other hand, it seems that some genres are similar to each other or some of them include other genres (e.g. \"action/aventure\" can include \"aventure\"). In conclusion, for further analysis, it could be interesting to select a restricted group of movie genres that allows better and more precises results. "
   ]
  },
  {
   "cell_type": "markdown",
   "metadata": {},
   "source": [
    "### First analysis of movie genre across time"
   ]
  },
  {
   "cell_type": "code",
   "execution_count": null,
   "metadata": {},
   "outputs": [],
   "source": [
    "test_american['movie_release_date']"
   ]
  },
  {
   "cell_type": "code",
   "execution_count": null,
   "metadata": {},
   "outputs": [],
   "source": [
    "test_american = cut_american_movies.copy()\n",
    "test_american = test_american.dropna(subset= 'movie_release_date')\n",
    "test_american['movie_release_date'] = test_american['movie_release_date'].astype(str)\n",
    "test_american['movie_release_date'] = test_american['movie_release_date'].str.slice(stop = 4)\n",
    "test_american['cleared_movie_genres'] = test_american['movie_genres'].str[1:-1]\n",
    "test_american = test_american.query(\"cleared_movie_genres != ''\")\n",
    "all_genre_american_time = pd.DataFrame(test_american['cleared_movie_genres'])\n",
    "all_genre_american_time.index = test_american['movie_release_date'] \n",
    "all_genre_american_time = pd.DataFrame(all_genre_american_time.groupby(['movie_release_date'])['cleared_movie_genres'].apply(','.join).apply(lambda x: x.split(','))).explode('cleared_movie_genres')\n",
    "all_genre_american_time['year'] = all_genre_american_time.index\n",
    "all_genre_american_time['cleared_movie_genres']=[ele.split(':')[1][2:-1] for ele in all_genre_american_time['cleared_movie_genres']]\n",
    "\n",
    "final = pd.crosstab(all_genre_american_time['year'], all_genre_american_time['cleared_movie_genres'])\n",
    "#taking the first 30 genres\n",
    "final = final[final.sum().sort_values(ascending= False)[:30].index]\n",
    "#normalize by the number of genres per year\n",
    "final = final.apply(lambda x: x/final.sum(axis = 1))"
   ]
  },
  {
   "cell_type": "code",
   "execution_count": null,
   "metadata": {},
   "outputs": [],
   "source": [
    "#plotting the 30 first prominent movie genres presence across time\n",
    "#a, f = plt.subplots(figsize = (10,10), constrained_layout=True)\n",
    "#plt.stackplot(final[70:].index, final[70:].to_dict(orient = 'list').values(), labels = final.keys())\n",
    "#f.legend(loc='upper left')\n",
    "#f.tick_params(axis = 'x', rotation = 90)\n",
    "#a.suptitle(\"30 first prominent movie genres presence across time\")"
   ]
  },
  {
   "cell_type": "markdown",
   "metadata": {},
   "source": [
    "As we can see, there a too much genres to correctly analyze this plot. This encourages to select the main genres to analyze."
   ]
  },
  {
   "cell_type": "markdown",
   "metadata": {},
   "source": [
    "## Movie language"
   ]
  },
  {
   "cell_type": "markdown",
   "metadata": {},
   "source": [
    "In this section, we will investigate some disparities or resemblence of the available languages of the film."
   ]
  },
  {
   "cell_type": "markdown",
   "metadata": {},
   "source": [
    "### Indian movies"
   ]
  },
  {
   "cell_type": "code",
   "execution_count": null,
   "metadata": {},
   "outputs": [],
   "source": [
    "indian_languages= indian_movies.copy()\n",
    "#remove the {} in each rows\n",
    "indian_languages['cleared_movie_languages'] = indian_languages['movie_languages'].str[1:-1]\n",
    "\n",
    "#remove the films without any languages\n",
    "indian_languages = indian_languages.query(\"cleared_movie_languages != ''\")"
   ]
  },
  {
   "cell_type": "code",
   "execution_count": null,
   "metadata": {},
   "outputs": [],
   "source": [
    "#Create a list with all languages\n",
    "all_languages_listed_indian = indian_languages['cleared_movie_languages'].str.split(pat=\",\")\n",
    "\n",
    "#Drop the NAs\n",
    "all_languages_listed_indian = all_languages_listed_indian.dropna()\n",
    "\n",
    "#Create a list with all the languages in it\n",
    "ls = []\n",
    "for i in all_languages_listed_indian:\n",
    "    ls.extend(i)\n",
    " \n",
    "#Count the total number of languages that are in the movies for each one of the languages\n",
    "all_languages_indian = pd.Series(ls)\n",
    "\n",
    "#Strip the strings and count the numbers of occurence of each languages\n",
    "all_languages_indian = all_languages_indian.str.strip().value_counts()\n",
    "\n",
    "all_languages_indian.head()"
   ]
  },
  {
   "cell_type": "code",
   "execution_count": null,
   "metadata": {},
   "outputs": [],
   "source": [
    "all_languages_indian_code = all_languages_indian.copy()\n",
    "\n",
    "#Put it as data frame\n",
    "all_languages_indian_code= pd.DataFrame(all_languages_indian_code)\n",
    "\n",
    "#Reset the index to have the index as column\n",
    "all_languages_indian_code = all_languages_indian_code.reset_index()\n",
    "\n",
    "#Rename the columns correctly\n",
    "all_languages_indian_code = all_languages_indian_code.rename(columns={\"index\": \"languages\", 0:\"count\"})\n",
    "\n",
    "#Remove the code part (that begins with \"/m\")\n",
    "all_languages_indian_code['languages'] = all_languages_indian_code['languages'].apply(lambda s: re.sub(r'/m.+ \"', '',s))\n",
    "\n",
    "#Only take the top 20 languages to plot it \n",
    "top_20_ind = all_languages_indian_code.iloc[:20]\n",
    "\n",
    "top_20_ind.head()"
   ]
  },
  {
   "cell_type": "code",
   "execution_count": null,
   "metadata": {},
   "outputs": [],
   "source": [
    "#Plotting top 20 languages (39 in total for indian languages)\n",
    "f, ax = plt.subplots(figsize=(6, 10))\n",
    "sns.barplot(data = top_20_ind,y = 'languages', x = 'count').set_title('Languages apparition in Indian movies')\n",
    "ax.set_xscale('log')\n",
    "sns.despine(left=True, bottom=True)"
   ]
  },
  {
   "cell_type": "markdown",
   "metadata": {},
   "source": [
    "### American films"
   ]
  },
  {
   "cell_type": "code",
   "execution_count": null,
   "metadata": {},
   "outputs": [],
   "source": [
    "american_languages = american_movies.copy()\n",
    "#Remove the {} in the column\n",
    "american_languages['cleared_movie_languages'] = american_languages['movie_languages'].str[1:-1]\n",
    "\n",
    "#Remove films without languages\n",
    "american_languages = american_languages.query(\"cleared_movie_languages != ''\")"
   ]
  },
  {
   "cell_type": "code",
   "execution_count": null,
   "metadata": {},
   "outputs": [],
   "source": [
    "#Create list with all languages\n",
    "all_languages_listed_american = american_languages['cleared_movie_languages'].str.split(pat=\",\")\n",
    "\n",
    "#Drop the NAs\n",
    "all_languages_listed_american = all_languages_listed_american.dropna()\n",
    "\n",
    "#Create a list with all the languages in it\n",
    "ls = []\n",
    "for i in all_languages_listed_american:\n",
    "    ls.extend(i)\n",
    " \n",
    "all_languages_american = pd.Series(ls)\n",
    "\n",
    "#Count the total number of languages that are in the movies for each one of the languages\n",
    "all_languages_american = all_languages_american.str.strip().value_counts()\n",
    "\n",
    "all_languages_american.head()"
   ]
  },
  {
   "cell_type": "code",
   "execution_count": null,
   "metadata": {},
   "outputs": [],
   "source": [
    "all_languages_american_code =  all_languages_american.copy()\n",
    "\n",
    "#Put it as data frame\n",
    "all_languages_american_code = pd.DataFrame(all_languages_american_code)\n",
    "\n",
    "#Reset the index to have the index as column\n",
    "all_languages_american_code = all_languages_american_code.reset_index()\n",
    "\n",
    "#Rename the columns correctly\n",
    "all_languages_american_code = all_languages_american_code.rename(columns={\"index\": \"languages\", 0:\"count\"})\n",
    "\n",
    "#Remove the code part (that begins with \"/m\")\n",
    "all_languages_american_code['languages'] = all_languages_american_code['languages'].apply(lambda s: re.sub(r'/m.+ \"', '',s))\n",
    "\n",
    "#Only take the top 20 languages to plot it \n",
    "top_20_american = all_languages_american_code.iloc[:20]\n",
    "\n",
    "top_20_american.head()"
   ]
  },
  {
   "cell_type": "code",
   "execution_count": null,
   "metadata": {},
   "outputs": [],
   "source": [
    "#Plotting top 20 languages (111 in total for American movies)\n",
    "f, ax = plt.subplots(figsize=(6, 10))\n",
    "sns.barplot(data = top_20_american, y = 'languages', x = 'count').set_title('Languages apparition in American movies')\n",
    "ax.set_xscale('log')\n",
    "sns.despine(left=True, bottom=True)"
   ]
  },
  {
   "cell_type": "code",
   "execution_count": null,
   "metadata": {},
   "outputs": [],
   "source": [
    "#Compute the frequency of top 20 for the American and Indian languages\n",
    "all_languages_american_code['frequency'] = all_languages_american_code['count'] / all_languages_american_code['count'].sum()\n",
    "first_languages_american_frequency = all_languages_american_code[:20]\n",
    "\n",
    "all_languages_indian_code['frequency'] = all_languages_indian_code['count']/all_languages_indian_code['count'].sum()\n",
    "first_languages_indian_frequency = all_languages_indian_code[:20]\n"
   ]
  },
  {
   "cell_type": "code",
   "execution_count": null,
   "metadata": {},
   "outputs": [],
   "source": [
    "#Plotting taking the first 20 languages for American films and Indian movies\n",
    "fig, ax = plt.subplots(1,2,figsize=(10, 10),sharex = True, constrained_layout=True)\n",
    "fig.suptitle('Top 20 movie languages frequency in American and Indian movies')\n",
    "ax[0].set_title('American movies')\n",
    "ax[1].set_title('Indian movies')\n",
    "\n",
    "sns.barplot(ax = ax[0],data = first_languages_american_frequency, y = 'languages', x = 'frequency', label=\"American\", color=\"b\")\n",
    "\n",
    "sns.barplot(ax = ax[1], data = first_languages_indian_frequency, y = 'languages', x = 'frequency', label=\"Indian\", color=\"r\")\n",
    "\n",
    "#Setting logarithmic scale \n",
    "ax[0].set_xscale('log')\n",
    "ax[1].set_xscale('log')"
   ]
  },
  {
   "cell_type": "markdown",
   "metadata": {},
   "source": [
    "### How many languages per movies there are, on average ?\n"
   ]
  },
  {
   "cell_type": "code",
   "execution_count": null,
   "metadata": {},
   "outputs": [],
   "source": [
    "#Compute the number of ':' that represent the number of languages there are in each row for American movies\n",
    "american_languages['n_languages'] = american_languages.cleared_movie_languages.str.count(':')\n",
    "\n",
    "#Compute the number of ':' that represent the number of languages there are in each row for Indian movies\n",
    "indian_languages['n_languages'] = indian_languages.cleared_movie_languages.str.count(':')"
   ]
  },
  {
   "cell_type": "code",
   "execution_count": null,
   "metadata": {},
   "outputs": [],
   "source": [
    "#Drop the movies that do not have any languages\n",
    "n_indian_lan = indian_languages['n_languages'].dropna()\n",
    "\n",
    "n_american_lan = american_languages['n_languages'].dropna()\n",
    "\n",
    "#Compute the t-test to compare the number of available languages per movies for Indian and American movies\n",
    "t_test_languages = st.ttest_ind(n_indian_lan, n_american_lan)\n",
    "\n",
    "t_test_languages.pvalue\n",
    "\n",
    "print('p-value for languages: ',t_test_languages.pvalue, '\\t', 'p-value is smaller than 0.05: ', t_test_languages.pvalue <0.05)"
   ]
  },
  {
   "cell_type": "markdown",
   "metadata": {},
   "source": [
    "There is a significant difference of the numbers of languages spoken in American vs Indian movies, so it could be that there are underlying effects, like Hollywood are more exported abroad than Bollywood movies."
   ]
  },
  {
   "cell_type": "markdown",
   "metadata": {},
   "source": [
    "## Characters data\n",
    "\n",
    "450'668 characters in raw data\n",
    "\n",
    "134079 differents actor \n",
    "\n",
    "5794 differents actor in indian movies\n",
    "\n",
    "59398 differents actors in american movies\n"
   ]
  },
  {
   "cell_type": "code",
   "execution_count": null,
   "metadata": {},
   "outputs": [],
   "source": [
    "names = ['wikipedia_movie_id', 'freebase_movie_id', 'movie_release_date', 'character_name', 'actor_dob', 'actor_gender', 'actor_height', 'actor_ethnicity', 'actor_name', 'actor_age_at_movie_release', 'char_act_id', 'freebase_character_id', 'freebase_actor_id']\n",
    "characters_data = pd.read_csv(data_folder + 'character.metadata.tsv', names = names, sep = '\\t')\n",
    "\n",
    "characters_data.head(10)"
   ]
  },
  {
   "cell_type": "code",
   "execution_count": null,
   "metadata": {},
   "outputs": [],
   "source": [
    "# Putting every name in lower case\n",
    "characters_data[['character_name', 'actor_name']] = characters_data[['character_name', 'actor_name']].applymap(lambda x: x if type(x)!=str else x.lower())"
   ]
  },
  {
   "cell_type": "markdown",
   "metadata": {},
   "source": [
    "## Including ethnicities"
   ]
  },
  {
   "cell_type": "markdown",
   "metadata": {},
   "source": [
    "Using the automatic query system from wikidata, we are able to retrieve the ethnicity of the actors based on the freebase ID in the actor_ethnicity column. For that we just map the matching id to the string-representation of the ethnicity for clarity"
   ]
  },
  {
   "cell_type": "code",
   "execution_count": null,
   "metadata": {},
   "outputs": [],
   "source": [
    "actor_ethnicities = pd.read_csv('data/ethnicities.csv')[['freebaseID', 'name']]\n",
    "actor_ethnicities = dict(zip(actor_ethnicities.freebaseID, actor_ethnicities.name))\n",
    "characters_data['actor_ethnicity'] = characters_data['actor_ethnicity'].map(actor_ethnicities)"
   ]
  },
  {
   "cell_type": "code",
   "execution_count": null,
   "metadata": {},
   "outputs": [],
   "source": [
    "# We split the dataset in two\n",
    "# all_american_actors can contain duplicate actors, it deals with the films \n",
    "# and who plays in it, the age they have when the film is produced\n",
    "#\n",
    "# all_indian_actors contains data about individual actors, it doesn't contain duplicates\n",
    "\n",
    "all_american_actors = characters_data[characters_data['wikipedia_movie_id'].isin(american_movies['wikipedia_movie_id'])]\n",
    "all_indian_actors = characters_data[characters_data['wikipedia_movie_id'].isin(indian_movies['wikipedia_movie_id'])]\n",
    "\n",
    "unique_american_actor = all_american_actors.drop_duplicates('actor_name')\n",
    "unique_indian_actor = all_indian_actors.drop_duplicates('actor_name')"
   ]
  },
  {
   "cell_type": "code",
   "execution_count": null,
   "metadata": {},
   "outputs": [],
   "source": [
    "# We add a column indicating the country the actor/actress works in before concatenating the datasets\n",
    "unique_american_actor = unique_american_actor.assign(country = np.full(len(unique_american_actor), 'USA'))\n",
    "unique_indian_actor = unique_indian_actor.assign(country = np.full(len(unique_indian_actor), 'India'))\n",
    "\n",
    "all_american_actors = all_american_actors.assign(country = np.full(len(all_american_actors), 'USA'))\n",
    "all_indian_actors = all_indian_actors.assign(country = np.full(len(all_indian_actors), 'India'))\n",
    "\n",
    "\n",
    "#unique_indian_actor['country'] = np.full(len(unique_indian_actor), 'India')\n",
    "\n",
    "# We make sure to only keep actors with positive age to get rid of the errors \n",
    "all_american_actors = all_american_actors[all_american_actors['actor_age_at_movie_release'] > 0.]\n",
    "all_indian_actors = all_indian_actors[all_indian_actors['actor_age_at_movie_release'] > 0.]\n",
    "\n",
    "feature_list_all_actors = ['actor_gender', 'actor_age_at_movie_release', 'country']\n",
    "all_actors_merged = pd.concat([all_american_actors[feature_list_all_actors], all_indian_actors[feature_list_all_actors]], axis = 0)\n",
    "\n",
    "feature_list_unique_actors = ['actor_name', 'actor_gender', 'actor_ethnicity', 'country']\n",
    "unique_actors_merged = pd.concat([unique_american_actor[feature_list_unique_actors], unique_indian_actor[feature_list_unique_actors]], axis = 0)\n",
    "\n",
    "# Adding a column to the dataset of the features of single actors for the number of films in our dataset they appear in\n",
    "dict_number_of_film = characters_data['actor_name'].value_counts().to_dict()\n",
    "unique_actors_merged['number_of_films'] = unique_actors_merged['actor_name'].map(dict_number_of_film)"
   ]
  },
  {
   "cell_type": "code",
   "execution_count": null,
   "metadata": {},
   "outputs": [],
   "source": [
    "all_actors_merged.info()"
   ]
  },
  {
   "cell_type": "code",
   "execution_count": null,
   "metadata": {},
   "outputs": [],
   "source": [
    "unique_actors_merged.info()"
   ]
  },
  {
   "cell_type": "markdown",
   "metadata": {},
   "source": [
    "## Actor Age"
   ]
  },
  {
   "cell_type": "markdown",
   "metadata": {},
   "source": [
    "To do analysis on age, it makes sense to count the same actors multiple times as they play in different films, we will thus not drop the duplicates for this part of the analysis"
   ]
  },
  {
   "cell_type": "code",
   "execution_count": null,
   "metadata": {},
   "outputs": [],
   "source": [
    "print(all_american_actors.actor_age_at_movie_release.describe())\n",
    "print(all_indian_actors.actor_age_at_movie_release.describe())"
   ]
  },
  {
   "cell_type": "markdown",
   "metadata": {},
   "source": [
    "We can see that the mean age is similar in both cases, as well as the standard deviation. Looking at the different quartiles we cannot see significant distribution difference between the two groups. \n",
    "\n",
    "We can note, however, that we have significantly more available ages available for actors in american films as for actors in indian films (137'073 versus 31'201)"
   ]
  },
  {
   "cell_type": "code",
   "execution_count": null,
   "metadata": {},
   "outputs": [],
   "source": [
    "st.ttest_ind(all_american_actors.actor_age_at_movie_release, all_indian_actors.actor_age_at_movie_release, equal_var=False)"
   ]
  },
  {
   "cell_type": "markdown",
   "metadata": {},
   "source": [
    "We can reject the null hypothesis, that is, that the mean actor age from american and indian movies are the same"
   ]
  },
  {
   "cell_type": "code",
   "execution_count": null,
   "metadata": {},
   "outputs": [],
   "source": [
    "sns.histplot(data = all_american_actors['actor_age_at_movie_release'], stat = 'density', discrete=True, color = 'blue', kde=True)\n",
    "sns.histplot(data = all_indian_actors['actor_age_at_movie_release'], stat = 'density',discrete=True, color='red', kde=True)\n",
    "plt.legend(labels=[\"American movies\",\"Indian movies\"])\n",
    "plt.xlabel('Actor age')\n",
    "plt.title('Distribution of actor age in indian and american movies')\n",
    "plt.show()\n"
   ]
  },
  {
   "cell_type": "markdown",
   "metadata": {},
   "source": [
    "There seems to be more teenagers cast in american films, this can be due to the popularity of 'teen movies' in the western world, but is more likely to be simply due to a bias in quantity of information about american movies. The wikipedia pages of american movies might be more detailed about american films, containing even information about characters that may have relatively low screen time, like the daughter of a secondary character etc..\n",
    "\n",
    "Otherwise the distributions seem similar"
   ]
  },
  {
   "cell_type": "markdown",
   "metadata": {},
   "source": [
    "## Actor Gender"
   ]
  },
  {
   "cell_type": "code",
   "execution_count": null,
   "metadata": {},
   "outputs": [],
   "source": [
    "# We separate the datasets containing all actors by gender\n",
    "# For american films\n",
    "american_film_female = all_american_actors[all_american_actors['actor_gender'] == 'F']\n",
    "american_film_male = all_american_actors[all_american_actors['actor_gender'] == 'M']\n",
    "\n",
    "# And for indian films\n",
    "indian_film_female = all_indian_actors[all_indian_actors['actor_gender'] == 'F']\n",
    "indian_film_male = all_indian_actors[all_indian_actors['actor_gender'] == 'M']\n"
   ]
  },
  {
   "cell_type": "code",
   "execution_count": null,
   "metadata": {},
   "outputs": [],
   "source": [
    "print('Number of american film actors we have the gender of is {0}, of which {1:.0%} are female'.format(\n",
    "    len(american_film_male) + len(american_film_female), len(american_film_female)/(len(american_film_male) + len(american_film_female))))\n",
    "\n",
    "print('Number of indian film actors we have the gender of is {0}, of which {1:.0%} are female'.format(\n",
    "    len(indian_film_male) + len(indian_film_female), len(indian_film_female)/(len(indian_film_male) + len(indian_film_female))))"
   ]
  },
  {
   "cell_type": "code",
   "execution_count": null,
   "metadata": {},
   "outputs": [],
   "source": [
    "plt.figure(figsize=(15,15))\n",
    "plt.suptitle('Comparaison of actor gender and age in American and Indian films', size = 'xx-large')\n",
    "plt.subplot(2,2,1)\n",
    "\n",
    "sns.histplot(data = all_american_actors, x = 'actor_age_at_movie_release', hue = 'actor_gender', stat = 'density', discrete=True, kde=True)\n",
    "plt.xlabel('Actor/actress age')\n",
    "plt.title('Distribution of american film actor age with respect to gender')\n",
    "\n",
    "plt.subplot(2,2,2)\n",
    "sns.histplot(data = all_indian_actors, x = 'actor_age_at_movie_release', hue = 'actor_gender', stat = 'density', discrete=True, kde=True)\n",
    "\n",
    "plt.xlabel('Actor/actress age')\n",
    "plt.title('Distribution of indian film actor age with respect to gender')\n",
    "\n",
    "plt.subplot(2,2,3)\n",
    "sns.histplot(data = all_american_actors[all_american_actors['actor_gender'] == 'F'], x = 'actor_age_at_movie_release', stat = 'density', discrete=True, color='orange', kde=True)\n",
    "sns.histplot(data = all_indian_actors[all_indian_actors['actor_gender'] == 'F'], x = 'actor_age_at_movie_release', stat = 'density', discrete=True, kde=True)\n",
    "plt.legend(labels=[\"American movies\",\"Indian movies\"])\n",
    "plt.title('Distribution of actress age, differenciated by country')\n",
    "\n",
    "plt.subplot(2,2,4)\n",
    "sns.histplot(data = all_american_actors[all_american_actors['actor_gender'] == 'M'], x = 'actor_age_at_movie_release', stat = 'density', discrete=True, color='orange', kde=True)\n",
    "sns.histplot(data = all_indian_actors[all_indian_actors['actor_gender'] == 'M'], x = 'actor_age_at_movie_release', stat = 'density', discrete=True, kde=True)\n",
    "plt.legend(labels=[\"American movies\",\"Indian movies\"])\n",
    "plt.title('Distribution of actor age, differenciated by country')\n",
    "\n",
    "\n",
    "plt.show()\n"
   ]
  },
  {
   "cell_type": "markdown",
   "metadata": {},
   "source": [
    "We can also visualize the same phenomenon using boxplots"
   ]
  },
  {
   "cell_type": "code",
   "execution_count": null,
   "metadata": {},
   "outputs": [],
   "source": [
    "sns.boxplot(data = all_actors_merged, y = 'actor_age_at_movie_release', x = 'country', hue= 'actor_gender')\n",
    "plt.title('Other visualization of the differences in age distribution by gender and country of movie production')\n",
    "plt.show()"
   ]
  },
  {
   "cell_type": "markdown",
   "metadata": {},
   "source": [
    "There are very little differences between the distributions of actor age between the two movie industries, but a big difference between the distribution of actresses' age. We can see that in indian movies there is a big density peak in the low twenties and a rapid decline from the thirties onward. \n",
    "\n",
    "This difference is very stark and should be investigated further in the rest of our analysis, regarding time-wise changes and the prediction of movie success."
   ]
  },
  {
   "cell_type": "markdown",
   "metadata": {},
   "source": [
    "We can evaluate the significance of the difference between the mean age of actors and actresses"
   ]
  },
  {
   "cell_type": "code",
   "execution_count": null,
   "metadata": {},
   "outputs": [],
   "source": [
    "print(st.ttest_ind(all_american_actors.loc[all_american_actors.actor_gender == 'F']['actor_age_at_movie_release'],all_american_actors.loc[all_american_actors.actor_gender == 'M']['actor_age_at_movie_release']))\n",
    "print(st.ttest_ind(all_indian_actors.loc[all_indian_actors.actor_gender == 'F']['actor_age_at_movie_release'],all_indian_actors.loc[all_indian_actors.actor_gender == 'M']['actor_age_at_movie_release']))\n",
    "print(st.ttest_ind(all_american_actors.loc[all_american_actors.actor_gender == 'F']['actor_age_at_movie_release'],all_indian_actors.loc[all_indian_actors.actor_gender == 'F']['actor_age_at_movie_release']))\n",
    "print(st.ttest_ind(all_american_actors.loc[all_american_actors.actor_gender == 'M']['actor_age_at_movie_release'],all_indian_actors.loc[all_indian_actors.actor_gender == 'M']['actor_age_at_movie_release']))"
   ]
  },
  {
   "cell_type": "markdown",
   "metadata": {},
   "source": [
    "All null hypotheses can be rejected at the alpha = 0.05 level, although the effects might mainly be driven by sample size "
   ]
  },
  {
   "cell_type": "markdown",
   "metadata": {},
   "source": [
    "## Number of films actors played in"
   ]
  },
  {
   "cell_type": "code",
   "execution_count": null,
   "metadata": {},
   "outputs": [],
   "source": [
    "plt.figure(figsize=(15,15))\n",
    "plt.suptitle('Number of films an actor plays in', size = 'xx-large')\n",
    "plt.subplot(2,2,1)\n",
    "sns.histplot(data = unique_actors_merged[unique_actors_merged['country'] == 'India'], bins = np.logspace(0,2, 10), x = 'number_of_films', hue = 'actor_gender', kde = True, stat = 'density').set(xscale=\"log\")\n",
    "plt.title('Number of films per actor in indian movies, differenciated by gender')\n",
    "plt.subplot(2,2,2)\n",
    "sns.histplot(data = unique_actors_merged[unique_actors_merged['country'] == 'USA'], bins = np.logspace(0,2, 10), x = 'number_of_films', hue = 'actor_gender', kde = True, stat = 'density').set(xscale=\"log\")\n",
    "plt.title('Number of films per actor in american movies, differenciated by gender')\n",
    "\n",
    "plt.subplot(2,2,3)\n",
    "sns.barplot(data = unique_actors_merged, y = 'number_of_films', x = 'country', hue= 'actor_gender')\n",
    "plt.title('Resume of the differences in film numbers between countries, differentiated by gender')\n",
    "plt.show()"
   ]
  },
  {
   "cell_type": "code",
   "execution_count": null,
   "metadata": {},
   "outputs": [],
   "source": [
    "# counting the number of actors/actresses\n",
    "unique_actors_merged[unique_actors_merged['number_of_films'] > 100].groupby(['country', 'actor_gender']).agg({'count'})"
   ]
  },
  {
   "cell_type": "markdown",
   "metadata": {},
   "source": [
    "We probably have a bias in our dataset in the quantity of information we have in our dataset regarding the american films. We are far more likely to have the names of actors that make a single brief aparition in an american film. However regarding the other extreme, we can see that there a lot more ultra-prolific indian film actors than american film actors.\n",
    "\n",
    "In both film industries we see however that most of the hyper-prolific actors are males, which is probably linked to the difference in carreer prospects with age.\n",
    "\n",
    "This is once again a angle that could be included in further analysis regarding trends through time and film succes (ratings) prediction"
   ]
  },
  {
   "cell_type": "markdown",
   "metadata": {},
   "source": [
    "## Actor ethnicity"
   ]
  },
  {
   "cell_type": "code",
   "execution_count": null,
   "metadata": {},
   "outputs": [],
   "source": [
    "ethnicity_data = unique_actors_merged.groupby(['actor_ethnicity', 'country'], as_index=False)['actor_name'].agg({'count'})\n",
    "ethnicity_data = pd.DataFrame(ethnicity_data.to_records())\n",
    "ethnicity_data = ethnicity_data.set_index('actor_ethnicity')\n",
    "\n",
    "#separate the dataset per country\n",
    "ethnicity_data_india = ethnicity_data[ethnicity_data['country'] == 'India']\n",
    "ethnicity_data_usa = ethnicity_data[ethnicity_data['country'] == 'USA']\n",
    "\n",
    "# converting count into density\n",
    "ethnicity_data_india['count'] = ethnicity_data_india.loc[:,'count'].div(len(ethnicity_data_india)).copy(deep=True)\n",
    "ethnicity_data_usa['count'] = ethnicity_data_usa.loc[:,'count'].div(len(ethnicity_data_usa)).copy(deep=True)\n",
    "\n",
    "ethnicity_data.head()"
   ]
  },
  {
   "cell_type": "code",
   "execution_count": null,
   "metadata": {},
   "outputs": [],
   "source": [
    "plt.figure(figsize=(20,80))\n",
    "plt.subplot(2,2,1)\n",
    "plt.title('Ethnicity of actors ranked per frequency for movies produced in India')\n",
    "sns.barplot(data = ethnicity_data_india, y = ethnicity_data_india.index,  x = 'count', orient='h', order=ethnicity_data_india.sort_values(by = 'count', ascending=False).index)\n",
    "sns.despine(left=True, bottom=True)\n",
    "plt.xlabel('Density')\n",
    "\n",
    "\n",
    "plt.subplot(2,2,2)\n",
    "plt.title('Ethnicity of actors ranked per frequency for movies produced in the USA')\n",
    "sns.barplot(data = ethnicity_data_usa, y = ethnicity_data_usa.index,  x = 'count', orient='h', order=ethnicity_data_usa.sort_values(by = 'count', ascending=False).index)\n",
    "sns.despine(left=True, bottom=True)\n",
    "plt.xlabel('Density')\n",
    "\n",
    "plt.show()"
   ]
  },
  {
   "cell_type": "markdown",
   "metadata": {},
   "source": [
    "Unsurprisingly, most ethnicities represented in the american films are descendent of immigrants, and most ethnicities represented in indian films are indian or more generally south-Asian. Also unsurprisingly, There are a lot more different ethnicities represented in films produced in the US compared to films produced in India. This might be due to the US being a more cosmopolite country, and to the difference in amout of information we have in our dataset"
   ]
  },
  {
   "cell_type": "markdown",
   "metadata": {},
   "source": [
    "We can try investigate further the differences in representations in the industies, looking at the ethnicities represented in both industries"
   ]
  },
  {
   "cell_type": "code",
   "execution_count": null,
   "metadata": {},
   "outputs": [],
   "source": [
    "# negative values represent ethnicities more represented in the indian film industry, and vice versa\n",
    "compared_ethnicities = (ethnicity_data_usa['count'] - ethnicity_data_india['count']).dropna()\n",
    "\n",
    "plt.title('Relative difference in proportion of ethnicities between indian and american films')\n",
    "sns.barplot(y = compared_ethnicities.index,  x = compared_ethnicities.values, orient='h', order=compared_ethnicities.sort_values(ascending=False).index)\n",
    "sns.despine(left=True, bottom=True)\n",
    "plt.xlabel('Relative density')\n",
    "plt.show()"
   ]
  },
  {
   "cell_type": "markdown",
   "metadata": {},
   "source": [
    "## Analysis of character data: conclusion"
   ]
  },
  {
   "cell_type": "code",
   "execution_count": null,
   "metadata": {},
   "outputs": [],
   "source": [
    "print('Number of indian film actors we have every features for:', unique_actors_merged[unique_actors_merged['country'] == 'India'].dropna().shape[0])\n",
    "print('Number of american film actors we have every features for:', unique_actors_merged[unique_actors_merged['country'] == 'USA'].dropna().shape[0])"
   ]
  },
  {
   "cell_type": "code",
   "execution_count": null,
   "metadata": {},
   "outputs": [],
   "source": [
    "print('Number of indian film actors we have everything but ethnicity for:', unique_actors_merged[unique_actors_merged['country'] == 'India']['actor_gender'].shape[0])\n",
    "print('Number of american film actors we have everything but ethnicity for:', unique_actors_merged[unique_actors_merged['country'] == 'USA']['actor_gender'].shape[0])"
   ]
  },
  {
   "cell_type": "markdown",
   "metadata": {},
   "source": [
    "If we consider only actors where we have all the available informations (gender, country the actors plays in, and ethnicity) we only get 354 indian film actors and 1967 american film actors. This is not enough to perform an analysis through time while taking into account actor ethnicity.\n",
    "\n",
    "On the other hand, we have substantially more data on gender so taking it into account could be interesting for time-wise analysis for example."
   ]
  },
  {
   "cell_type": "markdown",
   "metadata": {},
   "source": [
    "## Name clusters data"
   ]
  },
  {
   "cell_type": "code",
   "execution_count": null,
   "metadata": {},
   "outputs": [],
   "source": [
    "names = ['character_name', 'actor_reference']\n",
    "name_clusters_data = pd.read_csv(data_folder + 'name.clusters.txt', names = names, sep = '\\t', )\n",
    "\n",
    "name_clusters_data.head(10)"
   ]
  },
  {
   "cell_type": "markdown",
   "metadata": {},
   "source": [
    "## **Tvtropes clusters data**"
   ]
  },
  {
   "cell_type": "code",
   "execution_count": null,
   "metadata": {},
   "outputs": [],
   "source": [
    "#Read tv tropes data\n",
    "tv_trope = pd.read_csv(data_folder + 'tvtropes.clusters.txt', sep='\\t', names= ['character_type', 'instances'])\n",
    "\n",
    "tv_trope.head()"
   ]
  },
  {
   "cell_type": "markdown",
   "metadata": {},
   "source": [
    "### Formatting data"
   ]
  },
  {
   "cell_type": "code",
   "execution_count": null,
   "metadata": {},
   "outputs": [],
   "source": [
    "#Remove {} strings\n",
    "tv_trope['instances'] = tv_trope['instances'].str[1:-1]\n",
    "\n",
    "split_tv = tv_trope.copy()\n",
    "\n",
    "#Split on , and : to separate into different columns\n",
    "split_tv = tv_trope['instances'].str.split('[,:]', expand=True)\n",
    "\n",
    "#Name the columns accordingly\n",
    "cleaned_tv = split_tv.rename(columns={split_tv.columns[1]: 'character_name', split_tv.columns[3]: 'movie_name', split_tv.columns[5]: 'char_act_id',split_tv.columns[7]: 'actor_name'})\n",
    "\n",
    "#Drop the un-necessary columns\n",
    "cleaned_tv = cleaned_tv.drop(columns=[0,2,4,6,8,9,10])\n",
    "\n",
    "#Remove the \"\"\n",
    "cleaned_tv = cleaned_tv.applymap(lambda s : re.sub(r'\"', \" \", s))\n",
    "\n",
    "#Make everything lowercases \n",
    "cleaned_tv = cleaned_tv.applymap(lambda x: str.casefold(x))\n",
    "\n",
    "characters = tv_trope.character_type\n",
    "\n",
    "#Join to have the characters too \n",
    "final_tv = cleaned_tv.join(characters, how= 'left')\n",
    "\n",
    "final_tv.head()"
   ]
  },
  {
   "cell_type": "code",
   "execution_count": null,
   "metadata": {},
   "outputs": [],
   "source": [
    "#Check if there is any movies in the tv tropes present in our movie data set\n",
    "list_ = final_tv['movie_name']\n",
    "\n",
    "movies_data['movie_name'].where(movies_data['movie_name'].isin(list_))"
   ]
  },
  {
   "cell_type": "code",
   "execution_count": null,
   "metadata": {},
   "outputs": [],
   "source": [
    "#Check if there is any actors in the tv tropes present in our movie data set\n",
    "list_1 = final_tv['actor_name']\n",
    "\n",
    "movies_data['movie_name'].where(movies_data['movie_name'].isin(list_1)).dropna()"
   ]
  },
  {
   "cell_type": "markdown",
   "metadata": {},
   "source": [
    "# Creating features based on summaries data"
   ]
  },
  {
   "cell_type": "code",
   "execution_count": null,
   "metadata": {},
   "outputs": [],
   "source": [
    "summaries = pd.read_csv(data_folder + 'plot_summaries.txt', sep = '\\r', names = ['summaries'])\n",
    "summaries = summaries['summaries'].str.split(\"\\t\", expand = True)\n",
    "summaries = summaries.rename(columns= {0:'wikipedia_movie_id',1: 'summaries'})\n",
    "summaries['summaries'] = summaries['summaries'].str.lower()\n",
    "summaries['summaries'] = summaries['summaries'].str.replace('{{plot}}', '')\n",
    "summaries['wikipedia_movie_id'] = summaries['wikipedia_movie_id'].astype(int)\n",
    "summaries.head(10)"
   ]
  },
  {
   "cell_type": "code",
   "execution_count": null,
   "metadata": {},
   "outputs": [],
   "source": [
    "indian_summaries = summaries[summaries['wikipedia_movie_id'].isin(cut_indian_movies['wikipedia_movie_id'])]\n",
    "indian_summaries = indian_summaries.reset_index(drop = True)\n",
    "indian_summaries.head()"
   ]
  },
  {
   "cell_type": "code",
   "execution_count": null,
   "metadata": {},
   "outputs": [],
   "source": [
    "american_summaries = summaries[summaries['wikipedia_movie_id'].isin(cut_american_movies['wikipedia_movie_id'])]\n",
    "american_summaries = american_summaries.reset_index(drop = True)\n",
    "american_summaries.head()"
   ]
  },
  {
   "cell_type": "code",
   "execution_count": 382,
   "metadata": {},
   "outputs": [
    {
     "data": {
      "text/html": [
       "<div>\n",
       "<style scoped>\n",
       "    .dataframe tbody tr th:only-of-type {\n",
       "        vertical-align: middle;\n",
       "    }\n",
       "\n",
       "    .dataframe tbody tr th {\n",
       "        vertical-align: top;\n",
       "    }\n",
       "\n",
       "    .dataframe thead th {\n",
       "        text-align: right;\n",
       "    }\n",
       "</style>\n",
       "<table border=\"1\" class=\"dataframe\">\n",
       "  <thead>\n",
       "    <tr style=\"text-align: right;\">\n",
       "      <th></th>\n",
       "      <th>wikipedia_movie_id</th>\n",
       "      <th>summaries</th>\n",
       "    </tr>\n",
       "  </thead>\n",
       "  <tbody>\n",
       "    <tr>\n",
       "      <th>0</th>\n",
       "      <td>20663735</td>\n",
       "      <td>poovalli induchoodan  is sentenced for six yea...</td>\n",
       "    </tr>\n",
       "    <tr>\n",
       "      <th>1</th>\n",
       "      <td>8388648</td>\n",
       "      <td>the film opens with madhav  and sreenu  playin...</td>\n",
       "    </tr>\n",
       "    <tr>\n",
       "      <th>2</th>\n",
       "      <td>4356664</td>\n",
       "      <td>kishen  has a suspicious-minded wife, kaajal ,...</td>\n",
       "    </tr>\n",
       "    <tr>\n",
       "      <th>3</th>\n",
       "      <td>19174305</td>\n",
       "      <td>tahaan  lives with his grandfather , mother ha...</td>\n",
       "    </tr>\n",
       "    <tr>\n",
       "      <th>4</th>\n",
       "      <td>3459677</td>\n",
       "      <td>raj mittal , veer saxena  and aryan kapoor  ar...</td>\n",
       "    </tr>\n",
       "  </tbody>\n",
       "</table>\n",
       "</div>"
      ],
      "text/plain": [
       "   wikipedia_movie_id                                          summaries\n",
       "0            20663735  poovalli induchoodan  is sentenced for six yea...\n",
       "1             8388648  the film opens with madhav  and sreenu  playin...\n",
       "2             4356664  kishen  has a suspicious-minded wife, kaajal ,...\n",
       "3            19174305  tahaan  lives with his grandfather , mother ha...\n",
       "4             3459677  raj mittal , veer saxena  and aryan kapoor  ar..."
      ]
     },
     "execution_count": 382,
     "metadata": {},
     "output_type": "execute_result"
    }
   ],
   "source": [
    "summaries_topic = pd.concat([indian_summaries, american_summaries], ignore_index=True)\n",
    "\n",
    "summaries_topic.head()"
   ]
  },
  {
   "cell_type": "markdown",
   "metadata": {},
   "source": [
    "## LDA Topic Detection Analysis"
   ]
  },
  {
   "cell_type": "markdown",
   "metadata": {},
   "source": [
    "### Data pre-processing"
   ]
  },
  {
   "cell_type": "markdown",
   "metadata": {},
   "source": [
    "Each NLP task requires some sort of data pre-processing to make data eligible for modeling. We will perform the following steps:\n",
    "\n",
    "- Removing punctuation\n",
    "- Tokenization: Splitting sentences into word-sized chunks, called tokens.\n",
    "- Stopwords removal: Stopwords are English words that don’t add any value to the analysis. Removing them will help the model to find patterns more easily.\n",
    "- First names removal : since we want the topics of the movies, including the names of the character did not make sense to analyze the topics for our context of analysis. We decided to removed them.\n",
    "- Words with fewer than three letters are removed.\n",
    "- Lemmatization: Converting words to their base using morphological analysis.\n",
    "- Make bigrams: a bigram is a sequence of two adjacent elements from a string that combines to generate a more understandable form (e.g., [“data” , “science”] => [“data science”]"
   ]
  },
  {
   "cell_type": "code",
   "execution_count": null,
   "metadata": {},
   "outputs": [],
   "source": [
    "# Run in python console\n",
    "import nltk; nltk.download('stopwords')\n",
    "import re\n",
    "import numpy as np\n",
    "import pandas as pd\n",
    "from pprint import pprint\n",
    "\n",
    "# Gensim\n",
    "import gensim\n",
    "import gensim.corpora as corpora\n",
    "from gensim.utils import simple_preprocess\n",
    "from gensim.models import CoherenceModel\n",
    "\n",
    "# spacy for lemmatization\n",
    "import spacy\n",
    "\n",
    "# Plotting tools\n",
    "import pyLDAvis\n",
    "import pyLDAvis.gensim_models\n",
    "import matplotlib.pyplot as plt\n",
    "%matplotlib inline\n",
    "\n",
    "import warnings\n",
    "warnings.filterwarnings(\"ignore\",category=DeprecationWarning)"
   ]
  },
  {
   "cell_type": "code",
   "execution_count": null,
   "metadata": {},
   "outputs": [],
   "source": [
    "# nltk stop words\n",
    "from nltk.corpus import stopwords\n",
    "stop_words = stopwords.words('english')\n",
    "\n",
    "#Remove commom names from the summaries (list of 18'000 names)\n",
    "names = pd.read_csv(data_folder + 'names.csv')\n",
    "\n",
    "#Save the names as dataframe\n",
    "names = pd.DataFrame(names)\n",
    "\n",
    "#Casefold the names\n",
    "names['names'] = names['names'].str.lower().astype('str')\n",
    "\n",
    "#Append some list of names that we saw in the movies summaries to make sure they are in the list\n",
    "list_names = {'names':['alex', 'bobby', 'jake', 'timmy', 'danny', 'nick', 'anna', 'benny', 'maggie', 'reggie', 'nicky', 'vincent', 'johnny', 'grace']}\n",
    "\n",
    "names = names.append(pd.DataFrame(list_names))\n",
    "\n",
    "#Append the stop words in the list of names, consider them as \"stopwords\" to be removed from the summaries\n",
    "stop = list(np.append(names['names'].values, ['from', 'subject', 're', 'edu', 'use']))\n",
    "\n",
    "#Finally, extend the stop_words from nltk with our customized stop list\n",
    "stop_words.extend(stop)"
   ]
  },
  {
   "cell_type": "code",
   "execution_count": null,
   "metadata": {},
   "outputs": [],
   "source": [
    "#Declare function that preprocess the sentences of the summaries (removing punctuations, transforming into lowercase tokens)\n",
    "def sent_to_words(sentences):\n",
    "    for sentence in sentences:\n",
    "        yield(gensim.utils.simple_preprocess(str(sentence), deacc=True))  # deacc=True removes punctuations"
   ]
  },
  {
   "cell_type": "code",
   "execution_count": null,
   "metadata": {},
   "outputs": [],
   "source": [
    "#Transform into lowercase tokens and removing punctuations\n",
    "summaries_words = list(sent_to_words(summaries_topic['summaries']))"
   ]
  },
  {
   "cell_type": "markdown",
   "metadata": {},
   "source": [
    "We then decide to build and use bigrams to pursue our analysis."
   ]
  },
  {
   "cell_type": "code",
   "execution_count": null,
   "metadata": {},
   "outputs": [],
   "source": [
    "# Build the bigram model\n",
    "bigram = gensim.models.Phrases(summaries_words, min_count=15, threshold=100) # higher threshold fewer phrases.\n",
    "\n",
    "bigram_mod = gensim.models.phrases.Phraser(bigram)"
   ]
  },
  {
   "cell_type": "code",
   "execution_count": null,
   "metadata": {},
   "outputs": [],
   "source": [
    "# Define functions for stopwords, bigrams and lemmatization\n",
    "\n",
    "# Initialize spacy 'en' model, keeping only tagger component (for efficiency)\n",
    "# python3 -m spacy download en\n",
    "nlp = spacy.load('en_core_web_sm', disable=['parser', 'ner'])\n",
    "\n",
    "#Remove the stopwords in the summaries data\n",
    "def remove_stopwords(texts):\n",
    "    return [[word for word in simple_preprocess(str(doc)) if word not in stop_words] for doc in texts]\n",
    "\n",
    "#Make the bigrams out of the summaries data\n",
    "def make_bigrams(texts):\n",
    "    return [bigram_mod[doc] for doc in texts]\n",
    "\n",
    "#Lemmatize the summaries keeping only nouns, ajdectives, verbs and adverbs (ref: https://spacy.io/api/annotation)\n",
    "def lemmatization(texts, allowed_postags=['NOUN', 'ADJ', 'VERB', 'ADV']):\n",
    "    texts_out = []\n",
    "    for sent in texts:\n",
    "        doc = nlp(\" \".join(sent)) \n",
    "        texts_out.append([token.lemma_ for token in doc if token.pos_ in allowed_postags and len(token)>3])\n",
    "    return texts_out"
   ]
  },
  {
   "cell_type": "code",
   "execution_count": null,
   "metadata": {},
   "outputs": [],
   "source": [
    "# Remove the stopwords and first names\n",
    "summaries_words_no_stopwords = remove_stopwords(summaries_words)\n",
    "\n",
    "# Form bigrams\n",
    "summaries_words_bigrams = make_bigrams(summaries_words_no_stopwords)\n",
    "\n",
    "# Perform the lemmatization keeping only nouns, ajdectives, verbs and adverbs \n",
    "summaries_words_lemmatized = lemmatization(summaries_words_bigrams, allowed_postags=['NOUN', 'ADJ', 'VERB', 'ADV'])"
   ]
  },
  {
   "cell_type": "markdown",
   "metadata": {},
   "source": [
    "After pre-processing the summaries, let us create the dictionnary, the corpus and the term document frequency for the subsequent analysis."
   ]
  },
  {
   "cell_type": "code",
   "execution_count": null,
   "metadata": {},
   "outputs": [],
   "source": [
    "# Create the dictionary\n",
    "id2word = corpora.Dictionary(summaries_words_lemmatized)\n",
    "\n",
    "# Remove rare and common tokens\n",
    "\n",
    "# Tokens are kept if they are contained in at least 15 documents \n",
    "min_wordcount = 15\n",
    "\n",
    "# Tokens are kept if they are containted in no more than 30 % of the documents \n",
    "max_freq = 0.3\n",
    "\n",
    "# Filter these extremes accordingly\n",
    "id2word.filter_extremes(no_below=min_wordcount, no_above=max_freq)\n",
    "\n",
    "# Create the corpus, using the bag-of-words (BoW) format: list of (token_id, token_count) tuples.\n",
    "texts = summaries_words_lemmatized\n",
    "\n",
    "corpus = [id2word.doc2bow(text) for text in texts]"
   ]
  },
  {
   "cell_type": "markdown",
   "metadata": {},
   "source": [
    "##### How to choose the number of topics ? "
   ]
  },
  {
   "cell_type": "markdown",
   "metadata": {},
   "source": [
    "Let's initialize a function that computes coherences values based on several number of topics, so we can chose the optimal number of topics based on the best coherence value.\n",
    "\n",
    "The parameters of the function are : \n",
    "- dictionary : Gensim dictionary \n",
    "- corpus : Gensim corpus\n",
    "- texts : List of input texts\n",
    "- limit : Max num of topics\n",
    "- start : number of initial topics\n",
    "- step : number of step for the next topic\n",
    "\n",
    "The function returns :\n",
    "- model_list : the list of LDA topic models\n",
    "- coherence_values : the coherence value corresponding to the LDA model with its respective number of topics"
   ]
  },
  {
   "cell_type": "code",
   "execution_count": null,
   "metadata": {},
   "outputs": [],
   "source": [
    "from gensim.models import CoherenceModel # spaCy for preprocessing\n",
    "\n",
    "def compute_coherence_values(dictionary, corpus, texts, limit, start=2, step=2):\n",
    "    #Initialize seed\n",
    "    seed = 1111\n",
    "    #Initialize dict\n",
    "    base_models = dict()\n",
    "    #Initialize coherence values and model list \n",
    "    coherence_values = []\n",
    "    model_list = []\n",
    "    #Compute the LDA model for each num_topics in the start, limit, step range\n",
    "    for num_topics in range(start, limit, step):\n",
    "        model = gensim.models.ldamodel.LdaModel(corpus=corpus, id2word=id2word, num_topics=num_topics, random_state=seed)\n",
    "        #Append the model to the list of models\n",
    "        model_list.append(model)\n",
    "        #Compute the coherence\n",
    "        coherencemodel = CoherenceModel(model=model, texts=texts, dictionary=dictionary, coherence='c_v')\n",
    "        #Append the coherence value\n",
    "        coherence_values.append(coherencemodel.get_coherence())\n",
    "\n",
    "    return model_list, coherence_values"
   ]
  },
  {
   "cell_type": "markdown",
   "metadata": {},
   "source": [
    "Let us then use it with the number of topics going from 2 to 20, with a step of 2."
   ]
  },
  {
   "cell_type": "code",
   "execution_count": null,
   "metadata": {},
   "outputs": [],
   "source": [
    "model_list, coherence_values = compute_coherence_values(dictionary = id2word, corpus = corpus, texts = texts, start=2, limit=20, step=2)"
   ]
  },
  {
   "cell_type": "markdown",
   "metadata": {},
   "source": [
    "Let us plot each coherence value for each model of LDA."
   ]
  },
  {
   "cell_type": "code",
   "execution_count": 375,
   "metadata": {},
   "outputs": [
    {
     "data": {
      "image/png": "[encoded data removed]",
      "text/plain": [
       "<Figure size 640x480 with 1 Axes>"
      ]
     },
     "metadata": {},
     "output_type": "display_data"
    }
   ],
   "source": [
    "limit=20; start=2; step=2\n",
    "x = range(start, limit, step)\n",
    "plt.plot(x, coherence_values)\n",
    "plt.xlabel(\"Num Topics for American and Indian Films\")\n",
    "plt.ylabel(\"Coherence score\")\n",
    "plt.legend((\"coherence_values\"), loc='best')\n",
    "plt.show()"
   ]
  },
  {
   "cell_type": "code",
   "execution_count": 376,
   "metadata": {},
   "outputs": [
    {
     "name": "stdout",
     "output_type": "stream",
     "text": [
      "Num Topics = 2  has Coherence Value of 0.2966\n",
      "Num Topics = 4  has Coherence Value of 0.3024\n",
      "Num Topics = 6  has Coherence Value of 0.2937\n",
      "Num Topics = 8  has Coherence Value of 0.3148\n",
      "Num Topics = 10  has Coherence Value of 0.3238\n",
      "Num Topics = 12  has Coherence Value of 0.3001\n",
      "Num Topics = 14  has Coherence Value of 0.308\n",
      "Num Topics = 16  has Coherence Value of 0.315\n",
      "Num Topics = 18  has Coherence Value of 0.3108\n"
     ]
    }
   ],
   "source": [
    "# Print the coherence scores\n",
    "for m, cv in zip(x, coherence_values):\n",
    "    print(\"Num Topics =\", m, \" has Coherence Value of\", round(cv, 4))"
   ]
  },
  {
   "cell_type": "markdown",
   "metadata": {},
   "source": [
    "The coherence score seems optimal for 10 topics number, we therfore chose this as the optimal LDA model."
   ]
  },
  {
   "cell_type": "code",
   "execution_count": null,
   "metadata": {},
   "outputs": [],
   "source": [
    "# Select the model and print the topics\n",
    "optimal_model = model_list[4]\n",
    "model_topics = optimal_model.show_topics(formatted=False)\n",
    "pprint(optimal_model.print_topics(num_words=10))"
   ]
  },
  {
   "cell_type": "markdown",
   "metadata": {},
   "source": [
    "Let us visualize the topics using plDAvis."
   ]
  },
  {
   "cell_type": "code",
   "execution_count": 377,
   "metadata": {},
   "outputs": [
    {
     "name": "stderr",
     "output_type": "stream",
     "text": [
      "/Users/lindadelacombaz/opt/anaconda3/envs/ada/lib/python3.9/site-packages/pyLDAvis/_prepare.py:246: FutureWarning: In a future version of pandas all arguments of DataFrame.drop except for the argument 'labels' will be keyword-only.\n",
      "  default_term_info = default_term_info.sort_values(\n",
      "/Users/lindadelacombaz/opt/anaconda3/envs/ada/lib/python3.9/site-packages/past/builtins/misc.py:45: DeprecationWarning: the imp module is deprecated in favour of importlib; see the module's documentation for alternative uses\n",
      "  from imp import reload\n",
      "/Users/lindadelacombaz/opt/anaconda3/envs/ada/lib/python3.9/site-packages/past/builtins/misc.py:45: DeprecationWarning: the imp module is deprecated in favour of importlib; see the module's documentation for alternative uses\n",
      "  from imp import reload\n",
      "/Users/lindadelacombaz/opt/anaconda3/envs/ada/lib/python3.9/site-packages/past/builtins/misc.py:45: DeprecationWarning: the imp module is deprecated in favour of importlib; see the module's documentation for alternative uses\n",
      "  from imp import reload\n",
      "/Users/lindadelacombaz/opt/anaconda3/envs/ada/lib/python3.9/site-packages/past/builtins/misc.py:45: DeprecationWarning: the imp module is deprecated in favour of importlib; see the module's documentation for alternative uses\n",
      "  from imp import reload\n",
      "/Users/lindadelacombaz/opt/anaconda3/envs/ada/lib/python3.9/site-packages/past/builtins/misc.py:45: DeprecationWarning: the imp module is deprecated in favour of importlib; see the module's documentation for alternative uses\n",
      "  from imp import reload\n",
      "/Users/lindadelacombaz/opt/anaconda3/envs/ada/lib/python3.9/site-packages/past/builtins/misc.py:45: DeprecationWarning: the imp module is deprecated in favour of importlib; see the module's documentation for alternative uses\n",
      "  from imp import reload\n",
      "/Users/lindadelacombaz/opt/anaconda3/envs/ada/lib/python3.9/site-packages/past/builtins/misc.py:45: DeprecationWarning: the imp module is deprecated in favour of importlib; see the module's documentation for alternative uses\n",
      "  from imp import reload\n",
      "/Users/lindadelacombaz/opt/anaconda3/envs/ada/lib/python3.9/site-packages/past/builtins/misc.py:45: DeprecationWarning: the imp module is deprecated in favour of importlib; see the module's documentation for alternative uses\n",
      "  from imp import reload\n"
     ]
    },
    {
     "data": {
      "text/html": [
       "\n",
       "<link rel=\"stylesheet\" type=\"text/css\" href=\"https://cdn.jsdelivr.net/gh/bmabey/pyLDAvis@3.3.1/pyLDAvis/js/ldavis.v1.0.0.css\">\n",
       "\n",
       "\n",
       "<div id=\"ldavis_el15861403153966899847240699522\"></div>\n",
       "<script type=\"text/javascript\">\n",
       "\n",
       "var ldavis_el15861403153966899847240699522_data = {\"mdsDat\": {\"x\": [-0.06296689889949028, -0.03376204896331843, -0.0435002368270512, 0.0787613634283671, -0.024877511555470695, 0.009240853543635439, -0.09133654930992467, 0.11041963541777643, 0.029283195273904186, 0.028738197891571858], \"y\": [-0.039150323370828174, 0.03547066594959573, -0.04137096886479039, -0.019015304776282885, -0.053939222937640766, -0.015397763045453367, 0.09106570478306779, 0.05290696403057742, 0.01879329959458666, -0.0293630513628321], \"topics\": [1, 2, 3, 4, 5, 6, 7, 8, 9, 10], \"cluster\": [1, 1, 1, 1, 1, 1, 1, 1, 1, 1], \"Freq\": [12.266025257047476, 10.111396464631357, 13.457767888064357, 19.48655173801376, 4.334888037424274, 5.3325702011286715, 10.468569995789998, 7.323896159167302, 5.679253536097223, 11.5390807226356]}, \"tinfo\": {\"Term\": [\"family\", \"school\", \"team\", \"student\", \"child\", \"earth\", \"police\", \"prison\", \"money\", \"murder\", \"ship\", \"mother\", \"brother\", \"father\", \"game\", \"escape\", \"monster\", \"attack\", \"planet\", \"destroy\", \"shoot\", \"parent\", \"robot\", \"order\", \"alien\", \"space\", \"human\", \"return\", \"crime\", \"live\", \"scarecrow\", \"surf\", \"burger\", \"raider\", \"penguin\", \"hawkin\", \"gasoline\", \"frog\", \"sail\", \"nail\", \"steam\", \"stow\", \"hooked\", \"sorority\", \"dumpster\", \"cruiser\", \"republican\", \"knocked_unconscious\", \"ram\", \"moore\", \"lava\", \"backpack\", \"charter\", \"crossbow\", \"naval\", \"hike\", \"curb\", \"werewolf\", \"oncoming\", \"captor\", \"zombie\", \"meat\", \"pirate\", \"dinosaur\", \"camper\", \"hitchhiker\", \"warhead\", \"sailor\", \"halloween\", \"aircraft\", \"clown\", \"mutant\", \"lizard\", \"bone\", \"camp\", \"helicopter\", \"diner\", \"soviet\", \"japanese\", \"plane\", \"pilot\", \"truck\", \"island\", \"club\", \"formula\", \"crash\", \"passenger\", \"tank\", \"group\", \"attack\", \"crew\", \"shoot\", \"escape\", \"driver\", \"ship\", \"arrive\", \"drive\", \"show\", \"fly\", \"killer\", \"call\", \"head\", \"rescue\", \"see\", \"steal\", \"discover\", \"run\", \"attempt\", \"reveal\", \"later\", \"police\", \"next\", \"night\", \"realize\", \"turn\", \"break\", \"school\", \"use\", \"return\", \"force\", \"say\", \"meanwhile\", \"home\", \"racing\", \"olympic\", \"dolphin\", \"playoff\", \"quarterback\", \"researcher\", \"athletic\", \"promoter\", \"unfamiliar\", \"espionage\", \"pitcher\", \"edition\", \"saloon\", \"athlete\", \"playground\", \"grapple\", \"touchdown\", \"pressured\", \"veterinarian\", \"qualify\", \"congressman\", \"speciman\", \"utilize\", \"enigmatic\", \"weed\", \"commentator\", \"chip\", \"predator\", \"racism\", \"vacuum\", \"championship\", \"specie\", \"streak\", \"solar\", \"boxing\", \"soviet_union\", \"team\", \"martial\", \"cowboy\", \"baseball\", \"commentary\", \"sugar\", \"substance\", \"player\", \"coach\", \"division\", \"ranch\", \"game\", \"documentary\", \"miner\", \"virus\", \"russian\", \"nuclear\", \"dollar\", \"missile\", \"ranger\", \"sport\", \"military\", \"infected\", \"agent\", \"win\", \"round\", \"character\", \"member\", \"snake\", \"train\", \"final\", \"play\", \"town\", \"world\", \"group\", \"include\", \"american\", \"gang\", \"fight\", \"story\", \"follow\", \"city\", \"crew\", \"first\", \"use\", \"lose\", \"local\", \"force\", \"work\", \"name\", \"however\", \"later\", \"attempt\", \"escape\", \"woman\", \"year\", \"posse\", \"superhero\", \"armored\", \"reactor\", \"comatose\", \"man\", \"corn\", \"mortician\", \"cornfield\", \"immortal\", \"undead\", \"spider\", \"fireplace\", \"chute\", \"sized\", \"stitch\", \"hopelessly\", \"scissor\", \"tentacle\", \"snag\", \"exterminate\", \"furnace\", \"absorb\", \"preach\", \"artificial\", \"apparition\", \"myer\", \"chamber\", \"canister\", \"shovel\", \"creature\", \"skull\", \"afterlife\", \"basement\", \"ghost\", \"ghostly\", \"sniper\", \"decapitate\", \"elevator\", \"body\", \"bite\", \"crow\", \"sand\", \"possess\", \"soul\", \"vision\", \"preacher\", \"blood\", \"strange\", \"fence\", \"house\", \"dead\", \"bloody\", \"evil\", \"wood\", \"vampire\", \"stab\", \"door\", \"attack\", \"scream\", \"power\", \"death\", \"room\", \"child\", \"head\", \"appear\", \"look\", \"away\", \"hear\", \"escape\", \"call\", \"discover\", \"murder\", \"arrive\", \"run\", \"stop\", \"use\", \"reveal\", \"see\", \"hand\", \"turn\", \"name\", \"later\", \"night\", \"however\", \"decide\", \"family\", \"return\", \"bookstore\", \"vintage\", \"hip_hop\", \"skinny\", \"bakery\", \"diet\", \"counseling\", \"en_route\", \"flier\", \"stumble_upon\", \"thanksgiving\", \"toast\", \"descent\", \"fifteen_year\", \"posh\", \"hollywood\", \"vulgar\", \"summary\", \"broadway\", \"tenth\", \"fantasize\", \"maturity\", \"fraternity\", \"flirtatious\", \"engaged\", \"dude\", \"thanksgive\", \"buffalo\", \"confessing\", \"insecure\", \"pageant\", \"lesbian\", \"makeover\", \"wedding\", \"roommate\", \"divorce\", \"affair\", \"date\", \"relationship\", \"party\", \"girl\", \"virginity\", \"ex_boyfriend\", \"want\", \"together\", \"marry\", \"kiss\", \"woman\", \"write\", \"hotel\", \"dinner\", \"happy\", \"ask\", \"meet\", \"letter\", \"night\", \"say\", \"marriage\", \"boyfriend\", \"married\", \"love\", \"feel\", \"think\", \"mother\", \"talk\", \"parent\", \"show\", \"home\", \"husband\", \"live\", \"start\", \"realize\", \"decide\", \"family\", \"movie\", \"story\", \"play\", \"wife\", \"work\", \"later\", \"first\", \"call\", \"see\", \"end\", \"know\", \"return\", \"however\", \"stays_behind\", \"signing\", \"planet\", \"galaxy\", \"volcano\", \"million_dollar\", \"drum\", \"crystal\", \"slavery\", \"foursome\", \"remnant\", \"meteorite\", \"culinary\", \"adoptive\", \"simmon\", \"comically\", \"diversion\", \"holographic\", \"colony\", \"emperor\", \"android\", \"voodoo\", \"legion\", \"attache\", \"distinct\", \"superpower\", \"cyborg\", \"vessel\", \"monster\", \"schizophrenia\", \"laboratory\", \"space\", \"earth\", \"robot\", \"slave\", \"spike\", \"fleet\", \"ship\", \"mortal\", \"imperial\", \"butler\", \"witch\", \"blue\", \"monkey\", \"destroy\", \"granny\", \"human\", \"machine\", \"attack\", \"order\", \"fight\", \"escape\", \"rescue\", \"save\", \"name\", \"brother\", \"use\", \"arrive\", \"woman\", \"learn\", \"daughter\", \"return\", \"decide\", \"turn\", \"call\", \"know\", \"fall\", \"see\", \"meet\", \"discover\", \"skater\", \"skate\", \"incarceration\", \"warp\", \"caption\", \"franchise\", \"crusade\", \"ballad\", \"practically\", \"valley\", \"worthless\", \"courtesy\", \"global\", \"resentful\", \"prescription\", \"extinction\", \"freeway\", \"roller\", \"altogether\", \"native_american\", \"brash\", \"superman\", \"prod\", \"steel\", \"thumb\", \"groin\", \"crocodile\", \"nervously\", \"billion\", \"prominently\", \"hawk\", \"gallery\", \"mouse\", \"beast\", \"cabin\", \"poker\", \"lion\", \"fisherman\", \"pizza\", \"legendary\", \"fish\", \"debt\", \"tiger\", \"stark\", \"money\", \"ring\", \"record\", \"tone\", \"briefcase\", \"gas_station\", \"work\", \"return\", \"first\", \"home\", \"break\", \"turn\", \"face\", \"show\", \"offer\", \"drive\", \"brother\", \"fight\", \"start\", \"reveal\", \"decide\", \"however\", \"catch\", \"call\", \"want\", \"attempt\", \"mother\", \"night\", \"away\", \"name\", \"discover\", \"later\", \"use\", \"cooperate\", \"sphere\", \"syndicate\", \"mile\", \"reinstate\", \"countdown\", \"concentration\", \"rack\", \"angel\", \"misgiving\", \"sible\", \"mugger\", \"colombian\", \"cellmate\", \"spree\", \"handler\", \"polish\", \"reverend\", \"penitentiary\", \"decrease\", \"nypd\", \"pier\", \"romantically_involve\", \"homicide\", \"maximum_security\", \"harden\", \"witness_protection\", \"perkin\", \"payoff\", \"chinatown\", \"warehouse\", \"psychopathic\", \"execution\", \"inmate\", \"sergeant\", \"prison\", \"undercover\", \"parole\", \"convict\", \"heroin\", \"robbery\", \"merchant\", \"crime\", \"criminal\", \"fbi_agent\", \"heist\", \"evidence\", \"sentence\", \"police\", \"murder\", \"arrest\", \"officer\", \"detective\", \"gangster\", \"guard\", \"cell\", \"drug\", \"bank\", \"jail\", \"shoot\", \"hostage\", \"gang\", \"release\", \"information\", \"bomb\", \"order\", \"partner\", \"tape\", \"escape\", \"plan\", \"killer\", \"reveal\", \"suspect\", \"death\", \"lead\", \"money\", \"name\", \"wife\", \"know\", \"attempt\", \"force\", \"work\", \"use\", \"send\", \"arrive\", \"decide\", \"yard\", \"scooter\", \"prep\", \"feather\", \"cornered\", \"subtly\", \"fabric\", \"womanize\", \"dysfunctional\", \"liberal\", \"chorus\", \"slacker\", \"clique\", \"prom\", \"headmaster\", \"presidency\", \"brown\", \"congregation\", \"trainee\", \"pupil\", \"facilitate\", \"politically\", \"parental\", \"puppet\", \"shepherd\", \"faculty\", \"soup\", \"plot_revolve\", \"african_american\", \"awareness\", \"principal\", \"centers_around\", \"student\", \"scholarship\", \"school\", \"bug\", \"teacher\", \"feud\", \"publish\", \"academic\", \"grade\", \"family\", \"brother\", \"college\", \"debate\", \"sister\", \"author\", \"father\", \"parent\", \"novel\", \"basketball\", \"son\", \"live\", \"study\", \"teach\", \"child\", \"year\", \"class\", \"decide\", \"husband\", \"home\", \"later\", \"well\", \"daughter\", \"return\", \"show\", \"story\", \"learn\", \"soon\", \"mother\", \"name\", \"relationship\", \"work\", \"start\", \"however\", \"meet\", \"unleash\", \"sleazy\", \"crane\", \"jeopardy\", \"sprinkler\", \"syndrome\", \"feeding\", \"ghetto\", \"clandestine\", \"gorilla\", \"slim\", \"male\", \"covert\", \"overdue\", \"transvestite\", \"rightful\", \"cab_driver\", \"bee\", \"corporation\", \"catastrophe\", \"environmental\", \"greek\", \"dagger\", \"self_destructive\", \"librarian\", \"mathematic\", \"overview\", \"prodigy\", \"creator\", \"needy\", \"rider\", \"toy\", \"lord\", \"biker\", \"grocery_store\", \"deem\", \"horn\", \"baby\", \"mayor\", \"collector\", \"shark\", \"egg\", \"sexuality\", \"child\", \"family\", \"catholic\", \"mini\", \"sell\", \"butterfly\", \"experiment\", \"sale\", \"great\", \"bolt\", \"mother\", \"year_old\", \"work\", \"attempt\", \"kid\", \"however\", \"live\", \"eventually\", \"decide\", \"place\", \"return\", \"move\", \"lead\", \"discover\", \"use\", \"know\", \"world\", \"wife\", \"name\", \"home\", \"father\", \"first\", \"plan\", \"want\", \"escape\", \"year\", \"arrive\", \"turn\", \"woman\", \"spacecraft\", \"basket\", \"mound\", \"essay\", \"vortex\", \"reckless\", \"porch\", \"terrifying\", \"concede\", \"universal\", \"carpenter\", \"ballet\", \"hippie\", \"recess\", \"momentum\", \"pluck\", \"fascination\", \"catapult\", \"insensitive\", \"demeanor\", \"puppy\", \"brass\", \"richard\", \"crater\", \"electrical\", \"yellow\", \"recreate\", \"central_park\", \"daytime\", \"tormentor\", \"rabbit\", \"windshield\", \"ultimatum\", \"throne\", \"alien\", \"loop\", \"marine\", \"fairy\", \"earthquake\", \"wolf\", \"band\", \"drummer\", \"dragon\", \"stone\", \"concert\", \"enterprise\", \"mother\", \"father\", \"herd\", \"wish\", \"home\", \"return\", \"castle\", \"music\", \"dream\", \"work\", \"lose\", \"world\", \"later\", \"die\", \"walk\", \"parent\", \"discover\", \"ask\", \"night\", \"explain\", \"see\", \"show\", \"say\", \"know\", \"call\", \"break\", \"however\", \"daughter\", \"move\", \"attempt\", \"meet\", \"away\", \"year\", \"turn\", \"child\", \"reveal\", \"decide\", \"name\", \"realize\"], \"Freq\": [5789.0, 3433.0, 2452.0, 2193.0, 3914.0, 957.0, 3645.0, 1657.0, 3089.0, 3266.0, 1129.0, 4692.0, 2849.0, 4755.0, 1655.0, 4149.0, 649.0, 3197.0, 455.0, 1660.0, 3201.0, 2324.0, 495.0, 3151.0, 684.0, 490.0, 1129.0, 5528.0, 1078.0, 3849.0, 63.31219502507658, 58.15374720247562, 51.33384029125784, 52.460359613712804, 57.925739623449864, 40.86660259239148, 45.082873113819566, 44.86350397846668, 79.23815284861276, 37.13302700313113, 28.69010089429235, 29.395125699630714, 26.818827025694524, 110.23437029911678, 27.84491083194525, 24.960016182954597, 21.694902210725374, 26.20826656029008, 23.501969959213277, 34.31142729594518, 33.55203946289017, 20.728904105287455, 22.36544424227917, 18.529511378934487, 28.48333441991426, 26.145279289081948, 19.116958682445997, 33.07361405192403, 18.785234161968766, 21.500265057942748, 301.76241230215345, 102.5272691890297, 203.5371069957867, 175.892080283644, 68.89958299323108, 86.54754947878864, 34.41639977010034, 57.05818900882298, 139.92555794703716, 132.9347518529104, 57.069738489678755, 59.597437042841705, 39.89007031906646, 303.34652773618694, 556.6084098705132, 336.28502232888593, 168.19827054332865, 102.22968072124168, 194.1668995760427, 401.5058874002247, 265.8892324911515, 543.2283552326693, 344.8836297595881, 422.8592113479435, 91.91095798603551, 463.0952170190033, 172.24136511943317, 200.7726346182927, 905.9240866409931, 856.3013824062133, 390.8761238920698, 838.8402335068918, 988.3108883075497, 279.19480244426336, 391.67758212916016, 864.4377455326319, 638.7065123828257, 997.3945360670442, 292.1172893708916, 399.1335861652975, 862.5013709324973, 633.2098683070835, 419.05772812462686, 721.5540815348023, 484.4979954650751, 710.2279411317695, 567.9233415970434, 718.8905061794075, 732.4783757383547, 715.549487504308, 607.3596687870792, 542.4235268191981, 597.5668450358895, 565.658015061846, 566.8448851551661, 537.8061579745089, 543.7424396657776, 553.585891796981, 598.7499662813254, 526.4579031556736, 526.2803440876974, 511.611746057852, 539.8064523244291, 56.902863721710624, 40.14114625352257, 37.490652216715375, 33.12919913050773, 31.570319910590065, 35.466278120848656, 28.90144776453824, 31.122750519539064, 31.499107663717655, 25.04054452953521, 24.321102032585443, 22.34340092052544, 46.15329301815758, 43.305552314593456, 20.363374255788194, 19.179835726236337, 19.41875114641648, 22.374393982463882, 20.876334208150464, 22.84340840290097, 21.635687637246445, 20.328362201806872, 18.690299083809418, 33.82358730910086, 60.49836325742371, 15.405704675502802, 23.352562018624567, 73.39428641631189, 18.420771040258003, 23.241739288525658, 194.57064236580595, 62.53223856263452, 26.625395022304726, 33.00065771801394, 78.36852653490612, 70.21541198388664, 1891.9328095718795, 46.36462956866871, 98.84198995719704, 147.29356113377867, 31.888512875266528, 60.22141958826308, 53.22122118858912, 377.43080034414436, 411.8260678107078, 80.09471873472928, 132.61112967895193, 1024.1602885578795, 165.39464867056373, 56.87702511461552, 143.1718389719618, 135.10407532574422, 219.60407757155266, 137.20010063606085, 167.83238975480972, 99.76153533660799, 157.15850876741956, 357.3515727277218, 64.34028553437568, 514.9062370525487, 350.298530435585, 152.63220287070743, 367.80301226037363, 495.93943521812315, 171.84195472509208, 377.18126385955577, 349.09236459063834, 665.3743960990643, 610.0762495671972, 462.161641006707, 536.6688214370986, 442.7063794636447, 217.7602108454876, 356.85605832237286, 470.6881784475204, 478.7593445802053, 487.67620028512874, 382.2972924566492, 278.42553005585376, 497.3776568832389, 448.4706285559804, 384.6623327061933, 363.70442076344045, 411.2974650048505, 440.29698202813603, 432.65496620695023, 409.3838316984682, 425.6180310984571, 398.8709289010985, 390.60831827754765, 371.4402078630481, 361.90678415167054, 108.40766199826375, 82.35116952875522, 56.923635312080755, 53.09548098410551, 40.51233268095492, 38.023037335145766, 35.09439561635744, 29.499385848698637, 31.52406691318773, 48.008838889560394, 58.94420070143674, 230.46980980155155, 30.327384382907013, 26.385323227761955, 35.15059730252844, 50.194919335278975, 19.97495277502591, 22.389280514041353, 66.0464278289307, 28.551679592527158, 26.775751491067524, 24.31085937232523, 50.61937137856508, 21.71174950471521, 28.012819570461975, 14.90093814305008, 13.177562149591363, 155.36483034081388, 11.565687195913924, 60.84578283151867, 655.5331022525345, 188.40884594202456, 47.758439656477684, 392.467456993605, 414.92274670484437, 42.843240748471125, 98.6714235587029, 80.8404908471835, 141.08237300633155, 1233.796333184787, 257.65378952629527, 60.04060617033547, 136.88511142988855, 209.0202924205068, 287.97411624042513, 246.95432211387794, 77.1411610458353, 438.7489379415574, 313.5335961455626, 107.28988098507746, 1267.9794222509768, 844.7576879891438, 149.24493307341876, 320.6834352725775, 287.83244353678947, 300.7617811396855, 315.9644463078411, 604.6647909528267, 982.3936751348632, 317.24390454278637, 566.1746855111238, 980.5243432793259, 816.6632845719896, 1032.0835686733037, 798.0546372688187, 605.3845381427926, 702.7573506464987, 768.2885790412588, 501.4258560474096, 798.8219133658109, 847.3534144342312, 778.5206719435444, 675.4044231067008, 735.9367654679875, 572.8761783093164, 583.6154677998671, 649.7394780525373, 701.7317399831703, 673.3615110295243, 497.81507168583363, 623.9149538621084, 623.5116228923446, 629.0092300796134, 597.1926152653551, 587.5140430171862, 589.4830443202372, 593.104506067395, 587.440256881803, 72.87338113705238, 50.62472648432018, 52.48489992723623, 43.75424456776523, 43.393431611794156, 50.935465381814915, 34.48570854621981, 33.24547886796899, 34.61945869505436, 32.09833625532539, 38.204438684406256, 32.06459886782666, 27.964998703167414, 28.431550715042516, 29.978921087306933, 51.01363325054317, 23.48819251338581, 22.559199916497285, 24.180465055863714, 19.56556793781289, 19.957587883223333, 21.269353004976985, 132.6501588549877, 45.13320247364792, 29.876500123954738, 16.8472756029399, 11.743952441350006, 60.74028411718033, 30.90963382849287, 39.692534576127095, 78.17645629017153, 115.28811644148888, 50.754694195639544, 914.631892324175, 219.79162371568518, 462.48869641545394, 618.6667896968846, 948.8173670727186, 1518.322936573277, 1084.4726913329093, 853.9348844056028, 96.81853421290849, 81.05775626644804, 1991.8149317143068, 1267.7995419494512, 519.4633947917498, 593.4600245151944, 1788.4530434825583, 673.3809590347832, 576.9087396873304, 448.918182902735, 498.4141225000071, 1491.557536424098, 1773.255314823149, 405.4432220910609, 1621.9045141818692, 1345.1344021326165, 521.005787085217, 552.3158874255993, 375.90435527369243, 576.2345483993361, 731.0438354461475, 848.0234534325717, 1480.5910845053302, 844.0053166699231, 896.0717496681685, 1576.278481907287, 1583.1828215274445, 787.5320055774488, 1174.0061606545, 1161.5012267156405, 1115.758728452519, 1320.6787102292888, 1429.3095937686846, 884.5988271101908, 1003.0453991929603, 968.8376058071502, 1024.883012676237, 1182.1747818940462, 1205.9625991048324, 1084.1083741704133, 1138.0037322634748, 1081.8600271375321, 951.5181026561233, 1017.7216778582289, 1046.2045903900469, 944.0129645713276, 51.456103366795624, 37.23262984356734, 439.3990351511343, 62.355940566892585, 83.31705528886599, 46.876611479227606, 65.66034960961531, 14.750032353106247, 31.376047738917183, 29.609192152248294, 33.95467462130586, 6.753943988726162, 19.972390217955148, 42.00937616398914, 42.180681965061275, 18.580732576075356, 23.047913659801974, 3.881347060909859, 129.0846203721987, 81.37676274093351, 71.80769958277277, 24.27199921297016, 3.34081859307364, 20.207557221122183, 13.3242845122142, 20.492490327661052, 7.998411479541688, 49.21248349139397, 471.5064723101671, 14.661900347857673, 92.40111054964132, 338.64637285242475, 643.5606485171653, 332.9696312264737, 243.58329936198206, 97.02459065415944, 50.62395389725144, 489.62731590678084, 58.72496551743878, 38.86132803603522, 46.689313612668585, 136.3756907510222, 160.94698414607566, 78.78450245543625, 383.791585629927, 61.26367580289775, 261.211453516784, 184.23938068903385, 321.7435491992036, 307.35730120690977, 299.28386419001595, 345.5401708830946, 199.6141256831591, 228.41085734188627, 311.5116249634728, 246.05763991104615, 271.3082146885671, 256.9275605735733, 258.8163907885938, 224.38056242459726, 220.86539937072797, 266.8049828722769, 258.6427129426618, 234.65001113867555, 230.46148175919666, 216.01519995453953, 201.74524572716706, 207.8028929263006, 204.06401492787546, 202.04012870875988, 41.80073537834851, 92.50569056285212, 28.270024755577516, 27.950292460218442, 21.841149229725055, 43.512442671044454, 15.673425280852685, 23.48748194291166, 12.974567805216079, 36.240161194127225, 21.912705471762198, 14.325477137637831, 91.20905598048729, 19.49843288936249, 26.618539285077446, 24.849993210530418, 26.644903952289933, 7.10471191589786, 9.873542148446726, 18.423747566405833, 24.624695893554758, 125.4659694489892, 18.445397789926176, 58.44473415023349, 42.627143815272234, 22.196055678741878, 73.49092132103013, 24.56622938365457, 12.098594946306722, 10.032133482565683, 108.00201553368491, 49.56846352532098, 156.02447077764964, 135.9862124785266, 243.50898865709271, 76.40501959407734, 70.50186112968628, 69.7684410304146, 84.31483955115147, 50.55217510703529, 126.32680917000592, 150.2961356560391, 79.45809415223717, 64.75827763279909, 730.9355154225502, 196.60215475894276, 222.73855317619692, 48.34477832265353, 43.899726709346425, 72.65219894650109, 411.8714816533334, 423.669616727851, 322.45316523286664, 356.7113957000429, 272.2460972815867, 294.5209074232453, 211.6554331444767, 312.36986120727573, 204.32108398940906, 224.08442704649966, 232.12225104348056, 234.74064195792374, 252.928772288054, 270.4475215794537, 265.9508106931445, 241.54837273056222, 180.1101047091129, 242.10916722859122, 233.98117820986644, 230.8334526032282, 232.87820828256733, 214.3668535527805, 203.72818764869234, 206.8755675431786, 201.45513024915167, 205.71522586112732, 198.01833989597324, 97.71504089974879, 95.40168541116549, 67.52017002990442, 64.35022268911364, 62.82783306406063, 42.2220401748474, 42.087172607473576, 39.6124769689494, 180.8789276785096, 26.888575387666208, 21.518757647483845, 21.097242467578607, 18.385751941254995, 17.54236608209065, 25.174696843605055, 18.817120108933924, 19.21008828674699, 96.75582284770411, 39.63613383504319, 17.701983272094875, 64.5718199795352, 21.102461844455856, 11.101625727265274, 71.20724773761219, 10.190461694414957, 10.338640288731927, 9.424070733662164, 9.492157949400081, 8.349891058177601, 8.63929379070149, 253.301062139844, 43.72369772394527, 150.94885535011258, 299.6684388883625, 164.47216388469775, 1282.531787138762, 203.85367130753266, 114.13646904190772, 222.0775215714583, 148.82198351122557, 278.8252209079498, 66.39166964917223, 740.340137771461, 489.92202995993597, 191.63252458804442, 86.76722015004026, 461.6157817256406, 342.4729849533502, 1753.538310523698, 1577.161895275363, 891.0500813967125, 634.1950114209383, 412.1740950420527, 177.8038905856709, 499.81712824800167, 242.93536350256423, 706.5330541260213, 340.8718158635269, 388.7110084142452, 1048.401205405949, 286.21634333798175, 615.0273265315535, 519.0357141812357, 342.9335182072252, 388.4778331562306, 845.7534525429841, 386.23182055661306, 317.66695103912014, 856.9072124524824, 737.3372024112115, 433.3558776798405, 804.412238772888, 366.3022035975191, 644.9380726223493, 551.7552283488228, 581.8497352874455, 662.1328653702567, 590.2445616659403, 613.8088040189849, 612.3798905251724, 521.566514081425, 551.6435369154619, 513.8956136598985, 465.91557872880213, 455.97888701633383, 437.0731081963809, 287.69337704683215, 62.72657164163839, 46.14109600602168, 44.460063625397005, 65.95502248940804, 37.46388186291098, 28.812872733037104, 35.69810712714258, 67.12011117002908, 46.61254883907384, 36.28662051274605, 34.51573308619406, 15.759962606733152, 47.89081480130277, 45.773759489042746, 5.784897631370757, 268.1762720803968, 4.541220053874947, 46.41645496144118, 10.980633252187895, 20.72183607783356, 32.84995681659746, 26.793029201977852, 216.4210996174457, 84.13964549178938, 36.311762855040556, 34.26360875262743, 28.057014110293316, 99.12946135623402, 32.39816056972542, 242.67187553484038, 53.93976390509758, 1347.4644938394572, 137.3601450915925, 1633.3682877994092, 170.08847695784127, 400.7948924775292, 69.80883257670354, 126.6503325398624, 83.2620319110816, 132.90126825776517, 1615.150399805031, 840.9341139229214, 452.1497997555525, 106.95695985712493, 524.5272775749552, 104.99401444151904, 902.0631972080162, 559.4809215294587, 126.87876157241767, 131.38645343953087, 137.77716430137664, 627.8593651027909, 190.59880619, 219.00895207217647, 544.9634798563832, 512.4739211068621, 243.6011699688752, 563.5235026741434, 347.3981421189389, 537.4829999432046, 494.5462553298329, 383.3942662678426, 369.22902087707075, 468.0456386908965, 443.25673622979133, 361.3949880803857, 349.8637648052847, 351.73634927576467, 399.7364722189944, 382.6870248407092, 304.5315790077993, 342.4804401482568, 322.77772952723905, 321.2884527266501, 307.86947365761625, 97.38712953922729, 61.82585709462382, 44.26608091707173, 37.84133199564743, 26.92387958534216, 25.366947327159277, 25.663099572803716, 30.98627022983103, 17.79022882784144, 37.95009640682505, 71.20714478846297, 20.959040980965586, 36.242759457534376, 11.514199261984594, 26.656001089770307, 36.81383836402726, 22.87354270609623, 16.587804380234612, 102.08263653252398, 15.84387228856421, 12.609552304532018, 28.42859274089892, 64.11829038358809, 16.234477838652367, 22.93142269519917, 19.34017428537077, 15.239537043766035, 19.062484024891166, 43.24186152641029, 18.70863369241927, 49.564368219450245, 174.04066076462465, 37.41857357467214, 86.50528833463704, 33.07563263995056, 35.15994780982381, 83.25421690430768, 60.01230894079337, 148.06706715713108, 58.35786172179506, 106.70184976661385, 57.13255922775712, 40.37704094952585, 739.4612405621106, 958.704976205983, 53.46328789130798, 49.85550390715994, 249.83242228933656, 44.451871079745445, 123.08920222245197, 88.66170255341255, 201.40349683983493, 72.26804269096185, 423.40267938637106, 186.2837446360691, 419.36060919848813, 386.7351079845827, 184.0052411165383, 372.3508896855035, 337.8896044082849, 264.84504939399784, 330.3224346826332, 244.87577375944198, 331.50866544453453, 240.95276847303518, 229.74592269199624, 275.96854448417866, 261.36827011369746, 271.1194769048742, 203.77921945503425, 241.37963832375516, 263.84882103782417, 279.4097322831071, 256.99893362468754, 243.83865903156428, 225.76085147255665, 237.66897216586804, 224.1275531325755, 217.64196118739218, 210.31488493263046, 207.3475722856821, 201.81644568749616, 48.56301553051896, 45.696908091141474, 36.12806054214037, 37.557079961816875, 35.27950609359532, 32.69870515259975, 45.31554651250133, 33.53895945189225, 29.064462092735706, 35.866552406247855, 23.923289977252445, 35.54354791238736, 25.21792624011959, 18.208435724515905, 14.196860933154177, 16.928555158851353, 14.494566447412554, 20.20998621460997, 17.25714243818684, 22.573050729558812, 140.9456181626001, 12.267482556303303, 69.8790367088589, 11.0587165473114, 67.29683534032046, 91.00970273012452, 32.136944460940036, 9.28859171815658, 13.527314075825368, 19.677084571934028, 195.8010374005047, 31.15038444602718, 23.0802481814835, 50.81162125444735, 511.1479133048831, 57.34948940794175, 147.99956056390704, 95.14947341574924, 68.82560349572998, 103.66401053627659, 564.2623851428052, 34.45549586322627, 219.1863695014566, 249.078965181969, 156.4061779326722, 74.54254948404129, 1470.605055448557, 1376.3129375784547, 63.25582040046988, 334.9545535951968, 1243.0373341614143, 1128.0995034110315, 159.9387463906274, 272.54149223326544, 358.48814844803326, 776.5868288932062, 488.0904549108859, 419.91684060697895, 737.241984058638, 457.1300432478853, 389.6596261381642, 441.78189172230424, 608.0905930002434, 559.8961504063833, 590.0518038214684, 390.309210780311, 575.8761463409447, 634.611101649336, 511.61229418752777, 551.4957581495576, 571.0216989628653, 480.5074314291663, 542.9271186613164, 453.4026350202442, 432.0799078200296, 525.6581059855384, 538.9050017007726, 477.04865592905077, 475.8191295279705, 490.44816039706575, 479.386626296407, 499.19708767658216, 498.12252114352157, 481.67198155455276, 464.6372254516707], \"Total\": [5789.0, 3433.0, 2452.0, 2193.0, 3914.0, 957.0, 3645.0, 1657.0, 3089.0, 3266.0, 1129.0, 4692.0, 2849.0, 4755.0, 1655.0, 4149.0, 649.0, 3197.0, 455.0, 1660.0, 3201.0, 2324.0, 495.0, 3151.0, 684.0, 490.0, 1129.0, 5528.0, 1078.0, 3849.0, 64.40295118307698, 59.2318502410571, 52.30011648611593, 53.50890520345488, 59.197350624049776, 41.849495494776825, 46.24950016842947, 46.02652122597715, 81.49087062585569, 38.254857142320326, 29.67092076675705, 30.401464070357214, 27.75477404770961, 114.12514995273567, 28.902813845246396, 25.94664218230636, 22.678233205492834, 27.415817774859605, 24.59508653758539, 36.06911714472739, 35.30488059688618, 21.814397573802186, 23.555213652056356, 19.524754091457133, 30.066069067852535, 27.608142451673082, 20.206520390823087, 35.03872031535164, 19.91725338828185, 22.833497025644956, 323.2561502570735, 109.09980313597843, 220.04786154462073, 193.63250204860006, 75.28867167717624, 98.16434168407893, 37.10628797220086, 64.10478744855463, 170.3471257463421, 163.3619657342356, 64.83795192167057, 68.04273387174281, 43.665120006376874, 417.9133863338401, 863.2843516042985, 491.5989986286677, 224.51903310624456, 130.0996900168929, 284.8169586863001, 680.2844977171128, 415.61242861039227, 1016.8517142886843, 599.8395680813172, 848.6805640225003, 121.4051732198587, 1080.4060506276344, 290.08192287734676, 364.9951331294198, 2969.786335977583, 3197.8186835597967, 1013.2731708536696, 3201.818920947945, 4149.350464203731, 633.8632491245329, 1129.317481690505, 4020.983448698838, 2518.635441718152, 5370.75646847898, 711.1917224170802, 1218.3046558111614, 4823.819046538856, 3031.7499578342777, 1416.0581180445433, 4300.820614684313, 1946.8762240756218, 4184.244453610288, 2681.0478569923002, 4372.169867961771, 4676.267231910786, 5210.8246778773355, 3645.338532516055, 2958.226363507502, 4350.3883399096485, 3674.7886175775293, 3981.2694111506985, 3281.306721339426, 3433.025186462354, 3710.94690672244, 5528.188539873616, 3219.6767769471726, 3498.033488569437, 2935.42860886734, 5783.082140376982, 58.222943417950155, 41.192103928201874, 38.52669996366996, 34.062969213626815, 32.54172671843473, 36.6846074340518, 29.94005008019881, 32.323760629810884, 32.72954921996836, 26.028213607686407, 25.31664965587539, 23.267432550002628, 48.115467785585096, 45.28209476731992, 21.34479529796148, 20.104226875157163, 20.35513328137668, 23.4852436474184, 21.929021519033853, 24.014012229180743, 22.792053521596078, 21.47306109665086, 19.781146725659706, 35.82845971534859, 64.14696442970197, 16.349678634391694, 24.7883815876973, 78.00621522530619, 19.579917650690966, 24.781733190387683, 208.71963976388218, 66.72872670224642, 28.42076656309354, 35.417986356522945, 87.12470506814859, 77.97679249498071, 2452.068611878367, 50.72323026147711, 114.27393724560366, 175.23057417370504, 34.521979352151845, 68.4961896530457, 60.02961123422273, 513.0746534120287, 566.3878997904543, 94.57502662042721, 166.02425550437496, 1655.4000399163635, 226.94258327666503, 66.32867744473616, 197.01956630341735, 185.4549686532164, 333.7625455602337, 189.48345349825607, 244.93954935700015, 130.29501637132003, 228.26818421978678, 665.6953312894467, 76.84031677931054, 1311.777997073132, 810.8291578038834, 261.8132155254745, 923.3352952945048, 1519.374707896775, 323.09693986919706, 1198.4556491317267, 1063.7034467892868, 3081.6072758626983, 2729.1747285409638, 1995.8339141699835, 2969.786335977583, 2091.7388969462113, 568.9664313713612, 1583.8331718232723, 3006.334649250035, 3174.15789134148, 3558.624443522244, 2026.4928699149164, 1013.2731708536696, 4239.270792893591, 3710.94690672244, 2561.414000060914, 2228.8625031921574, 3219.6767769471726, 4927.947551477879, 4672.397013434315, 4427.186557263025, 5210.8246778773355, 4372.169867961771, 4149.350464203731, 4311.853804854286, 3516.2167483434823, 109.32586669667499, 83.44260798410069, 57.84776214285671, 54.10667957767705, 41.451794832478946, 39.107233393045455, 36.15729659557072, 30.420538546372303, 32.52100894052515, 49.57383473433229, 60.88478432010456, 238.25405768035114, 31.356941960829502, 27.37340777206706, 36.53044699937104, 52.20547601423969, 20.89319641177398, 23.432369824588303, 69.29531710649583, 29.96434077692303, 28.121075945660756, 25.55496865498664, 53.384101075172346, 22.972315466883497, 29.754638627445022, 15.885458377000036, 14.11961900275882, 168.1770496025862, 12.585718560527223, 66.39896120381525, 749.7426416729469, 217.53026526948125, 52.84927289568998, 477.7550806216543, 560.6733016684027, 47.84759463423358, 121.0412325046835, 100.02879054784503, 191.64581786511263, 2396.565667377688, 390.8910447693222, 71.23272071181742, 194.175593166948, 327.012475247821, 487.3974571122668, 408.9998615571937, 97.3755766903178, 870.7777998724243, 583.4930441532538, 147.88819982735993, 3625.257896106795, 2150.856934287763, 227.06694024365322, 621.9515832267206, 540.9491903585589, 578.5563027206027, 620.4033284794393, 1509.7340459470483, 3197.8186835597967, 651.0425082415857, 1512.7914752734296, 3402.095497652653, 2726.27771520947, 3914.7179118925596, 3031.7499578342777, 2090.105949646214, 2925.5388491594463, 3426.4603756411534, 1655.597275396403, 4149.350464203731, 4823.819046538856, 4184.244453610288, 3266.112328731874, 4020.983448698838, 2681.0478569923002, 2817.5902138644815, 3710.94690672244, 4676.267231910786, 4300.820614684313, 2020.454200503969, 3981.2694111506985, 4672.397013434315, 5210.8246778773355, 4350.3883399096485, 4427.186557263025, 4991.4060857071945, 5789.074041080889, 5528.188539873616, 73.77187981364219, 51.51776139597738, 53.50886015089622, 44.6469185039457, 44.28598557344242, 52.06128242025516, 35.383576232545956, 34.138450739950436, 35.57703998555934, 32.99109292372881, 39.359899367088595, 33.04527134468265, 28.92461099418392, 29.421269520868922, 31.0503510503718, 52.88140257782106, 24.3808116367253, 23.464670412900677, 25.16496501511505, 20.45853124497849, 20.892648675231808, 22.427957033612515, 140.47297422385543, 47.975768173029046, 31.774216941337937, 18.03503755215071, 12.802222287638829, 67.18029320414702, 34.28687645596339, 44.038509769482786, 87.54956330711622, 134.250686190703, 57.42007726624804, 1222.2607344722237, 277.89788288141824, 625.9761333345908, 939.5322395215617, 1527.3453501700874, 2612.0113137017966, 1983.0477953616128, 1522.89860247621, 123.16247102335616, 100.81548899528208, 4464.40243197339, 2769.4239500423823, 947.0487928152396, 1115.7378537710724, 4311.853804854286, 1311.8678367725865, 1110.61708393512, 823.7614442897424, 938.0964242719672, 3724.6909955092747, 4756.671931512281, 742.8371143866392, 4350.3883399096485, 3498.033488569437, 1037.577262104144, 1125.0113405057962, 684.4338491681256, 1192.5014367198046, 1645.6421740003068, 2101.912570616689, 4692.63567970338, 2132.027676211815, 2324.150697436452, 5370.75646847898, 5783.082140376982, 2013.8268324999588, 3849.8284516993504, 3804.0892998121994, 3674.7886175775293, 4991.4060857071945, 5789.074041080889, 2497.1054285995488, 3174.15789134148, 3081.6072758626983, 3494.4116024044706, 4927.947551477879, 5210.8246778773355, 4239.270792893591, 4823.819046538856, 4300.820614684313, 3167.0820308516477, 4117.552970714965, 5528.188539873616, 4427.186557263025, 52.363394249609534, 38.24669840045343, 455.6359743015104, 65.2937608174341, 88.2328183593374, 50.191637204202074, 71.2718938047162, 16.020654255702407, 34.12510035859905, 34.747522916512494, 40.15236853456835, 8.006544703546986, 23.949839875644724, 50.80256011613009, 51.938039587288905, 23.068045192028098, 28.733012127728287, 4.846132519857787, 165.68930961165984, 105.15365717949412, 94.13069358348561, 31.972923042603455, 4.410466556384353, 26.793360506829487, 17.675278337453783, 27.265666558121758, 10.822893928507709, 67.23555508683953, 649.753839570572, 20.750195459583388, 131.4316668515517, 490.11691409647597, 957.3431341568527, 495.7078374772399, 360.99500485017074, 148.33127840116066, 73.74398519397162, 1129.317481690505, 93.95818883010973, 57.7244576038002, 73.08701400505902, 294.2830752598723, 365.98802995432357, 151.93370484013423, 1660.4996485719487, 109.39643746345297, 1129.6580445200177, 739.03595630444, 3197.8186835597967, 3151.298038568106, 3006.334649250035, 4149.350464203731, 1416.0581180445433, 2240.7266980843383, 4672.397013434315, 2849.36135945526, 3710.94690672244, 4020.983448698838, 4311.853804854286, 2962.8389929093437, 2913.2508302959436, 5528.188539873616, 4991.4060857071945, 3981.2694111506985, 4823.819046538856, 4117.552970714965, 2820.1100031649908, 4300.820614684313, 4756.671931512281, 4184.244453610288, 42.949407103788154, 95.13206787933274, 29.20779385328978, 29.055057665644643, 22.767199720029026, 45.98987754822998, 16.624580648484326, 25.13525947832293, 13.927676929631593, 39.638877316194936, 24.39684753982797, 15.951984703905095, 102.10398634630452, 21.97299879889858, 30.28860523331528, 28.47612369124809, 30.58632557274826, 8.16997234725741, 11.381582985258614, 21.350431745681814, 29.475891337563368, 151.17772171356896, 22.383823612325155, 72.5238086701436, 52.95089643438484, 28.262117308923326, 93.89220117697823, 31.520012691959316, 15.738934383058345, 13.280861592762518, 143.47700089914855, 66.29437800486622, 218.4938327739881, 192.23270887405403, 365.56977858740976, 110.32810460264564, 103.86524629618488, 103.85459300603515, 132.024811010535, 72.67510078766637, 238.43917919051523, 304.82229114579843, 135.78624602338394, 106.13558828767626, 3089.8846648136164, 535.2858197258428, 815.1158242214009, 82.89847045242243, 73.0047197012046, 181.00480185730834, 4927.947551477879, 5528.188539873616, 4239.270792893591, 5783.082140376982, 3281.306721339426, 3981.2694111506985, 1942.1158571755311, 5370.75646847898, 1935.8961066998909, 2518.635441718152, 2849.36135945526, 3006.334649250035, 3804.0892998121994, 4676.267231910786, 4991.4060857071945, 4427.186557263025, 1792.9790049190312, 4823.819046538856, 4464.40243197339, 4372.169867961771, 4692.63567970338, 4350.3883399096485, 3426.4603756411534, 4672.397013434315, 4184.244453610288, 5210.8246778773355, 3710.94690672244, 98.67367088571211, 96.60879705394194, 68.4524032678468, 65.28363813107809, 63.79219959624484, 43.11337067081385, 42.985473739731525, 40.548676658764926, 186.49770344728995, 27.847941317251124, 22.410850151373012, 22.050570927394244, 19.329739737313965, 18.453739868385192, 26.49940547012106, 19.888234050219165, 20.330996773800138, 102.44478024241, 42.137935006885, 19.125595448677007, 69.83207244202153, 22.883041971739274, 12.052344234584998, 77.40575292343006, 11.101275916052634, 11.332202234348397, 10.348204376700583, 10.444348199769923, 9.279773598803677, 9.609293328812425, 287.2101748196242, 48.72923031580573, 171.59386996995636, 355.1392662153752, 193.94827641876088, 1657.1290117725543, 244.70418194229467, 136.75899131340356, 280.7563747900566, 184.29621589291622, 369.71695235843663, 77.92703330256857, 1078.1462789923005, 725.1420236134303, 259.01220569567886, 106.99039818050116, 724.6495762680925, 532.8805102370562, 3645.338532516055, 3266.112328731874, 1747.6086882575444, 1243.74155501558, 749.4278779958219, 264.80645617884676, 1004.8803968903492, 395.68168777562346, 1675.834658236047, 636.4272907015387, 789.9499603263902, 3201.818920947945, 514.5505312136094, 1583.8331718232723, 1304.2932684670825, 706.9315723340314, 867.6944230955654, 3151.298038568106, 874.4912153953086, 645.0610674416838, 4149.350464203731, 3197.0218963820494, 1218.3046558111614, 4676.267231910786, 863.4881387306236, 3402.095497652653, 2470.8050941794345, 3089.8846648136164, 4672.397013434315, 3494.4116024044706, 4117.552970714965, 4372.169867961771, 3219.6767769471726, 4927.947551477879, 3710.94690672244, 2496.988847096257, 4020.983448698838, 4991.4060857071945, 288.5561989236253, 63.58866576409466, 47.02936494776221, 45.32225535749555, 67.37158359865349, 38.32632317664947, 29.678141807911484, 37.5046149571022, 72.08544951456814, 50.48323238943801, 39.401600385427514, 38.1283455134271, 17.478012411217065, 53.3052413655464, 51.588496445815025, 6.758179665779436, 321.44889819672653, 5.451803353880766, 56.16446163637674, 13.33985752386953, 25.2712432793935, 40.72648435191464, 33.65478954943456, 276.45112991816245, 109.21207102162064, 47.58933616897252, 45.175940010443384, 37.21436920963767, 131.91324192876408, 43.47720530033951, 333.57250061785845, 73.956270653472, 2193.3052047020983, 205.01056464547563, 3433.025186462354, 281.28465922928376, 806.7370387640339, 104.21578821984758, 212.93294608449003, 129.14821610421592, 233.42010035978282, 5789.074041080889, 2849.36135945526, 1357.8888815029043, 187.2598015918214, 2017.2702192838904, 189.31854617789386, 4755.927520489193, 2324.150697436452, 253.37526702513503, 276.9699303971971, 302.894058667668, 3849.8284516993504, 530.285976091853, 678.0772204695086, 3914.7179118925596, 3516.2167483434823, 890.2010525762856, 4991.4060857071945, 2013.8268324999588, 5783.082140376982, 5210.8246778773355, 3087.44739755556, 2913.2508302959436, 5528.188539873616, 5370.75646847898, 3174.15789134148, 2962.8389929093437, 3129.093453258482, 4692.63567970338, 4672.397013434315, 2612.0113137017966, 4927.947551477879, 3804.0892998121994, 4427.186557263025, 4756.671931512281, 98.30738839968492, 62.74590392414166, 45.189866564591384, 38.76131899412566, 27.892731018474134, 26.377092770462102, 26.726839170107834, 32.4046458801783, 18.716373551404303, 40.01930470038586, 75.49107250716925, 22.67276479816656, 39.409298583498106, 12.614395791756554, 29.283626302424366, 40.71345048650243, 25.526998637966727, 18.5425660043809, 115.062218975002, 17.90311043169456, 14.43514939535078, 32.664178090985665, 74.23853961982925, 18.957732515320178, 26.809167393199218, 22.70745589786321, 18.42736604696004, 23.0706764743721, 52.620805017167974, 23.056180242694847, 61.285562882182255, 218.23851732999267, 48.27885727706122, 121.98366582110009, 42.211409351139324, 45.4905183237619, 124.71722919889419, 85.20264595577822, 281.1952871875179, 88.97634475984832, 207.90013262414402, 92.14983348671956, 57.66690424227197, 3914.7179118925596, 5789.074041080889, 87.86862866181153, 78.71298104815821, 1122.0187413976832, 66.88454591065594, 388.4819101445164, 221.11966628891471, 982.7089671081862, 163.1078827660313, 4692.63567970338, 984.549692617647, 4927.947551477879, 4372.169867961771, 996.4136919648378, 4427.186557263025, 3849.8284516993504, 2888.02058912227, 4991.4060857071945, 2618.991114847908, 5528.188539873616, 2601.909881106092, 2470.8050941794345, 4184.244453610288, 3710.94690672244, 4117.552970714965, 1995.8339141699835, 3494.4116024044706, 4672.397013434315, 5783.082140376982, 4755.927520489193, 4239.270792893591, 3197.0218963820494, 4464.40243197339, 4149.350464203731, 3516.2167483434823, 4020.983448698838, 3981.2694111506985, 4311.853804854286, 49.50243209494323, 46.74479850351334, 37.06617285764148, 38.59890404076196, 36.29179964936526, 33.63891408412224, 46.74755516038242, 34.61897228808762, 30.121156038580168, 37.23370397725776, 25.01180377940402, 37.326174987724094, 26.62670631093595, 19.26262339320713, 15.1385662214284, 18.063634727754206, 15.550416558162048, 21.852605794235114, 18.66450773275321, 24.549964397627996, 153.3094280151715, 13.360144157073007, 76.33102376683742, 12.114449350733764, 73.80228662424119, 100.2645091484435, 35.414129778835814, 10.34598576851148, 15.09531426748867, 21.99061764878443, 224.0195911819869, 35.04466114407495, 25.908804041015586, 59.28825621308119, 684.2223040627481, 67.8658664530552, 186.92243930858962, 118.3531943992616, 83.59131963902728, 132.70528506229925, 993.051492949045, 40.57875900160615, 363.43794565819843, 437.80263651580833, 259.30790465630855, 103.59699181084292, 4692.63567970338, 4755.927520489193, 86.45025685611913, 886.5812340467903, 5783.082140376982, 5528.188539873616, 332.6522690600118, 793.6159605555355, 1350.169799965116, 4927.947551477879, 2561.414000060914, 1995.8339141699835, 5210.8246778773355, 2399.1766141654143, 1840.7883635880069, 2324.150697436452, 4184.244453610288, 3724.6909955092747, 4350.3883399096485, 2007.0921544681592, 4300.820614684313, 5370.75646847898, 3498.033488569437, 4117.552970714965, 4823.819046538856, 3281.306721339426, 4427.186557263025, 2913.2508302959436, 2601.909881106092, 4372.169867961771, 4756.671931512281, 3426.4603756411534, 3516.2167483434823, 3981.2694111506985, 3914.7179118925596, 4676.267231910786, 4991.4060857071945, 4672.397013434315, 3674.7886175775293], \"Category\": [\"Default\", \"Default\", \"Default\", \"Default\", \"Default\", \"Default\", \"Default\", \"Default\", \"Default\", \"Default\", \"Default\", \"Default\", \"Default\", \"Default\", \"Default\", \"Default\", \"Default\", \"Default\", \"Default\", \"Default\", \"Default\", \"Default\", \"Default\", \"Default\", \"Default\", \"Default\", \"Default\", \"Default\", \"Default\", \"Default\", \"Topic1\", \"Topic1\", \"Topic1\", \"Topic1\", \"Topic1\", \"Topic1\", \"Topic1\", \"Topic1\", \"Topic1\", \"Topic1\", \"Topic1\", \"Topic1\", \"Topic1\", \"Topic1\", \"Topic1\", \"Topic1\", \"Topic1\", \"Topic1\", \"Topic1\", \"Topic1\", \"Topic1\", \"Topic1\", \"Topic1\", \"Topic1\", \"Topic1\", \"Topic1\", \"Topic1\", \"Topic1\", \"Topic1\", \"Topic1\", \"Topic1\", \"Topic1\", \"Topic1\", \"Topic1\", \"Topic1\", \"Topic1\", \"Topic1\", \"Topic1\", \"Topic1\", \"Topic1\", \"Topic1\", \"Topic1\", \"Topic1\", \"Topic1\", \"Topic1\", \"Topic1\", \"Topic1\", \"Topic1\", \"Topic1\", \"Topic1\", \"Topic1\", \"Topic1\", \"Topic1\", \"Topic1\", \"Topic1\", \"Topic1\", \"Topic1\", \"Topic1\", \"Topic1\", \"Topic1\", \"Topic1\", \"Topic1\", \"Topic1\", \"Topic1\", \"Topic1\", \"Topic1\", \"Topic1\", \"Topic1\", \"Topic1\", \"Topic1\", \"Topic1\", \"Topic1\", \"Topic1\", \"Topic1\", \"Topic1\", \"Topic1\", \"Topic1\", \"Topic1\", \"Topic1\", \"Topic1\", \"Topic1\", \"Topic1\", \"Topic1\", \"Topic1\", \"Topic1\", \"Topic1\", \"Topic1\", \"Topic1\", \"Topic1\", \"Topic1\", \"Topic1\", \"Topic1\", \"Topic1\", \"Topic2\", \"Topic2\", \"Topic2\", \"Topic2\", \"Topic2\", \"Topic2\", \"Topic2\", \"Topic2\", \"Topic2\", \"Topic2\", \"Topic2\", \"Topic2\", \"Topic2\", \"Topic2\", \"Topic2\", \"Topic2\", \"Topic2\", \"Topic2\", \"Topic2\", \"Topic2\", \"Topic2\", \"Topic2\", \"Topic2\", \"Topic2\", \"Topic2\", \"Topic2\", \"Topic2\", \"Topic2\", \"Topic2\", \"Topic2\", \"Topic2\", \"Topic2\", \"Topic2\", \"Topic2\", \"Topic2\", \"Topic2\", \"Topic2\", \"Topic2\", \"Topic2\", \"Topic2\", \"Topic2\", \"Topic2\", \"Topic2\", \"Topic2\", \"Topic2\", \"Topic2\", \"Topic2\", \"Topic2\", \"Topic2\", \"Topic2\", \"Topic2\", \"Topic2\", \"Topic2\", \"Topic2\", \"Topic2\", \"Topic2\", \"Topic2\", \"Topic2\", \"Topic2\", \"Topic2\", \"Topic2\", \"Topic2\", \"Topic2\", \"Topic2\", \"Topic2\", \"Topic2\", \"Topic2\", \"Topic2\", \"Topic2\", \"Topic2\", \"Topic2\", \"Topic2\", \"Topic2\", \"Topic2\", \"Topic2\", \"Topic2\", \"Topic2\", \"Topic2\", \"Topic2\", \"Topic2\", \"Topic2\", \"Topic2\", \"Topic2\", \"Topic2\", \"Topic2\", \"Topic2\", \"Topic2\", \"Topic2\", \"Topic2\", \"Topic2\", \"Topic2\", \"Topic2\", \"Topic3\", \"Topic3\", \"Topic3\", \"Topic3\", \"Topic3\", \"Topic3\", \"Topic3\", \"Topic3\", \"Topic3\", \"Topic3\", \"Topic3\", \"Topic3\", \"Topic3\", \"Topic3\", \"Topic3\", \"Topic3\", \"Topic3\", \"Topic3\", \"Topic3\", \"Topic3\", \"Topic3\", \"Topic3\", \"Topic3\", \"Topic3\", \"Topic3\", \"Topic3\", \"Topic3\", \"Topic3\", \"Topic3\", \"Topic3\", \"Topic3\", \"Topic3\", \"Topic3\", \"Topic3\", \"Topic3\", \"Topic3\", \"Topic3\", \"Topic3\", \"Topic3\", \"Topic3\", \"Topic3\", \"Topic3\", \"Topic3\", \"Topic3\", \"Topic3\", \"Topic3\", \"Topic3\", \"Topic3\", \"Topic3\", \"Topic3\", \"Topic3\", \"Topic3\", \"Topic3\", \"Topic3\", \"Topic3\", \"Topic3\", \"Topic3\", \"Topic3\", \"Topic3\", \"Topic3\", \"Topic3\", \"Topic3\", \"Topic3\", \"Topic3\", \"Topic3\", \"Topic3\", \"Topic3\", \"Topic3\", \"Topic3\", \"Topic3\", \"Topic3\", \"Topic3\", \"Topic3\", \"Topic3\", \"Topic3\", \"Topic3\", \"Topic3\", \"Topic3\", \"Topic3\", \"Topic3\", \"Topic3\", \"Topic3\", \"Topic3\", \"Topic3\", \"Topic3\", \"Topic3\", \"Topic3\", \"Topic3\", \"Topic4\", \"Topic4\", \"Topic4\", \"Topic4\", \"Topic4\", \"Topic4\", \"Topic4\", \"Topic4\", \"Topic4\", \"Topic4\", \"Topic4\", \"Topic4\", \"Topic4\", \"Topic4\", \"Topic4\", \"Topic4\", \"Topic4\", \"Topic4\", \"Topic4\", \"Topic4\", \"Topic4\", \"Topic4\", \"Topic4\", \"Topic4\", \"Topic4\", \"Topic4\", \"Topic4\", \"Topic4\", \"Topic4\", \"Topic4\", \"Topic4\", \"Topic4\", \"Topic4\", \"Topic4\", \"Topic4\", \"Topic4\", \"Topic4\", \"Topic4\", \"Topic4\", \"Topic4\", \"Topic4\", \"Topic4\", \"Topic4\", \"Topic4\", \"Topic4\", \"Topic4\", \"Topic4\", \"Topic4\", \"Topic4\", \"Topic4\", \"Topic4\", \"Topic4\", \"Topic4\", \"Topic4\", \"Topic4\", \"Topic4\", \"Topic4\", \"Topic4\", \"Topic4\", \"Topic4\", \"Topic4\", \"Topic4\", \"Topic4\", \"Topic4\", \"Topic4\", \"Topic4\", \"Topic4\", \"Topic4\", \"Topic4\", \"Topic4\", \"Topic4\", \"Topic4\", \"Topic4\", \"Topic4\", \"Topic4\", \"Topic4\", \"Topic4\", \"Topic4\", \"Topic4\", \"Topic4\", \"Topic4\", \"Topic4\", \"Topic4\", \"Topic4\", \"Topic4\", \"Topic4\", \"Topic4\", \"Topic5\", \"Topic5\", \"Topic5\", \"Topic5\", \"Topic5\", \"Topic5\", \"Topic5\", \"Topic5\", \"Topic5\", \"Topic5\", \"Topic5\", \"Topic5\", \"Topic5\", \"Topic5\", \"Topic5\", \"Topic5\", \"Topic5\", \"Topic5\", \"Topic5\", \"Topic5\", \"Topic5\", \"Topic5\", \"Topic5\", \"Topic5\", \"Topic5\", \"Topic5\", \"Topic5\", \"Topic5\", \"Topic5\", \"Topic5\", \"Topic5\", \"Topic5\", \"Topic5\", \"Topic5\", \"Topic5\", \"Topic5\", \"Topic5\", \"Topic5\", \"Topic5\", \"Topic5\", \"Topic5\", \"Topic5\", \"Topic5\", \"Topic5\", \"Topic5\", \"Topic5\", \"Topic5\", \"Topic5\", \"Topic5\", \"Topic5\", \"Topic5\", \"Topic5\", \"Topic5\", \"Topic5\", \"Topic5\", \"Topic5\", \"Topic5\", \"Topic5\", \"Topic5\", \"Topic5\", \"Topic5\", \"Topic5\", \"Topic5\", \"Topic5\", \"Topic5\", \"Topic5\", \"Topic5\", \"Topic5\", \"Topic5\", \"Topic5\", \"Topic6\", \"Topic6\", \"Topic6\", \"Topic6\", \"Topic6\", \"Topic6\", \"Topic6\", \"Topic6\", \"Topic6\", \"Topic6\", \"Topic6\", \"Topic6\", \"Topic6\", \"Topic6\", \"Topic6\", \"Topic6\", \"Topic6\", \"Topic6\", \"Topic6\", \"Topic6\", \"Topic6\", \"Topic6\", \"Topic6\", \"Topic6\", \"Topic6\", \"Topic6\", \"Topic6\", \"Topic6\", \"Topic6\", \"Topic6\", \"Topic6\", \"Topic6\", \"Topic6\", \"Topic6\", \"Topic6\", \"Topic6\", \"Topic6\", \"Topic6\", \"Topic6\", \"Topic6\", \"Topic6\", \"Topic6\", \"Topic6\", \"Topic6\", \"Topic6\", \"Topic6\", \"Topic6\", \"Topic6\", \"Topic6\", \"Topic6\", \"Topic6\", \"Topic6\", \"Topic6\", \"Topic6\", \"Topic6\", \"Topic6\", \"Topic6\", \"Topic6\", \"Topic6\", \"Topic6\", \"Topic6\", \"Topic6\", \"Topic6\", \"Topic6\", \"Topic6\", \"Topic6\", \"Topic6\", \"Topic6\", \"Topic6\", \"Topic6\", \"Topic6\", \"Topic6\", \"Topic6\", \"Topic6\", \"Topic6\", \"Topic6\", \"Topic6\", \"Topic7\", \"Topic7\", \"Topic7\", \"Topic7\", \"Topic7\", \"Topic7\", \"Topic7\", \"Topic7\", \"Topic7\", \"Topic7\", \"Topic7\", \"Topic7\", \"Topic7\", \"Topic7\", \"Topic7\", \"Topic7\", \"Topic7\", \"Topic7\", \"Topic7\", \"Topic7\", \"Topic7\", \"Topic7\", \"Topic7\", \"Topic7\", \"Topic7\", \"Topic7\", \"Topic7\", \"Topic7\", \"Topic7\", \"Topic7\", \"Topic7\", \"Topic7\", \"Topic7\", \"Topic7\", \"Topic7\", \"Topic7\", \"Topic7\", \"Topic7\", \"Topic7\", \"Topic7\", \"Topic7\", \"Topic7\", \"Topic7\", \"Topic7\", \"Topic7\", \"Topic7\", \"Topic7\", \"Topic7\", \"Topic7\", \"Topic7\", \"Topic7\", \"Topic7\", \"Topic7\", \"Topic7\", \"Topic7\", \"Topic7\", \"Topic7\", \"Topic7\", \"Topic7\", \"Topic7\", \"Topic7\", \"Topic7\", \"Topic7\", \"Topic7\", \"Topic7\", \"Topic7\", \"Topic7\", \"Topic7\", \"Topic7\", \"Topic7\", \"Topic7\", \"Topic7\", \"Topic7\", \"Topic7\", \"Topic7\", \"Topic7\", \"Topic7\", \"Topic7\", \"Topic7\", \"Topic7\", \"Topic7\", \"Topic7\", \"Topic7\", \"Topic7\", \"Topic7\", \"Topic7\", \"Topic8\", \"Topic8\", \"Topic8\", \"Topic8\", \"Topic8\", \"Topic8\", \"Topic8\", \"Topic8\", \"Topic8\", \"Topic8\", \"Topic8\", \"Topic8\", \"Topic8\", \"Topic8\", \"Topic8\", \"Topic8\", \"Topic8\", \"Topic8\", \"Topic8\", \"Topic8\", \"Topic8\", \"Topic8\", \"Topic8\", \"Topic8\", \"Topic8\", \"Topic8\", \"Topic8\", \"Topic8\", \"Topic8\", \"Topic8\", \"Topic8\", \"Topic8\", \"Topic8\", \"Topic8\", \"Topic8\", \"Topic8\", \"Topic8\", \"Topic8\", \"Topic8\", \"Topic8\", \"Topic8\", \"Topic8\", \"Topic8\", \"Topic8\", \"Topic8\", \"Topic8\", \"Topic8\", \"Topic8\", \"Topic8\", \"Topic8\", \"Topic8\", \"Topic8\", \"Topic8\", \"Topic8\", \"Topic8\", \"Topic8\", \"Topic8\", \"Topic8\", \"Topic8\", \"Topic8\", \"Topic8\", \"Topic8\", \"Topic8\", \"Topic8\", \"Topic8\", \"Topic8\", \"Topic8\", \"Topic8\", \"Topic8\", \"Topic8\", \"Topic8\", \"Topic8\", \"Topic8\", \"Topic8\", \"Topic8\", \"Topic8\", \"Topic9\", \"Topic9\", \"Topic9\", \"Topic9\", \"Topic9\", \"Topic9\", \"Topic9\", \"Topic9\", \"Topic9\", \"Topic9\", \"Topic9\", \"Topic9\", \"Topic9\", \"Topic9\", \"Topic9\", \"Topic9\", \"Topic9\", \"Topic9\", \"Topic9\", \"Topic9\", \"Topic9\", \"Topic9\", \"Topic9\", \"Topic9\", \"Topic9\", \"Topic9\", \"Topic9\", \"Topic9\", \"Topic9\", \"Topic9\", \"Topic9\", \"Topic9\", \"Topic9\", \"Topic9\", \"Topic9\", \"Topic9\", \"Topic9\", \"Topic9\", \"Topic9\", \"Topic9\", \"Topic9\", \"Topic9\", \"Topic9\", \"Topic9\", \"Topic9\", \"Topic9\", \"Topic9\", \"Topic9\", \"Topic9\", \"Topic9\", \"Topic9\", \"Topic9\", \"Topic9\", \"Topic9\", \"Topic9\", \"Topic9\", \"Topic9\", \"Topic9\", \"Topic9\", \"Topic9\", \"Topic9\", \"Topic9\", \"Topic9\", \"Topic9\", \"Topic9\", \"Topic9\", \"Topic9\", \"Topic9\", \"Topic9\", \"Topic9\", \"Topic9\", \"Topic9\", \"Topic9\", \"Topic9\", \"Topic9\", \"Topic9\", \"Topic9\", \"Topic9\", \"Topic9\", \"Topic9\", \"Topic9\", \"Topic9\", \"Topic10\", \"Topic10\", \"Topic10\", \"Topic10\", \"Topic10\", \"Topic10\", \"Topic10\", \"Topic10\", \"Topic10\", \"Topic10\", \"Topic10\", \"Topic10\", \"Topic10\", \"Topic10\", \"Topic10\", \"Topic10\", \"Topic10\", \"Topic10\", \"Topic10\", \"Topic10\", \"Topic10\", \"Topic10\", \"Topic10\", \"Topic10\", \"Topic10\", \"Topic10\", \"Topic10\", \"Topic10\", \"Topic10\", \"Topic10\", \"Topic10\", \"Topic10\", \"Topic10\", \"Topic10\", \"Topic10\", \"Topic10\", \"Topic10\", \"Topic10\", \"Topic10\", \"Topic10\", \"Topic10\", \"Topic10\", \"Topic10\", \"Topic10\", \"Topic10\", \"Topic10\", \"Topic10\", \"Topic10\", \"Topic10\", \"Topic10\", \"Topic10\", \"Topic10\", \"Topic10\", \"Topic10\", \"Topic10\", \"Topic10\", \"Topic10\", \"Topic10\", \"Topic10\", \"Topic10\", \"Topic10\", \"Topic10\", \"Topic10\", \"Topic10\", \"Topic10\", \"Topic10\", \"Topic10\", \"Topic10\", \"Topic10\", \"Topic10\", \"Topic10\", \"Topic10\", \"Topic10\", \"Topic10\", \"Topic10\", \"Topic10\", \"Topic10\", \"Topic10\", \"Topic10\", \"Topic10\", \"Topic10\", \"Topic10\", \"Topic10\", \"Topic10\", \"Topic10\"], \"logprob\": [30.0, 29.0, 28.0, 27.0, 26.0, 25.0, 24.0, 23.0, 22.0, 21.0, 20.0, 19.0, 18.0, 17.0, 16.0, 15.0, 14.0, 13.0, 12.0, 11.0, 10.0, 9.0, 8.0, 7.0, 6.0, 5.0, 4.0, 3.0, 2.0, 1.0, -7.8512, -7.9362, -8.0609, -8.0392, -7.9401, -8.289, -8.1908, -8.1957, -7.6268, -8.3848, -8.6427, -8.6185, -8.7102, -7.2967, -8.6726, -8.782, -8.9222, -8.7332, -8.8422, -8.4638, -8.4862, -8.9678, -8.8918, -9.0799, -8.65, -8.7356, -9.0487, -8.5005, -9.0662, -8.9312, -6.2896, -7.3692, -6.6834, -6.8294, -7.7666, -7.5386, -8.4608, -7.9552, -7.0582, -7.1094, -7.955, -7.9117, -8.3132, -6.2844, -5.6774, -6.1813, -6.8741, -7.3721, -6.7306, -6.0041, -6.4162, -5.7018, -6.1561, -5.9522, -7.4785, -5.8614, -6.8504, -6.6971, -5.1903, -5.2467, -6.0309, -5.2673, -5.1033, -6.3674, -6.0288, -5.2372, -5.5398, -5.0941, -6.3221, -6.01, -5.2394, -5.5485, -5.9613, -5.4179, -5.8162, -5.4337, -5.6573, -5.4216, -5.4028, -5.4262, -5.5902, -5.7032, -5.6064, -5.6613, -5.6592, -5.7118, -5.7008, -5.6829, -5.6044, -5.7331, -5.7334, -5.7617, -5.7081, -7.7648, -8.1137, -8.182, -8.3057, -8.3539, -8.2375, -8.4422, -8.3682, -8.3562, -8.5856, -8.6148, -8.6996, -7.9741, -8.0378, -8.7924, -8.8523, -8.8399, -8.6982, -8.7675, -8.6775, -8.7318, -8.7941, -8.8781, -8.285, -7.7035, -9.0714, -8.6554, -7.5103, -8.8926, -8.6602, -6.5353, -7.6704, -8.5242, -8.3096, -7.4447, -7.5545, -4.2608, -7.9696, -7.2126, -6.8137, -8.3439, -7.7081, -7.8317, -5.8727, -5.7855, -7.4229, -6.9187, -4.8745, -6.6978, -7.7652, -6.8421, -6.9001, -6.4143, -6.8847, -6.6831, -7.2033, -6.7489, -5.9274, -7.6419, -5.5621, -5.9473, -6.7781, -5.8986, -5.5997, -6.6595, -5.8734, -5.9508, -5.3058, -5.3925, -5.6702, -5.5207, -5.7132, -6.4227, -5.9288, -5.6519, -5.6349, -5.6165, -5.8599, -6.177, -5.5968, -5.7003, -5.8537, -5.9098, -5.7868, -5.7187, -5.7362, -5.7915, -5.7526, -5.8175, -5.8384, -5.8887, -5.9147, -7.4061, -7.681, -8.0503, -8.1199, -8.3904, -8.4538, -8.534, -8.7076, -8.6413, -8.2206, -8.0154, -6.6519, -8.68, -8.8192, -8.5324, -8.1761, -9.0975, -8.9834, -7.9016, -8.7403, -8.8045, -8.9011, -8.1677, -9.0142, -8.7593, -9.3906, -9.5135, -7.0462, -9.644, -7.9837, -5.6066, -6.8534, -8.2259, -6.1196, -6.0639, -8.3345, -7.5002, -7.6995, -7.1427, -4.9742, -6.5404, -7.997, -7.1729, -6.7496, -6.4291, -6.5828, -7.7464, -6.0081, -6.3441, -7.4165, -4.9468, -5.353, -7.0864, -6.3216, -6.4296, -6.3857, -6.3364, -5.6873, -5.202, -6.3323, -5.7531, -5.2039, -5.3868, -5.1527, -5.4098, -5.6861, -5.537, -5.4478, -5.8746, -5.4089, -5.3499, -5.4346, -5.5767, -5.4909, -5.7413, -5.7228, -5.6154, -5.5385, -5.5797, -5.8818, -5.656, -5.6566, -5.6479, -5.6998, -5.7161, -5.7128, -5.7066, -5.7162, -8.1735, -8.5377, -8.5016, -8.6836, -8.6919, -8.5316, -8.9216, -8.9583, -8.9178, -8.9934, -8.8192, -8.9944, -9.1312, -9.1147, -9.0617, -8.5301, -9.3057, -9.346, -9.2766, -9.4884, -9.4686, -9.4049, -7.5745, -8.6526, -9.0651, -9.638, -9.9988, -8.3556, -9.0311, -8.781, -8.1032, -7.7147, -8.5352, -5.6437, -7.0695, -6.3256, -6.0346, -5.607, -5.1368, -5.4733, -5.7123, -7.8893, -8.067, -4.8654, -5.3171, -6.2094, -6.0762, -4.9731, -5.9499, -6.1045, -6.3553, -6.2507, -5.1546, -4.9816, -6.4572, -5.0708, -5.2579, -6.2064, -6.1481, -6.5328, -6.1057, -5.8677, -5.7193, -5.162, -5.724, -5.6642, -5.0994, -5.095, -5.7933, -5.394, -5.4047, -5.4449, -5.2763, -5.1972, -5.677, -5.5514, -5.5861, -5.5298, -5.3871, -5.3671, -5.4737, -5.4251, -5.4757, -5.6041, -5.5369, -5.5093, -5.612, -7.0184, -7.342, -4.8737, -6.8263, -6.5365, -7.1116, -6.7747, -8.2679, -7.5131, -7.5711, -7.4341, -9.049, -7.9648, -7.2213, -7.2172, -8.037, -7.8216, -9.603, -6.0987, -6.5601, -6.6852, -7.7698, -9.7529, -7.9531, -8.3696, -7.9391, -8.8799, -7.063, -4.8032, -8.2739, -6.433, -5.1342, -4.4921, -5.1511, -5.4637, -6.3842, -7.0347, -4.7655, -6.8863, -7.2991, -7.1156, -6.0437, -5.8781, -6.5924, -5.009, -6.844, -5.3938, -5.7429, -5.1854, -5.2311, -5.2578, -5.114, -5.6628, -5.528, -5.2177, -5.4536, -5.3559, -5.4104, -5.403, -5.5458, -5.5616, -5.3726, -5.4037, -5.5011, -5.5191, -5.5838, -5.6521, -5.6226, -5.6407, -5.6507, -7.4334, -6.639, -7.8245, -7.8359, -8.0825, -7.3932, -8.4143, -8.0098, -8.6033, -7.5761, -8.0792, -8.5042, -6.6531, -8.1959, -7.8847, -7.9534, -7.8837, -9.2055, -8.8764, -8.2526, -7.9625, -6.3342, -8.2515, -7.0982, -7.4138, -8.0664, -6.8691, -7.9649, -8.6732, -8.8605, -6.4841, -7.2629, -6.1163, -6.2537, -5.6711, -6.8302, -6.9106, -6.9211, -6.7317, -7.2433, -6.3274, -6.1537, -6.7911, -6.9956, -4.572, -5.8851, -5.7603, -7.2879, -7.3844, -6.8806, -5.1456, -5.1173, -5.3903, -5.2894, -5.5596, -5.4809, -5.8113, -5.4221, -5.8466, -5.7543, -5.719, -5.7078, -5.6332, -5.5662, -5.583, -5.6792, -5.9727, -5.6769, -5.711, -5.7246, -5.7158, -5.7986, -5.8495, -5.8342, -5.8607, -5.8398, -5.8779, -7.2588, -7.2827, -7.6284, -7.6765, -7.7004, -8.0979, -8.1011, -8.1617, -6.643, -8.5491, -8.7719, -8.7917, -8.9293, -8.9762, -8.615, -8.9061, -8.8854, -7.2686, -8.1611, -8.9672, -7.673, -8.7914, -9.4337, -7.5752, -9.5194, -9.5049, -9.5976, -9.5904, -9.7186, -9.6845, -6.3062, -8.0629, -6.8239, -6.1382, -6.7381, -4.6842, -6.5234, -7.1034, -6.4378, -6.8381, -6.2102, -7.6453, -5.2337, -5.6466, -6.5852, -7.3776, -5.7061, -6.0046, -4.3714, -4.4774, -5.0484, -5.3885, -5.8194, -6.6601, -5.6266, -6.348, -5.2805, -6.0093, -5.878, -4.8858, -6.1841, -5.4192, -5.5889, -6.0033, -5.8786, -5.1006, -5.8844, -6.0798, -5.0875, -5.2378, -5.7693, -5.1507, -5.9374, -5.3717, -5.5277, -5.4746, -5.3454, -5.4603, -5.4211, -5.4235, -5.584, -5.5279, -5.5988, -5.6968, -5.7184, -5.7607, -5.8217, -7.3448, -7.6519, -7.689, -7.2946, -7.8602, -8.1228, -7.9085, -7.2771, -7.6417, -7.8921, -7.9422, -8.7261, -7.6147, -7.6599, -9.7283, -5.8919, -9.9704, -7.6459, -9.0875, -8.4524, -7.9916, -8.1955, -6.1064, -7.0511, -7.8915, -7.9495, -8.1494, -6.8872, -8.0055, -5.9919, -7.4957, -4.2776, -6.561, -4.0852, -6.3473, -5.4901, -7.2378, -6.6422, -7.0616, -6.594, -4.0964, -4.7491, -5.3696, -6.8112, -5.2211, -6.8297, -4.6789, -5.1566, -6.6404, -6.6054, -6.558, -5.0413, -6.2334, -6.0945, -5.1829, -5.2443, -5.9881, -5.1494, -5.6331, -5.1967, -5.28, -5.5345, -5.5722, -5.335, -5.3894, -5.5936, -5.626, -5.6207, -5.4928, -5.5364, -5.7648, -5.6474, -5.7066, -5.7113, -5.7539, -6.6506, -7.1049, -7.4391, -7.5959, -7.9363, -7.9958, -7.9842, -7.7957, -8.3506, -7.593, -6.9637, -8.1867, -7.639, -8.7857, -7.9463, -7.6234, -8.0993, -8.4206, -6.6035, -8.4665, -8.6948, -7.8819, -7.0685, -8.4421, -8.0968, -8.2671, -8.5054, -8.2815, -7.4625, -8.3003, -7.326, -6.07, -7.6071, -6.7691, -7.7305, -7.6694, -6.8074, -7.1347, -6.2316, -7.1627, -6.5592, -7.1839, -7.531, -4.6233, -4.3637, -7.2503, -7.3201, -5.7085, -7.4349, -6.4164, -6.7444, -5.924, -6.9489, -5.1809, -6.002, -5.1905, -5.2715, -6.0143, -5.3094, -5.4066, -5.6501, -5.4292, -5.7285, -5.4256, -5.7447, -5.7923, -5.609, -5.6633, -5.6267, -5.9122, -5.7429, -5.6539, -5.5966, -5.6802, -5.7328, -5.8098, -5.7584, -5.8171, -5.8464, -5.8807, -5.8949, -5.9219, -8.0553, -8.1162, -8.3511, -8.3123, -8.3749, -8.4509, -8.1245, -8.4255, -8.5687, -8.3584, -8.7633, -8.3674, -8.7106, -9.0363, -9.2852, -9.1092, -9.2644, -8.932, -9.09, -8.8214, -6.9898, -9.4312, -7.6914, -9.535, -7.7291, -7.4272, -8.4682, -9.7094, -9.3335, -8.9587, -6.6611, -8.4994, -8.7992, -8.0101, -5.7015, -7.889, -6.941, -7.3827, -7.7066, -7.297, -5.6027, -8.3985, -6.5483, -6.4204, -6.8857, -7.6268, -4.6448, -4.711, -7.791, -6.1242, -4.8129, -4.9099, -6.8634, -6.3304, -6.0563, -5.2833, -5.7477, -5.8981, -5.3353, -5.8132, -5.9729, -5.8474, -5.5279, -5.6104, -5.558, -5.9713, -5.5823, -5.4852, -5.7006, -5.6256, -5.5908, -5.7633, -5.6412, -5.8214, -5.8696, -5.6735, -5.6487, -5.7706, -5.7732, -5.7429, -5.7657, -5.7252, -5.7273, -5.7609, -5.7969], \"loglift\": [30.0, 29.0, 28.0, 27.0, 26.0, 25.0, 24.0, 23.0, 22.0, 21.0, 20.0, 19.0, 18.0, 17.0, 16.0, 15.0, 14.0, 13.0, 12.0, 11.0, 10.0, 9.0, 8.0, 7.0, 6.0, 5.0, 4.0, 3.0, 2.0, 1.0, 2.0813, 2.08, 2.0797, 2.0785, 2.0766, 2.0746, 2.0728, 2.0727, 2.0703, 2.0686, 2.0647, 2.0647, 2.064, 2.0637, 2.061, 2.0596, 2.054, 2.0533, 2.0529, 2.0484, 2.0474, 2.0473, 2.0465, 2.046, 2.0443, 2.0439, 2.0429, 2.0406, 2.0398, 2.0382, 2.0295, 2.0362, 2.0203, 2.0022, 2.0097, 1.9724, 2.0231, 1.9819, 1.9016, 1.8922, 1.9707, 1.9658, 2.0079, 1.7779, 1.6595, 1.7186, 1.8095, 1.8573, 1.7152, 1.571, 1.6517, 1.4714, 1.5449, 1.4017, 1.82, 1.2512, 1.5771, 1.5006, 0.911, 0.7807, 1.1458, 0.7589, 0.6636, 1.2784, 1.0394, 0.5611, 0.7263, 0.4148, 1.2086, 0.9824, 0.3769, 0.5322, 0.8807, 0.3132, 0.7075, 0.3248, 0.5464, 0.293, 0.2445, 0.1129, 0.3063, 0.402, 0.1132, 0.2271, 0.1491, 0.2898, 0.2556, 0.1957, -0.1244, 0.2875, 0.2042, 0.3513, -0.2731, 2.2686, 2.2657, 2.2642, 2.2637, 2.2612, 2.2577, 2.2562, 2.2536, 2.2532, 2.2528, 2.2514, 2.251, 2.2499, 2.2469, 2.2444, 2.2444, 2.2444, 2.2431, 2.2423, 2.2415, 2.2394, 2.2367, 2.2348, 2.2339, 2.2329, 2.232, 2.2318, 2.2306, 2.2305, 2.2273, 2.2213, 2.2266, 2.2263, 2.2208, 2.1856, 2.1867, 2.0322, 2.2017, 2.1464, 2.1178, 2.2122, 2.1628, 2.1711, 1.9845, 1.9728, 2.1253, 2.0668, 1.8113, 1.9751, 2.1378, 1.9722, 1.9747, 1.8729, 1.9686, 1.9135, 2.0245, 1.9182, 1.6694, 2.114, 1.3564, 1.4522, 1.7519, 1.3711, 1.1719, 1.6601, 1.1354, 1.1773, 0.7587, 0.7933, 0.8286, 0.5806, 0.7387, 1.3311, 0.8012, 0.4372, 0.3999, 0.304, 0.6236, 0.9997, 0.1487, 0.1783, 0.3956, 0.4786, 0.2338, -0.1237, -0.088, -0.0894, -0.2134, -0.1029, -0.0715, -0.1602, 0.0178, 1.9972, 1.9924, 1.9895, 1.9867, 1.9827, 1.9775, 1.9758, 1.9749, 1.9745, 1.9735, 1.9732, 1.9724, 1.9722, 1.9688, 1.9671, 1.9663, 1.9607, 1.9601, 1.9576, 1.9573, 1.9566, 1.9557, 1.9524, 1.9492, 1.9453, 1.9416, 1.9366, 1.9264, 1.9211, 1.9183, 1.8713, 1.8619, 1.9043, 1.809, 1.7046, 1.8951, 1.8013, 1.7926, 1.6993, 1.3417, 1.5888, 1.8347, 1.656, 1.558, 1.4794, 1.5011, 1.7727, 1.3202, 1.3845, 1.6847, 0.9551, 1.071, 1.586, 1.3432, 1.3747, 1.3514, 1.3309, 1.0906, 0.8254, 1.2867, 1.0228, 0.7616, 0.8001, 0.6725, 0.6709, 0.7665, 0.5794, 0.5105, 0.8112, 0.358, 0.2664, 0.3239, 0.4296, 0.3075, 0.4623, 0.4312, 0.2631, 0.1089, 0.1513, 0.6048, 0.1523, -0.0084, -0.1087, 0.0198, -0.014, -0.1306, -0.2727, -0.2362, 1.6232, 1.618, 1.6161, 1.6152, 1.6151, 1.6136, 1.6097, 1.6089, 1.6082, 1.608, 1.6056, 1.6053, 1.6017, 1.6012, 1.6003, 1.5995, 1.5981, 1.5961, 1.5955, 1.5908, 1.5897, 1.5824, 1.5781, 1.5744, 1.5739, 1.5673, 1.5492, 1.5347, 1.5318, 1.5315, 1.5222, 1.4832, 1.5121, 1.3455, 1.4009, 1.3328, 1.2176, 1.1594, 1.0929, 1.0319, 1.0569, 1.3948, 1.4173, 0.8284, 0.8541, 1.0349, 1.0041, 0.7554, 0.9685, 0.9805, 1.0284, 1.003, 0.7203, 0.6487, 1.0299, 0.6488, 0.6797, 0.9466, 0.924, 1.0362, 0.9082, 0.824, 0.7278, 0.4819, 0.7088, 0.6824, 0.4095, 0.3399, 0.6966, 0.4478, 0.4491, 0.4435, 0.3059, 0.2367, 0.5977, 0.4834, 0.4783, 0.4089, 0.2079, 0.172, 0.2718, 0.1912, 0.2553, 0.4329, 0.2378, -0.0292, 0.0901, 3.121, 3.1116, 3.1022, 3.0924, 3.0811, 3.0701, 3.0565, 3.0558, 3.0545, 2.9785, 2.9708, 2.9683, 2.9569, 2.9484, 2.9304, 2.9222, 2.918, 2.9165, 2.8888, 2.8821, 2.8678, 2.8629, 2.8607, 2.8564, 2.8559, 2.8529, 2.8361, 2.8264, 2.8178, 2.7912, 2.7861, 2.7688, 2.7413, 2.7405, 2.7451, 2.714, 2.7623, 2.3028, 2.6685, 2.7428, 2.6903, 2.3693, 2.3169, 2.4817, 1.6737, 2.5587, 1.6741, 1.7494, 0.842, 0.8109, 0.8314, 0.6529, 1.1792, 0.8551, 0.4305, 0.6892, 0.5227, 0.388, 0.3255, 0.5579, 0.559, 0.1074, 0.1784, 0.3072, 0.0972, 0.1908, 0.5009, 0.1085, -0.0104, 0.1079, 2.9042, 2.9033, 2.8987, 2.8926, 2.8898, 2.876, 2.8724, 2.8635, 2.8604, 2.8417, 2.8239, 2.8238, 2.8185, 2.8119, 2.8022, 2.7951, 2.7934, 2.7916, 2.7892, 2.7839, 2.7515, 2.7449, 2.7378, 2.7155, 2.7145, 2.6897, 2.6864, 2.6821, 2.6683, 2.6508, 2.6473, 2.6406, 2.5946, 2.5852, 2.525, 2.5639, 2.5439, 2.5335, 2.4829, 2.5683, 2.2961, 2.2242, 2.3955, 2.4373, 1.4898, 1.9297, 1.634, 2.3921, 2.4227, 2.0185, 0.4494, 0.3627, 0.3551, 0.1456, 0.442, 0.3273, 0.7148, 0.0868, 0.6827, 0.5119, 0.4238, 0.3813, 0.2206, 0.0812, -0.0008, 0.0229, 0.6333, -0.0606, -0.0173, -0.01, -0.0719, -0.079, 0.1088, -0.186, -0.1022, -0.3007, 0.0007, 2.247, 2.2442, 2.2431, 2.2424, 2.2416, 2.2359, 2.2357, 2.2334, 2.2262, 2.2217, 2.2162, 2.2126, 2.2067, 2.2061, 2.2055, 2.2014, 2.2001, 2.1997, 2.1956, 2.1794, 2.1785, 2.1758, 2.1746, 2.1733, 2.1712, 2.165, 2.1632, 2.1612, 2.1512, 2.1504, 2.1312, 2.1484, 2.1286, 2.087, 2.0919, 2.0005, 2.0741, 2.076, 2.0223, 2.043, 1.9746, 2.0966, 1.8809, 1.8647, 1.9555, 2.0473, 1.8058, 1.8147, 1.525, 1.5288, 1.5832, 1.5833, 1.6589, 1.8585, 1.5584, 1.769, 1.3931, 1.6324, 1.5477, 1.1403, 1.6702, 1.3109, 1.3353, 1.5334, 1.4532, 0.9415, 1.4396, 1.5485, 0.6794, 0.7899, 1.2231, 0.4966, 1.3993, 0.5938, 0.7576, 0.5871, 0.3028, 0.4784, 0.3535, 0.2911, 0.4366, 0.067, 0.2798, 0.578, 0.08, -0.1786, 2.611, 2.6004, 2.595, 2.5948, 2.5928, 2.5913, 2.5844, 2.5647, 2.5427, 2.5343, 2.5317, 2.5145, 2.5106, 2.5069, 2.4944, 2.4585, 2.4328, 2.4313, 2.4234, 2.4194, 2.4155, 2.3991, 2.386, 2.3692, 2.3532, 2.3436, 2.3375, 2.3316, 2.3283, 2.3199, 2.2959, 2.2984, 2.1268, 2.2136, 1.8712, 2.111, 1.9145, 2.2133, 2.0945, 2.1751, 2.0508, 1.3375, 1.3937, 1.5144, 2.054, 1.267, 2.0245, 0.9516, 1.1899, 1.9224, 1.8683, 1.8263, 0.8006, 1.5908, 1.4839, 0.6422, 0.6881, 1.3181, 0.4328, 0.8567, 0.2382, 0.2592, 0.528, 0.5484, 0.145, 0.1195, 0.4412, 0.4777, 0.4284, 0.1511, 0.1118, 0.4649, -0.0524, 0.1472, -0.0092, -0.1236, 2.8589, 2.8536, 2.8477, 2.8443, 2.833, 2.8293, 2.8277, 2.8236, 2.8176, 2.8153, 2.8099, 2.7898, 2.7846, 2.7771, 2.7743, 2.7677, 2.7586, 2.7569, 2.7487, 2.7462, 2.7331, 2.7295, 2.7218, 2.7133, 2.7121, 2.7078, 2.6784, 2.6775, 2.672, 2.6594, 2.6561, 2.6421, 2.6135, 2.5247, 2.6245, 2.6108, 2.4642, 2.5179, 2.227, 2.4466, 2.2013, 2.3903, 2.5119, 1.2018, 1.0702, 2.3715, 2.4117, 1.3663, 2.4598, 1.719, 1.9545, 1.2833, 2.0543, 0.4629, 1.2034, 0.4044, 0.4431, 1.1792, 0.3927, 0.4353, 0.4792, 0.1529, 0.4986, 0.0544, 0.489, 0.493, 0.1496, 0.2152, 0.1479, 0.5866, 0.1958, -0.0057, -0.1617, -0.0497, 0.0127, 0.2179, -0.0647, -0.0501, 0.0861, -0.0823, -0.0866, -0.1934, 2.1403, 2.1368, 2.1338, 2.1321, 2.1311, 2.1311, 2.1283, 2.1277, 2.1237, 2.122, 2.1149, 2.1105, 2.1051, 2.1031, 2.0952, 2.0945, 2.0891, 2.0813, 2.081, 2.0755, 2.0753, 2.0741, 2.0711, 2.0683, 2.0672, 2.0626, 2.0623, 2.0516, 2.0498, 2.0483, 2.0248, 2.0416, 2.0438, 2.0051, 1.8678, 1.9911, 1.9259, 1.9412, 1.9651, 1.9125, 1.5942, 1.9959, 1.6537, 1.5954, 1.6539, 1.8303, 0.9991, 0.9194, 1.847, 1.1861, 0.6221, 0.5701, 1.4271, 1.0906, 0.8333, 0.3117, 0.5016, 0.6007, 0.2039, 0.5015, 0.6068, 0.4991, 0.2307, 0.2644, 0.1616, 0.5219, 0.1488, 0.0237, 0.237, 0.1491, 0.0255, 0.2383, 0.0609, 0.2992, 0.364, 0.0411, -0.0183, 0.1878, 0.1593, 0.0654, 0.0594, -0.0778, -0.1452, -0.1127, 0.0914]}, \"token.table\": {\"Topic\": [2, 3, 5, 1, 3, 4, 5, 6, 8, 9, 10, 5, 9, 1, 2, 3, 4, 5, 6, 7, 8, 9, 10, 2, 4, 7, 8, 3, 4, 5, 8, 1, 2, 3, 4, 5, 6, 7, 8, 9, 10, 1, 2, 3, 4, 5, 6, 7, 8, 9, 1, 2, 3, 4, 5, 7, 9, 10, 6, 1, 2, 3, 4, 5, 6, 7, 8, 9, 10, 2, 3, 5, 6, 7, 8, 5, 7, 3, 1, 2, 3, 4, 5, 6, 7, 8, 9, 10, 3, 1, 2, 3, 4, 5, 6, 7, 8, 9, 10, 1, 2, 3, 4, 5, 6, 7, 8, 9, 10, 1, 3, 1, 2, 3, 4, 5, 6, 7, 8, 9, 10, 1, 2, 2, 5, 6, 1, 2, 3, 4, 5, 6, 7, 8, 9, 10, 1, 2, 3, 4, 5, 6, 7, 8, 9, 10, 1, 2, 3, 4, 5, 6, 7, 8, 9, 10, 2, 3, 8, 10, 1, 2, 3, 4, 5, 6, 7, 8, 9, 10, 3, 4, 6, 7, 8, 9, 10, 1, 4, 6, 7, 1, 10, 1, 2, 3, 4, 5, 6, 7, 8, 9, 10, 1, 2, 3, 4, 5, 6, 7, 8, 9, 10, 1, 2, 10, 1, 2, 3, 4, 6, 7, 9, 10, 10, 1, 2, 3, 4, 7, 8, 9, 10, 2, 3, 6, 9, 2, 9, 1, 9, 3, 6, 1, 2, 3, 4, 5, 6, 7, 8, 9, 10, 1, 2, 3, 4, 5, 6, 7, 8, 9, 10, 1, 2, 3, 4, 5, 6, 7, 8, 9, 10, 1, 2, 3, 4, 5, 6, 7, 8, 9, 10, 1, 2, 3, 4, 5, 6, 7, 8, 9, 10, 1, 2, 3, 5, 6, 8, 9, 10, 1, 2, 3, 4, 5, 6, 7, 8, 9, 10, 1, 2, 3, 5, 6, 8, 10, 4, 2, 4, 5, 6, 10, 1, 2, 3, 4, 5, 6, 7, 8, 9, 10, 1, 6, 7, 10, 1, 2, 3, 4, 5, 6, 7, 8, 9, 10, 1, 3, 4, 5, 6, 7, 8, 10, 4, 1, 2, 3, 4, 5, 6, 7, 8, 9, 10, 4, 6, 8, 9, 10, 2, 3, 4, 7, 2, 3, 6, 8, 1, 3, 5, 9, 2, 3, 8, 9, 2, 5, 7, 9, 2, 3, 4, 5, 6, 8, 9, 10, 1, 2, 3, 4, 5, 6, 7, 8, 9, 10, 1, 2, 3, 4, 5, 6, 7, 8, 9, 10, 1, 6, 10, 3, 6, 1, 10, 1, 2, 3, 4, 5, 6, 7, 9, 10, 4, 10, 9, 10, 1, 2, 3, 4, 5, 6, 7, 8, 9, 10, 3, 4, 5, 6, 8, 9, 10, 1, 2, 3, 4, 5, 6, 7, 8, 9, 10, 7, 1, 2, 3, 4, 8, 10, 10, 1, 2, 3, 10, 1, 2, 4, 5, 6, 8, 9, 1, 2, 3, 4, 5, 6, 7, 8, 9, 10, 1, 1, 2, 3, 4, 5, 6, 7, 8, 9, 10, 7, 2, 2, 8, 3, 1, 2, 3, 4, 5, 6, 7, 8, 9, 10, 9, 1, 2, 3, 4, 5, 6, 7, 8, 9, 10, 4, 8, 1, 3, 6, 1, 2, 3, 4, 5, 6, 7, 8, 9, 10, 1, 2, 3, 4, 5, 6, 8, 9, 10, 1, 2, 3, 5, 6, 7, 8, 9, 10, 1, 2, 3, 4, 5, 6, 7, 8, 9, 10, 7, 1, 2, 3, 4, 5, 6, 7, 8, 9, 10, 3, 1, 5, 7, 2, 3, 2, 10, 7, 1, 2, 3, 4, 5, 6, 7, 8, 9, 10, 4, 8, 8, 2, 1, 2, 3, 4, 5, 6, 7, 8, 9, 10, 7, 3, 8, 9, 3, 5, 8, 9, 4, 7, 6, 2, 3, 9, 1, 2, 6, 7, 9, 1, 2, 3, 4, 5, 6, 7, 8, 9, 10, 10, 6, 8, 9, 1, 2, 3, 4, 5, 6, 7, 9, 10, 1, 2, 3, 4, 5, 6, 7, 8, 9, 10, 1, 2, 3, 4, 5, 6, 7, 8, 9, 10, 1, 2, 3, 4, 5, 6, 7, 8, 9, 10, 1, 2, 3, 5, 6, 9, 10, 1, 1, 3, 1, 6, 5, 5, 9, 10, 1, 1, 2, 5, 1, 3, 5, 8, 9, 10, 1, 2, 3, 4, 5, 6, 7, 8, 9, 10, 1, 2, 3, 4, 5, 6, 7, 8, 9, 10, 10, 1, 2, 3, 4, 5, 6, 7, 8, 9, 10, 1, 2, 3, 4, 5, 6, 7, 8, 9, 10, 1, 2, 3, 6, 7, 8, 9, 10, 1, 2, 3, 4, 5, 6, 7, 8, 9, 10, 1, 2, 3, 4, 6, 7, 8, 9, 10, 1, 2, 3, 4, 5, 6, 7, 8, 9, 10, 7, 2, 5, 6, 9, 1, 10, 4, 1, 2, 3, 4, 5, 6, 7, 8, 9, 10, 1, 2, 3, 4, 5, 6, 7, 8, 9, 10, 1, 2, 3, 4, 5, 6, 7, 8, 9, 10, 4, 1, 2, 3, 4, 6, 7, 9, 10, 1, 2, 3, 4, 5, 6, 7, 8, 9, 10, 1, 2, 3, 9, 10, 1, 2, 3, 4, 5, 6, 7, 8, 9, 10, 1, 5, 3, 5, 8, 10, 2, 3, 4, 5, 7, 8, 10, 1, 2, 3, 4, 5, 6, 7, 8, 9, 10, 1, 2, 4, 5, 6, 8, 9, 10, 2, 6, 2, 1, 2, 3, 4, 5, 6, 7, 8, 9, 10, 1, 2, 3, 5, 6, 9, 10, 1, 2, 3, 4, 5, 6, 7, 8, 9, 10, 1, 2, 3, 4, 5, 6, 7, 8, 9, 10, 1, 2, 3, 4, 5, 6, 7, 8, 9, 10, 1, 2, 3, 4, 5, 6, 7, 8, 9, 10, 3, 5, 5, 9, 10, 4, 1, 1, 2, 8, 1, 2, 3, 4, 5, 6, 7, 8, 9, 10, 1, 9, 10, 2, 3, 4, 5, 7, 8, 9, 6, 10, 1, 2, 3, 4, 5, 7, 8, 10, 1, 2, 3, 4, 5, 6, 9, 10, 4, 1, 2, 3, 4, 5, 6, 7, 8, 9, 10, 4, 5, 2, 4, 1, 2, 4, 6, 7, 10, 2, 9, 1, 2, 3, 4, 5, 6, 7, 8, 9, 10, 2, 10, 1, 2, 3, 4, 5, 6, 7, 8, 9, 10, 1, 2, 3, 4, 5, 6, 7, 8, 9, 10, 1, 2, 3, 4, 5, 6, 7, 8, 9, 10, 1, 2, 3, 4, 6, 9, 10, 1, 2, 3, 4, 5, 6, 7, 8, 9, 10, 1, 2, 3, 4, 5, 6, 8, 9, 10, 1, 2, 3, 4, 5, 6, 7, 8, 9, 10, 3, 1, 6, 8, 1, 2, 3, 4, 5, 6, 7, 8, 9, 10, 4, 8, 10, 1, 2, 3, 4, 8, 10, 2, 3, 10, 1, 2, 3, 4, 5, 6, 7, 8, 9, 10, 1, 2, 3, 4, 5, 6, 7, 8, 9, 10, 4, 10, 1, 2, 3, 4, 5, 6, 7, 8, 9, 10, 1, 2, 3, 4, 7, 9, 10, 8, 9, 1, 2, 3, 4, 5, 6, 7, 8, 9, 10, 3, 5, 8, 10, 2, 3, 4, 5, 7, 8, 9, 10, 4, 1, 2, 3, 4, 5, 6, 7, 8, 9, 10, 1, 2, 3, 4, 5, 6, 7, 8, 9, 10, 3, 1, 2, 3, 4, 5, 6, 7, 8, 9, 10, 1, 3, 4, 5, 6, 7, 8, 9, 10, 1, 2, 3, 4, 5, 6, 8, 9, 10, 3, 5, 7, 9, 4, 1, 4, 5, 8, 1, 2, 3, 4, 5, 6, 7, 8, 9, 10, 1, 2, 3, 4, 5, 6, 7, 8, 9, 10, 1, 2, 3, 4, 5, 6, 7, 8, 9, 10, 1, 3, 7, 8, 10, 1, 2, 5, 7, 3, 6, 3, 4, 5, 2, 3, 6, 9, 1, 3, 2, 5, 1, 2, 3, 6, 8, 10, 1, 2, 3, 4, 5, 6, 7, 8, 9, 10, 1, 2, 3, 4, 5, 6, 7, 8, 9, 10, 1, 2, 3, 4, 5, 6, 7, 8, 9, 10, 2, 3, 4, 5, 6, 10, 1, 4, 9, 1, 2, 3, 4, 5, 6, 7, 8, 9, 10, 1, 3, 1, 2, 3, 4, 5, 6, 7, 8, 9, 10, 3, 4, 6, 1, 9, 1, 2, 3, 4, 5, 7, 8, 9, 10, 2, 3, 5, 10, 2, 1, 2, 3, 4, 5, 6, 7, 8, 9, 10, 5, 9, 2, 3, 9, 2, 6, 1, 2, 3, 4, 5, 6, 7, 8, 9, 10, 1, 2, 3, 4, 5, 6, 7, 8, 9, 10, 1, 3, 10, 1, 2, 3, 4, 5, 6, 7, 8, 9, 10, 7, 1, 2, 3, 4, 5, 6, 7, 8, 9, 10, 7, 1, 6, 7, 9, 1, 1, 2, 3, 4, 5, 6, 7, 8, 9, 10, 2, 3, 7, 8, 1, 2, 3, 4, 5, 6, 7, 8, 9, 10, 1, 2, 3, 4, 6, 7, 8, 9, 10, 1, 2, 3, 4, 5, 6, 7, 8, 9, 10, 1, 2, 4, 6, 7, 10, 2, 3, 4, 7, 9, 10, 1, 4, 10, 1, 6, 9, 10, 3, 4, 5, 1, 2, 3, 4, 5, 6, 7, 8, 9, 10, 3, 7, 9, 1, 3, 1, 3, 4, 5, 6, 9, 10, 1, 2, 3, 4, 5, 6, 7, 8, 9, 10, 1, 2, 3, 4, 5, 6, 7, 8, 9, 10, 1, 2, 3, 4, 5, 6, 7, 8, 9, 10, 1, 2, 3, 4, 5, 6, 7, 8, 9, 10, 1, 2, 3, 4, 5, 6, 7, 8, 9, 10, 1, 2, 3, 4, 5, 6, 7, 8, 9, 10, 3, 1, 3, 5, 7, 9, 6, 1, 2, 3, 4, 5, 6, 7, 8, 9, 10, 2, 3, 5, 1, 2, 3, 4, 5, 6, 7, 8, 9, 10, 1, 2, 3, 4, 5, 6, 7, 8, 9, 10, 4, 7, 8, 10, 4, 10, 1, 2, 3, 4, 5, 6, 7, 8, 9, 10, 1, 2, 3, 4, 5, 6, 7, 8, 9, 10, 1, 3, 4, 7, 8, 9, 1, 2, 3, 4, 5, 6, 7, 8, 9, 10, 1, 2, 3, 4, 5, 6, 7, 8, 9, 10, 1, 2, 3, 4, 5, 6, 7, 8, 9, 10, 1, 1, 2, 3, 4, 5, 6, 7, 8, 9, 10, 1, 3, 4, 5, 8, 10, 1, 2, 3, 4, 5, 6, 7, 8, 9, 10, 1, 3, 1, 2, 3, 4, 5, 6, 7, 8, 9, 10, 1, 2, 3, 4, 5, 6, 7, 8, 9, 10, 4, 5, 6, 10, 5, 4, 6, 9, 1, 2, 3, 4, 5, 6, 7, 8, 9, 10, 2, 5, 6, 8, 1, 9, 3, 4, 6, 9, 1, 2, 3, 4, 5, 6, 7, 8, 9, 10, 1, 5, 6, 8, 1, 2, 3, 4, 5, 6, 7, 8, 9, 10, 1, 2, 3, 4, 5, 6, 7, 8, 9, 10, 3, 10, 4, 5, 6, 9, 1, 2, 3, 4, 5, 6, 7, 8, 9, 10, 1, 2, 3, 4, 5, 6, 7, 8, 9, 10, 1, 2, 3, 4, 5, 6, 7, 8, 9, 10, 2, 4, 5, 9, 4, 9, 3, 4, 8, 10, 1, 2, 3, 4, 5, 6, 7, 8, 9, 10, 1, 2, 3, 4, 5, 6, 7, 8, 9, 10, 1, 2, 3, 4, 5, 6, 7, 8, 9, 10, 2, 8, 9, 10, 1, 8, 9, 4, 7, 1, 3, 4, 5, 6, 7, 8, 9, 1, 2, 3, 4, 5, 6, 7, 8, 9, 10, 1, 2, 3, 7, 1, 2, 3, 4, 5, 6, 7, 8, 9, 10, 1, 2, 3, 4, 5, 6, 7, 8, 9, 10, 2, 3, 4, 5, 6, 7, 8, 9, 10, 5, 7, 1, 2, 3, 4, 5, 6, 7, 8, 9, 10, 3, 5, 1, 2, 3, 4, 2, 3, 4, 5, 6, 8, 9, 10, 7, 1, 2, 3, 5, 6, 7, 9, 10, 10, 1, 2, 3, 4, 5, 6, 7, 8, 9, 10, 2, 3, 4, 5, 6, 9, 1, 2, 3, 4, 5, 6, 9, 10, 1, 3, 5, 6, 3, 1, 2, 3, 4, 5, 6, 7, 8, 9, 10, 10, 1, 2, 3, 4, 6, 7, 8, 9, 10, 1, 2, 3, 4, 5, 6, 7, 8, 9, 10, 1, 2, 3, 4, 5, 6, 7, 8, 9, 10, 7, 1, 2, 3, 4, 5, 6, 7, 8, 9, 10, 1, 2, 3, 4, 5, 6, 7, 8, 9, 10, 1, 2, 5, 10, 3, 1, 1, 2, 3, 4, 5, 6, 7, 8, 9, 10, 2, 6, 1, 2, 1, 4, 9, 10, 2, 6, 9, 1, 2, 3, 4, 5, 6, 7, 8, 9, 10, 1, 2, 3, 4, 5, 6, 7, 8, 9, 10, 1, 2, 3, 4, 5, 6, 7, 8, 9, 10, 1, 2, 3, 4, 5, 6, 9, 10, 3, 7, 10, 1, 2, 3, 4, 5, 6, 7, 8, 9, 10, 1, 2, 3, 4, 5, 6, 7, 8, 9, 10, 2, 1, 1, 2, 3, 4, 5, 6, 7, 8, 9, 10, 9, 9, 10, 3, 4, 1, 2, 3, 4, 5, 6, 7, 8, 9, 10, 1, 3, 6, 8, 9, 10, 1, 2, 6, 7, 8, 10, 1, 2, 3, 4, 5, 6, 7, 8, 9, 10, 1, 2, 3, 4, 5, 6, 7, 8, 9, 10, 1, 2, 3, 4, 5, 6, 7, 8, 9, 10, 7, 1, 1, 7, 7, 7, 1, 2, 3, 4, 5, 6, 7, 8, 9, 10, 1, 2, 3, 5, 6, 7, 8, 2, 1, 2, 6, 10, 1, 2, 3, 4, 5, 6, 7, 8, 9, 10, 1, 2, 3, 4, 5, 6, 7, 8, 9, 10, 1, 2, 3, 4, 5, 6, 7, 8, 9, 10, 2, 3, 5, 6, 1, 2, 3, 4, 5, 6, 7, 8, 9, 10, 1, 2, 3, 4, 5, 6, 7, 8, 9, 10, 2, 2, 1, 3, 5, 8, 9, 10, 2, 5, 6, 8, 1, 2, 3, 4, 5, 6, 7, 8, 9, 10, 7, 1, 3, 7, 8, 10, 4, 3, 1, 2, 3, 4, 5, 6, 7, 8, 9, 10, 1, 2, 3, 4, 5, 6, 7, 8, 9, 10, 6, 3, 1, 2, 3, 1, 2, 5, 8, 1, 3, 6, 8, 2, 1, 2, 3, 4, 5, 6, 7, 8, 9, 10, 1, 2, 3, 4, 5, 6, 7, 8, 9, 10, 2, 6, 10, 1, 9, 10, 1, 4, 8, 3, 6, 10, 2, 3, 7, 9, 10, 1, 2, 3, 4, 5, 6, 7, 8, 9, 10, 1, 8, 1, 3, 4, 6, 8, 10, 1, 2, 7, 8, 9, 10, 2, 2, 1, 3, 4, 6, 9, 10, 2, 2, 7, 1, 1, 2, 4, 10, 2, 4, 8, 10, 3, 1, 2, 3, 4, 5, 6, 7, 8, 9, 10, 10, 10, 1, 2, 3, 4, 5, 6, 7, 8, 9, 10, 3, 10, 7, 1, 2, 3, 4, 5, 6, 7, 8, 9, 10, 1, 2, 3, 4, 5, 6, 7, 8, 9, 10, 5, 6, 1, 1, 2, 3, 4, 5, 6, 7, 8, 9, 10, 2, 6, 10, 1, 2, 3, 4, 5, 6, 7, 8, 9, 10, 1, 2, 3, 4, 5, 6, 7, 8, 9, 10, 1, 7, 4, 10, 1, 2, 3, 5, 6, 9, 10, 3, 4, 5, 9, 1, 2, 3, 4, 5, 6, 7, 8, 9, 10, 1, 2, 3, 4, 5, 6, 7, 8, 9, 10, 1, 2, 3, 4, 5, 6, 7, 8, 9, 10, 6, 7, 1, 2, 3, 4, 5, 6, 7, 8, 9, 10, 1, 2, 3, 4, 5, 6, 7, 8, 9, 10, 1, 2, 3, 4, 5, 6, 7, 8, 9, 10, 1, 2, 3, 4, 5, 6, 7, 8, 9, 10, 1, 2, 3, 4, 5, 6, 7, 9, 10, 1, 2, 1, 2, 6, 1, 2, 3, 4, 5, 6, 7, 9, 10, 2, 9, 1, 2, 3, 4, 5, 6, 7, 8, 9, 10, 1, 2, 3, 4, 5, 6, 7, 8, 9, 10, 1, 2, 3, 4, 5, 6, 7, 8, 9, 10, 1, 3, 5, 9, 4, 6, 8, 10, 1, 2, 3, 4, 5, 6, 7, 8, 9, 10, 3, 8, 1, 2, 3, 4, 5, 6, 7, 8, 9, 10, 1, 2, 3, 4, 5, 6, 7, 8, 9, 10, 6, 9, 1, 2, 3, 4, 5, 6, 7, 8, 9, 10, 1, 2, 3, 4, 5, 6, 7, 8, 9, 10, 1, 2, 3, 4, 5, 6, 7, 8, 9, 10, 1, 2, 5, 7, 10, 3, 5, 7, 9, 1, 2, 3, 4, 5, 6, 9, 2, 3, 8, 10, 1, 2, 3, 4, 5, 6, 7, 8, 9, 10, 1, 2, 3, 4, 5, 6, 7, 8, 9, 10, 3, 4, 1, 2, 3, 4, 5, 6, 7, 8, 9, 10, 7, 5, 1, 3, 5, 10, 1, 2, 3, 4, 5, 6, 7, 8, 9, 10, 3, 3, 6, 6, 4, 3, 5, 6, 9, 5, 8, 1, 2, 3, 4, 5, 6, 7, 8, 9, 10, 4, 5, 9, 3, 4, 6, 9, 3, 1, 2, 3, 4, 5, 6, 7, 8, 9, 10, 1, 2, 3, 6, 9, 2, 5, 10, 1, 2, 3, 4, 5, 6, 7, 8, 9, 10, 1, 2, 3, 4, 5, 6, 7, 8, 9, 10, 1, 6, 1, 2, 3, 4, 5, 6, 7, 8, 9, 10, 3, 4, 8, 1, 2, 6, 7, 10, 1, 2, 3, 4, 5, 10, 2, 3, 4, 5, 6, 7, 8, 9, 10, 10, 2, 4, 10, 2, 7, 3, 8, 9, 1, 3, 5, 6, 9, 10, 1, 2, 3, 4, 5, 6, 7, 8, 9, 10, 7, 9, 1, 2, 3, 4, 5, 6, 7, 8, 9, 10, 2, 3, 4, 6, 10, 1, 2, 3, 4, 5, 6, 7, 8, 9, 10, 5, 1, 2, 3, 4, 5, 6, 7, 8, 9, 10, 1, 1, 2, 3, 5, 6, 1, 3, 1, 2, 3, 4, 5, 6, 7, 8, 9, 10, 1, 2, 3, 4, 5, 6, 7, 8, 9, 10, 1, 2, 3, 4, 5, 6, 7, 8, 9, 10, 1, 1, 2, 3, 4, 5, 6, 7, 8, 9, 10, 2, 10, 1, 2, 3, 4, 5, 6, 7, 8, 9, 10, 1, 2, 3, 4, 5, 6, 7, 8, 9, 10, 4, 2, 4, 10, 8, 1, 2, 6, 10, 4, 3, 1, 3, 4, 6, 7, 9, 10, 4, 5, 10, 1, 1, 2, 3, 4, 5, 6, 7, 8, 9, 10, 7, 9, 1, 2, 3, 4, 5, 6, 7, 8, 9, 10, 1, 2, 3, 4, 5, 6, 7, 8, 9, 10, 1, 2, 3, 4, 5, 6, 7, 8, 9, 10, 1, 2, 3, 4, 5, 6, 7, 8, 9, 10, 1, 2, 3, 4, 5, 6, 7, 8, 9, 10, 1, 2, 3, 4, 5, 6, 7, 8, 9, 10, 1, 3, 10, 4, 10, 4, 4, 1, 2, 3, 4, 5, 6, 7, 8, 9, 10, 3, 6, 10, 1, 2, 4, 6, 9, 10, 1, 2, 3, 4, 5, 6, 8, 9, 10, 4, 1, 2, 3, 4, 5, 6, 7, 8, 9, 10, 1, 2, 3, 5, 6, 8, 10, 7, 10, 2, 1, 2, 3, 4, 5, 6, 7, 8, 9, 10, 3, 5, 6, 7, 9, 10, 1, 2, 3, 4, 5, 6, 7, 8, 9, 10, 2, 6, 8, 10, 1, 9, 1, 2, 3, 4, 5, 6, 7, 8, 9, 10, 1, 2, 3, 4, 5, 6, 7, 8, 9, 10, 2, 10, 3, 7, 1, 2, 3, 4, 5, 6, 7, 8, 9, 10, 2, 10, 9, 1, 2, 3, 4, 5, 6, 7, 8, 9, 10, 2, 2, 8, 2, 6, 1, 2, 3, 4, 5, 6, 7, 10, 1, 4, 5, 6, 2, 4, 1, 3, 4, 5, 6, 8, 9, 10, 1, 2, 3, 5, 7, 8, 9, 10, 1, 2, 3, 4, 5, 6, 7, 8, 9, 10, 2, 3, 5, 1, 3, 5, 10, 4, 1, 2, 3, 4, 5, 6, 7, 8, 9, 10, 1, 2, 3, 4, 5, 6, 7, 8, 9, 10, 1, 4, 7, 8, 9, 10, 1, 2, 6, 1, 2, 3, 4, 5, 6, 7, 8, 9, 10, 1, 2, 1, 2, 3, 4, 5, 6, 7, 8, 9, 10, 1, 3, 1, 2, 3, 4, 5, 6, 7, 8, 9, 10, 1, 2, 3, 4, 5, 6, 7, 8, 9, 10, 5, 9, 10, 1, 2, 3, 4, 5, 6, 7, 8, 9, 10, 1, 2, 3, 4, 5, 6, 7, 8, 9, 10, 7, 1, 6, 10, 1, 2, 3, 4, 5, 6, 7, 8, 9, 10, 1, 8, 1, 2, 3, 4, 5, 6, 7, 8, 9, 10, 1, 2, 3, 4, 5, 6, 7, 8, 9, 10, 1, 2, 3, 4, 5, 6, 7, 8, 9, 10, 2, 6, 1, 2, 3, 4, 5, 6, 7, 8, 9, 10, 8, 1, 2, 3, 4, 5, 6, 7, 8, 9, 10, 1, 2, 3, 4, 5, 6, 7, 8, 9, 10, 2, 4, 8, 10, 1, 2, 3], \"Freq\": [0.01873216893906032, 0.9553406158920763, 0.01873216893906032, 0.12388866437836686, 0.023229124570943786, 0.15486083047295857, 0.007743041523647929, 0.015486083047295858, 0.6426724464627781, 0.015486083047295858, 0.015486083047295858, 0.82672998966965, 0.15747237898469524, 0.012772313173745655, 0.023415907485200366, 0.058539768713000914, 0.6588384878790466, 0.00851487544916377, 0.0627972064375828, 0.03618822065894602, 0.06173284700643733, 0.04151001781467338, 0.03618822065894602, 0.20467998212477082, 0.022742220236085645, 0.01516148015739043, 0.7504932677908264, 0.9082433375145744, 0.0189217361982203, 0.0378434723964406, 0.0378434723964406, 0.09910213488109945, 0.39259691895204785, 0.05260036389842971, 0.05717430858524968, 0.003049296457879983, 0.024394371663039864, 0.26071484714873855, 0.007623241144699958, 0.024394371663039864, 0.07851938379040957, 0.8141429946819458, 0.09794201439782807, 0.024485503599457017, 0.006121375899864254, 0.012242751799728509, 0.024485503599457017, 0.006121375899864254, 0.006121375899864254, 0.006121375899864254, 0.0014615133035889645, 0.002923026607177929, 0.06138355875073651, 0.002923026607177929, 0.1768431097342647, 0.002923026607177929, 0.002923026607177929, 0.7468332981339609, 0.8786124050540215, 0.08436350082079037, 0.3831508995610896, 0.04042417747662872, 0.04569689627792812, 0.014060583470131728, 0.04393932334416165, 0.07557563615195804, 0.1511512723039161, 0.021090875205197594, 0.13884826176755083, 0.021247054747622535, 0.04249410949524507, 0.7648939709144112, 0.021247054747622535, 0.1381058558595465, 0.021247054747622535, 0.026809981611452687, 0.9705213343345873, 0.9442598157392764, 0.11147760238634756, 0.07224514146068017, 0.28945901048815564, 0.13731361323983582, 0.0688960289426354, 0.0344480144713177, 0.07415892004242004, 0.02679290014435821, 0.042581573443712155, 0.1420980596941855, 0.9853449448785394, 0.07381515145053417, 0.04234357525069402, 0.1087199905085387, 0.08926483431227389, 0.01659410381446117, 0.01888294571990409, 0.5098395344374105, 0.07667620383233782, 0.024032840007150662, 0.03891031239252964, 0.21487280687006666, 0.0621738445804591, 0.1830397984448716, 0.14250245177841225, 0.06391471222871196, 0.029346054641976697, 0.1134050925147574, 0.025118233210505478, 0.05222602944758565, 0.11315639713643556, 0.0336082051783893, 0.9410297449949003, 0.10551210837995041, 0.01637719748391088, 0.12376865639480189, 0.40057014173762345, 0.022283727724009883, 0.052621814866336596, 0.05315877216089105, 0.04403049815346531, 0.03141200173143562, 0.1503480424752474, 0.02208378400200911, 0.9496027120863917, 0.9686022542487155, 0.7464535848312908, 0.22393607544938723, 0.26768246880311075, 0.06035364074649577, 0.3070843275288023, 0.025955192652638077, 0.10069363896565615, 0.024704339994679615, 0.09944278630769769, 0.01907550303386654, 0.030020463791003076, 0.06504433821384, 0.16444923726972785, 0.09125903431240809, 0.12510950318016847, 0.13654547239224968, 0.027675045493236537, 0.05283417775981521, 0.13997626315587405, 0.05352033591254008, 0.0885144017015086, 0.12030639611109437, 0.005282102679260733, 0.1901556964533864, 0.158463080377822, 0.005282102679260733, 0.026410513396303667, 0.021128410717042932, 0.021128410717042932, 0.554620781322377, 0.005282102679260733, 0.0158463080377822, 0.11500279204838759, 0.02300055840967752, 0.7360178691096806, 0.09200223363871007, 0.14796610624896867, 0.051073113596784056, 0.22413800709902945, 0.205459839840777, 0.03151940724830102, 0.0595366581356797, 0.06070404358932048, 0.050197574506553475, 0.03035202179466024, 0.13921071534666282, 0.0586836235413991, 0.01173672470827982, 0.02347344941655964, 0.01173672470827982, 0.01173672470827982, 0.7042034824967892, 0.1760508706241973, 0.9626669693239556, 0.9709617939673086, 0.9150492367041441, 0.039784749421919306, 0.026790851201037393, 0.9644706432373462, 0.05739883621817862, 0.12386064657606966, 0.01107696839298184, 0.12184665232280023, 0.03423790230558023, 0.06041982759808276, 0.0050349856331735636, 0.01107696839298184, 0.006041982759808276, 0.567946379421978, 0.08327738419510215, 0.02671161379842899, 0.031425427998151755, 0.10370391239390078, 0.014141442599168288, 0.08484865559500973, 0.5358035473684875, 0.012570171199260701, 0.09270501259454768, 0.015712713999075877, 0.11413533337038614, 0.8388947002723381, 0.03994736667963515, 0.07953866225881774, 0.025117472292258233, 0.8205040948804356, 0.018838104219193675, 0.023024349601236713, 0.006279368073064558, 0.018838104219193675, 0.006279368073064558, 0.9840667084390714, 0.14803050981455895, 0.0036105002393794867, 0.007221000478758973, 0.032494502154415385, 0.010831500718138461, 0.4729755313587128, 0.021663001436276922, 0.2996715198684974, 0.07282839680094423, 0.1716669353165114, 0.707475854637744, 0.041616226743396705, 0.05392996847166342, 0.9168094640182781, 0.27872584227681785, 0.713210243473034, 0.19061010910810142, 0.7624404364324057, 0.1407041699623928, 0.1330293970553532, 0.6600304700054062, 0.010233030542719476, 0.010233030542719476, 0.005116515271359738, 0.005116515271359738, 0.010233030542719476, 0.0076747729070396065, 0.01790780344975908, 0.13436263535558832, 0.06890391556696836, 0.5041469822316519, 0.03674875496904979, 0.03215516059791857, 0.04019395074739821, 0.06431032119583714, 0.019522776077307704, 0.018374377484524897, 0.08153630008757923, 0.0836757653034481, 0.0176159505901996, 0.6561941594849351, 0.0396358888279491, 0.0044039876475499, 0.061655827065698596, 0.0220199382377495, 0.044039876475499, 0.026423925885299397, 0.044039876475499, 0.15027813889668515, 0.024590968183093934, 0.05737892576055251, 0.10109620253049728, 0.43990509749756923, 0.01366164899060774, 0.0792375641455249, 0.024590968183093934, 0.019126308586850837, 0.08743455353988953, 0.10598499488558798, 0.05048891488644152, 0.514903479089825, 0.060920508871243485, 0.02837393563866135, 0.03463289202954253, 0.11433027007342955, 0.016690550375683146, 0.02169771548838809, 0.05215796992400983, 0.3004146652451349, 0.09196367303422497, 0.02452364614245999, 0.07357093842737997, 0.018392734606844992, 0.006130911535614998, 0.4414256305642798, 0.04904729228491998, 0.19015911086687642, 0.09219835678394009, 0.1152479459799251, 0.016134712437189516, 0.03457438379397753, 0.017287191896988765, 0.4471620304021094, 0.02420206865578427, 0.014982232977390264, 0.04725165785176929, 0.7250306161716383, 0.03589260476097219, 0.11246349491771288, 0.016749882221787023, 0.002392840317398146, 0.002392840317398146, 0.10289213364812029, 0.9895369371691211, 0.8952684538672323, 0.011477800690605541, 0.05738900345302771, 0.011477800690605541, 0.011477800690605541, 0.06133271507199043, 0.007999919357216143, 0.08355471328647972, 0.49066172057592344, 0.021333118285909714, 0.029333037643125857, 0.03377743728602371, 0.099554552000912, 0.026666397857387142, 0.1457763082870497, 0.03392603088903452, 0.8481507722258631, 0.10177809266710357, 0.8981939011224717, 0.16395907048286817, 0.05241814149266417, 0.1255597342731258, 0.2532527650023484, 0.023771017653650032, 0.08289380515118985, 0.06399889368290393, 0.0536371680390052, 0.034132743297548764, 0.14658794219750854, 0.13697744530666278, 0.054790978122665104, 0.027395489061332552, 0.10958195624533021, 0.6027007593493162, 0.013697744530666276, 0.013697744530666276, 0.04109323359199883, 0.9537068692757837, 0.06387396228142671, 0.02070639436595701, 0.08879182668791735, 0.11335873525769685, 0.0863351358309394, 0.08142175411698349, 0.08387844497396145, 0.2951538586740652, 0.06843638815867148, 0.09826763427911801, 0.07466194513229289, 0.024887315044097632, 0.8337250539772706, 0.012443657522048816, 0.05288554446870747, 0.05954127035207821, 0.014885317588019552, 0.9080043728691927, 0.014885317588019552, 0.27018892608021705, 0.08887793621059772, 0.03555117448423909, 0.6043699662320645, 0.9751412315408309, 0.32837570841707586, 0.643069095650107, 0.027364642368089654, 0.04485341059214763, 0.059804547456196844, 0.20931591609668895, 0.6578500220181653, 0.03917420979185087, 0.03917420979185087, 0.03917420979185087, 0.90100682521257, 0.010941823515763019, 0.15865644097856377, 0.054709117578815095, 0.021883647031526038, 0.6674512344615441, 0.0027354558789407547, 0.0054709117578815095, 0.07932822048928188, 0.17890389164146034, 0.049753110074102526, 0.17558701763652015, 0.23591266360136948, 0.04768006382101492, 0.05016771932472005, 0.078775757617329, 0.030681084545696558, 0.03420526317594549, 0.11837094105130226, 0.6452103515659585, 0.050968142673073924, 0.05328487643094092, 0.061393444583475405, 0.050968142673073924, 0.03475100636800495, 0.016217136305068974, 0.0057918343946674914, 0.0695020127360099, 0.011583668789334983, 0.9164725378056756, 0.05312884277134351, 0.013282210692835878, 0.9534616511794392, 0.9663024118265148, 0.9634967423207741, 0.9595469487795523, 0.12024568512046986, 0.05110441617619969, 0.06012284256023493, 0.012024568512046988, 0.18938695406474004, 0.05711670043222319, 0.012024568512046988, 0.01803685276807048, 0.48098274048187944, 0.04576113299329308, 0.9152226598658616, 0.8936994530109466, 0.05585621581318416, 0.15337602908095327, 0.11823897514604398, 0.1522605670512736, 0.15058737400675412, 0.018962854504554223, 0.10039158267116942, 0.1372018296505982, 0.026771088712311843, 0.04350301915750675, 0.09927612064148976, 0.11380626000762986, 0.011380626000762986, 0.05690313000381493, 0.0796643820053409, 0.022761252001525973, 0.6031731780404382, 0.10242563400686687, 0.03538197604924008, 0.04043654405627438, 0.14152790419696032, 0.022745556031654336, 0.06065481608441156, 0.0025272840035171487, 0.6141300128546671, 0.007581852010551445, 0.027800124038688635, 0.04801839606682582, 0.9754120372552484, 0.013521503872005385, 0.06760751936002693, 0.05408601548802154, 0.12169353484804847, 0.7301612090882909, 0.013521503872005385, 0.8699026077719868, 0.04756891632303304, 0.017838343621137388, 0.9216477537587651, 0.00594611454037913, 0.014373347919696505, 0.9342676147802729, 0.019164463892928675, 0.004791115973232169, 0.009582231946464338, 0.004791115973232169, 0.014373347919696505, 0.038989086828439205, 0.39855510980182296, 0.04332120758715467, 0.25017997381581825, 0.020577573603898468, 0.016245452845183, 0.020577573603898468, 0.08880847555366707, 0.081227264225915, 0.042238177397475804, 0.9339758205962786, 0.018647576056050576, 0.024011947250256904, 0.2636205272581396, 0.17293710945131835, 0.020691146034795844, 0.008685172409667392, 0.04112684582224853, 0.1392182048020214, 0.18877477678659418, 0.12235875247737295, 0.9365933260684711, 0.9278540399513258, 0.05075935952945937, 0.9136684715302686, 0.9498269348302135, 0.07846067576180306, 0.18850300717615578, 0.09129072337065136, 0.16925793576288334, 0.051813653804964284, 0.044411703261397956, 0.12682008597976974, 0.061682921196386055, 0.09277111347936462, 0.09474496695764897, 0.9617247673841949, 0.1763646532944825, 0.059537112258646954, 0.016850126110937818, 0.2684786760342759, 0.017973467851667008, 0.016850126110937818, 0.011233417407291878, 0.27409538473792183, 0.05279706181427183, 0.10559412362854366, 0.0572147436717815, 0.915435898748504, 0.8791147516328178, 0.07711532909059805, 0.01542306581811961, 0.49842074619348226, 0.038883888000909965, 0.07069797818347266, 0.24155142546019825, 0.020031093818650588, 0.03652728872812754, 0.02474429236421543, 0.01178299636391211, 0.028279191273389064, 0.030635790546171486, 0.14477710422545648, 0.7274166700108301, 0.0017655744417738595, 0.07768527543804982, 0.007062297767095438, 0.0017655744417738595, 0.010593446650643157, 0.0017655744417738595, 0.024718042184834033, 0.06743365347491297, 0.011238942245818829, 0.044955768983275315, 0.011238942245818829, 0.05619471122909414, 0.10115048021236946, 0.011238942245818829, 0.651858650257492, 0.044955768983275315, 0.06480648100056763, 0.09500040964855937, 0.03313967778438118, 0.3129858457413778, 0.04124048790945213, 0.022829555807018145, 0.01399230839784983, 0.3328696524120065, 0.021356681238823425, 0.06259716914827555, 0.9312075715770219, 0.00603539240005155, 0.0362123544003093, 0.0362123544003093, 0.01810617720015465, 0.7785656196066499, 0.00603539240005155, 0.0241415696002062, 0.0603539240005155, 0.03017696200025775, 0.00603539240005155, 0.9891007172474725, 0.08670002088825299, 0.8236501984384034, 0.043350010444126494, 0.926945690847398, 0.028967052838981187, 0.9174492254818616, 0.9627784525552686, 0.9770742612795575, 0.0077128385370698075, 0.03085135414827923, 0.034707773416814136, 0.05013345049095375, 0.053989869759488655, 0.06170270829655846, 0.03856419268534904, 0.10797973951897731, 0.0077128385370698075, 0.601601405891445, 0.9041360195004957, 0.08749703414520926, 0.9171277236991392, 0.9652486985937627, 0.021370841550745433, 0.032056262326118155, 0.03917987617636663, 0.053427103876863585, 0.003561806925124239, 0.010685420775372717, 0.7907211373775811, 0.010685420775372717, 0.021370841550745433, 0.017809034625621195, 0.9931727391951153, 0.9679927233356133, 0.9796415116672291, 0.014843053207079229, 0.9839793119125554, 0.017381900139041406, 0.08690950069520703, 0.8864769070911117, 0.9608977842303759, 0.9741757451692924, 0.8776337402437928, 0.025374722107303148, 0.025374722107303148, 0.9134899958629132, 0.07000721418048257, 0.8663392754834718, 0.026252705317680963, 0.035003607090241286, 0.9736696154459614, 0.4285425833472813, 0.04720447462356662, 0.07682296850502018, 0.09903683891611036, 0.052757942226339165, 0.026841760080067292, 0.08885548164436069, 0.012032513139340511, 0.034246383550430685, 0.13420880040033648, 0.9080066028204359, 0.057011670555424325, 0.11402334111084865, 0.817167277961082, 0.05868680471717614, 0.004001373048898373, 0.8749669066924443, 0.0026675820325989153, 0.0026675820325989153, 0.009336537114096204, 0.02267444727709078, 0.010670328130395661, 0.013337910162994578, 0.38587817308000716, 0.27435839415918667, 0.041449829333402306, 0.04737123352388835, 0.023685616761944174, 0.03355462374608758, 0.05329263771437439, 0.007895205587314725, 0.05033193561913137, 0.08092585726997592, 0.0213329122848684, 0.07512895195975393, 0.05472355760031459, 0.04637589627145304, 0.012985250956006852, 0.027825537762871826, 0.686363264817505, 0.03431816324087525, 0.015767804732294034, 0.024115466061155583, 0.046887366740346624, 0.02895984416315527, 0.033096964757891735, 0.01516944218070038, 0.01516944218070038, 0.041371205947364674, 0.6757296971402896, 0.041371205947364674, 0.0634358491192925, 0.03861312555087369, 0.05325255918300878, 0.06390307101961054, 0.010650511836601756, 0.010650511836601756, 0.7774873640719282, 0.06390307101961054, 0.021301023673203513, 0.9731236516988077, 0.14038492282860413, 0.8423095369716248, 0.9635158115776578, 0.9624302915249011, 0.9362913499403986, 0.8350786520430381, 0.08350786520430381, 0.041753932602151905, 0.9402905414941686, 0.09239672924872533, 0.09239672924872533, 0.7391738339898026, 0.04041027767198554, 0.026940185114657025, 0.013470092557328513, 0.013470092557328513, 0.8620859236690248, 0.026940185114657025, 0.08511500034063875, 0.018332461611829883, 0.03470073090810657, 0.6213395024866629, 0.02160611547108522, 0.022915577014787355, 0.014404076980723482, 0.05106900020438325, 0.01767773083997882, 0.11261369275838358, 0.06384620166094834, 0.02265510381517522, 0.05629450038922327, 0.3020680508690029, 0.0758602718659655, 0.01887925317931268, 0.11808114715788295, 0.12666262587575236, 0.05972709187637103, 0.15549639436779353, 0.9274401149866958, 0.14459353155582375, 0.06230074993080509, 0.3928666693397784, 0.07392402417162693, 0.03393996078319979, 0.04463337308475588, 0.1506376341610511, 0.019992031694213572, 0.017667376846049205, 0.059511164113007844, 0.0805385975170456, 0.06495996369075575, 0.2883516940300063, 0.11169586516962529, 0.02939364872884876, 0.03674206091106095, 0.18958903430107452, 0.0734841218221219, 0.04320866363140768, 0.08230221644077652, 0.10680348814848634, 0.005340174407424317, 0.037381220851970216, 0.05340174407424317, 0.08010261611136475, 0.5713986615944019, 0.005340174407424317, 0.13350436018560793, 0.02624479978130454, 0.09841799917989204, 0.022964199808641474, 0.1115403990705443, 0.01312239989065227, 0.4920899958994602, 0.13450459887918578, 0.019683599835978408, 0.04920899958994602, 0.029525399753967608, 0.009997121773872566, 0.019994243547745132, 0.8097668636836779, 0.009997121773872566, 0.06997985241710797, 0.009997121773872566, 0.009997121773872566, 0.039988487095490265, 0.009997121773872566, 0.0951635655051498, 0.050486775804837375, 0.11800282122638577, 0.2646548842785324, 0.05188918624386063, 0.05329159668288389, 0.08755048026473783, 0.1129942125155884, 0.06611363498252514, 0.09977148551908338, 0.9411471683745737, 0.02198260289941897, 0.10991301449709484, 0.08793041159767588, 0.7693911014796639, 0.04073325662731386, 0.936864902428219, 0.9680337621698755, 0.1607949753133784, 0.12466127299576528, 0.16802171577690103, 0.029509190226050717, 0.23125569483272398, 0.027702505110170063, 0.08491420044639084, 0.02348690650644853, 0.03914484417741422, 0.11020779206872003, 0.17880306288892428, 0.05070534619238151, 0.05604275105473746, 0.029355726742957715, 0.002668702431177974, 0.05604275105473746, 0.5497527008226627, 0.002668702431177974, 0.03736183403649164, 0.03869618525208063, 0.079610645949232, 0.06127102070438275, 0.20757121299852113, 0.15005147927603937, 0.07585935896733102, 0.020423673568127583, 0.09003088756562364, 0.08544598125441132, 0.03918010847763251, 0.19048201674763887, 0.9796147468729611, 0.7482661833863359, 0.02226982688649809, 0.02672379226379771, 0.03563172301839695, 0.017815861509198474, 0.11580309980979007, 0.013361896131898855, 0.013361896131898855, 0.10318521289047229, 0.01092549312957942, 0.05826929669109024, 0.5450607127979066, 0.012139436810643799, 0.04491591619938206, 0.00242788736212876, 0.05341352196683272, 0.018209155215965698, 0.1517429601330475, 0.9089383142703261, 0.0051644222401723075, 0.0051644222401723075, 0.04131537792137846, 0.03615095568120615, 0.16968415872246456, 0.07623837553868477, 0.18617459104901393, 0.12164681237990768, 0.04827633811540541, 0.048037346342556866, 0.08532006290692935, 0.053295165345224785, 0.0659617293061975, 0.14530699789191331, 0.22630478138067167, 0.7354905394871829, 0.06960634656433863, 0.8004729854898942, 0.034803173282169315, 0.06960634656433863, 0.8458892675872728, 0.03172084753452273, 0.03172084753452273, 0.01057361584484091, 0.01057361584484091, 0.02114723168968182, 0.03172084753452273, 0.025560079926318584, 0.015975049953949116, 0.028755089917108408, 0.7380473078724491, 0.009585029972369468, 0.017572554949344028, 0.01118253496776438, 0.035145109898688055, 0.07188772479277102, 0.04632764486645243, 0.026438405315433542, 0.7270561461744224, 0.1806624363221292, 0.004406400885905591, 0.004406400885905591, 0.035251207087244725, 0.008812801771811181, 0.013219202657716771, 0.7230182766394475, 0.2691527891139549, 0.9603729370771539, 0.1927491804143936, 0.023845259432708484, 0.4007328321330176, 0.14174681996110045, 0.014572102986655185, 0.036430257466637965, 0.03775499410178843, 0.012584998033929479, 0.047028150547841735, 0.092731564460533, 0.2723986341621749, 0.052278525748296195, 0.01375750677586742, 0.04952702439312271, 0.002751501355173484, 0.005503002710346968, 0.602578796782993, 0.04592015019266605, 0.09406224313659013, 0.08887771005032138, 0.23996981713586774, 0.050364035695182115, 0.052585978446440154, 0.0340697888526232, 0.07554605354277318, 0.052585978446440154, 0.2651518349834588, 0.25370880970534176, 0.06074717978860296, 0.13181740973736067, 0.15603687357464682, 0.027395786963487608, 0.08893704753364093, 0.08099623971813727, 0.0206461003203095, 0.050027089237673024, 0.12983220778348475, 0.4401580315396797, 0.037863056476531584, 0.08992475913176252, 0.08676950442538489, 0.022086782944643425, 0.0883471317785737, 0.11358916942959477, 0.023664410297832242, 0.042595938536098034, 0.05679458471479738, 0.07996015558065016, 0.12710084431849614, 0.09786168294945242, 0.09249122473881174, 0.0035803054737604547, 0.03580305473760455, 0.4218793283247736, 0.058478322738087424, 0.03818992505344485, 0.04535053600096576, 0.07015388160864529, 0.9260312372341178, 0.12321717378794395, 0.02464343475758879, 0.8378767817580188, 0.9426096258930563, 0.9687638079087971, 0.01387242511122726, 0.02774485022245452, 0.9294524824522264, 0.009401017961993788, 0.06267345307995859, 0.05536155022063008, 0.005222787756663215, 0.6726950630582221, 0.029247611437314004, 0.016712920821322287, 0.002089115102665286, 0.028203053885981363, 0.11803500330058866, 0.1435555755288904, 0.023925929254815067, 0.8254445592911198, 0.9455276147345064, 0.07596324089949469, 0.01085189155707067, 0.06511134934242402, 0.01085189155707067, 0.2170378311414134, 0.6185578187530282, 0.08129829405623365, 0.9078309502946091, 0.04174367115921462, 0.0573975478439201, 0.7357322041811577, 0.12001305458274203, 0.010435917789803654, 0.005217958894901827, 0.010435917789803654, 0.01565387668470548, 0.00950989273053081, 0.02852967819159243, 0.01901978546106162, 0.00950989273053081, 0.7703013111729956, 0.00950989273053081, 0.01901978546106162, 0.14264839095796214, 0.9666519506516983, 0.1424023740486202, 0.08746221199881994, 0.10609134740651083, 0.300592150985114, 0.023681104331810452, 0.041047247508471454, 0.07546378580403598, 0.06283386349373707, 0.043573231970531236, 0.11714252942802238, 0.944161741432888, 0.03147205804776294, 0.9489662762542567, 0.027910772831007548, 0.12548626917407618, 0.06756952955527179, 0.038611159745869594, 0.038611159745869594, 0.009652789936467399, 0.7239592452350548, 0.06927534815275804, 0.9005795259858544, 0.2381095567904986, 0.09423161609826414, 0.1925602589834093, 0.03229421114365062, 0.08338654519181429, 0.019521127631609705, 0.20653835037394466, 0.014219092966234229, 0.0539843529565503, 0.0653114270143979, 0.960496189896691, 0.98448391073152, 0.12846168804937594, 0.08656447981763878, 0.08587196397909767, 0.23026151631491915, 0.030124438976538295, 0.06267268338797048, 0.08829576941399156, 0.07548422640098101, 0.09175834860669711, 0.12049775590615318, 0.0689988673663447, 0.04691922980911439, 0.08555859553426742, 0.03863936572515303, 0.02483959225188409, 0.022079637557230303, 0.637549534465025, 0.03035950164119167, 0.016559728167922727, 0.028979524293864776, 0.02090194856093983, 0.06592153007681023, 0.5161173452355142, 0.016078421969953714, 0.10772542719868988, 0.03698037053089354, 0.04341173931887503, 0.024117632954930572, 0.04019605492488428, 0.1286273757596297, 0.019838221486914526, 0.019838221486914526, 0.02975733223037179, 0.8034479702200383, 0.019838221486914526, 0.05951466446074358, 0.049595553717286314, 0.023310856038740446, 0.023310856038740446, 0.029138570048425558, 0.011655428019370223, 0.0058277140096851116, 0.0058277140096851116, 0.8799848154624518, 0.0058277140096851116, 0.0058277140096851116, 0.011655428019370223, 0.16731795819223555, 0.09781665248161463, 0.3629512631554648, 0.023167101903540304, 0.0025741224337267007, 0.007722367301180102, 0.007722367301180102, 0.3166170593483842, 0.015444734602360203, 0.13203180502203693, 0.0398586581198602, 0.21722968675323812, 0.22520141837721014, 0.051318022329320014, 0.02989399358989515, 0.050321555876323504, 0.03736749198736894, 0.022918728418919617, 0.1943109583343185, 0.960133959745102, 0.10535141764825337, 0.8779284804021114, 0.9771501257625669, 0.13284480379827393, 0.06436279253792342, 0.13490441315948748, 0.15086638570889246, 0.031409042758506624, 0.1091592961443181, 0.07672044870520471, 0.09680163997703681, 0.07517574168429454, 0.12718087805493666, 0.03957066888020555, 0.8309840464843166, 0.11871200664061665, 0.08405244371969062, 0.021013110929922654, 0.021013110929922654, 0.021013110929922654, 0.7564719934772155, 0.06303933278976796, 0.1858842941389781, 0.008449286097226278, 0.8026821792364964, 0.12552701830875682, 0.06099052866979144, 0.12269024953341767, 0.2840314736308311, 0.0716284115773132, 0.04361531992083923, 0.06382729744513058, 0.06772785451122189, 0.06950083499580885, 0.09042200471393498, 0.03195675140569774, 0.03299318658642307, 0.10243434369502032, 0.24684431220941658, 0.027983749879583967, 0.025392661927770635, 0.01744665887554309, 0.27897380281190187, 0.16565688971926557, 0.07030485309253502, 0.957274508890295, 0.9002974259652053, 0.08116187606666811, 0.03679618733592466, 0.07737712536925871, 0.15496451466615127, 0.03322170056614912, 0.03301143663851527, 0.05046334263212525, 0.18965806272573738, 0.054037829401900786, 0.28932316442418476, 0.11196383553473523, 0.050190684894881314, 0.00772164382998174, 0.01158246574497261, 0.741277807678247, 0.01158246574497261, 0.0656339725548448, 0.9708254731132467, 0.9728048960267343, 0.04557491366284468, 0.04132125505431251, 0.07899651701559744, 0.44420349183385943, 0.03159860680623898, 0.06076655155045957, 0.03645993093027574, 0.09661881696523071, 0.029167944744220593, 0.13611707547302943, 0.7235195243765795, 0.020285594141399424, 0.04733305299659866, 0.19609407670019444, 0.028786425274367967, 0.047977375457279946, 0.0863592758231039, 0.00959547509145599, 0.057572850548735933, 0.6716832564019193, 0.06716832564019193, 0.028786425274367967, 0.9516924475383092, 0.15467339942211678, 0.15666918522111184, 0.15101445879062583, 0.10743980217923381, 0.09945665898325358, 0.07816827712730633, 0.10145244478224864, 0.054218847539365664, 0.04157887081239698, 0.05554937140536237, 0.14665741703749754, 0.3280989650390169, 0.05640669886057598, 0.1005919463013605, 0.046065470736137044, 0.03196379602099305, 0.0723885968710725, 0.05828692215592851, 0.04324513579310825, 0.11563373266418076, 0.9567259472392248, 0.11652947502860779, 0.11723714390529974, 0.11110401364063617, 0.255704354111358, 0.04010123634587717, 0.07595645943160265, 0.05189571762407634, 0.0693515499158111, 0.057557068637611945, 0.10449910412484463, 0.0461333579378366, 0.14678795707493464, 0.016775766522849674, 0.020969708153562094, 0.5284366454697648, 0.012581824892137255, 0.03774547467641177, 0.07968489098353596, 0.10484854076781046, 0.09628847131892265, 0.11554616558270718, 0.048144235659461326, 0.009628847131892266, 0.01925769426378453, 0.6740192992324585, 0.028886541395676795, 0.009628847131892266, 0.009628847131892266, 0.0678021398877252, 0.6915818268547971, 0.2034064196631756, 0.02712085595509008, 0.9837805510016134, 0.020843855931465392, 0.9379735169159426, 0.020843855931465392, 0.020843855931465392, 0.4105784569702231, 0.07874107393949484, 0.06889843969705799, 0.1251420639395543, 0.04499489939399705, 0.028121812121248157, 0.011248724848499262, 0.012654815454561671, 0.02671572151518575, 0.19404050363661227, 0.12251925060360046, 0.1371316382902684, 0.13544559355719132, 0.219466822755532, 0.04468018542654237, 0.039903058682824004, 0.09217044540821319, 0.054515446369491946, 0.04720925252615797, 0.10678283309488112, 0.1633704363637215, 0.12765256529560748, 0.13914440207404416, 0.09907826844111627, 0.06118626609059531, 0.037892002350520954, 0.16212807563091752, 0.06118626609059531, 0.05994390535779135, 0.08851820221228256, 0.7577930788286311, 0.06589505033292445, 0.008236881291615556, 0.05765816904130889, 0.09884257549938667, 0.05755805974444218, 0.05755805974444218, 0.8633708961666328, 0.02877902987222109, 0.021743915255075238, 0.9567322712233105, 0.03559403527707815, 0.9468013383702788, 0.01423761411083126, 0.032694348905086455, 0.032694348905086455, 0.8827474204373343, 0.06538869781017291, 0.9776971798294896, 0.9391520030417563, 0.030630798026661982, 0.9495547388265214, 0.015084235346873559, 0.09050541208124135, 0.030168470693747118, 0.7542117673436779, 0.030168470693747118, 0.09050541208124135, 0.15766581714785183, 0.6185815967793115, 0.022351092852377463, 0.08819620422830025, 0.007853086677862352, 0.015102089765119907, 0.008457170268467148, 0.02416334362419185, 0.01993475848995828, 0.03745318261749737, 0.11049143502818799, 0.2254025274575035, 0.09786384245353794, 0.08397349062142287, 0.02020414811944009, 0.018941388861975085, 0.3882984716704892, 0.021466907376905094, 0.013258972203382558, 0.019572768490707586, 0.030210743784120225, 0.03776342973015028, 0.026434400811105197, 0.06797417351427051, 0.015105371892060113, 0.03398708675713526, 0.6721890491966751, 0.030210743784120225, 0.0793032024333156, 0.007552685946030056, 0.005524715309974654, 0.42540307886804835, 0.02762357654987327, 0.011049430619949308, 0.4033042176281497, 0.12154373681944237, 0.9729834881700539, 0.030859772506006404, 0.9566529476861986, 0.042805676547434834, 0.019619268417574297, 0.740181490299394, 0.07847707367029719, 0.014268558849144944, 0.014268558849144944, 0.019619268417574297, 0.01783569856143118, 0.010701419136858709, 0.041022106691291714, 0.06269907657706134, 0.8986867642712124, 0.22194517707903672, 0.0269223439652086, 0.04136847975141809, 0.560772725519223, 0.037428624536997315, 0.019042633536367058, 0.011162923107525516, 0.04202512228715488, 0.00656642535736795, 0.03283212678683975, 0.05876362142854925, 0.03917574761903283, 0.8912482583329969, 0.024987940382441433, 0.9495417345327744, 0.021420605990200646, 0.017136484792160518, 0.0042841211980401295, 0.1285236359412039, 0.017136484792160518, 0.0042841211980401295, 0.5697881193393372, 0.06426181797060194, 0.17136484792160517, 0.14625704795318642, 0.027423196491222452, 0.5576049953215232, 0.25594983391807624, 0.9450748898719573, 0.08751319350740419, 0.11600586116097765, 0.09565395569413947, 0.167903220101415, 0.03663342984030873, 0.03663342984030873, 0.047826977847069733, 0.08751319350740419, 0.20453664994172374, 0.11804105170766147, 0.091843731430913, 0.8572081600218547, 0.02369027747169994, 0.1895222197735995, 0.781779156566098, 0.1769152659493536, 0.7784271701771559, 0.3050724521909979, 0.1808210892125451, 0.13805706997605866, 0.08788511039939344, 0.029631761360715027, 0.0538759297467546, 0.05050868413758244, 0.05118213325941687, 0.03434590521355606, 0.06936525954894654, 0.13235405965881603, 0.08657746759636838, 0.10449004709906529, 0.017912579502696906, 0.050752308590974564, 0.012936862974169988, 0.49757165285269184, 0.004975716528526918, 0.013932006279875371, 0.07861632115072531, 0.8218512603991279, 0.07631475989420473, 0.09392585833132891, 0.12967381291525856, 0.0747356708023055, 0.24647923218243803, 0.09898764344676227, 0.040584933813172526, 0.07622048545400695, 0.1366029479565319, 0.04157481024764015, 0.057907771416355926, 0.09700789057782702, 0.9553387169531335, 0.06182733298979615, 0.04370552849278693, 0.04157355149313879, 0.5308622729123876, 0.033045643494546216, 0.0373095974938425, 0.017055815997185145, 0.058629367490323936, 0.06502529848926836, 0.11086280398170344, 0.8824410113057783, 0.08363709810490758, 0.7527338829441682, 0.006969758175408965, 0.14636492168358825, 0.9797011771651382, 0.20879030553435937, 0.0771831461217063, 0.26321431882530616, 0.08246062619840418, 0.026387400383489336, 0.06069102088202548, 0.11808361671611478, 0.026387400383489336, 0.060031335872438245, 0.0768533036169127, 0.0387683328220403, 0.01938416641102015, 0.0387683328220403, 0.8916716549069269, 0.1612711037689233, 0.02959656960553274, 0.30260982392595726, 0.16187511539352603, 0.03624069747616254, 0.03201261610394358, 0.05798511596186007, 0.02416046498410836, 0.025972499857916487, 0.16851924326415582, 0.009346633127889869, 0.018693266255779738, 0.04673316563944934, 0.028039899383669603, 0.018693266255779738, 0.8131570821264186, 0.018693266255779738, 0.04673316563944934, 0.009346633127889869, 0.6834838983343814, 0.15052919189507208, 0.026444317495080232, 0.004068356537704651, 0.01423924788196628, 0.004068356537704651, 0.05899116979671744, 0.004068356537704651, 0.01830760441967093, 0.03661520883934186, 0.011567345620086702, 0.20821222116156066, 0.011567345620086702, 0.011567345620086702, 0.011567345620086702, 0.7287427740654623, 0.06511256859973999, 0.010852094766623332, 0.037982331683181665, 0.8084810601134382, 0.032556284299869995, 0.04340837906649333, 0.9417511535052361, 0.9718016764580446, 0.9389069646113969, 0.8862688681801688, 0.08149598787863621, 0.010186998484829526, 0.020373996969659053, 0.01891023972990098, 0.96442222622495, 0.8254004577071249, 0.09337581360461171, 0.041500361602049646, 0.09648834072476543, 0.2737294684001858, 0.030087762161485992, 0.061731787883048846, 0.046860824975647725, 0.09285705908458608, 0.04824417036238272, 0.2149372894639488, 0.012918936412765111, 0.9172444853063229, 0.051675745651060444, 0.9728056136788512, 0.9572494129586301, 0.1683809056286042, 0.01603627672653373, 0.008018138363266866, 0.04009069181633433, 0.04009069181633433, 0.6655054841511499, 0.05612696854286806, 0.25264768397650744, 0.04469920562661285, 0.06219019913267875, 0.013604106060273477, 0.007773774891584844, 0.017490993506065897, 0.5558249047483164, 0.005830331168688633, 0.017490993506065897, 0.02332132467475453, 0.11975324522179742, 0.051322819380770324, 0.07383282788110819, 0.5195309961877979, 0.017107606460256775, 0.01620720612024326, 0.10444643944156767, 0.006302802380094601, 0.04592041734068924, 0.045020017000675726, 0.10730271090996076, 0.017378074003412666, 0.34976821962424226, 0.2223290102658827, 0.0380662573408087, 0.03475614800682533, 0.04523816089777266, 0.03751457245181147, 0.05489264645522414, 0.09268306135153423, 0.10751749307223066, 0.09238372829105533, 0.13281572673628494, 0.21322796945417175, 0.044723663084667374, 0.05466225488126013, 0.07544294681959042, 0.07250654469786984, 0.08402627609846598, 0.12265125785340598, 0.05399864170924255, 0.16642204330061636, 0.3470076647544767, 0.019474919960710425, 0.23104336862479188, 0.03186805084479888, 0.017704472691554934, 0.012393130884088452, 0.020360143595288174, 0.10003027070728537, 0.02085581506919407, 0.02780775342559209, 0.15641861301895552, 0.3912948160601173, 0.017379845890995057, 0.037739093934732126, 0.04171163013838814, 0.17230875783357957, 0.06852624951306623, 0.06554684736032422, 0.968252713497624, 0.1905604739588897, 0.05197103835242446, 0.675623498581518, 0.017323679450808156, 0.03464735890161631, 0.9586482341200946, 0.11091250458587511, 0.21178551522216668, 0.12047392739500228, 0.14485555555827653, 0.0262939127250997, 0.06310539054023928, 0.11664935827135141, 0.064061532821152, 0.054978181152481195, 0.08653087642260084, 0.8328960978103642, 0.10411201222629553, 0.03904200458486082, 0.07072820334635523, 0.08487384401562627, 0.07921558774791784, 0.03960779387395892, 0.02263302507083367, 0.05941169081093838, 0.4851954749559968, 0.05233887047630286, 0.01980389693697946, 0.08628840808255336, 0.02534217096270601, 0.019710577415438007, 0.05350013869904602, 0.008447390320902002, 0.014078983868170004, 0.005631593547268002, 0.8447390320902003, 0.002815796773634001, 0.011263187094536003, 0.014078983868170004, 0.9082959484636935, 0.022707398711592337, 0.022707398711592337, 0.022707398711592337, 0.0535776252081463, 0.9108196285384871, 0.5751537883763448, 0.08168850907374173, 0.04501203561206177, 0.0350093610316036, 0.033342248601527236, 0.0033342248601527236, 0.011669787010534532, 0.0016671124300763618, 0.13837033169633803, 0.07168583449328356, 0.048104312815332284, 0.04430660390885868, 0.06456105141005122, 0.11772897610068164, 0.018988544532368007, 0.027849865314139743, 0.4924362548727437, 0.08101779000477016, 0.02025444750119254, 0.08481549891124376, 0.6811392161998095, 0.014044107550511538, 0.10533080662883654, 0.12288594106697596, 0.07373156464018557, 0.9803587954723357, 0.07928433805864223, 0.0301079764779654, 0.28903657418846784, 0.22480622436880834, 0.02207918275050796, 0.01103959137525398, 0.01304678980711834, 0.08831673100203184, 0.18466225573152115, 0.05720515530813427, 0.3275042889287336, 0.03365332292250145, 0.18386205694244695, 0.03365332292250145, 0.01313300406731764, 0.01887869334676911, 0.3554119225717836, 0.013953816821524993, 0.00656650203365882, 0.01313300406731764, 0.14071405704248277, 0.008066410913263345, 0.03226564365305338, 0.5314868523961293, 0.01613282182652669, 0.026888036377544482, 0.0035850715170059307, 0.06811635882311269, 0.006273875154760379, 0.1658095576615243, 0.9483576311133088, 0.0840304915227165, 0.06945872998698531, 0.10855962344119732, 0.24723422072290574, 0.05245834152863226, 0.03788657999290108, 0.14911769304898245, 0.051486890759583515, 0.06581578960305251, 0.1338173434364647, 0.03804258227697406, 0.06086813164315849, 0.030434065821579245, 0.6999835138963226, 0.030434065821579245, 0.1369532961971066, 0.1374062733370771, 0.08175289447150119, 0.12071025967740434, 0.23144129279960196, 0.03166485349248285, 0.03953308981485738, 0.08367197650134864, 0.09499456047744857, 0.03761400778500994, 0.14143634559975676, 0.9630396541547498, 0.028324695710433816, 0.10320522675006329, 0.11210920709712757, 0.11777537640889575, 0.17119925849128145, 0.02266467724707272, 0.03197338397354902, 0.2234089614354311, 0.04006791156178927, 0.09308706726476296, 0.0849925396765227, 0.09551649639999833, 0.05535231593498136, 0.10969208950529843, 0.18293265388268232, 0.07560316322826723, 0.06176508424452189, 0.10969208950529843, 0.11812994254416755, 0.05906497127208377, 0.13264304977102243, 0.05503948335327024, 0.04127961251495268, 0.7017534127541956, 0.2063980625747634, 0.6802001470019905, 0.8566064223809076, 0.0521412604927509, 0.08193626648860855, 0.05923236621844186, 0.013461901413282242, 0.039039514098518496, 0.5452070072379308, 0.035000943674533824, 0.024231422543908032, 0.06192474650109831, 0.06596331692508298, 0.016154281695938688, 0.13865758455680707, 0.01980855727077448, 0.03961711454154896, 0.01980855727077448, 0.9310021917264005, 0.11190202052903073, 0.8579154907225689, 0.279207925982314, 0.019255719033263032, 0.6835780256808377, 0.019255719033263032, 0.05065160758368991, 0.05480763692389011, 0.08727661614420415, 0.3049486528371895, 0.041300541568239466, 0.036365256726751734, 0.07169150611845342, 0.16312415160285776, 0.08779611981172918, 0.10208247066866735, 0.9160629810282986, 0.022901574525707465, 0.022901574525707465, 0.022901574525707465, 0.11799740882326015, 0.16331200308618515, 0.1345978047413614, 0.1094728811896406, 0.02018967071120421, 0.07402879260774876, 0.10229433160343467, 0.1314571892973963, 0.05383912189654456, 0.09287248527153937, 0.13365059230450504, 0.051614423115039026, 0.24029761225081084, 0.23585398641971475, 0.034523554533900276, 0.057083501061003426, 0.06152712689209951, 0.037599910878505255, 0.037599910878505255, 0.11040701103415633, 0.14734947806077583, 0.8398920249464222, 0.02071300060523866, 0.16570400484190928, 0.02071300060523866, 0.7663810223938304, 0.10775298331056063, 0.15030760353103564, 0.08549964980077093, 0.17373216512028797, 0.05778058525348903, 0.051143626136534205, 0.052705263575817694, 0.05192444485617595, 0.07886269068381611, 0.19051976759258546, 0.04109009724531951, 0.019287188502905075, 0.04696011113750801, 0.48301828598579666, 0.03018864287411229, 0.04863725796384758, 0.04192867065848929, 0.14423462706520318, 0.01677146826339572, 0.12746315880180745, 0.06494947856126608, 0.07848061992819651, 0.20702646291403562, 0.1596674681297791, 0.24897300115151996, 0.009471798956851303, 0.050065223057642605, 0.009471798956851303, 0.03247473928063304, 0.13937075607938346, 0.05224653366608099, 0.8881910723233768, 0.017415511222026996, 0.03483102244405399, 0.04410578105061387, 0.9262214020628914, 0.9716872481896826, 0.005349812487462265, 0.1979430620361038, 0.7917722481444152, 0.017348105685640304, 0.01156540379042687, 0.03276864407287613, 0.5021312812343666, 0.028913509476067172, 0.03180486042367389, 0.03469621137128061, 0.19082916254204335, 0.059754586250538824, 0.09059566302501047, 0.032143354725572434, 0.02337698525496177, 0.03652653946087777, 0.5493591534916016, 0.056981401558969316, 0.0409097241961831, 0.0409097241961831, 0.10811855680419818, 0.04529290893148843, 0.06720883260801509, 0.02006232429009254, 0.03273326594699309, 0.04329238399441022, 0.5480182266609489, 0.044348295799151935, 0.03590100136121823, 0.022174147899575967, 0.16788997695393232, 0.0337891777517348, 0.05173967843234392, 0.9068823054618373, 0.0394296654548625, 0.01971483272743125, 0.01971483272743125, 0.08807679772652126, 0.04403839886326063, 0.836729578401952, 0.9363313817895917, 0.9007973565939236, 0.02133748420896841, 0.017781236840807006, 0.0035562473681614013, 0.02133748420896841, 0.007112494736322803, 0.3840747157614313, 0.010668742104484204, 0.5263246104878874, 0.17442086598643583, 0.05757251240567901, 0.15398092075365036, 0.18532217011058805, 0.050418531574204103, 0.038154564434532835, 0.10219972616392724, 0.0657484904987932, 0.06506715899103367, 0.10696904671824384, 0.9440896962171798, 0.018331838761498638, 0.027497758142247957, 0.009165919380749319, 0.10511551084437219, 0.0601260722029809, 0.08388217765380901, 0.3727396014541438, 0.04288712842450385, 0.03573927368708655, 0.08030825028510036, 0.06475115468013327, 0.0412052802509939, 0.11331452069023322, 0.0967503271154801, 0.3264500833284227, 0.11386262987059903, 0.12373511222932149, 0.015137806283374437, 0.027642950604422886, 0.11057180241769154, 0.08358701730385015, 0.04146442590663433, 0.06055122513349775, 0.02566503452318744, 0.05133006904637488, 0.01283251726159372, 0.02566503452318744, 0.01283251726159372, 0.8469461392651856, 0.01283251726159372, 0.01283251726159372, 0.01283251726159372, 0.8742847581802577, 0.9803375215011643, 0.13669917111140573, 0.5362813635908994, 0.036052528644766345, 0.010515320854723518, 0.07060286859600076, 0.010515320854723518, 0.018026264322383172, 0.02854158517710669, 0.036052528644766345, 0.1156685294019587, 0.05977091338532464, 0.9364109763700861, 0.03015287017695119, 0.8593568000431089, 0.04522930526542679, 0.06030574035390238, 0.012704384800115492, 0.08893069360080845, 0.1905657720017324, 0.05081753920046197, 0.012704384800115492, 0.012704384800115492, 0.6352192400057746, 0.012704384800115492, 0.9695510232662748, 0.12656183977385133, 0.6858835187744201, 0.04082639992704881, 0.057156959897868335, 0.004082639992704882, 0.016330559970819527, 0.008165279985409763, 0.057156959897868335, 0.9247903530113191, 0.09223645246227706, 0.06990552186614682, 0.02330184062204894, 0.214571115728034, 0.02524366067388635, 0.23657840964885798, 0.18835654502822893, 0.022007293920823998, 0.060843694957572234, 0.06666915511308447, 0.02632727217577449, 0.16454545109859056, 0.006581818043943623, 0.5199636254715462, 0.19087272327436505, 0.0855636345712671, 0.02000757703654635, 0.04924942039765256, 0.041554198460519345, 0.00615617754970657, 0.7264289508653753, 0.11235024028214491, 0.023085665811399637, 0.021546621423972994, 0.9426346606592821, 0.2873618610169251, 0.627938881481429, 0.06385819133709447, 0.953303307099351, 0.021736185581414533, 0.017047988691305516, 0.056045262822666884, 0.31560089064779334, 0.021096886005490575, 0.04965226706342731, 0.03004708006842597, 0.08523994345652758, 0.09014124020527792, 0.31346989206138015, 0.9712359605687836, 0.03203751754055622, 0.1006893408417481, 0.04576788220079459, 0.009153576440158918, 0.7139789623323957, 0.013730364660238378, 0.03203751754055622, 0.04576788220079459, 0.004576788220079459, 0.06687395334615942, 0.06879561867219848, 0.12567691232295478, 0.26634281418901423, 0.02229131778205314, 0.04804163315097659, 0.0422766371728594, 0.10107959614965475, 0.09262426871508286, 0.1660318841697751, 0.14576877525116833, 0.09290757103920619, 0.10011591706811011, 0.3544103464211098, 0.04925703119751018, 0.02482874743289131, 0.06607650526495268, 0.07008114194767709, 0.043650539841696014, 0.0524607405436897, 0.9523562935919686, 0.07899299657589336, 0.08083004300789087, 0.206667723599721, 0.034291533397287036, 0.007960534538655918, 0.0367409286399504, 0.4828370372100148, 0.038271800666614994, 0.015614894671978918, 0.017758115509309357, 0.056702488655217764, 0.03780165910347851, 0.01386060833794212, 0.29233283040023383, 0.06552287577936275, 0.07560331820695702, 0.012600553034492836, 0.0768633735104063, 0.02646116137243496, 0.34399509784165444, 0.8817987841743254, 0.08817987841743254, 0.014696646402905423, 0.014696646402905423, 0.9207047298839962, 0.9671974427285964, 0.0969523776976809, 0.09267191952118285, 0.13355029510673927, 0.18298958704529178, 0.06677514755336963, 0.044302742126754856, 0.14168316564208558, 0.08197077407993772, 0.056502047929774306, 0.10315904205360309, 0.09367492066779895, 0.8430742860101905, 0.9312823680678086, 0.03326008457385031, 0.043372318808829635, 0.043372318808829635, 0.8240740573677632, 0.043372318808829635, 0.06345175110003035, 0.7931468887503793, 0.1269035022000607, 0.18321789254739887, 0.052734301176004104, 0.15752682274370455, 0.3093069588207933, 0.015549858039078133, 0.06050923019554317, 0.05341038196031185, 0.03988876627415695, 0.01791614078415524, 0.10918704666570081, 0.1374589929165771, 0.03218103513097123, 0.13722912837992732, 0.3728402784459667, 0.043904126500110746, 0.04919101084305602, 0.050110468989655196, 0.018848892005283148, 0.02252672459167986, 0.13562007662337874, 0.007893430260506044, 0.05525401182354231, 0.07893430260506044, 0.14997517494961482, 0.027627005911771155, 0.10656130851683158, 0.04736058156303626, 0.5012328215421338, 0.011840145390759066, 0.01973357565126511, 0.059922841151721216, 0.6591512526689334, 0.0029961420575860607, 0.0059922841151721215, 0.04494213086379091, 0.008988426172758182, 0.014980710287930304, 0.20074151785826608, 0.014320067628384588, 0.9308043958449983, 0.042960202885153766, 0.11260934884136067, 0.1069272257346865, 0.0867815165382963, 0.23193393408151808, 0.04390731491520944, 0.10537755579650265, 0.0495894380218836, 0.05423844783643519, 0.058370901004925486, 0.14980142735777338, 0.20181041550618273, 0.0844226837774868, 0.06914619814156062, 0.02010063899463971, 0.02010063899463971, 0.02331674123378207, 0.5097522049040631, 0.016080511195711772, 0.018492587875068536, 0.03618115019035149, 0.9710598921997352, 0.953946793245021, 0.1361343785162669, 0.09519886609529153, 0.09710284341719737, 0.07457244510797836, 0.09742017297084833, 0.052994035459712284, 0.2684608023887221, 0.05870596742542978, 0.030780966704144264, 0.08821761591497015, 0.951294076870645, 0.8140067311722258, 0.10853423082296343, 0.10279891366709376, 0.890923918448146, 0.03657249940537649, 0.018071117353244855, 0.04087514639424431, 0.3855171702025569, 0.02065270554656555, 0.014198735063263815, 0.00946582337550921, 0.24051796667771128, 0.04388699928645179, 0.19017699690795775, 0.0891403583312677, 0.02971345277708923, 0.02971345277708923, 0.8022632249814092, 0.02971345277708923, 0.02971345277708923, 0.036560667433863686, 0.058497067894181895, 0.014624266973545474, 0.8335832174920921, 0.036560667433863686, 0.007312133486772737, 0.05374553703064236, 0.048027926708233595, 0.06289371354649638, 0.1532319566405548, 0.010291698580335771, 0.09605585341646719, 0.4413995168899564, 0.03773622812789783, 0.04459736051478834, 0.052602014966160605, 0.11346171308945723, 0.029247908263060087, 0.11094034168746929, 0.5466333199509851, 0.023700891178686623, 0.035803473908228724, 0.01966669693550592, 0.04286331383379495, 0.023196616898289033, 0.05446162228293947, 0.5929359482104837, 0.21373272551773248, 0.03792032226927512, 0.04826222834271379, 0.01034190607343867, 0.024131114171356896, 0.01034190607343867, 0.003447302024479556, 0.01034190607343867, 0.044814926318234236, 0.8620899976515954, 0.9797735775093398, 0.04746317064832949, 0.9492634129665899, 0.8617100682451644, 0.9177101552291498, 0.6400193586351011, 0.1636139713804018, 0.01443652688650604, 0.009624351257670694, 0.05774610754602416, 0.026466965958594407, 0.012030439072088367, 0.02165479032975906, 0.016842614700923714, 0.0360913172162651, 0.9270710406728193, 0.004544465885651075, 0.004544465885651075, 0.0545335906278129, 0.004544465885651075, 0.004544465885651075, 0.004544465885651075, 0.9479927370417346, 0.2272300166186652, 0.06059467109831072, 0.6362440465322626, 0.06816900498559957, 0.1386029902667617, 0.08667459721915952, 0.16303988111269213, 0.18136754924713996, 0.04581917033611957, 0.048491955272393215, 0.08782007647756251, 0.07025606118205001, 0.09354747276957746, 0.08438363870235355, 0.1498269375452406, 0.05661518934381743, 0.0694396244990468, 0.18579791420015224, 0.05442565163438803, 0.02283375039833521, 0.2305270416927815, 0.06224542916806447, 0.07069078890443503, 0.09727803251893492, 0.5909292382069925, 0.11171796543216773, 0.0367493307342657, 0.0734986614685314, 0.008819839376223769, 0.0470391433398601, 0.029399464587412563, 0.007349866146853141, 0.010289812605594396, 0.08231850084475517, 0.017557876136237913, 0.006584203551089217, 0.9634884529760555, 0.010973672585148695, 0.12720634555558652, 0.21579647906751281, 0.05808657105727037, 0.3144462980698044, 0.03602016417517883, 0.0428347898299424, 0.04218577786282206, 0.03894071802722036, 0.03926522401078053, 0.08534507367632461, 0.12473818298056576, 0.7347858591198951, 0.00389806821814268, 0.02143937519978474, 0.00389806821814268, 0.0194903410907134, 0.0097451705453567, 0.023388409308856082, 0.0097451705453567, 0.0487258527267835, 0.9369965708647525, 0.9687939942357822, 0.05374268172418857, 0.08061402258628285, 0.08061402258628285, 0.7523975441386399, 0.026871340862094285, 0.94111734743396, 0.18127747297056715, 0.08157486283675522, 0.6888543972881552, 0.03625549459411343, 0.1665140273216385, 0.027980940340703673, 0.13771011814738474, 0.03785656634330497, 0.014539116059385241, 0.03237010745297091, 0.48116244468229646, 0.05349297418075702, 0.023043127339403023, 0.025237710895536645, 0.9345336193493795, 0.024554046731828642, 0.024554046731828642, 0.1227702336591432, 0.8102835421503451, 0.9626171859814514, 0.9661726513601133, 0.9878723422302829, 0.04281182236056998, 0.08562364472113997, 0.6391193480970805, 0.015289936557346421, 0.030579873114692843, 0.058101758917916406, 0.04586980967203926, 0.0061159746229385685, 0.03669584773763141, 0.03669584773763141, 0.06279781553027936, 0.13683313489229293, 0.3741427746330328, 0.012559563106055872, 0.060814726618796854, 0.03437354113236344, 0.06015369698163602, 0.027102215123594252, 0.052221341335705995, 0.1791390316705864, 0.9333932762571532, 0.9576744682840016, 0.010269515560152072, 0.1848512800827373, 0.7907526981317095, 0.012819491332987881, 0.9358228673081153, 0.025638982665975762, 0.9781122932681405, 0.06603143276469345, 0.033015716382346724, 0.8914243423233615, 0.8878130349776675, 0.9367584313913786, 0.08993547113276007, 0.017987094226552015, 0.020984943264310683, 0.02997849037758669, 0.026980641339828023, 0.002997849037758669, 0.002997849037758669, 0.7284773161753566, 0.0389720374908627, 0.0389720374908627, 0.05008662536854553, 0.03137957252005262, 0.01448287962463967, 0.04163827892083905, 0.012069066353866393, 0.011465613036173073, 0.774230606600529, 0.02715539929619938, 0.010258706400786433, 0.02715539929619938, 0.04467511973465392, 0.8041521552237706, 0.04467511973465392, 0.04334506624072523, 0.8235562585737795, 0.08669013248145047, 0.05627964386142028, 0.018759881287140096, 0.9004743017827245, 0.07529631967138004, 0.7529631967138004, 0.07529631967138004, 0.959046824873773, 0.041043127236739536, 0.9029487992082698, 0.020521563618369768, 0.020521563618369768, 0.0046963141138488184, 0.06574839759388346, 0.06574839759388346, 0.14558573752931336, 0.009392628227697637, 0.03757051291079055, 0.03757051291079055, 0.5964318924587999, 0.014088942341546454, 0.02817788468309291, 0.14992663875317422, 0.8245965131424582, 0.01808637932310186, 0.17724651736639824, 0.0036172758646203724, 0.0036172758646203724, 0.7813315867580004, 0.01446910345848149, 0.05218204844654642, 0.0065227560558183025, 0.0065227560558183025, 0.0065227560558183025, 0.0065227560558183025, 0.9197086038703806, 0.9577741437164523, 0.983352858834997, 0.017855581196693275, 0.008927790598346638, 0.004463895299173319, 0.017855581196693275, 0.07588622008594642, 0.8749234786379705, 0.9789955068198575, 0.9193092801064354, 0.9864686913611933, 0.9718008582362575, 0.9758046577036433, 0.8010877663384268, 0.04216251401781194, 0.1505804072064712, 0.7674890627820786, 0.015349781255641572, 0.030699562511283144, 0.18419737506769887, 0.9795463409265713, 0.15402246466440697, 0.05388065018295509, 0.11510866175449497, 0.3036909373948378, 0.03782530492641797, 0.04163504786864712, 0.07565060985283593, 0.0438120438356352, 0.04816603576961137, 0.12653789058118242, 0.9344521580766415, 0.9810066971090541, 0.11164057584935644, 0.07728962943416985, 0.04784596107829562, 0.171754732075933, 0.009814556118624742, 0.2735807518066647, 0.17788882965007347, 0.028216848841046135, 0.019629112237249485, 0.08097008797865413, 0.05647463350053118, 0.9035941360084989, 0.9875815601083071, 0.01837664322057373, 0.04019890704500503, 0.03177627890224207, 0.5811613418506442, 0.016079562818002012, 0.052832849259149474, 0.014548175882954203, 0.11676825379739557, 0.04862153518776799, 0.07963212062248616, 0.12573859266539564, 0.07743657231222537, 0.10733782300704506, 0.0613358988611686, 0.036034840580936554, 0.02836785322329048, 0.3979166438618313, 0.02760115448752587, 0.013800577243762935, 0.12497189392963103, 0.8467744554279133, 0.12452565520998725, 0.9700932079079, 0.2958918102730159, 0.09109795590744404, 0.1617165263783309, 0.0381340280542789, 0.1412371409417737, 0.03460309953073456, 0.06426289912850704, 0.0247164996648104, 0.05508248496729175, 0.09392269872627952, 0.9540786299245472, 0.8646976306644315, 0.045510401613917444, 0.1083537574161127, 0.04974504722776459, 0.10618306444617387, 0.18921207054633368, 0.048297918581138716, 0.07669781827117159, 0.07289910557377866, 0.08465702582761392, 0.06005583883497398, 0.20404513917424894, 0.15653510881603208, 0.06265681268182705, 0.15011973550389962, 0.18797043804548114, 0.03293224966894664, 0.05773835980919216, 0.17193200476515, 0.037636856764510444, 0.03528455321672854, 0.10670904275846996, 0.04880678145015049, 0.9468515601329195, 0.07860499838607883, 0.917058314504253, 0.08158528313776271, 0.01631705662755254, 0.01631705662755254, 0.03263411325510508, 0.01631705662755254, 0.8158528313776271, 0.01631705662755254, 0.024561907380744503, 0.049123814761489006, 0.024561907380744503, 0.9087905730875466, 0.057912985656667054, 0.029890573242150737, 0.22417929931613054, 0.06912195062247359, 0.013077125793440949, 0.368027683043981, 0.08219907641591453, 0.005604482482903263, 0.03362689489741958, 0.11956229296860295, 0.04868589304649788, 0.016228631015499297, 0.03516203386691514, 0.010819087343666196, 0.008114315507749648, 0.03516203386691514, 0.7546313422207173, 0.008114315507749648, 0.06761929589791373, 0.016228631015499297, 0.004034634614974852, 0.17348928844391862, 0.0706061057620599, 0.004034634614974852, 0.6717666633933128, 0.016138538459899408, 0.04639829807221079, 0.002017317307487426, 0.01008658653743713, 0.002017317307487426, 0.8567960456255205, 0.9126855146100767, 0.15295580405239836, 0.038514051380100306, 0.2996759997861138, 0.2354859141526133, 0.025309233764065915, 0.04401605872011464, 0.06015528025082334, 0.014305219084037257, 0.028977238657408803, 0.10050333407759508, 0.017992220552948756, 0.02878755288471801, 0.03598444110589751, 0.7916577043297454, 0.017992220552948756, 0.05037821754825652, 0.0035984441105897515, 0.007196888221179503, 0.014393776442359006, 0.03598444110589751, 0.08784888858202841, 0.5843860849152325, 0.11076598995125321, 0.0496537196333204, 0.011458550684612401, 0.07257082100254521, 0.0038195168948708005, 0.019097584474354, 0.007639033789741601, 0.057292753423062004, 0.21185746405780448, 0.07012183669518882, 0.21372240652310207, 0.20066780926601904, 0.023871263555808958, 0.03879080327818955, 0.062289078340939, 0.047742527111617916, 0.0399097687573681, 0.09100919230652164, 0.1078428911624263, 0.7279395153463776, 0.005392144558121315, 0.02156857823248526, 0.005392144558121315, 0.026960722790606576, 0.016176433674363947, 0.005392144558121315, 0.08627431292994105, 0.9694337462991176, 0.012271313244292627, 0.8891691598812902, 0.04679837683585738, 0.04679837683585738, 0.0814038855163666, 0.058791695095153654, 0.009044876168485178, 0.23516678038061462, 0.013567314252727766, 0.06331413317939624, 0.08592632360060919, 0.4024969894975904, 0.049746818926668476, 0.9560335193037681, 0.020783337376168873, 0.07724966745487587, 0.030899866981950345, 0.7055469627545329, 0.010299955660650116, 0.015449933490975173, 0.02059991132130023, 0.015449933490975173, 0.005149977830325058, 0.07209968962455081, 0.05149977830325058, 0.12763716353471827, 0.08881047392800327, 0.16200101525560398, 0.09996756864257655, 0.10175270379690828, 0.037041554452383274, 0.15709189358119172, 0.048198649166956556, 0.06203344661302741, 0.11558750124297915, 0.15037020134850512, 0.01915361880294647, 0.10834658994502555, 0.3845017505964627, 0.03602023834583963, 0.047169359738599516, 0.049456358998652826, 0.04373886084851955, 0.015151370097853178, 0.14636795264341182, 0.9782160420088695, 0.1927692685011609, 0.7228847568793534, 0.04819231712529023, 0.20974528836774736, 0.009755594807802203, 0.6682582443344509, 0.10731154288582424, 0.1584608240409032, 0.036119746656382345, 0.01572956709229554, 0.11418500555888612, 0.010486378061530358, 0.010777666341017313, 0.013981837415373812, 0.47567376040219655, 0.04544097159996489, 0.1194281945896513, 0.938872174034857, 0.9907425992191985, 0.1904637537953001, 0.015359980144782265, 0.4869113705895978, 0.10291186697004118, 0.012287984115825813, 0.0522239324922597, 0.03839995036195566, 0.007679990072391132, 0.018431976173738717, 0.07372790469495487, 0.1678749393859562, 0.04743280835835882, 0.1564817648292916, 0.25157989531247177, 0.04836286342420899, 0.04208499172972033, 0.0737068639686262, 0.044177615627883214, 0.0344120374364564, 0.1339279294824249, 0.10549784887954054, 0.8439827910363243, 0.041888783374021674, 0.14260011361369082, 0.045453786214363946, 0.2584627059248146, 0.019607515621882485, 0.08110381461778665, 0.08377756674804335, 0.03921503124376497, 0.2228126775213919, 0.065952552546332, 0.16299632274020745, 0.0937128735164829, 0.12174663909833677, 0.08650419093829191, 0.06888296685826949, 0.03203858923640441, 0.1866247823020557, 0.04044871891096057, 0.06527862556917399, 0.14137027500563448, 0.03190208625276502, 0.04691483272465444, 0.03190208625276502, 0.09382966544930887, 0.03377867956175119, 0.013136153162903242, 0.6417949116732727, 0.06568076581451622, 0.013136153162903242, 0.026272306325806485, 0.08765223550270007, 0.04124811082480003, 0.010312027706200008, 0.8455862719084007, 0.010312027706200008, 0.05202290706288494, 0.20809162825153976, 0.034681938041923294, 0.6936387608384659, 0.24531008882135377, 0.14911005398945035, 0.009620003483190344, 0.004810001741595172, 0.06253002264073723, 0.014430005224785516, 0.5146701863506834, 0.00915649699383533, 0.14650395190136528, 0.7691457474821677, 0.06409547895684731, 0.34711231018331967, 0.09386200224344868, 0.011511377633630498, 0.007083924697618768, 0.43389038772914956, 0.013282358808035192, 0.044274529360117304, 0.000885490587202346, 0.00442745293601173, 0.044274529360117304, 0.2620385539328382, 0.07089720112366421, 0.1496024640450888, 0.05590572247196429, 0.018114703370804074, 0.05059624044948724, 0.327313950562115, 0.014366833707879093, 0.02467347528092279, 0.02654741011238528, 0.9186890712455148, 0.07530238288897663, 0.18563492980018778, 0.048037925665444785, 0.09011765900029177, 0.29344097228194177, 0.021784640708748217, 0.05809237522332857, 0.06963637286386182, 0.08248372507671332, 0.03239767079762555, 0.11823287906030014, 0.9816673553837564, 0.9674037641785401, 0.07701484368268191, 0.019253710920670478, 0.80865585866816, 0.07701484368268191, 0.05403341553254767, 0.02181165397644126, 0.09170809058276438, 0.33560203959206214, 0.031726042147550926, 0.017350179299441913, 0.0530419767154367, 0.26025268949162866, 0.07287075305765603, 0.0619649260694354, 0.9581048926284043, 0.021023405089194914, 0.9775883366475635, 0.9778947564632524, 0.985510343700685, 0.8642475554705066, 0.022985307326343258, 0.07815004490956708, 0.02758236879161191, 0.07868162018578892, 0.9179522355008707, 0.00831036429782494, 0.09972437157389928, 0.08587376441085771, 0.04432194292173301, 0.6759096295564284, 0.011080485730433253, 0.03601157862390807, 0.00831036429782494, 0.013850607163041567, 0.019390850028258192, 0.05860788624746206, 0.908422236835662, 0.9881123088920125, 0.01324659945591622, 0.01324659945591622, 0.01324659945591622, 0.9405085613700516, 0.9678170534735836, 0.037140556035158034, 0.5323479698372652, 0.36521546767905405, 0.00309504633626317, 0.00619009267252634, 0.018570278017579017, 0.00619009267252634, 0.009285139008789509, 0.00619009267252634, 0.015475231681315848, 0.04130823766856912, 0.12392471300570736, 0.8179031058376686, 0.008261647533713824, 0.008261647533713824, 0.9317299879167855, 0.028234242058084412, 0.028234242058084412, 0.009904453105471993, 0.04952226552735996, 0.04291929679037863, 0.14196382784509856, 0.052823749895850626, 0.013205937473962657, 0.03961781242188797, 0.45560484285171166, 0.06602968736981328, 0.13205937473962656, 0.11568845910403579, 0.05880297368823918, 0.1412549694032702, 0.2051712451513563, 0.061040043339422194, 0.05209176473469015, 0.11632762186151664, 0.11249264531663149, 0.049854695083507136, 0.08756529777487791, 0.96385415524585, 0.026286931506705, 0.020517136177213593, 0.03487913150126311, 0.5908935219037514, 0.11284424897467477, 0.018465422559492232, 0.045137699589869906, 0.051292840443033984, 0.024620563412656313, 0.018465422559492232, 0.08412025832657573, 0.08854270656184055, 0.13281405984276082, 0.7526130057756446, 0.7840141662655439, 0.14604185450044446, 0.030745653579040938, 0.030745653579040938, 0.0076864133947602345, 0.025648656940188173, 0.897702992906586, 0.025648656940188173, 0.025648656940188173, 0.012824328470094086, 0.012824328470094086, 0.06120988510528065, 0.030604942552640325, 0.006120988510528065, 0.6916717016896713, 0.03672593106316839, 0.02448395404211226, 0.00408065900701871, 0.03468560155965904, 0.11221812269301452, 0.9898503553526503, 0.9441211171481728, 0.014986049478542426, 0.02997209895708485, 0.9313995759607552, 0.9833473026991149, 0.9653560667099947, 0.012591600870130367, 0.012591600870130367, 0.202249992876521, 0.04044999857530421, 0.6539416436340847, 0.006741666429217368, 0.07415833072139104, 0.020224999287652104, 0.13580517191196395, 0.68778748355414, 0.004380811997160127, 0.07447380395172216, 0.01752324798864051, 0.013142435991480383, 0.004380811997160127, 0.02190405998580064, 0.026284871982960766, 0.008761623994320254, 0.9434173920689771, 0.9679941337446357, 0.24339005461187538, 0.011282982664126674, 0.5093460745520041, 0.04190822132389907, 0.019342255995645725, 0.02256596532825335, 0.09993498931083625, 0.016118546663038105, 0.017730401329341915, 0.019342255995645725, 0.00942191037081304, 0.3674545044617086, 0.00942191037081304, 0.6124241741028477, 0.00942191037081304, 0.08674875219577297, 0.07991400202277267, 0.1440555036463139, 0.3054607577317824, 0.035225250891616905, 0.06650737668342595, 0.05310075134407921, 0.08490862714919598, 0.048631876230963635, 0.09542362741535027, 0.9739628366505347, 0.24860337499360213, 0.0893739405968735, 0.1284108341909102, 0.08166929054541888, 0.025168523501418398, 0.08731936724981894, 0.15717486104967407, 0.023113950154363835, 0.06882820712632787, 0.08988758393363713, 0.9773879357492423, 0.11030860274294196, 0.041365726028603236, 0.013788575342867745, 0.013788575342867745, 0.7997373698863293, 0.019155078668897447, 0.9577539334448723, 0.043398550888612435, 0.06623989346156635, 0.10735431009288339, 0.013704805543772347, 0.011420671286476957, 0.04111441663131704, 0.10050190732099722, 0.0022841342572953913, 0.04111441663131704, 0.5687494300665524, 0.16680921082394337, 0.09014795648783323, 0.20726931727911263, 0.18490978476441383, 0.06601385790053929, 0.040460106455169245, 0.07169246933284375, 0.033006928950269646, 0.03265201573575062, 0.10753870399926563, 0.058913263423379686, 0.15090616673689233, 0.11278581981588195, 0.3159893219981274, 0.02961415380640476, 0.04631149584618617, 0.038120346921010385, 0.11373095238417147, 0.06080352855995871, 0.07277520775829255, 0.9539014283287856, 0.08226319144841915, 0.05141449465526197, 0.5381383773917419, 0.0856908244254366, 0.053128311143770694, 0.041131595724209574, 0.00856908244254366, 0.025707247327630984, 0.03941777923570084, 0.07712174198289294, 0.9500095622002501, 0.03518553934075, 0.11580695630296427, 0.05744754525265157, 0.026444108132172944, 0.08981878106962189, 0.011854255369594767, 0.006383060583627952, 0.010942389571933631, 0.6141416147247751, 0.02234071204269783, 0.04468142408539566, 0.06223057272456313, 0.041487048483042084, 0.08297409696608417, 0.128232695311221, 0.058459022862468395, 0.020743524241521042, 0.024515074103615777, 0.3601830118300472, 0.09806029641446311, 0.12257537051807889, 0.969958772629325, 0.8828976052036271, 0.08329222690600256, 0.016658445381200513, 0.9653939364197206, 0.029198704484594194, 0.8759611345378258, 0.014599352242297097, 0.05839740896918839, 0.9801970194030424, 0.9827113746927042, 0.006614731249189377, 0.013229462498378754, 0.006614731249189377, 0.8268414061486722, 0.013229462498378754, 0.026458924996757508, 0.11245043123621941, 0.07335232372686118, 0.7335232372686118, 0.11002848559029177, 0.9792029079617838, 0.11117697591205529, 0.06485323594869892, 0.13549693939281737, 0.07411798394137019, 0.01737140248625864, 0.052114207458775916, 0.4238622206647108, 0.05443039445694373, 0.03011043097618164, 0.03590089847160119, 0.9933909805025165, 0.9477920943583209, 0.10787852454554614, 0.022982816098833743, 0.12007348818982527, 0.3958672813758302, 0.019230519592901705, 0.03939911331228642, 0.05769155877870511, 0.056284447588980595, 0.03986815037552792, 0.1407111189724515, 0.5506922743781614, 0.03561691326823929, 0.20548219193214978, 0.016438575354571983, 0.027397625590953305, 0.030137388150048634, 0.04383620094552529, 0.019178337913667312, 0.005479525118190661, 0.06849406397738327, 0.07906228196698696, 0.006200963291528389, 0.11316758007039311, 0.04340674304069873, 0.004650722468646292, 0.1736269721627949, 0.492976581676507, 0.010851685760174682, 0.015502408228820973, 0.06200963291528389, 0.0884854972099716, 0.05309129832598296, 0.07226315605481014, 0.17254671955944462, 0.0663641229074787, 0.02654564916299148, 0.03834371545765436, 0.32297206481639634, 0.05309129832598296, 0.10470783836513306, 0.10288358661102337, 0.06445718679244838, 0.023551664404933063, 0.1251956897314863, 0.023551664404933063, 0.01115605156023145, 0.014874735413641933, 0.49706407507253464, 0.03346815468069435, 0.10288358661102337, 0.09175925947179857, 0.7715934174250795, 0.021206584411260113, 0.007340740757743885, 0.011011111136615829, 0.0048938271718292565, 0.029770781961961312, 0.0036703703788719426, 0.01182674899858737, 0.04730699599434948, 0.01443098959289211, 0.9524453131308793, 0.01443098959289211, 0.97758728427335, 0.9821204314519583, 0.9373372630458531, 0.9654496228660153, 0.1265514102339457, 0.03758481732511921, 0.10419082271140642, 0.40344208976836826, 0.03568178859979672, 0.05566359021568289, 0.05043026122104603, 0.04757571813306229, 0.044721175045078554, 0.09372416472213271, 0.01686674670285484, 0.10120048021712902, 0.8602040818455967, 0.03777084307681816, 0.01888542153840908, 0.01888542153840908, 0.8120731261515904, 0.03777084307681816, 0.05665626461522724, 0.014729032273677977, 0.16201935501045775, 0.051551612957872923, 0.007364516136838989, 0.007364516136838989, 0.5817967748102801, 0.09573870977890686, 0.029458064547355955, 0.036822580684194944, 0.9683685047164594, 0.06535655185520803, 0.041885966934829454, 0.05813483341816846, 0.45785694890830814, 0.03683076402890176, 0.049468771293720994, 0.04802442760631308, 0.08052216057299111, 0.04152488101297747, 0.12060269789856067, 0.10856653869344106, 0.15681833366830375, 0.06031474371857837, 0.0844406412060097, 0.5790215396983523, 0.012062948743715673, 0.012062948743715673, 0.04547393874838603, 0.9094787749677207, 0.9334254773651363, 0.1392362299218382, 0.22351079013768765, 0.16964835382581867, 0.15462549743951506, 0.027114423721621123, 0.01868696770003618, 0.049831913866763146, 0.05129755839225618, 0.0696181149609191, 0.09599971641979371, 0.13288213444077734, 0.009164285133846713, 0.02291071283461678, 0.004582142566923356, 0.797292806644664, 0.027492855401540138, 0.1860728014103501, 0.3145715073170493, 0.04839561651031527, 0.17772872959822678, 0.0258666226175823, 0.05340205959758927, 0.07092461040304825, 0.03921713751697962, 0.024197808255157636, 0.059242909866075597, 0.017804853298056318, 0.035609706596112636, 0.8190232517105906, 0.08902426649028158, 0.03414877616838086, 0.9220169565462831, 0.5340011649386296, 0.058022226024639315, 0.2114369253440246, 0.027535971672710182, 0.010817703157136144, 0.025569116553230884, 0.045237667748023874, 0.0029502826792189483, 0.022618833874011937, 0.05900565358437897, 0.1424168880437863, 0.05877522363711815, 0.15673392969898173, 0.16853920966028324, 0.05902639980650755, 0.07409696996987117, 0.0931863588434651, 0.07233873678414542, 0.05199346706360452, 0.12307632300080297, 0.0771938371541137, 0.8877291272723075, 0.9690434261835401, 0.016424464850568476, 0.032692534865981705, 0.04495223544072485, 0.01225970057474314, 0.016346267432990853, 0.004086566858247713, 0.008173133716495426, 0.8336596390825336, 0.02043283429123857, 0.01225970057474314, 0.01225970057474314, 0.9471563385018098, 0.9668659347452699, 0.9867010158547848, 0.14928804262772397, 0.12072390450761794, 0.17515745073649924, 0.09027345537958037, 0.07302718330706352, 0.053355654224349, 0.13850912258240095, 0.03799569315976368, 0.07033245329573277, 0.0910818743829796, 0.9605105438783071, 0.9281029629082287, 0.04035230273514038, 0.050455515781797286, 0.9081992840723512, 0.4321100622781226, 0.0017284402491124903, 0.5202605149828596, 0.031111924484024826, 0.0034568804982249807, 0.005185320747337472, 0.0017284402491124903, 0.0017284402491124903, 0.1338577481568473, 0.014873083128538592, 0.7287810732983909, 0.10411158189977014, 0.9576350673819402, 0.9899498467723055, 0.016238712843141365, 0.016238712843141365, 0.7875775728923562, 0.016238712843141365, 0.016238712843141365, 0.048716138529424094, 0.04059678210785341, 0.06495485137256546, 0.10151276025650806, 0.7258162358340327, 0.09643712224368266, 0.020302552051301614, 0.010151276025650807, 0.01522691403847621, 0.0050756380128254034, 0.020302552051301614, 0.04645478345068603, 0.05134476065602141, 0.6039121848589184, 0.01955990882134149, 0.06601469227202753, 0.01222494301333843, 0.02444988602667686, 0.007334965808003057, 0.03178485183467992, 0.1393643503520581, 0.011333651339656806, 0.03400095401897042, 0.940693061191515, 0.031276464734472806, 0.18765878840683686, 0.7506351536273475, 0.9644051917555471, 0.9433648207738352, 0.1330951481692625, 0.03748393968848617, 0.15808444129491994, 0.24065775771013584, 0.009235173546438621, 0.07116516085785056, 0.06573270583053371, 0.04237314921307132, 0.03042174815297428, 0.2118657460653566, 0.07459004986089589, 0.043678858026650745, 0.0875817101970279, 0.4461963343030168, 0.03270314498405645, 0.052414629631980895, 0.07123013770499967, 0.057566494937688416, 0.053310606206886546, 0.08063789174150907, 0.010445312398434636, 0.020890624796869272, 0.8808880122679875, 0.017408853997391057, 0.04526302039321675, 0.020890624796869272, 0.9162867497140103, 0.053899220571412366, 0.9636876416565449, 0.017999432837462193, 0.008999716418731096, 0.035998865674924385, 0.7486127748308139, 0.036817021712990845, 0.01718127679939573, 0.008181560380664633, 0.05808907870271889, 0.016363120761329265, 0.05318014247432011, 0.046767606646261034, 0.9353521329252207, 0.09295704931757798, 0.0916614806859741, 0.10947554937052738, 0.2584659420049729, 0.0340086765796017, 0.06153951000118403, 0.0566811276326695, 0.12405069647607096, 0.05473777468526369, 0.11627728468644771, 0.94181521765056, 0.028539855080319997, 0.018028786293134532, 0.08871307541066199, 0.13879303733603568, 0.2933254912771888, 0.03662991500827334, 0.052083160402388654, 0.1688410144912599, 0.08270347997961715, 0.06896726185151464, 0.052083160402388654, 0.07399832556898786, 0.4316568991524292, 0.013566359687647776, 0.13319698602417815, 0.02096619224454656, 0.04316568991524292, 0.028366024801445348, 0.11346409920578139, 0.06289857673363969, 0.07769824184743726, 0.05707003391408574, 0.02853501695704287, 0.8845855256683289, 0.04962884201728755, 0.04962884201728755, 0.0947459711239126, 0.2188180761671315, 0.04060541619596254, 0.024814421008643776, 0.029326133919306285, 0.05075677024495318, 0.06316398074927507, 0.3778559562679848, 0.07475795195008235, 0.010194266175011228, 0.25145856565027697, 0.016990443625018715, 0.46214006660050905, 0.010194266175011228, 0.04077706470004491, 0.016990443625018715, 0.0475732421500524, 0.06456368577507111, 0.8697161045894956, 0.20345836254618416, 0.007535494909117932, 0.7836914705482649, 0.050790219221590896, 0.08604187822470422, 0.1312660460247509, 0.4146708309050435, 0.06006697159083124, 0.041745385661581556, 0.07978007037546699, 0.04731143708312577, 0.04684759946466375, 0.04104962923388853, 0.026663385323214238, 0.9598818716357126, 0.044366458861121526, 0.05545807357640191, 0.5323975063334583, 0.08873291772224305, 0.007394409810186921, 0.116461954510444, 0.014788819620373842, 0.011091614715280381, 0.011091614715280381, 0.116461954510444, 0.08137261929253714, 0.08928666456038988, 0.05905095315243967, 0.23985644888722918, 0.02252459037773472, 0.0836047859065469, 0.11201417917576185, 0.06940008927193941, 0.08502525557000763, 0.15767213264414304, 0.08267220976081033, 0.23148218733026893, 0.08768264671601096, 0.08517742823841065, 0.03106470912224388, 0.04459288890128557, 0.06563672411312821, 0.05912315607136739, 0.10221291388609277, 0.2104383521184263, 0.040988902290244475, 0.9017558503853785, 0.0609817527021726, 0.04573631452662945, 0.05183448979684671, 0.513008994607027, 0.01753225390187462, 0.039638139256412186, 0.03277769207741777, 0.10824261104635637, 0.010671806722880204, 0.11815214586045941, 0.9980724762604303, 0.07365871291126093, 0.10295156013079713, 0.06825517798726882, 0.256241314027205, 0.029008450644589248, 0.042943882816989964, 0.08418138618429821, 0.14561104637284014, 0.061998453338435844, 0.13537276967474982, 0.0345335540246865, 0.07312987911110082, 0.018282469777775204, 0.2915038236789713, 0.016251084246911292, 0.011172620419751514, 0.030470782962958676, 0.11883605355553883, 0.1889188543703438, 0.21532686627157466, 0.029920856597008254, 0.04986809432834709, 0.009973618865669418, 0.9075993167759171, 0.93424363236347, 0.034028741576152884, 0.027841697653215994], \"Term\": [\"absorb\", \"absorb\", \"absorb\", \"academic\", \"academic\", \"academic\", \"academic\", \"academic\", \"academic\", \"academic\", \"academic\", \"adoptive\", \"adoptive\", \"affair\", \"affair\", \"affair\", \"affair\", \"affair\", \"affair\", \"affair\", \"affair\", \"affair\", \"affair\", \"african_american\", \"african_american\", \"african_american\", \"african_american\", \"afterlife\", \"afterlife\", \"afterlife\", \"afterlife\", \"agent\", \"agent\", \"agent\", \"agent\", \"agent\", \"agent\", \"agent\", \"agent\", \"agent\", \"agent\", \"aircraft\", \"aircraft\", \"aircraft\", \"aircraft\", \"aircraft\", \"aircraft\", \"aircraft\", \"aircraft\", \"aircraft\", \"alien\", \"alien\", \"alien\", \"alien\", \"alien\", \"alien\", \"alien\", \"alien\", \"altogether\", \"american\", \"american\", \"american\", \"american\", \"american\", \"american\", \"american\", \"american\", \"american\", \"american\", \"android\", \"android\", \"android\", \"android\", \"android\", \"android\", \"angel\", \"angel\", \"apparition\", \"appear\", \"appear\", \"appear\", \"appear\", \"appear\", \"appear\", \"appear\", \"appear\", \"appear\", \"appear\", \"armored\", \"arrest\", \"arrest\", \"arrest\", \"arrest\", \"arrest\", \"arrest\", \"arrest\", \"arrest\", \"arrest\", \"arrest\", \"arrive\", \"arrive\", \"arrive\", \"arrive\", \"arrive\", \"arrive\", \"arrive\", \"arrive\", \"arrive\", \"arrive\", \"artificial\", \"artificial\", \"ask\", \"ask\", \"ask\", \"ask\", \"ask\", \"ask\", \"ask\", \"ask\", \"ask\", \"ask\", \"athlete\", \"athlete\", \"athletic\", \"attache\", \"attache\", \"attack\", \"attack\", \"attack\", \"attack\", \"attack\", \"attack\", \"attack\", \"attack\", \"attack\", \"attack\", \"attempt\", \"attempt\", \"attempt\", \"attempt\", \"attempt\", \"attempt\", \"attempt\", \"attempt\", \"attempt\", \"attempt\", \"author\", \"author\", \"author\", \"author\", \"author\", \"author\", \"author\", \"author\", \"author\", \"author\", \"awareness\", \"awareness\", \"awareness\", \"awareness\", \"away\", \"away\", \"away\", \"away\", \"away\", \"away\", \"away\", \"away\", \"away\", \"away\", \"baby\", \"baby\", \"baby\", \"baby\", \"baby\", \"baby\", \"baby\", \"backpack\", \"bakery\", \"ballad\", \"ballad\", \"ballet\", \"ballet\", \"band\", \"band\", \"band\", \"band\", \"band\", \"band\", \"band\", \"band\", \"band\", \"band\", \"bank\", \"bank\", \"bank\", \"bank\", \"bank\", \"bank\", \"bank\", \"bank\", \"bank\", \"bank\", \"baseball\", \"baseball\", \"baseball\", \"basement\", \"basement\", \"basement\", \"basement\", \"basement\", \"basement\", \"basement\", \"basement\", \"basket\", \"basketball\", \"basketball\", \"basketball\", \"basketball\", \"basketball\", \"basketball\", \"basketball\", \"basketball\", \"beast\", \"beast\", \"beast\", \"beast\", \"bee\", \"bee\", \"biker\", \"biker\", \"billion\", \"billion\", \"bite\", \"bite\", \"bite\", \"bite\", \"bite\", \"bite\", \"bite\", \"bite\", \"bite\", \"bite\", \"blood\", \"blood\", \"blood\", \"blood\", \"blood\", \"blood\", \"blood\", \"blood\", \"blood\", \"blood\", \"bloody\", \"bloody\", \"bloody\", \"bloody\", \"bloody\", \"bloody\", \"bloody\", \"bloody\", \"bloody\", \"bloody\", \"blue\", \"blue\", \"blue\", \"blue\", \"blue\", \"blue\", \"blue\", \"blue\", \"blue\", \"blue\", \"body\", \"body\", \"body\", \"body\", \"body\", \"body\", \"body\", \"body\", \"body\", \"body\", \"bolt\", \"bolt\", \"bolt\", \"bolt\", \"bolt\", \"bolt\", \"bolt\", \"bolt\", \"bomb\", \"bomb\", \"bomb\", \"bomb\", \"bomb\", \"bomb\", \"bomb\", \"bomb\", \"bomb\", \"bomb\", \"bone\", \"bone\", \"bone\", \"bone\", \"bone\", \"bone\", \"bone\", \"bookstore\", \"boxing\", \"boxing\", \"boxing\", \"boxing\", \"boxing\", \"boyfriend\", \"boyfriend\", \"boyfriend\", \"boyfriend\", \"boyfriend\", \"boyfriend\", \"boyfriend\", \"boyfriend\", \"boyfriend\", \"boyfriend\", \"brash\", \"brash\", \"brash\", \"brass\", \"break\", \"break\", \"break\", \"break\", \"break\", \"break\", \"break\", \"break\", \"break\", \"break\", \"briefcase\", \"briefcase\", \"briefcase\", \"briefcase\", \"briefcase\", \"briefcase\", \"briefcase\", \"briefcase\", \"broadway\", \"brother\", \"brother\", \"brother\", \"brother\", \"brother\", \"brother\", \"brother\", \"brother\", \"brother\", \"brother\", \"brown\", \"brown\", \"brown\", \"brown\", \"brown\", \"buffalo\", \"buffalo\", \"buffalo\", \"buffalo\", \"bug\", \"bug\", \"bug\", \"bug\", \"burger\", \"butler\", \"butler\", \"butler\", \"butterfly\", \"butterfly\", \"butterfly\", \"butterfly\", \"cab_driver\", \"cab_driver\", \"cab_driver\", \"cab_driver\", \"cabin\", \"cabin\", \"cabin\", \"cabin\", \"cabin\", \"cabin\", \"cabin\", \"cabin\", \"call\", \"call\", \"call\", \"call\", \"call\", \"call\", \"call\", \"call\", \"call\", \"call\", \"camp\", \"camp\", \"camp\", \"camp\", \"camp\", \"camp\", \"camp\", \"camp\", \"camp\", \"camp\", \"camper\", \"camper\", \"camper\", \"canister\", \"caption\", \"captor\", \"carpenter\", \"castle\", \"castle\", \"castle\", \"castle\", \"castle\", \"castle\", \"castle\", \"castle\", \"castle\", \"catapult\", \"catapult\", \"catastrophe\", \"catastrophe\", \"catch\", \"catch\", \"catch\", \"catch\", \"catch\", \"catch\", \"catch\", \"catch\", \"catch\", \"catch\", \"catholic\", \"catholic\", \"catholic\", \"catholic\", \"catholic\", \"catholic\", \"catholic\", \"cell\", \"cell\", \"cell\", \"cell\", \"cell\", \"cell\", \"cell\", \"cell\", \"cell\", \"cell\", \"cellmate\", \"centers_around\", \"centers_around\", \"centers_around\", \"centers_around\", \"centers_around\", \"centers_around\", \"central_park\", \"chamber\", \"chamber\", \"chamber\", \"chamber\", \"championship\", \"championship\", \"championship\", \"championship\", \"championship\", \"championship\", \"championship\", \"character\", \"character\", \"character\", \"character\", \"character\", \"character\", \"character\", \"character\", \"character\", \"character\", \"charter\", \"child\", \"child\", \"child\", \"child\", \"child\", \"child\", \"child\", \"child\", \"child\", \"child\", \"chinatown\", \"chip\", \"chorus\", \"chorus\", \"chute\", \"city\", \"city\", \"city\", \"city\", \"city\", \"city\", \"city\", \"city\", \"city\", \"city\", \"clandestine\", \"class\", \"class\", \"class\", \"class\", \"class\", \"class\", \"class\", \"class\", \"class\", \"class\", \"clique\", \"clique\", \"clown\", \"clown\", \"clown\", \"club\", \"club\", \"club\", \"club\", \"club\", \"club\", \"club\", \"club\", \"club\", \"club\", \"coach\", \"coach\", \"coach\", \"coach\", \"coach\", \"coach\", \"coach\", \"coach\", \"coach\", \"collector\", \"collector\", \"collector\", \"collector\", \"collector\", \"collector\", \"collector\", \"collector\", \"collector\", \"college\", \"college\", \"college\", \"college\", \"college\", \"college\", \"college\", \"college\", \"college\", \"college\", \"colombian\", \"colony\", \"colony\", \"colony\", \"colony\", \"colony\", \"colony\", \"colony\", \"colony\", \"colony\", \"colony\", \"comatose\", \"comically\", \"comically\", \"comically\", \"commentary\", \"commentary\", \"commentator\", \"concede\", \"concentration\", \"concert\", \"concert\", \"concert\", \"concert\", \"concert\", \"concert\", \"concert\", \"concert\", \"concert\", \"concert\", \"confessing\", \"confessing\", \"congregation\", \"congressman\", \"convict\", \"convict\", \"convict\", \"convict\", \"convict\", \"convict\", \"convict\", \"convict\", \"convict\", \"convict\", \"cooperate\", \"corn\", \"cornered\", \"cornered\", \"cornfield\", \"corporation\", \"corporation\", \"corporation\", \"counseling\", \"countdown\", \"courtesy\", \"covert\", \"covert\", \"covert\", \"cowboy\", \"cowboy\", \"cowboy\", \"cowboy\", \"crane\", \"crash\", \"crash\", \"crash\", \"crash\", \"crash\", \"crash\", \"crash\", \"crash\", \"crash\", \"crash\", \"crater\", \"creator\", \"creator\", \"creator\", \"creature\", \"creature\", \"creature\", \"creature\", \"creature\", \"creature\", \"creature\", \"creature\", \"creature\", \"crew\", \"crew\", \"crew\", \"crew\", \"crew\", \"crew\", \"crew\", \"crew\", \"crew\", \"crew\", \"crime\", \"crime\", \"crime\", \"crime\", \"crime\", \"crime\", \"crime\", \"crime\", \"crime\", \"crime\", \"criminal\", \"criminal\", \"criminal\", \"criminal\", \"criminal\", \"criminal\", \"criminal\", \"criminal\", \"criminal\", \"criminal\", \"crocodile\", \"crocodile\", \"crocodile\", \"crocodile\", \"crocodile\", \"crocodile\", \"crocodile\", \"crossbow\", \"crow\", \"crow\", \"cruiser\", \"crusade\", \"crystal\", \"culinary\", \"culinary\", \"culinary\", \"curb\", \"cyborg\", \"cyborg\", \"cyborg\", \"dagger\", \"dagger\", \"dagger\", \"dagger\", \"dagger\", \"dagger\", \"date\", \"date\", \"date\", \"date\", \"date\", \"date\", \"date\", \"date\", \"date\", \"date\", \"daughter\", \"daughter\", \"daughter\", \"daughter\", \"daughter\", \"daughter\", \"daughter\", \"daughter\", \"daughter\", \"daughter\", \"daytime\", \"dead\", \"dead\", \"dead\", \"dead\", \"dead\", \"dead\", \"dead\", \"dead\", \"dead\", \"dead\", \"death\", \"death\", \"death\", \"death\", \"death\", \"death\", \"death\", \"death\", \"death\", \"death\", \"debate\", \"debate\", \"debate\", \"debate\", \"debate\", \"debate\", \"debate\", \"debate\", \"debt\", \"debt\", \"debt\", \"debt\", \"debt\", \"debt\", \"debt\", \"debt\", \"debt\", \"debt\", \"decapitate\", \"decapitate\", \"decapitate\", \"decapitate\", \"decapitate\", \"decapitate\", \"decapitate\", \"decapitate\", \"decapitate\", \"decide\", \"decide\", \"decide\", \"decide\", \"decide\", \"decide\", \"decide\", \"decide\", \"decide\", \"decide\", \"decrease\", \"deem\", \"deem\", \"deem\", \"deem\", \"demeanor\", \"demeanor\", \"descent\", \"destroy\", \"destroy\", \"destroy\", \"destroy\", \"destroy\", \"destroy\", \"destroy\", \"destroy\", \"destroy\", \"destroy\", \"detective\", \"detective\", \"detective\", \"detective\", \"detective\", \"detective\", \"detective\", \"detective\", \"detective\", \"detective\", \"die\", \"die\", \"die\", \"die\", \"die\", \"die\", \"die\", \"die\", \"die\", \"die\", \"diet\", \"diner\", \"diner\", \"diner\", \"diner\", \"diner\", \"diner\", \"diner\", \"diner\", \"dinner\", \"dinner\", \"dinner\", \"dinner\", \"dinner\", \"dinner\", \"dinner\", \"dinner\", \"dinner\", \"dinner\", \"dinosaur\", \"dinosaur\", \"dinosaur\", \"dinosaur\", \"dinosaur\", \"discover\", \"discover\", \"discover\", \"discover\", \"discover\", \"discover\", \"discover\", \"discover\", \"discover\", \"discover\", \"distinct\", \"distinct\", \"diversion\", \"diversion\", \"diversion\", \"diversion\", \"division\", \"division\", \"division\", \"division\", \"division\", \"division\", \"division\", \"divorce\", \"divorce\", \"divorce\", \"divorce\", \"divorce\", \"divorce\", \"divorce\", \"divorce\", \"divorce\", \"divorce\", \"documentary\", \"documentary\", \"documentary\", \"documentary\", \"documentary\", \"documentary\", \"documentary\", \"documentary\", \"dollar\", \"dollar\", \"dolphin\", \"door\", \"door\", \"door\", \"door\", \"door\", \"door\", \"door\", \"door\", \"door\", \"door\", \"dragon\", \"dragon\", \"dragon\", \"dragon\", \"dragon\", \"dragon\", \"dragon\", \"dream\", \"dream\", \"dream\", \"dream\", \"dream\", \"dream\", \"dream\", \"dream\", \"dream\", \"dream\", \"drive\", \"drive\", \"drive\", \"drive\", \"drive\", \"drive\", \"drive\", \"drive\", \"drive\", \"drive\", \"driver\", \"driver\", \"driver\", \"driver\", \"driver\", \"driver\", \"driver\", \"driver\", \"driver\", \"driver\", \"drug\", \"drug\", \"drug\", \"drug\", \"drug\", \"drug\", \"drug\", \"drug\", \"drug\", \"drug\", \"drum\", \"drum\", \"drummer\", \"drummer\", \"drummer\", \"dude\", \"dumpster\", \"dysfunctional\", \"dysfunctional\", \"dysfunctional\", \"earth\", \"earth\", \"earth\", \"earth\", \"earth\", \"earth\", \"earth\", \"earth\", \"earth\", \"earth\", \"earthquake\", \"earthquake\", \"earthquake\", \"edition\", \"egg\", \"egg\", \"egg\", \"egg\", \"egg\", \"egg\", \"electrical\", \"electrical\", \"elevator\", \"elevator\", \"elevator\", \"elevator\", \"elevator\", \"elevator\", \"elevator\", \"elevator\", \"emperor\", \"emperor\", \"emperor\", \"emperor\", \"emperor\", \"emperor\", \"emperor\", \"emperor\", \"en_route\", \"end\", \"end\", \"end\", \"end\", \"end\", \"end\", \"end\", \"end\", \"end\", \"end\", \"engaged\", \"engaged\", \"enigmatic\", \"enigmatic\", \"enterprise\", \"enterprise\", \"enterprise\", \"enterprise\", \"enterprise\", \"enterprise\", \"environmental\", \"environmental\", \"escape\", \"escape\", \"escape\", \"escape\", \"escape\", \"escape\", \"escape\", \"escape\", \"escape\", \"escape\", \"espionage\", \"essay\", \"eventually\", \"eventually\", \"eventually\", \"eventually\", \"eventually\", \"eventually\", \"eventually\", \"eventually\", \"eventually\", \"eventually\", \"evidence\", \"evidence\", \"evidence\", \"evidence\", \"evidence\", \"evidence\", \"evidence\", \"evidence\", \"evidence\", \"evidence\", \"evil\", \"evil\", \"evil\", \"evil\", \"evil\", \"evil\", \"evil\", \"evil\", \"evil\", \"evil\", \"ex_boyfriend\", \"ex_boyfriend\", \"ex_boyfriend\", \"ex_boyfriend\", \"ex_boyfriend\", \"ex_boyfriend\", \"ex_boyfriend\", \"execution\", \"execution\", \"execution\", \"execution\", \"execution\", \"execution\", \"execution\", \"execution\", \"execution\", \"execution\", \"experiment\", \"experiment\", \"experiment\", \"experiment\", \"experiment\", \"experiment\", \"experiment\", \"experiment\", \"experiment\", \"explain\", \"explain\", \"explain\", \"explain\", \"explain\", \"explain\", \"explain\", \"explain\", \"explain\", \"explain\", \"exterminate\", \"extinction\", \"extinction\", \"fabric\", \"face\", \"face\", \"face\", \"face\", \"face\", \"face\", \"face\", \"face\", \"face\", \"face\", \"facilitate\", \"facilitate\", \"facilitate\", \"faculty\", \"faculty\", \"faculty\", \"faculty\", \"faculty\", \"faculty\", \"fairy\", \"fairy\", \"fairy\", \"fall\", \"fall\", \"fall\", \"fall\", \"fall\", \"fall\", \"fall\", \"fall\", \"fall\", \"fall\", \"family\", \"family\", \"family\", \"family\", \"family\", \"family\", \"family\", \"family\", \"family\", \"family\", \"fantasize\", \"fascination\", \"father\", \"father\", \"father\", \"father\", \"father\", \"father\", \"father\", \"father\", \"father\", \"father\", \"fbi_agent\", \"fbi_agent\", \"fbi_agent\", \"fbi_agent\", \"fbi_agent\", \"fbi_agent\", \"fbi_agent\", \"feather\", \"feeding\", \"feel\", \"feel\", \"feel\", \"feel\", \"feel\", \"feel\", \"feel\", \"feel\", \"feel\", \"feel\", \"fence\", \"fence\", \"fence\", \"fence\", \"feud\", \"feud\", \"feud\", \"feud\", \"feud\", \"feud\", \"feud\", \"feud\", \"fifteen_year\", \"fight\", \"fight\", \"fight\", \"fight\", \"fight\", \"fight\", \"fight\", \"fight\", \"fight\", \"fight\", \"final\", \"final\", \"final\", \"final\", \"final\", \"final\", \"final\", \"final\", \"final\", \"final\", \"fireplace\", \"first\", \"first\", \"first\", \"first\", \"first\", \"first\", \"first\", \"first\", \"first\", \"first\", \"fish\", \"fish\", \"fish\", \"fish\", \"fish\", \"fish\", \"fish\", \"fish\", \"fish\", \"fisherman\", \"fisherman\", \"fisherman\", \"fisherman\", \"fisherman\", \"fisherman\", \"fisherman\", \"fisherman\", \"fisherman\", \"fleet\", \"fleet\", \"fleet\", \"fleet\", \"flier\", \"flirtatious\", \"flirtatious\", \"flirtatious\", \"flirtatious\", \"fly\", \"fly\", \"fly\", \"fly\", \"fly\", \"fly\", \"fly\", \"fly\", \"fly\", \"fly\", \"follow\", \"follow\", \"follow\", \"follow\", \"follow\", \"follow\", \"follow\", \"follow\", \"follow\", \"follow\", \"force\", \"force\", \"force\", \"force\", \"force\", \"force\", \"force\", \"force\", \"force\", \"force\", \"formula\", \"formula\", \"formula\", \"formula\", \"formula\", \"foursome\", \"foursome\", \"foursome\", \"foursome\", \"franchise\", \"franchise\", \"fraternity\", \"fraternity\", \"fraternity\", \"freeway\", \"freeway\", \"freeway\", \"freeway\", \"frog\", \"furnace\", \"galaxy\", \"galaxy\", \"gallery\", \"gallery\", \"gallery\", \"gallery\", \"gallery\", \"gallery\", \"game\", \"game\", \"game\", \"game\", \"game\", \"game\", \"game\", \"game\", \"game\", \"game\", \"gang\", \"gang\", \"gang\", \"gang\", \"gang\", \"gang\", \"gang\", \"gang\", \"gang\", \"gang\", \"gangster\", \"gangster\", \"gangster\", \"gangster\", \"gangster\", \"gangster\", \"gangster\", \"gangster\", \"gangster\", \"gangster\", \"gas_station\", \"gas_station\", \"gas_station\", \"gas_station\", \"gas_station\", \"gas_station\", \"gasoline\", \"ghetto\", \"ghetto\", \"ghost\", \"ghost\", \"ghost\", \"ghost\", \"ghost\", \"ghost\", \"ghost\", \"ghost\", \"ghost\", \"ghost\", \"ghostly\", \"ghostly\", \"girl\", \"girl\", \"girl\", \"girl\", \"girl\", \"girl\", \"girl\", \"girl\", \"girl\", \"girl\", \"global\", \"global\", \"global\", \"gorilla\", \"gorilla\", \"grade\", \"grade\", \"grade\", \"grade\", \"grade\", \"grade\", \"grade\", \"grade\", \"grade\", \"granny\", \"granny\", \"granny\", \"granny\", \"grapple\", \"great\", \"great\", \"great\", \"great\", \"great\", \"great\", \"great\", \"great\", \"great\", \"great\", \"greek\", \"greek\", \"grocery_store\", \"grocery_store\", \"grocery_store\", \"groin\", \"groin\", \"group\", \"group\", \"group\", \"group\", \"group\", \"group\", \"group\", \"group\", \"group\", \"group\", \"guard\", \"guard\", \"guard\", \"guard\", \"guard\", \"guard\", \"guard\", \"guard\", \"guard\", \"guard\", \"halloween\", \"halloween\", \"halloween\", \"hand\", \"hand\", \"hand\", \"hand\", \"hand\", \"hand\", \"hand\", \"hand\", \"hand\", \"hand\", \"handler\", \"happy\", \"happy\", \"happy\", \"happy\", \"happy\", \"happy\", \"happy\", \"happy\", \"happy\", \"happy\", \"harden\", \"hawk\", \"hawk\", \"hawk\", \"hawk\", \"hawkin\", \"head\", \"head\", \"head\", \"head\", \"head\", \"head\", \"head\", \"head\", \"head\", \"head\", \"headmaster\", \"headmaster\", \"headmaster\", \"headmaster\", \"hear\", \"hear\", \"hear\", \"hear\", \"hear\", \"hear\", \"hear\", \"hear\", \"hear\", \"hear\", \"heist\", \"heist\", \"heist\", \"heist\", \"heist\", \"heist\", \"heist\", \"heist\", \"heist\", \"helicopter\", \"helicopter\", \"helicopter\", \"helicopter\", \"helicopter\", \"helicopter\", \"helicopter\", \"helicopter\", \"helicopter\", \"helicopter\", \"herd\", \"herd\", \"herd\", \"herd\", \"herd\", \"herd\", \"heroin\", \"heroin\", \"heroin\", \"heroin\", \"heroin\", \"heroin\", \"hike\", \"hip_hop\", \"hippie\", \"hitchhiker\", \"hitchhiker\", \"hitchhiker\", \"hitchhiker\", \"hollywood\", \"hollywood\", \"holographic\", \"home\", \"home\", \"home\", \"home\", \"home\", \"home\", \"home\", \"home\", \"home\", \"home\", \"homicide\", \"homicide\", \"homicide\", \"hooked\", \"hopelessly\", \"horn\", \"horn\", \"horn\", \"horn\", \"horn\", \"horn\", \"horn\", \"hostage\", \"hostage\", \"hostage\", \"hostage\", \"hostage\", \"hostage\", \"hostage\", \"hostage\", \"hostage\", \"hostage\", \"hotel\", \"hotel\", \"hotel\", \"hotel\", \"hotel\", \"hotel\", \"hotel\", \"hotel\", \"hotel\", \"hotel\", \"house\", \"house\", \"house\", \"house\", \"house\", \"house\", \"house\", \"house\", \"house\", \"house\", \"however\", \"however\", \"however\", \"however\", \"however\", \"however\", \"however\", \"however\", \"however\", \"however\", \"human\", \"human\", \"human\", \"human\", \"human\", \"human\", \"human\", \"human\", \"human\", \"human\", \"husband\", \"husband\", \"husband\", \"husband\", \"husband\", \"husband\", \"husband\", \"husband\", \"husband\", \"husband\", \"immortal\", \"imperial\", \"imperial\", \"imperial\", \"imperial\", \"imperial\", \"incarceration\", \"include\", \"include\", \"include\", \"include\", \"include\", \"include\", \"include\", \"include\", \"include\", \"include\", \"infected\", \"infected\", \"infected\", \"information\", \"information\", \"information\", \"information\", \"information\", \"information\", \"information\", \"information\", \"information\", \"information\", \"inmate\", \"inmate\", \"inmate\", \"inmate\", \"inmate\", \"inmate\", \"inmate\", \"inmate\", \"inmate\", \"inmate\", \"insecure\", \"insecure\", \"insecure\", \"insecure\", \"insensitive\", \"insensitive\", \"island\", \"island\", \"island\", \"island\", \"island\", \"island\", \"island\", \"island\", \"island\", \"island\", \"jail\", \"jail\", \"jail\", \"jail\", \"jail\", \"jail\", \"jail\", \"jail\", \"jail\", \"jail\", \"japanese\", \"japanese\", \"japanese\", \"japanese\", \"japanese\", \"jeopardy\", \"kid\", \"kid\", \"kid\", \"kid\", \"kid\", \"kid\", \"kid\", \"kid\", \"kid\", \"kid\", \"killer\", \"killer\", \"killer\", \"killer\", \"killer\", \"killer\", \"killer\", \"killer\", \"killer\", \"killer\", \"kiss\", \"kiss\", \"kiss\", \"kiss\", \"kiss\", \"kiss\", \"kiss\", \"kiss\", \"kiss\", \"kiss\", \"knocked_unconscious\", \"know\", \"know\", \"know\", \"know\", \"know\", \"know\", \"know\", \"know\", \"know\", \"know\", \"laboratory\", \"laboratory\", \"laboratory\", \"laboratory\", \"laboratory\", \"laboratory\", \"later\", \"later\", \"later\", \"later\", \"later\", \"later\", \"later\", \"later\", \"later\", \"later\", \"lava\", \"lava\", \"lead\", \"lead\", \"lead\", \"lead\", \"lead\", \"lead\", \"lead\", \"lead\", \"lead\", \"lead\", \"learn\", \"learn\", \"learn\", \"learn\", \"learn\", \"learn\", \"learn\", \"learn\", \"learn\", \"learn\", \"legendary\", \"legendary\", \"legendary\", \"legendary\", \"legion\", \"lesbian\", \"lesbian\", \"lesbian\", \"letter\", \"letter\", \"letter\", \"letter\", \"letter\", \"letter\", \"letter\", \"letter\", \"letter\", \"letter\", \"liberal\", \"liberal\", \"liberal\", \"liberal\", \"librarian\", \"librarian\", \"lion\", \"lion\", \"lion\", \"lion\", \"live\", \"live\", \"live\", \"live\", \"live\", \"live\", \"live\", \"live\", \"live\", \"live\", \"lizard\", \"lizard\", \"lizard\", \"lizard\", \"local\", \"local\", \"local\", \"local\", \"local\", \"local\", \"local\", \"local\", \"local\", \"local\", \"look\", \"look\", \"look\", \"look\", \"look\", \"look\", \"look\", \"look\", \"look\", \"look\", \"loop\", \"loop\", \"lord\", \"lord\", \"lord\", \"lord\", \"lose\", \"lose\", \"lose\", \"lose\", \"lose\", \"lose\", \"lose\", \"lose\", \"lose\", \"lose\", \"love\", \"love\", \"love\", \"love\", \"love\", \"love\", \"love\", \"love\", \"love\", \"love\", \"machine\", \"machine\", \"machine\", \"machine\", \"machine\", \"machine\", \"machine\", \"machine\", \"machine\", \"machine\", \"makeover\", \"makeover\", \"makeover\", \"makeover\", \"male\", \"male\", \"man\", \"marine\", \"marine\", \"marine\", \"marriage\", \"marriage\", \"marriage\", \"marriage\", \"marriage\", \"marriage\", \"marriage\", \"marriage\", \"marriage\", \"marriage\", \"married\", \"married\", \"married\", \"married\", \"married\", \"married\", \"married\", \"married\", \"married\", \"married\", \"marry\", \"marry\", \"marry\", \"marry\", \"marry\", \"marry\", \"marry\", \"marry\", \"marry\", \"marry\", \"martial\", \"martial\", \"martial\", \"martial\", \"mathematic\", \"mathematic\", \"mathematic\", \"maturity\", \"maximum_security\", \"mayor\", \"mayor\", \"mayor\", \"mayor\", \"mayor\", \"mayor\", \"mayor\", \"mayor\", \"meanwhile\", \"meanwhile\", \"meanwhile\", \"meanwhile\", \"meanwhile\", \"meanwhile\", \"meanwhile\", \"meanwhile\", \"meanwhile\", \"meanwhile\", \"meat\", \"meat\", \"meat\", \"meat\", \"meet\", \"meet\", \"meet\", \"meet\", \"meet\", \"meet\", \"meet\", \"meet\", \"meet\", \"meet\", \"member\", \"member\", \"member\", \"member\", \"member\", \"member\", \"member\", \"member\", \"member\", \"member\", \"merchant\", \"merchant\", \"merchant\", \"merchant\", \"merchant\", \"merchant\", \"merchant\", \"merchant\", \"merchant\", \"meteorite\", \"mile\", \"military\", \"military\", \"military\", \"military\", \"military\", \"military\", \"military\", \"military\", \"military\", \"military\", \"million_dollar\", \"million_dollar\", \"miner\", \"miner\", \"miner\", \"miner\", \"mini\", \"mini\", \"mini\", \"mini\", \"mini\", \"mini\", \"mini\", \"mini\", \"misgiving\", \"missile\", \"missile\", \"missile\", \"missile\", \"missile\", \"missile\", \"missile\", \"missile\", \"momentum\", \"money\", \"money\", \"money\", \"money\", \"money\", \"money\", \"money\", \"money\", \"money\", \"money\", \"monkey\", \"monkey\", \"monkey\", \"monkey\", \"monkey\", \"monkey\", \"monster\", \"monster\", \"monster\", \"monster\", \"monster\", \"monster\", \"monster\", \"monster\", \"moore\", \"mortal\", \"mortal\", \"mortal\", \"mortician\", \"mother\", \"mother\", \"mother\", \"mother\", \"mother\", \"mother\", \"mother\", \"mother\", \"mother\", \"mother\", \"mound\", \"mouse\", \"mouse\", \"mouse\", \"mouse\", \"mouse\", \"mouse\", \"mouse\", \"mouse\", \"mouse\", \"move\", \"move\", \"move\", \"move\", \"move\", \"move\", \"move\", \"move\", \"move\", \"move\", \"movie\", \"movie\", \"movie\", \"movie\", \"movie\", \"movie\", \"movie\", \"movie\", \"movie\", \"movie\", \"mugger\", \"murder\", \"murder\", \"murder\", \"murder\", \"murder\", \"murder\", \"murder\", \"murder\", \"murder\", \"murder\", \"music\", \"music\", \"music\", \"music\", \"music\", \"music\", \"music\", \"music\", \"music\", \"music\", \"mutant\", \"mutant\", \"mutant\", \"mutant\", \"myer\", \"nail\", \"name\", \"name\", \"name\", \"name\", \"name\", \"name\", \"name\", \"name\", \"name\", \"name\", \"native_american\", \"native_american\", \"naval\", \"naval\", \"needy\", \"needy\", \"needy\", \"needy\", \"nervously\", \"nervously\", \"nervously\", \"next\", \"next\", \"next\", \"next\", \"next\", \"next\", \"next\", \"next\", \"next\", \"next\", \"night\", \"night\", \"night\", \"night\", \"night\", \"night\", \"night\", \"night\", \"night\", \"night\", \"novel\", \"novel\", \"novel\", \"novel\", \"novel\", \"novel\", \"novel\", \"novel\", \"novel\", \"novel\", \"nuclear\", \"nuclear\", \"nuclear\", \"nuclear\", \"nuclear\", \"nuclear\", \"nuclear\", \"nuclear\", \"nypd\", \"nypd\", \"nypd\", \"offer\", \"offer\", \"offer\", \"offer\", \"offer\", \"offer\", \"offer\", \"offer\", \"offer\", \"offer\", \"officer\", \"officer\", \"officer\", \"officer\", \"officer\", \"officer\", \"officer\", \"officer\", \"officer\", \"officer\", \"olympic\", \"oncoming\", \"order\", \"order\", \"order\", \"order\", \"order\", \"order\", \"order\", \"order\", \"order\", \"order\", \"overdue\", \"overview\", \"overview\", \"pageant\", \"pageant\", \"parent\", \"parent\", \"parent\", \"parent\", \"parent\", \"parent\", \"parent\", \"parent\", \"parent\", \"parent\", \"parental\", \"parental\", \"parental\", \"parental\", \"parental\", \"parental\", \"parole\", \"parole\", \"parole\", \"parole\", \"parole\", \"parole\", \"partner\", \"partner\", \"partner\", \"partner\", \"partner\", \"partner\", \"partner\", \"partner\", \"partner\", \"partner\", \"party\", \"party\", \"party\", \"party\", \"party\", \"party\", \"party\", \"party\", \"party\", \"party\", \"passenger\", \"passenger\", \"passenger\", \"passenger\", \"passenger\", \"passenger\", \"passenger\", \"passenger\", \"passenger\", \"passenger\", \"payoff\", \"penguin\", \"penitentiary\", \"penitentiary\", \"perkin\", \"pier\", \"pilot\", \"pilot\", \"pilot\", \"pilot\", \"pilot\", \"pilot\", \"pilot\", \"pilot\", \"pilot\", \"pilot\", \"pirate\", \"pirate\", \"pirate\", \"pirate\", \"pirate\", \"pirate\", \"pirate\", \"pitcher\", \"pizza\", \"pizza\", \"pizza\", \"pizza\", \"place\", \"place\", \"place\", \"place\", \"place\", \"place\", \"place\", \"place\", \"place\", \"place\", \"plan\", \"plan\", \"plan\", \"plan\", \"plan\", \"plan\", \"plan\", \"plan\", \"plan\", \"plan\", \"plane\", \"plane\", \"plane\", \"plane\", \"plane\", \"plane\", \"plane\", \"plane\", \"plane\", \"plane\", \"planet\", \"planet\", \"planet\", \"planet\", \"play\", \"play\", \"play\", \"play\", \"play\", \"play\", \"play\", \"play\", \"play\", \"play\", \"player\", \"player\", \"player\", \"player\", \"player\", \"player\", \"player\", \"player\", \"player\", \"player\", \"playground\", \"playoff\", \"plot_revolve\", \"plot_revolve\", \"plot_revolve\", \"plot_revolve\", \"plot_revolve\", \"pluck\", \"poker\", \"poker\", \"poker\", \"poker\", \"police\", \"police\", \"police\", \"police\", \"police\", \"police\", \"police\", \"police\", \"police\", \"police\", \"polish\", \"politically\", \"politically\", \"politically\", \"politically\", \"porch\", \"posh\", \"posse\", \"possess\", \"possess\", \"possess\", \"possess\", \"possess\", \"possess\", \"possess\", \"possess\", \"possess\", \"possess\", \"power\", \"power\", \"power\", \"power\", \"power\", \"power\", \"power\", \"power\", \"power\", \"power\", \"practically\", \"preach\", \"preacher\", \"preacher\", \"preacher\", \"predator\", \"predator\", \"predator\", \"prep\", \"prescription\", \"prescription\", \"prescription\", \"presidency\", \"pressured\", \"principal\", \"principal\", \"principal\", \"principal\", \"principal\", \"principal\", \"principal\", \"principal\", \"principal\", \"principal\", \"prison\", \"prison\", \"prison\", \"prison\", \"prison\", \"prison\", \"prison\", \"prison\", \"prison\", \"prison\", \"prod\", \"prod\", \"prod\", \"prodigy\", \"prodigy\", \"prodigy\", \"prom\", \"prom\", \"prom\", \"prominently\", \"prominently\", \"prominently\", \"promoter\", \"psychopathic\", \"psychopathic\", \"psychopathic\", \"psychopathic\", \"publish\", \"publish\", \"publish\", \"publish\", \"publish\", \"publish\", \"publish\", \"publish\", \"publish\", \"publish\", \"pupil\", \"pupil\", \"puppet\", \"puppet\", \"puppet\", \"puppet\", \"puppet\", \"puppet\", \"puppy\", \"puppy\", \"puppy\", \"puppy\", \"puppy\", \"puppy\", \"qualify\", \"quarterback\", \"rabbit\", \"rabbit\", \"rabbit\", \"rabbit\", \"rabbit\", \"rabbit\", \"racing\", \"racism\", \"rack\", \"raider\", \"ram\", \"ranch\", \"ranch\", \"ranch\", \"ranger\", \"ranger\", \"ranger\", \"ranger\", \"reactor\", \"realize\", \"realize\", \"realize\", \"realize\", \"realize\", \"realize\", \"realize\", \"realize\", \"realize\", \"realize\", \"recess\", \"reckless\", \"record\", \"record\", \"record\", \"record\", \"record\", \"record\", \"record\", \"record\", \"record\", \"record\", \"recreate\", \"recreate\", \"reinstate\", \"relationship\", \"relationship\", \"relationship\", \"relationship\", \"relationship\", \"relationship\", \"relationship\", \"relationship\", \"relationship\", \"relationship\", \"release\", \"release\", \"release\", \"release\", \"release\", \"release\", \"release\", \"release\", \"release\", \"release\", \"remnant\", \"remnant\", \"republican\", \"rescue\", \"rescue\", \"rescue\", \"rescue\", \"rescue\", \"rescue\", \"rescue\", \"rescue\", \"rescue\", \"rescue\", \"researcher\", \"resentful\", \"resentful\", \"return\", \"return\", \"return\", \"return\", \"return\", \"return\", \"return\", \"return\", \"return\", \"return\", \"reveal\", \"reveal\", \"reveal\", \"reveal\", \"reveal\", \"reveal\", \"reveal\", \"reveal\", \"reveal\", \"reveal\", \"reverend\", \"reverend\", \"richard\", \"richard\", \"rider\", \"rider\", \"rider\", \"rider\", \"rider\", \"rider\", \"rider\", \"rightful\", \"rightful\", \"rightful\", \"rightful\", \"ring\", \"ring\", \"ring\", \"ring\", \"ring\", \"ring\", \"ring\", \"ring\", \"ring\", \"ring\", \"robbery\", \"robbery\", \"robbery\", \"robbery\", \"robbery\", \"robbery\", \"robbery\", \"robbery\", \"robbery\", \"robbery\", \"robot\", \"robot\", \"robot\", \"robot\", \"robot\", \"robot\", \"robot\", \"robot\", \"robot\", \"robot\", \"roller\", \"romantically_involve\", \"room\", \"room\", \"room\", \"room\", \"room\", \"room\", \"room\", \"room\", \"room\", \"room\", \"roommate\", \"roommate\", \"roommate\", \"roommate\", \"roommate\", \"roommate\", \"roommate\", \"roommate\", \"roommate\", \"roommate\", \"round\", \"round\", \"round\", \"round\", \"round\", \"round\", \"round\", \"round\", \"round\", \"round\", \"run\", \"run\", \"run\", \"run\", \"run\", \"run\", \"run\", \"run\", \"run\", \"run\", \"russian\", \"russian\", \"russian\", \"russian\", \"russian\", \"russian\", \"russian\", \"russian\", \"russian\", \"sail\", \"sail\", \"sailor\", \"sailor\", \"sailor\", \"sale\", \"sale\", \"sale\", \"sale\", \"sale\", \"sale\", \"sale\", \"sale\", \"sale\", \"saloon\", \"saloon\", \"sand\", \"sand\", \"sand\", \"sand\", \"sand\", \"sand\", \"sand\", \"sand\", \"sand\", \"sand\", \"save\", \"save\", \"save\", \"save\", \"save\", \"save\", \"save\", \"save\", \"save\", \"save\", \"say\", \"say\", \"say\", \"say\", \"say\", \"say\", \"say\", \"say\", \"say\", \"say\", \"scarecrow\", \"schizophrenia\", \"schizophrenia\", \"schizophrenia\", \"scholarship\", \"scholarship\", \"scholarship\", \"scholarship\", \"school\", \"school\", \"school\", \"school\", \"school\", \"school\", \"school\", \"school\", \"school\", \"school\", \"scissor\", \"scooter\", \"scream\", \"scream\", \"scream\", \"scream\", \"scream\", \"scream\", \"scream\", \"scream\", \"scream\", \"scream\", \"see\", \"see\", \"see\", \"see\", \"see\", \"see\", \"see\", \"see\", \"see\", \"see\", \"self_destructive\", \"self_destructive\", \"sell\", \"sell\", \"sell\", \"sell\", \"sell\", \"sell\", \"sell\", \"sell\", \"sell\", \"sell\", \"send\", \"send\", \"send\", \"send\", \"send\", \"send\", \"send\", \"send\", \"send\", \"send\", \"sentence\", \"sentence\", \"sentence\", \"sentence\", \"sentence\", \"sentence\", \"sentence\", \"sentence\", \"sentence\", \"sentence\", \"sergeant\", \"sergeant\", \"sergeant\", \"sergeant\", \"sergeant\", \"sexuality\", \"sexuality\", \"sexuality\", \"sexuality\", \"shark\", \"shark\", \"shark\", \"shark\", \"shark\", \"shark\", \"shark\", \"shepherd\", \"shepherd\", \"shepherd\", \"shepherd\", \"ship\", \"ship\", \"ship\", \"ship\", \"ship\", \"ship\", \"ship\", \"ship\", \"ship\", \"ship\", \"shoot\", \"shoot\", \"shoot\", \"shoot\", \"shoot\", \"shoot\", \"shoot\", \"shoot\", \"shoot\", \"shoot\", \"shovel\", \"shovel\", \"show\", \"show\", \"show\", \"show\", \"show\", \"show\", \"show\", \"show\", \"show\", \"show\", \"sible\", \"signing\", \"simmon\", \"simmon\", \"simmon\", \"simmon\", \"sister\", \"sister\", \"sister\", \"sister\", \"sister\", \"sister\", \"sister\", \"sister\", \"sister\", \"sister\", \"sized\", \"skate\", \"skate\", \"skater\", \"skinny\", \"skull\", \"skull\", \"skull\", \"skull\", \"slacker\", \"slacker\", \"slave\", \"slave\", \"slave\", \"slave\", \"slave\", \"slave\", \"slave\", \"slave\", \"slave\", \"slave\", \"slavery\", \"slavery\", \"sleazy\", \"slim\", \"slim\", \"slim\", \"slim\", \"snag\", \"snake\", \"snake\", \"snake\", \"snake\", \"snake\", \"snake\", \"snake\", \"snake\", \"snake\", \"snake\", \"sniper\", \"sniper\", \"sniper\", \"sniper\", \"sniper\", \"solar\", \"solar\", \"solar\", \"son\", \"son\", \"son\", \"son\", \"son\", \"son\", \"son\", \"son\", \"son\", \"son\", \"soon\", \"soon\", \"soon\", \"soon\", \"soon\", \"soon\", \"soon\", \"soon\", \"soon\", \"soon\", \"sorority\", \"sorority\", \"soul\", \"soul\", \"soul\", \"soul\", \"soul\", \"soul\", \"soul\", \"soul\", \"soul\", \"soul\", \"soup\", \"soup\", \"soup\", \"soviet\", \"soviet\", \"soviet\", \"soviet\", \"soviet\", \"soviet_union\", \"soviet_union\", \"soviet_union\", \"soviet_union\", \"soviet_union\", \"soviet_union\", \"space\", \"space\", \"space\", \"space\", \"space\", \"space\", \"space\", \"space\", \"space\", \"spacecraft\", \"specie\", \"specie\", \"specie\", \"speciman\", \"sphere\", \"spider\", \"spider\", \"spider\", \"spike\", \"spike\", \"spike\", \"spike\", \"spike\", \"spike\", \"sport\", \"sport\", \"sport\", \"sport\", \"sport\", \"sport\", \"sport\", \"sport\", \"sport\", \"sport\", \"spree\", \"sprinkler\", \"stab\", \"stab\", \"stab\", \"stab\", \"stab\", \"stab\", \"stab\", \"stab\", \"stab\", \"stab\", \"stark\", \"stark\", \"stark\", \"stark\", \"stark\", \"start\", \"start\", \"start\", \"start\", \"start\", \"start\", \"start\", \"start\", \"start\", \"start\", \"stays_behind\", \"steal\", \"steal\", \"steal\", \"steal\", \"steal\", \"steal\", \"steal\", \"steal\", \"steal\", \"steal\", \"steam\", \"steel\", \"steel\", \"steel\", \"steel\", \"steel\", \"stitch\", \"stitch\", \"stone\", \"stone\", \"stone\", \"stone\", \"stone\", \"stone\", \"stone\", \"stone\", \"stone\", \"stone\", \"stop\", \"stop\", \"stop\", \"stop\", \"stop\", \"stop\", \"stop\", \"stop\", \"stop\", \"stop\", \"story\", \"story\", \"story\", \"story\", \"story\", \"story\", \"story\", \"story\", \"story\", \"story\", \"stow\", \"strange\", \"strange\", \"strange\", \"strange\", \"strange\", \"strange\", \"strange\", \"strange\", \"strange\", \"strange\", \"streak\", \"streak\", \"student\", \"student\", \"student\", \"student\", \"student\", \"student\", \"student\", \"student\", \"student\", \"student\", \"study\", \"study\", \"study\", \"study\", \"study\", \"study\", \"study\", \"study\", \"study\", \"study\", \"stumble_upon\", \"substance\", \"substance\", \"substance\", \"subtly\", \"sugar\", \"sugar\", \"sugar\", \"sugar\", \"summary\", \"superhero\", \"superman\", \"superman\", \"superman\", \"superman\", \"superman\", \"superman\", \"superman\", \"superpower\", \"superpower\", \"superpower\", \"surf\", \"suspect\", \"suspect\", \"suspect\", \"suspect\", \"suspect\", \"suspect\", \"suspect\", \"suspect\", \"suspect\", \"suspect\", \"syndicate\", \"syndrome\", \"talk\", \"talk\", \"talk\", \"talk\", \"talk\", \"talk\", \"talk\", \"talk\", \"talk\", \"talk\", \"tank\", \"tank\", \"tank\", \"tank\", \"tank\", \"tank\", \"tank\", \"tank\", \"tank\", \"tank\", \"tape\", \"tape\", \"tape\", \"tape\", \"tape\", \"tape\", \"tape\", \"tape\", \"tape\", \"tape\", \"teach\", \"teach\", \"teach\", \"teach\", \"teach\", \"teach\", \"teach\", \"teach\", \"teach\", \"teach\", \"teacher\", \"teacher\", \"teacher\", \"teacher\", \"teacher\", \"teacher\", \"teacher\", \"teacher\", \"teacher\", \"teacher\", \"team\", \"team\", \"team\", \"team\", \"team\", \"team\", \"team\", \"team\", \"team\", \"team\", \"tentacle\", \"tentacle\", \"tentacle\", \"tenth\", \"terrifying\", \"thanksgive\", \"thanksgiving\", \"think\", \"think\", \"think\", \"think\", \"think\", \"think\", \"think\", \"think\", \"think\", \"think\", \"throne\", \"throne\", \"throne\", \"thumb\", \"thumb\", \"thumb\", \"thumb\", \"thumb\", \"thumb\", \"tiger\", \"tiger\", \"tiger\", \"tiger\", \"tiger\", \"tiger\", \"tiger\", \"tiger\", \"tiger\", \"toast\", \"together\", \"together\", \"together\", \"together\", \"together\", \"together\", \"together\", \"together\", \"together\", \"together\", \"tone\", \"tone\", \"tone\", \"tone\", \"tone\", \"tone\", \"tone\", \"tormentor\", \"tormentor\", \"touchdown\", \"town\", \"town\", \"town\", \"town\", \"town\", \"town\", \"town\", \"town\", \"town\", \"town\", \"toy\", \"toy\", \"toy\", \"toy\", \"toy\", \"toy\", \"train\", \"train\", \"train\", \"train\", \"train\", \"train\", \"train\", \"train\", \"train\", \"train\", \"trainee\", \"trainee\", \"trainee\", \"trainee\", \"transvestite\", \"transvestite\", \"truck\", \"truck\", \"truck\", \"truck\", \"truck\", \"truck\", \"truck\", \"truck\", \"truck\", \"truck\", \"turn\", \"turn\", \"turn\", \"turn\", \"turn\", \"turn\", \"turn\", \"turn\", \"turn\", \"turn\", \"ultimatum\", \"ultimatum\", \"undead\", \"undead\", \"undercover\", \"undercover\", \"undercover\", \"undercover\", \"undercover\", \"undercover\", \"undercover\", \"undercover\", \"undercover\", \"undercover\", \"unfamiliar\", \"universal\", \"unleash\", \"use\", \"use\", \"use\", \"use\", \"use\", \"use\", \"use\", \"use\", \"use\", \"use\", \"utilize\", \"vacuum\", \"vacuum\", \"valley\", \"valley\", \"vampire\", \"vampire\", \"vampire\", \"vampire\", \"vampire\", \"vampire\", \"vampire\", \"vampire\", \"vessel\", \"vessel\", \"vessel\", \"vessel\", \"veterinarian\", \"vintage\", \"virginity\", \"virginity\", \"virginity\", \"virginity\", \"virginity\", \"virginity\", \"virginity\", \"virginity\", \"virus\", \"virus\", \"virus\", \"virus\", \"virus\", \"virus\", \"virus\", \"virus\", \"vision\", \"vision\", \"vision\", \"vision\", \"vision\", \"vision\", \"vision\", \"vision\", \"vision\", \"vision\", \"volcano\", \"volcano\", \"volcano\", \"voodoo\", \"voodoo\", \"voodoo\", \"vortex\", \"vulgar\", \"walk\", \"walk\", \"walk\", \"walk\", \"walk\", \"walk\", \"walk\", \"walk\", \"walk\", \"walk\", \"want\", \"want\", \"want\", \"want\", \"want\", \"want\", \"want\", \"want\", \"want\", \"want\", \"warehouse\", \"warehouse\", \"warehouse\", \"warehouse\", \"warehouse\", \"warehouse\", \"warhead\", \"warhead\", \"warp\", \"wedding\", \"wedding\", \"wedding\", \"wedding\", \"wedding\", \"wedding\", \"wedding\", \"wedding\", \"wedding\", \"wedding\", \"weed\", \"weed\", \"well\", \"well\", \"well\", \"well\", \"well\", \"well\", \"well\", \"well\", \"well\", \"well\", \"werewolf\", \"werewolf\", \"wife\", \"wife\", \"wife\", \"wife\", \"wife\", \"wife\", \"wife\", \"wife\", \"wife\", \"wife\", \"win\", \"win\", \"win\", \"win\", \"win\", \"win\", \"win\", \"win\", \"win\", \"win\", \"windshield\", \"windshield\", \"windshield\", \"wish\", \"wish\", \"wish\", \"wish\", \"wish\", \"wish\", \"wish\", \"wish\", \"wish\", \"wish\", \"witch\", \"witch\", \"witch\", \"witch\", \"witch\", \"witch\", \"witch\", \"witch\", \"witch\", \"witch\", \"witness_protection\", \"wolf\", \"wolf\", \"wolf\", \"woman\", \"woman\", \"woman\", \"woman\", \"woman\", \"woman\", \"woman\", \"woman\", \"woman\", \"woman\", \"womanize\", \"womanize\", \"wood\", \"wood\", \"wood\", \"wood\", \"wood\", \"wood\", \"wood\", \"wood\", \"wood\", \"wood\", \"work\", \"work\", \"work\", \"work\", \"work\", \"work\", \"work\", \"work\", \"work\", \"work\", \"world\", \"world\", \"world\", \"world\", \"world\", \"world\", \"world\", \"world\", \"world\", \"world\", \"worthless\", \"worthless\", \"write\", \"write\", \"write\", \"write\", \"write\", \"write\", \"write\", \"write\", \"write\", \"write\", \"yard\", \"year\", \"year\", \"year\", \"year\", \"year\", \"year\", \"year\", \"year\", \"year\", \"year\", \"year_old\", \"year_old\", \"year_old\", \"year_old\", \"year_old\", \"year_old\", \"year_old\", \"year_old\", \"year_old\", \"year_old\", \"yellow\", \"yellow\", \"yellow\", \"yellow\", \"zombie\", \"zombie\", \"zombie\"]}, \"R\": 30, \"lambda.step\": 0.01, \"plot.opts\": {\"xlab\": \"PC1\", \"ylab\": \"PC2\"}, \"topic.order\": [1, 2, 3, 4, 5, 6, 7, 8, 9, 10]};\n",
       "\n",
       "function LDAvis_load_lib(url, callback){\n",
       "  var s = document.createElement('script');\n",
       "  s.src = url;\n",
       "  s.async = true;\n",
       "  s.onreadystatechange = s.onload = callback;\n",
       "  s.onerror = function(){console.warn(\"failed to load library \" + url);};\n",
       "  document.getElementsByTagName(\"head\")[0].appendChild(s);\n",
       "}\n",
       "\n",
       "if(typeof(LDAvis) !== \"undefined\"){\n",
       "   // already loaded: just create the visualization\n",
       "   !function(LDAvis){\n",
       "       new LDAvis(\"#\" + \"ldavis_el15861403153966899847240699522\", ldavis_el15861403153966899847240699522_data);\n",
       "   }(LDAvis);\n",
       "}else if(typeof define === \"function\" && define.amd){\n",
       "   // require.js is available: use it to load d3/LDAvis\n",
       "   require.config({paths: {d3: \"https://d3js.org/d3.v5\"}});\n",
       "   require([\"d3\"], function(d3){\n",
       "      window.d3 = d3;\n",
       "      LDAvis_load_lib(\"https://cdn.jsdelivr.net/gh/bmabey/pyLDAvis@3.3.1/pyLDAvis/js/ldavis.v3.0.0.js\", function(){\n",
       "        new LDAvis(\"#\" + \"ldavis_el15861403153966899847240699522\", ldavis_el15861403153966899847240699522_data);\n",
       "      });\n",
       "    });\n",
       "}else{\n",
       "    // require.js not available: dynamically load d3 & LDAvis\n",
       "    LDAvis_load_lib(\"https://d3js.org/d3.v5.js\", function(){\n",
       "         LDAvis_load_lib(\"https://cdn.jsdelivr.net/gh/bmabey/pyLDAvis@3.3.1/pyLDAvis/js/ldavis.v3.0.0.js\", function(){\n",
       "                 new LDAvis(\"#\" + \"ldavis_el15861403153966899847240699522\", ldavis_el15861403153966899847240699522_data);\n",
       "            })\n",
       "         });\n",
       "}\n",
       "</script>"
      ],
      "text/plain": [
       "<IPython.core.display.HTML object>"
      ]
     },
     "execution_count": 377,
     "metadata": {},
     "output_type": "execute_result"
    }
   ],
   "source": [
    "import spacy\n",
    "# Plotting tools\n",
    "import pyLDAvis\n",
    "import pyLDAvis.gensim_models\n",
    "import matplotlib.pyplot as plt\n",
    "%matplotlib inline\n",
    "\n",
    "\n",
    "data = pyLDAvis.gensim_models.prepare(topic_model = optimal_model, corpus = corpus, dictionary = id2word, sort_topics = False)\n",
    "pyLDAvis.display(data)"
   ]
  },
  {
   "cell_type": "code",
   "execution_count": null,
   "metadata": {},
   "outputs": [],
   "source": [
    "#Saving the plot to put it in the website\n",
    "pyLDAvis.save_html(data, 'lda.html')"
   ]
  },
  {
   "cell_type": "markdown",
   "metadata": {},
   "source": [
    "To prepare our features, let us group each summaries (doc) with its respective percentage of contribution to each topic."
   ]
  },
  {
   "cell_type": "code",
   "execution_count": 388,
   "metadata": {},
   "outputs": [
    {
     "name": "stderr",
     "output_type": "stream",
     "text": [
      "/var/folders/87/b39tprrs4vgb71j5qj9sq5hw0000gn/T/ipykernel_1586/1334696354.py:11: FutureWarning: The frame.append method is deprecated and will be removed from pandas in a future version. Use pandas.concat instead.\n",
      "  sent_topics_df = sent_topics_df.append(pd.Series([int(topic_num+1), round(prop_topic,6), int(i)]), ignore_index=True)\n",
      "/var/folders/87/b39tprrs4vgb71j5qj9sq5hw0000gn/T/ipykernel_1586/1334696354.py:11: FutureWarning: The frame.append method is deprecated and will be removed from pandas in a future version. Use pandas.concat instead.\n",
      "  sent_topics_df = sent_topics_df.append(pd.Series([int(topic_num+1), round(prop_topic,6), int(i)]), ignore_index=True)\n"
     ]
    },
    {
     "data": {
      "text/html": [
       "<div>\n",
       "<style scoped>\n",
       "    .dataframe tbody tr th:only-of-type {\n",
       "        vertical-align: middle;\n",
       "    }\n",
       "\n",
       "    .dataframe tbody tr th {\n",
       "        vertical-align: top;\n",
       "    }\n",
       "\n",
       "    .dataframe thead th {\n",
       "        text-align: right;\n",
       "    }\n",
       "</style>\n",
       "<table border=\"1\" class=\"dataframe\">\n",
       "  <thead>\n",
       "    <tr style=\"text-align: right;\">\n",
       "      <th></th>\n",
       "      <th>num_topic</th>\n",
       "      <th>topic_perc_contrib</th>\n",
       "      <th>num_document</th>\n",
       "    </tr>\n",
       "  </thead>\n",
       "  <tbody>\n",
       "    <tr>\n",
       "      <th>0</th>\n",
       "      <td>4.0</td>\n",
       "      <td>0.079856</td>\n",
       "      <td>0.0</td>\n",
       "    </tr>\n",
       "    <tr>\n",
       "      <th>1</th>\n",
       "      <td>6.0</td>\n",
       "      <td>0.018977</td>\n",
       "      <td>0.0</td>\n",
       "    </tr>\n",
       "    <tr>\n",
       "      <th>2</th>\n",
       "      <td>7.0</td>\n",
       "      <td>0.657871</td>\n",
       "      <td>0.0</td>\n",
       "    </tr>\n",
       "    <tr>\n",
       "      <th>3</th>\n",
       "      <td>8.0</td>\n",
       "      <td>0.201449</td>\n",
       "      <td>0.0</td>\n",
       "    </tr>\n",
       "    <tr>\n",
       "      <th>4</th>\n",
       "      <td>10.0</td>\n",
       "      <td>0.038245</td>\n",
       "      <td>0.0</td>\n",
       "    </tr>\n",
       "    <tr>\n",
       "      <th>5</th>\n",
       "      <td>2.0</td>\n",
       "      <td>0.089863</td>\n",
       "      <td>1.0</td>\n",
       "    </tr>\n",
       "    <tr>\n",
       "      <th>6</th>\n",
       "      <td>4.0</td>\n",
       "      <td>0.368663</td>\n",
       "      <td>1.0</td>\n",
       "    </tr>\n",
       "    <tr>\n",
       "      <th>7</th>\n",
       "      <td>10.0</td>\n",
       "      <td>0.535536</td>\n",
       "      <td>1.0</td>\n",
       "    </tr>\n",
       "    <tr>\n",
       "      <th>8</th>\n",
       "      <td>4.0</td>\n",
       "      <td>0.827389</td>\n",
       "      <td>2.0</td>\n",
       "    </tr>\n",
       "    <tr>\n",
       "      <th>9</th>\n",
       "      <td>9.0</td>\n",
       "      <td>0.156598</td>\n",
       "      <td>2.0</td>\n",
       "    </tr>\n",
       "  </tbody>\n",
       "</table>\n",
       "</div>"
      ],
      "text/plain": [
       "   num_topic  topic_perc_contrib  num_document\n",
       "0        4.0            0.079856           0.0\n",
       "1        6.0            0.018977           0.0\n",
       "2        7.0            0.657871           0.0\n",
       "3        8.0            0.201449           0.0\n",
       "4       10.0            0.038245           0.0\n",
       "5        2.0            0.089863           1.0\n",
       "6        4.0            0.368663           1.0\n",
       "7       10.0            0.535536           1.0\n",
       "8        4.0            0.827389           2.0\n",
       "9        9.0            0.156598           2.0"
      ]
     },
     "execution_count": 388,
     "metadata": {},
     "output_type": "execute_result"
    }
   ],
   "source": [
    "def format_topics_sentences(ldamodel=optimal_model, corpus=corpus):\n",
    "    # Initialize the output\n",
    "    sent_topics_df = pd.DataFrame()\n",
    "\n",
    "    # Get the number of topic, percentage of contribution and number the document for each summaries (document)\n",
    "    for i, row in enumerate(ldamodel[corpus]):\n",
    "\n",
    "        for j, (topic_num, prop_topic) in enumerate(row):\n",
    "            \n",
    "            # Here we append topic_num + 1 to number to match each topics accordingly to pLDAvis' graph\n",
    "            sent_topics_df = sent_topics_df.append(pd.Series([int(topic_num+1), round(prop_topic,6), int(i)]), ignore_index=True)\n",
    "\n",
    "    sent_topics_df.columns = ['num_topic', 'topic_perc_contrib','num_document']\n",
    "\n",
    "    return(sent_topics_df)\n",
    "\n",
    "sent_topics_df = format_topics_sentences(ldamodel=optimal_model, corpus=corpus)\n",
    "\n",
    "# Show the documents and their topic contribution\n",
    "sent_topics_df.head(10)"
   ]
  },
  {
   "cell_type": "markdown",
   "metadata": {},
   "source": [
    "We then pivot the precedent data frame to have each columns as a topic."
   ]
  },
  {
   "cell_type": "code",
   "execution_count": 390,
   "metadata": {},
   "outputs": [
    {
     "data": {
      "text/html": [
       "<div>\n",
       "<style scoped>\n",
       "    .dataframe tbody tr th:only-of-type {\n",
       "        vertical-align: middle;\n",
       "    }\n",
       "\n",
       "    .dataframe tbody tr th {\n",
       "        vertical-align: top;\n",
       "    }\n",
       "\n",
       "    .dataframe thead th {\n",
       "        text-align: right;\n",
       "    }\n",
       "</style>\n",
       "<table border=\"1\" class=\"dataframe\">\n",
       "  <thead>\n",
       "    <tr style=\"text-align: right;\">\n",
       "      <th></th>\n",
       "      <th>1.0</th>\n",
       "      <th>2.0</th>\n",
       "      <th>3.0</th>\n",
       "      <th>4.0</th>\n",
       "      <th>5.0</th>\n",
       "      <th>6.0</th>\n",
       "      <th>7.0</th>\n",
       "      <th>8.0</th>\n",
       "      <th>9.0</th>\n",
       "      <th>10.0</th>\n",
       "      <th>wikipedia_movie_id</th>\n",
       "      <th>summaries</th>\n",
       "    </tr>\n",
       "    <tr>\n",
       "      <th>num_document</th>\n",
       "      <th></th>\n",
       "      <th></th>\n",
       "      <th></th>\n",
       "      <th></th>\n",
       "      <th></th>\n",
       "      <th></th>\n",
       "      <th></th>\n",
       "      <th></th>\n",
       "      <th></th>\n",
       "      <th></th>\n",
       "      <th></th>\n",
       "      <th></th>\n",
       "    </tr>\n",
       "  </thead>\n",
       "  <tbody>\n",
       "    <tr>\n",
       "      <th>0.0</th>\n",
       "      <td>0.000000</td>\n",
       "      <td>0.000000</td>\n",
       "      <td>0.0</td>\n",
       "      <td>0.079856</td>\n",
       "      <td>0.000000</td>\n",
       "      <td>0.018977</td>\n",
       "      <td>0.657871</td>\n",
       "      <td>0.201449</td>\n",
       "      <td>0.000000</td>\n",
       "      <td>0.038245</td>\n",
       "      <td>20663735</td>\n",
       "      <td>poovalli induchoodan  is sentenced for six yea...</td>\n",
       "    </tr>\n",
       "    <tr>\n",
       "      <th>1.0</th>\n",
       "      <td>0.000000</td>\n",
       "      <td>0.089863</td>\n",
       "      <td>0.0</td>\n",
       "      <td>0.368663</td>\n",
       "      <td>0.000000</td>\n",
       "      <td>0.000000</td>\n",
       "      <td>0.000000</td>\n",
       "      <td>0.000000</td>\n",
       "      <td>0.000000</td>\n",
       "      <td>0.535536</td>\n",
       "      <td>8388648</td>\n",
       "      <td>the film opens with madhav  and sreenu  playin...</td>\n",
       "    </tr>\n",
       "    <tr>\n",
       "      <th>2.0</th>\n",
       "      <td>0.000000</td>\n",
       "      <td>0.000000</td>\n",
       "      <td>0.0</td>\n",
       "      <td>0.827389</td>\n",
       "      <td>0.000000</td>\n",
       "      <td>0.000000</td>\n",
       "      <td>0.000000</td>\n",
       "      <td>0.000000</td>\n",
       "      <td>0.156598</td>\n",
       "      <td>0.000000</td>\n",
       "      <td>4356664</td>\n",
       "      <td>kishen  has a suspicious-minded wife, kaajal ,...</td>\n",
       "    </tr>\n",
       "    <tr>\n",
       "      <th>3.0</th>\n",
       "      <td>0.078696</td>\n",
       "      <td>0.000000</td>\n",
       "      <td>0.0</td>\n",
       "      <td>0.000000</td>\n",
       "      <td>0.000000</td>\n",
       "      <td>0.032987</td>\n",
       "      <td>0.000000</td>\n",
       "      <td>0.000000</td>\n",
       "      <td>0.144298</td>\n",
       "      <td>0.738187</td>\n",
       "      <td>19174305</td>\n",
       "      <td>tahaan  lives with his grandfather , mother ha...</td>\n",
       "    </tr>\n",
       "    <tr>\n",
       "      <th>4.0</th>\n",
       "      <td>0.000000</td>\n",
       "      <td>0.000000</td>\n",
       "      <td>0.0</td>\n",
       "      <td>0.688170</td>\n",
       "      <td>0.130148</td>\n",
       "      <td>0.000000</td>\n",
       "      <td>0.159704</td>\n",
       "      <td>0.000000</td>\n",
       "      <td>0.000000</td>\n",
       "      <td>0.000000</td>\n",
       "      <td>3459677</td>\n",
       "      <td>raj mittal , veer saxena  and aryan kapoor  ar...</td>\n",
       "    </tr>\n",
       "  </tbody>\n",
       "</table>\n",
       "</div>"
      ],
      "text/plain": [
       "                   1.0       2.0  3.0       4.0       5.0       6.0       7.0  \\\n",
       "num_document                                                                    \n",
       "0.0           0.000000  0.000000  0.0  0.079856  0.000000  0.018977  0.657871   \n",
       "1.0           0.000000  0.089863  0.0  0.368663  0.000000  0.000000  0.000000   \n",
       "2.0           0.000000  0.000000  0.0  0.827389  0.000000  0.000000  0.000000   \n",
       "3.0           0.078696  0.000000  0.0  0.000000  0.000000  0.032987  0.000000   \n",
       "4.0           0.000000  0.000000  0.0  0.688170  0.130148  0.000000  0.159704   \n",
       "\n",
       "                   8.0       9.0      10.0  wikipedia_movie_id  \\\n",
       "num_document                                                     \n",
       "0.0           0.201449  0.000000  0.038245            20663735   \n",
       "1.0           0.000000  0.000000  0.535536             8388648   \n",
       "2.0           0.000000  0.156598  0.000000             4356664   \n",
       "3.0           0.000000  0.144298  0.738187            19174305   \n",
       "4.0           0.000000  0.000000  0.000000             3459677   \n",
       "\n",
       "                                                      summaries  \n",
       "num_document                                                     \n",
       "0.0           poovalli induchoodan  is sentenced for six yea...  \n",
       "1.0           the film opens with madhav  and sreenu  playin...  \n",
       "2.0           kishen  has a suspicious-minded wife, kaajal ,...  \n",
       "3.0           tahaan  lives with his grandfather , mother ha...  \n",
       "4.0           raj mittal , veer saxena  and aryan kapoor  ar...  "
      ]
     },
     "execution_count": 390,
     "metadata": {},
     "output_type": "execute_result"
    }
   ],
   "source": [
    "df_topics = sent_topics_df.copy()\n",
    "\n",
    "# Pivot the data frame\n",
    "df_topics = df_topics.pivot(index = 'num_document', columns='num_topic', values='topic_perc_contrib')\n",
    "\n",
    "# Replace every nan to 0 to interpret this a zero contribution to the topic\n",
    "df_topics = df_topics.replace(np.nan, 0)\n",
    "\n",
    "# Finally, join with the summaries to have the wikipedia id and the original text of the summaries\n",
    "df_topics = df_topics.join(summaries_topic)\n",
    "\n",
    "df_topics.head()"
   ]
  },
  {
   "cell_type": "markdown",
   "metadata": {},
   "source": [
    "#### Description of the topics"
   ]
  },
  {
   "cell_type": "markdown",
   "metadata": {},
   "source": [
    "Let us identify the topics and label them. To do that, we have observed every topic bubble and identified the keywords that made sense and were specific to each topic.\n",
    "\n",
    "This enable us to label in a specific manner each topic and not to give a general genre, since we already have that in our features. It was difficult to pinpoint a specific theme since movies' stories can be very broad and unique, so we decided to chose the keywords as the most relevant to describe the topics.\n",
    "\n",
    "We therefore came up with a small description for each topics:\n",
    "\n",
    "- Topic 1: We chose \"escape, camp, truck, shoot\" as relevant keywords. It seems that this topic talks about action movies that takes place in for a example military camp (keyword camp, truck, shoot, drive) with actions that include violence (keywords escape, reveal, attack, attempt, shoot).\n",
    "\n",
    "- Topic 2: We chose \"team, game, player, coach\" as the relavant keywords. The topic seems turned around sports and game and the complex relationships between people that result from the activity (keywords attempt, escape, force). The geographic location seems to take a role in the topic (keyword city, local, world, town).\n",
    "\n",
    "- Topic 3: \"creature, dead, house\" made the most sense to depicts the topic. This topic seems to be about supernatural horror (keyword creature) thriller, within a family environement (keywords child, family) probabily in their own house (keywords house, door, room). The thriller part comes from the subject of murder (keywords dead, body, murder, attack).\n",
    "\n",
    "- Topic 4: \"woman, relationship, date, party\" were the most sense-making keywords chosen for this topic. It is pretty straightforward that it revolves around the theme of romance and the development of a relationship of two people into something important. The keywords wife, mother, family, together, start and live support this idea.\n",
    "\n",
    "- Topic 5: The keywords \"earth, planet, monster, space, robot\" are also pretty straighforwards to draw an idea of the topic. It seems more revolved into fantasy sci-fi movies, probabily involving space adventures, involving also conflict and violence (keywords slave, use, destroy, escape, attack).\n",
    "\n",
    "- Topic 6: \"money, cabin, record, fight\" keywords seems to be less straighforward to depict the real subject behind it, but we can imagine something that revolves around money and the conflicts that this latter generates. A movie about having to use violence to have money is possible (keywords fight, attempt, drive, break), along with involving some family members (mother, brother).\n",
    "\n",
    "- Topic 7: We chose \"police, murder, prison, crime, evidence\" as relevant keywords to depict the topic. It is also pretty straightforward that the subject is about criminality (keywords murder, crime, drug, gang) and the investigation story that follows. The consequences of the crime are also present: guilty going to prison for his/her acts (keywords prison, officer, guard, release) and possibly trying to escape (keywords plan, escape). \n",
    "\n",
    "- Topic 8: \"school, student, teacher, family\" keywords seems describe a school or college environment, with the relationships and stories that grow within. The family seems to be very represented (keywords brother, family, sister, mother, daughter, husband, child, parent). \n",
    "\n",
    "- Topic 9: \"family, child, plan, escape, sell\" keywords although from first sight could be a happy story around family, but is balanced with the keywords plan, escape, sell. We could rather imagine more a dramatic story that a family has to live through and maybe plan the escape of their current situation by leaving everything behind (keywords escape, move, plan, sell, arrive).\n",
    "\n",
    "- Topic 10 : \"mother,father, alien, night, die\" were the keywords that we chose to describe this topic. The stories could take place in a family since mother, father and child were keywords that are found in the topic. The alien keyword could indicates some supernatural part of the movies, along with the some groundbreaking revelations that could impact a seemingly \"normal\" family (keywords realize, reveal, discover, die).\n"
   ]
  },
  {
   "cell_type": "code",
   "execution_count": 417,
   "metadata": {},
   "outputs": [
    {
     "data": {
      "text/html": [
       "<div>\n",
       "<style scoped>\n",
       "    .dataframe tbody tr th:only-of-type {\n",
       "        vertical-align: middle;\n",
       "    }\n",
       "\n",
       "    .dataframe tbody tr th {\n",
       "        vertical-align: top;\n",
       "    }\n",
       "\n",
       "    .dataframe thead th {\n",
       "        text-align: right;\n",
       "    }\n",
       "</style>\n",
       "<table border=\"1\" class=\"dataframe\">\n",
       "  <thead>\n",
       "    <tr style=\"text-align: right;\">\n",
       "      <th></th>\n",
       "      <th>escape_camp_truck_shoot</th>\n",
       "      <th>team_game_player_coach</th>\n",
       "      <th>creature_dead_house</th>\n",
       "      <th>woman_relationship_date_party</th>\n",
       "      <th>earth_planet_monster_space_robot</th>\n",
       "      <th>money_fight</th>\n",
       "      <th>police_murder_prison_crime_evidence</th>\n",
       "      <th>school_student_teacher_family</th>\n",
       "      <th>family_child_plan_escape</th>\n",
       "      <th>mother_father_alien_night_die</th>\n",
       "      <th>wikipedia_movie_id</th>\n",
       "      <th>summaries</th>\n",
       "    </tr>\n",
       "    <tr>\n",
       "      <th>num_document</th>\n",
       "      <th></th>\n",
       "      <th></th>\n",
       "      <th></th>\n",
       "      <th></th>\n",
       "      <th></th>\n",
       "      <th></th>\n",
       "      <th></th>\n",
       "      <th></th>\n",
       "      <th></th>\n",
       "      <th></th>\n",
       "      <th></th>\n",
       "      <th></th>\n",
       "    </tr>\n",
       "  </thead>\n",
       "  <tbody>\n",
       "    <tr>\n",
       "      <th>0.0</th>\n",
       "      <td>0.000000</td>\n",
       "      <td>0.000000</td>\n",
       "      <td>0.0</td>\n",
       "      <td>0.079856</td>\n",
       "      <td>0.000000</td>\n",
       "      <td>0.018977</td>\n",
       "      <td>0.657871</td>\n",
       "      <td>0.201449</td>\n",
       "      <td>0.000000</td>\n",
       "      <td>0.038245</td>\n",
       "      <td>20663735</td>\n",
       "      <td>poovalli induchoodan  is sentenced for six yea...</td>\n",
       "    </tr>\n",
       "    <tr>\n",
       "      <th>1.0</th>\n",
       "      <td>0.000000</td>\n",
       "      <td>0.089863</td>\n",
       "      <td>0.0</td>\n",
       "      <td>0.368663</td>\n",
       "      <td>0.000000</td>\n",
       "      <td>0.000000</td>\n",
       "      <td>0.000000</td>\n",
       "      <td>0.000000</td>\n",
       "      <td>0.000000</td>\n",
       "      <td>0.535536</td>\n",
       "      <td>8388648</td>\n",
       "      <td>the film opens with madhav  and sreenu  playin...</td>\n",
       "    </tr>\n",
       "    <tr>\n",
       "      <th>2.0</th>\n",
       "      <td>0.000000</td>\n",
       "      <td>0.000000</td>\n",
       "      <td>0.0</td>\n",
       "      <td>0.827389</td>\n",
       "      <td>0.000000</td>\n",
       "      <td>0.000000</td>\n",
       "      <td>0.000000</td>\n",
       "      <td>0.000000</td>\n",
       "      <td>0.156598</td>\n",
       "      <td>0.000000</td>\n",
       "      <td>4356664</td>\n",
       "      <td>kishen  has a suspicious-minded wife, kaajal ,...</td>\n",
       "    </tr>\n",
       "    <tr>\n",
       "      <th>3.0</th>\n",
       "      <td>0.078696</td>\n",
       "      <td>0.000000</td>\n",
       "      <td>0.0</td>\n",
       "      <td>0.000000</td>\n",
       "      <td>0.000000</td>\n",
       "      <td>0.032987</td>\n",
       "      <td>0.000000</td>\n",
       "      <td>0.000000</td>\n",
       "      <td>0.144298</td>\n",
       "      <td>0.738187</td>\n",
       "      <td>19174305</td>\n",
       "      <td>tahaan  lives with his grandfather , mother ha...</td>\n",
       "    </tr>\n",
       "    <tr>\n",
       "      <th>4.0</th>\n",
       "      <td>0.000000</td>\n",
       "      <td>0.000000</td>\n",
       "      <td>0.0</td>\n",
       "      <td>0.688170</td>\n",
       "      <td>0.130148</td>\n",
       "      <td>0.000000</td>\n",
       "      <td>0.159704</td>\n",
       "      <td>0.000000</td>\n",
       "      <td>0.000000</td>\n",
       "      <td>0.000000</td>\n",
       "      <td>3459677</td>\n",
       "      <td>raj mittal , veer saxena  and aryan kapoor  ar...</td>\n",
       "    </tr>\n",
       "  </tbody>\n",
       "</table>\n",
       "</div>"
      ],
      "text/plain": [
       "              escape_camp_truck_shoot  team_game_player_coach  \\\n",
       "num_document                                                    \n",
       "0.0                          0.000000                0.000000   \n",
       "1.0                          0.000000                0.089863   \n",
       "2.0                          0.000000                0.000000   \n",
       "3.0                          0.078696                0.000000   \n",
       "4.0                          0.000000                0.000000   \n",
       "\n",
       "              creature_dead_house  woman_relationship_date_party  \\\n",
       "num_document                                                       \n",
       "0.0                           0.0                       0.079856   \n",
       "1.0                           0.0                       0.368663   \n",
       "2.0                           0.0                       0.827389   \n",
       "3.0                           0.0                       0.000000   \n",
       "4.0                           0.0                       0.688170   \n",
       "\n",
       "              earth_planet_monster_space_robot  money_fight  \\\n",
       "num_document                                                  \n",
       "0.0                                   0.000000     0.018977   \n",
       "1.0                                   0.000000     0.000000   \n",
       "2.0                                   0.000000     0.000000   \n",
       "3.0                                   0.000000     0.032987   \n",
       "4.0                                   0.130148     0.000000   \n",
       "\n",
       "              police_murder_prison_crime_evidence  \\\n",
       "num_document                                        \n",
       "0.0                                      0.657871   \n",
       "1.0                                      0.000000   \n",
       "2.0                                      0.000000   \n",
       "3.0                                      0.000000   \n",
       "4.0                                      0.159704   \n",
       "\n",
       "              school_student_teacher_family  family_child_plan_escape  \\\n",
       "num_document                                                            \n",
       "0.0                                0.201449                  0.000000   \n",
       "1.0                                0.000000                  0.000000   \n",
       "2.0                                0.000000                  0.156598   \n",
       "3.0                                0.000000                  0.144298   \n",
       "4.0                                0.000000                  0.000000   \n",
       "\n",
       "              mother_father_alien_night_die  wikipedia_movie_id  \\\n",
       "num_document                                                      \n",
       "0.0                                0.038245            20663735   \n",
       "1.0                                0.535536             8388648   \n",
       "2.0                                0.000000             4356664   \n",
       "3.0                                0.738187            19174305   \n",
       "4.0                                0.000000             3459677   \n",
       "\n",
       "                                                      summaries  \n",
       "num_document                                                     \n",
       "0.0           poovalli induchoodan  is sentenced for six yea...  \n",
       "1.0           the film opens with madhav  and sreenu  playin...  \n",
       "2.0           kishen  has a suspicious-minded wife, kaajal ,...  \n",
       "3.0           tahaan  lives with his grandfather , mother ha...  \n",
       "4.0           raj mittal , veer saxena  and aryan kapoor  ar...  "
      ]
     },
     "execution_count": 417,
     "metadata": {},
     "output_type": "execute_result"
    }
   ],
   "source": [
    "# Label each topics accordingly\n",
    "df_topics.columns = ['escape_camp_truck_shoot', 'team_game_player_coach', 'creature_dead_house', 'woman_relationship_date_party', 'earth_planet_monster_space_robot', 'money_fight', 'police_murder_prison_crime_evidence', 'school_student_teacher_family', 'family_child_plan_escape', 'mother_father_alien_night_die', 'wikipedia_movie_id', 'summaries']\n",
    "\n",
    "df_topics.head()"
   ]
  },
  {
   "cell_type": "markdown",
   "metadata": {},
   "source": [
    "#### Creating the features"
   ]
  },
  {
   "cell_type": "markdown",
   "metadata": {},
   "source": [
    "Let us finally create the features for the indian and american summaries."
   ]
  },
  {
   "cell_type": "code",
   "execution_count": 407,
   "metadata": {},
   "outputs": [
    {
     "data": {
      "text/html": [
       "<div>\n",
       "<style scoped>\n",
       "    .dataframe tbody tr th:only-of-type {\n",
       "        vertical-align: middle;\n",
       "    }\n",
       "\n",
       "    .dataframe tbody tr th {\n",
       "        vertical-align: top;\n",
       "    }\n",
       "\n",
       "    .dataframe thead th {\n",
       "        text-align: right;\n",
       "    }\n",
       "</style>\n",
       "<table border=\"1\" class=\"dataframe\">\n",
       "  <thead>\n",
       "    <tr style=\"text-align: right;\">\n",
       "      <th></th>\n",
       "      <th>escape_camp_truck_shoot</th>\n",
       "      <th>team_game_player_coach</th>\n",
       "      <th>creature_dead_house</th>\n",
       "      <th>woman_relationship_date_party</th>\n",
       "      <th>earth_planet_monster_space_robot</th>\n",
       "      <th>money_fight</th>\n",
       "      <th>police_murder_prison_crime_evidence</th>\n",
       "      <th>school_student_teacher_family</th>\n",
       "      <th>family_child_plan_escape</th>\n",
       "      <th>mother_father_alien_night_die</th>\n",
       "      <th>wikipedia_movie_id</th>\n",
       "    </tr>\n",
       "  </thead>\n",
       "  <tbody>\n",
       "    <tr>\n",
       "      <th>0</th>\n",
       "      <td>0.000000</td>\n",
       "      <td>0.000000</td>\n",
       "      <td>0.0</td>\n",
       "      <td>0.079856</td>\n",
       "      <td>0.000000</td>\n",
       "      <td>0.018977</td>\n",
       "      <td>0.657871</td>\n",
       "      <td>0.201449</td>\n",
       "      <td>0.000000</td>\n",
       "      <td>0.038245</td>\n",
       "      <td>20663735</td>\n",
       "    </tr>\n",
       "    <tr>\n",
       "      <th>1</th>\n",
       "      <td>0.000000</td>\n",
       "      <td>0.089863</td>\n",
       "      <td>0.0</td>\n",
       "      <td>0.368663</td>\n",
       "      <td>0.000000</td>\n",
       "      <td>0.000000</td>\n",
       "      <td>0.000000</td>\n",
       "      <td>0.000000</td>\n",
       "      <td>0.000000</td>\n",
       "      <td>0.535536</td>\n",
       "      <td>8388648</td>\n",
       "    </tr>\n",
       "    <tr>\n",
       "      <th>2</th>\n",
       "      <td>0.000000</td>\n",
       "      <td>0.000000</td>\n",
       "      <td>0.0</td>\n",
       "      <td>0.827389</td>\n",
       "      <td>0.000000</td>\n",
       "      <td>0.000000</td>\n",
       "      <td>0.000000</td>\n",
       "      <td>0.000000</td>\n",
       "      <td>0.156598</td>\n",
       "      <td>0.000000</td>\n",
       "      <td>4356664</td>\n",
       "    </tr>\n",
       "    <tr>\n",
       "      <th>3</th>\n",
       "      <td>0.078696</td>\n",
       "      <td>0.000000</td>\n",
       "      <td>0.0</td>\n",
       "      <td>0.000000</td>\n",
       "      <td>0.000000</td>\n",
       "      <td>0.032987</td>\n",
       "      <td>0.000000</td>\n",
       "      <td>0.000000</td>\n",
       "      <td>0.144298</td>\n",
       "      <td>0.738187</td>\n",
       "      <td>19174305</td>\n",
       "    </tr>\n",
       "    <tr>\n",
       "      <th>4</th>\n",
       "      <td>0.000000</td>\n",
       "      <td>0.000000</td>\n",
       "      <td>0.0</td>\n",
       "      <td>0.688170</td>\n",
       "      <td>0.130148</td>\n",
       "      <td>0.000000</td>\n",
       "      <td>0.159704</td>\n",
       "      <td>0.000000</td>\n",
       "      <td>0.000000</td>\n",
       "      <td>0.000000</td>\n",
       "      <td>3459677</td>\n",
       "    </tr>\n",
       "  </tbody>\n",
       "</table>\n",
       "</div>"
      ],
      "text/plain": [
       "   escape_camp_truck_shoot  team_game_player_coach  creature_dead_house  \\\n",
       "0                 0.000000                0.000000                  0.0   \n",
       "1                 0.000000                0.089863                  0.0   \n",
       "2                 0.000000                0.000000                  0.0   \n",
       "3                 0.078696                0.000000                  0.0   \n",
       "4                 0.000000                0.000000                  0.0   \n",
       "\n",
       "   woman_relationship_date_party  earth_planet_monster_space_robot  \\\n",
       "0                       0.079856                          0.000000   \n",
       "1                       0.368663                          0.000000   \n",
       "2                       0.827389                          0.000000   \n",
       "3                       0.000000                          0.000000   \n",
       "4                       0.688170                          0.130148   \n",
       "\n",
       "   money_fight  police_murder_prison_crime_evidence  \\\n",
       "0     0.018977                             0.657871   \n",
       "1     0.000000                             0.000000   \n",
       "2     0.000000                             0.000000   \n",
       "3     0.032987                             0.000000   \n",
       "4     0.000000                             0.159704   \n",
       "\n",
       "   school_student_teacher_family  family_child_plan_escape  \\\n",
       "0                       0.201449                  0.000000   \n",
       "1                       0.000000                  0.000000   \n",
       "2                       0.000000                  0.156598   \n",
       "3                       0.000000                  0.144298   \n",
       "4                       0.000000                  0.000000   \n",
       "\n",
       "   mother_father_alien_night_die  wikipedia_movie_id  \n",
       "0                       0.038245            20663735  \n",
       "1                       0.535536             8388648  \n",
       "2                       0.000000             4356664  \n",
       "3                       0.738187            19174305  \n",
       "4                       0.000000             3459677  "
      ]
     },
     "execution_count": 407,
     "metadata": {},
     "output_type": "execute_result"
    }
   ],
   "source": [
    "topic_features_indian = df_topics.copy()\n",
    "\n",
    "topic_features_indian = df_topics[df_topics['wikipedia_movie_id'].isin(cut_indian_movies['wikipedia_movie_id'])]\n",
    "\n",
    "topic_features_indian = topic_features_indian.reset_index().drop(columns = ['summaries', 'num_document'])\n",
    "\n",
    "topic_features_indian.head()"
   ]
  },
  {
   "cell_type": "code",
   "execution_count": 408,
   "metadata": {},
   "outputs": [
    {
     "data": {
      "text/html": [
       "<div>\n",
       "<style scoped>\n",
       "    .dataframe tbody tr th:only-of-type {\n",
       "        vertical-align: middle;\n",
       "    }\n",
       "\n",
       "    .dataframe tbody tr th {\n",
       "        vertical-align: top;\n",
       "    }\n",
       "\n",
       "    .dataframe thead th {\n",
       "        text-align: right;\n",
       "    }\n",
       "</style>\n",
       "<table border=\"1\" class=\"dataframe\">\n",
       "  <thead>\n",
       "    <tr style=\"text-align: right;\">\n",
       "      <th></th>\n",
       "      <th>escape_camp_truck_shoot</th>\n",
       "      <th>team_game_player_coach</th>\n",
       "      <th>creature_dead_house</th>\n",
       "      <th>woman_relationship_date_party</th>\n",
       "      <th>earth_planet_monster_space_robot</th>\n",
       "      <th>money_fight</th>\n",
       "      <th>police_murder_prison_crime_evidence</th>\n",
       "      <th>school_student_teacher_family</th>\n",
       "      <th>family_child_plan_escape</th>\n",
       "      <th>mother_father_alien_night_die</th>\n",
       "      <th>wikipedia_movie_id</th>\n",
       "    </tr>\n",
       "  </thead>\n",
       "  <tbody>\n",
       "    <tr>\n",
       "      <th>0</th>\n",
       "      <td>0.256322</td>\n",
       "      <td>0.000000</td>\n",
       "      <td>0.437123</td>\n",
       "      <td>0.142576</td>\n",
       "      <td>0.0</td>\n",
       "      <td>0.000000</td>\n",
       "      <td>0.0</td>\n",
       "      <td>0.078523</td>\n",
       "      <td>0.000000</td>\n",
       "      <td>0.083362</td>\n",
       "      <td>1952976</td>\n",
       "    </tr>\n",
       "    <tr>\n",
       "      <th>1</th>\n",
       "      <td>0.080736</td>\n",
       "      <td>0.000000</td>\n",
       "      <td>0.000000</td>\n",
       "      <td>0.450645</td>\n",
       "      <td>0.0</td>\n",
       "      <td>0.000000</td>\n",
       "      <td>0.0</td>\n",
       "      <td>0.252099</td>\n",
       "      <td>0.121946</td>\n",
       "      <td>0.092293</td>\n",
       "      <td>24225279</td>\n",
       "    </tr>\n",
       "    <tr>\n",
       "      <th>2</th>\n",
       "      <td>0.000000</td>\n",
       "      <td>0.000000</td>\n",
       "      <td>0.000000</td>\n",
       "      <td>0.319375</td>\n",
       "      <td>0.0</td>\n",
       "      <td>0.304161</td>\n",
       "      <td>0.0</td>\n",
       "      <td>0.000000</td>\n",
       "      <td>0.000000</td>\n",
       "      <td>0.369918</td>\n",
       "      <td>15401493</td>\n",
       "    </tr>\n",
       "    <tr>\n",
       "      <th>3</th>\n",
       "      <td>0.318202</td>\n",
       "      <td>0.024252</td>\n",
       "      <td>0.000000</td>\n",
       "      <td>0.415934</td>\n",
       "      <td>0.0</td>\n",
       "      <td>0.148787</td>\n",
       "      <td>0.0</td>\n",
       "      <td>0.084962</td>\n",
       "      <td>0.000000</td>\n",
       "      <td>0.000000</td>\n",
       "      <td>1480747</td>\n",
       "    </tr>\n",
       "    <tr>\n",
       "      <th>4</th>\n",
       "      <td>0.000000</td>\n",
       "      <td>0.000000</td>\n",
       "      <td>0.000000</td>\n",
       "      <td>0.496787</td>\n",
       "      <td>0.0</td>\n",
       "      <td>0.144684</td>\n",
       "      <td>0.0</td>\n",
       "      <td>0.000000</td>\n",
       "      <td>0.000000</td>\n",
       "      <td>0.346850</td>\n",
       "      <td>4018288</td>\n",
       "    </tr>\n",
       "  </tbody>\n",
       "</table>\n",
       "</div>"
      ],
      "text/plain": [
       "   escape_camp_truck_shoot  team_game_player_coach  creature_dead_house  \\\n",
       "0                 0.256322                0.000000             0.437123   \n",
       "1                 0.080736                0.000000             0.000000   \n",
       "2                 0.000000                0.000000             0.000000   \n",
       "3                 0.318202                0.024252             0.000000   \n",
       "4                 0.000000                0.000000             0.000000   \n",
       "\n",
       "   woman_relationship_date_party  earth_planet_monster_space_robot  \\\n",
       "0                       0.142576                               0.0   \n",
       "1                       0.450645                               0.0   \n",
       "2                       0.319375                               0.0   \n",
       "3                       0.415934                               0.0   \n",
       "4                       0.496787                               0.0   \n",
       "\n",
       "   money_fight  police_murder_prison_crime_evidence  \\\n",
       "0     0.000000                                  0.0   \n",
       "1     0.000000                                  0.0   \n",
       "2     0.304161                                  0.0   \n",
       "3     0.148787                                  0.0   \n",
       "4     0.144684                                  0.0   \n",
       "\n",
       "   school_student_teacher_family  family_child_plan_escape  \\\n",
       "0                       0.078523                  0.000000   \n",
       "1                       0.252099                  0.121946   \n",
       "2                       0.000000                  0.000000   \n",
       "3                       0.084962                  0.000000   \n",
       "4                       0.000000                  0.000000   \n",
       "\n",
       "   mother_father_alien_night_die  wikipedia_movie_id  \n",
       "0                       0.083362             1952976  \n",
       "1                       0.092293            24225279  \n",
       "2                       0.369918            15401493  \n",
       "3                       0.000000             1480747  \n",
       "4                       0.346850             4018288  "
      ]
     },
     "execution_count": 408,
     "metadata": {},
     "output_type": "execute_result"
    }
   ],
   "source": [
    "topic_features_american= df_topics.copy()\n",
    "\n",
    "topic_features_american = df_topics[df_topics['wikipedia_movie_id'].isin(cut_american_movies['wikipedia_movie_id'])]\n",
    "\n",
    "topic_features_american = topic_features_american.reset_index().drop(columns = ['summaries', 'num_document'])\n",
    "\n",
    "topic_features_american.head()"
   ]
  },
  {
   "cell_type": "markdown",
   "metadata": {},
   "source": [
    "# Sentiment Analysis"
   ]
  },
  {
   "cell_type": "code",
   "execution_count": null,
   "metadata": {},
   "outputs": [],
   "source": [
    "print('The mean length of american summaries is {1:.2f} words and for indian summaries it is {0:.2f} words.'.format(\n",
    "    np.mean([len(ele.split(' ')) for ele in indian_summaries['summaries']]),\n",
    "    np.mean([len(ele.split(' ')) for ele in american_summaries['summaries']])\n",
    "))"
   ]
  },
  {
   "cell_type": "code",
   "execution_count": null,
   "metadata": {},
   "outputs": [],
   "source": [
    "#can take up to 3min to run\n",
    "\n",
    "#defining analyzer\n",
    "analyzer = SentimentIntensityAnalyzer()\n",
    "\n",
    "#computing sentiments for each summary\n",
    "indian_sentiments = pd.DataFrame([analyzer.polarity_scores(summary) for summary in indian_summaries['summaries']])\n",
    "american_sentiments = pd.DataFrame([analyzer.polarity_scores(summary) for summary in american_summaries['summaries']])\n",
    "\n",
    "#adding wikipedia id for future merges\n",
    "indian_sentiments['wikipedia_movie_id']=indian_summaries['wikipedia_movie_id']\n",
    "american_sentiments['wikipedia_movie_id']=american_summaries['wikipedia_movie_id']\n",
    "indian_sentiments.head()"
   ]
  },
  {
   "cell_type": "code",
   "execution_count": null,
   "metadata": {},
   "outputs": [],
   "source": [
    "plt.figure(figsize=(15,7))\n",
    "\n",
    "sns.histplot(american_sentiments['compound'], alpha =.5, stat = 'density', bins = 10)\n",
    "sns.histplot(indian_sentiments['compound'], alpha=.5, color = 'orange', stat = 'density', bins = 10)\n",
    "plt.legend(labels=[\"American movies\",\"Indian movies\"])\n",
    "plt.xlabel('Movie sentiments\\nnegative value indicates negative sentiments ; positive value indicates positive sentiments')\n",
    "plt.title('Movie sentiments, differenciated by movie coutry')\n",
    "plt.show()"
   ]
  },
  {
   "cell_type": "markdown",
   "metadata": {},
   "source": [
    "# Creating features based on actor data"
   ]
  },
  {
   "cell_type": "markdown",
   "metadata": {},
   "source": [
    "### Creating the output datasets"
   ]
  },
  {
   "cell_type": "code",
   "execution_count": null,
   "metadata": {},
   "outputs": [],
   "source": [
    "df_features_indian_actors = pd.DataFrame({'wikipedia_movie_id':[]})\n",
    "df_features_american_actors = pd.DataFrame({'wikipedia_movie_id':[]})"
   ]
  },
  {
   "cell_type": "code",
   "execution_count": null,
   "metadata": {},
   "outputs": [],
   "source": [
    "# get the ids of the movies from the summaries\n",
    "df_features_indian_actors['wikipedia_movie_id']=cut_indian_movies['wikipedia_movie_id']\n",
    "df_features_american_actors['wikipedia_movie_id']=cut_american_movies['wikipedia_movie_id']"
   ]
  },
  {
   "cell_type": "markdown",
   "metadata": {},
   "source": [
    "### Getting the mean actor age per gender for each movie"
   ]
  },
  {
   "cell_type": "code",
   "execution_count": null,
   "metadata": {},
   "outputs": [],
   "source": [
    "# getting the mean age per gender for indian and american films\n",
    "mean_male_actor_age_india = indian_film_male.groupby('wikipedia_movie_id', as_index=False)['actor_age_at_movie_release'].agg({'mean_male_actor_age': np.mean})\n",
    "mean_female_actor_age_india = indian_film_female.groupby('wikipedia_movie_id', as_index=False)['actor_age_at_movie_release'].agg({'mean_female_actor_age': np.mean})\n",
    "\n",
    "mean_male_actor_age_america = american_film_male.groupby('wikipedia_movie_id', as_index=False)['actor_age_at_movie_release'].agg({'mean_male_actor_age': np.mean})\n",
    "mean_female_actor_age_america = american_film_female.groupby('wikipedia_movie_id', as_index=False)['actor_age_at_movie_release'].agg({'mean_female_actor_age': np.mean})\n",
    "\n",
    "\n",
    "df_features_indian_actors = pd.merge(df_features_indian_actors, mean_male_actor_age_india, on = 'wikipedia_movie_id', how = 'left') \n",
    "df_features_indian_actors = pd.merge(df_features_indian_actors, mean_female_actor_age_india, on = 'wikipedia_movie_id', how = 'left')\n",
    "\n",
    "df_features_american_actors = pd.merge(df_features_american_actors, mean_male_actor_age_america, on = 'wikipedia_movie_id', how = 'left')\n",
    "df_features_american_actors = pd.merge(df_features_american_actors, mean_female_actor_age_america, on = 'wikipedia_movie_id', how = 'left')\n"
   ]
  },
  {
   "cell_type": "markdown",
   "metadata": {},
   "source": [
    "### Getting the mean number of films actors in each movie played in"
   ]
  },
  {
   "cell_type": "code",
   "execution_count": null,
   "metadata": {},
   "outputs": [],
   "source": [
    "# merging the number of films an actor played in with the rest of the film data\n",
    "all_american_actors_ext = all_american_actors.merge(all_american_actors.actor_name.value_counts().reset_index(), left_on = 'actor_name', right_on = 'index', how = 'left')\n",
    "all_american_actors_ext = all_american_actors_ext.groupby('wikipedia_movie_id', as_index=False)['actor_name_y'].agg({'average_number_of_films_actors_played_in': np.mean})\n",
    "\n",
    "all_indian_actors_ext = all_indian_actors.merge(all_indian_actors.actor_name.value_counts().reset_index(), left_on = 'actor_name', right_on = 'index', how = 'left')\n",
    "all_indian_actors_ext = all_indian_actors_ext.groupby('wikipedia_movie_id', as_index=False)['actor_name_y'].agg({'average_number_of_films_actors_played_in': np.mean})\n",
    "\n",
    "# merging with features\n",
    "df_features_american_actors = pd.merge(df_features_american_actors, all_american_actors_ext[['wikipedia_movie_id', 'average_number_of_films_actors_played_in']], on = 'wikipedia_movie_id', how = 'left')\n",
    "df_features_indian_actors = pd.merge(df_features_indian_actors, all_indian_actors_ext[['wikipedia_movie_id', 'average_number_of_films_actors_played_in']], on = 'wikipedia_movie_id', how = 'left')"
   ]
  },
  {
   "cell_type": "markdown",
   "metadata": {},
   "source": [
    "### Getting the percent of actress in each movie"
   ]
  },
  {
   "cell_type": "code",
   "execution_count": null,
   "metadata": {},
   "outputs": [],
   "source": [
    "def percent_female(x):\n",
    "    try:\n",
    "        return x.value_counts().to_dict()['F']/len(x)\n",
    "    except:\n",
    "        return 0\n",
    "\n",
    "percent_female_american_films = all_american_actors.groupby('wikipedia_movie_id', as_index=False)['actor_gender'].apply(percent_female)\n",
    "percent_female_american_films.rename(columns = {'actor_gender':'percent_female_cast'}, inplace = True)\n",
    "percent_female_indian_films = all_indian_actors.groupby('wikipedia_movie_id', as_index=False)['actor_gender'].apply(percent_female)\n",
    "percent_female_indian_films.rename(columns = {'actor_gender':'percent_female_cast'}, inplace = True)\n",
    "\n",
    "# merging with features\n",
    "df_features_american_actors = pd.merge(df_features_american_actors, percent_female_american_films, on = 'wikipedia_movie_id', how = 'left')\n",
    "df_features_indian_actors = pd.merge(df_features_indian_actors, percent_female_indian_films, on = 'wikipedia_movie_id', how = 'left')\n",
    "\n",
    "# drop the rows with no wikipedia_movie_id\n",
    "df_features_american_actors.dropna(subset = ['wikipedia_movie_id'], inplace = True)\n",
    "df_features_indian_actors.dropna(subset = ['wikipedia_movie_id'], inplace = True)"
   ]
  },
  {
   "cell_type": "code",
   "execution_count": null,
   "metadata": {},
   "outputs": [],
   "source": [
    "# merging with the sentiment data\n",
    "df_features_american_actors = pd.merge(df_features_american_actors, american_sentiments[['wikipedia_movie_id', 'compound']], on = 'wikipedia_movie_id', how = 'left')\n",
    "df_features_indian_actors = pd.merge(df_features_indian_actors, indian_sentiments[['wikipedia_movie_id', 'compound']], on = 'wikipedia_movie_id', how = 'left')"
   ]
  },
  {
   "attachments": {},
   "cell_type": "markdown",
   "metadata": {},
   "source": [
    "# Predicting the average rating"
   ]
  },
  {
   "attachments": {},
   "cell_type": "markdown",
   "metadata": {},
   "source": [
    "## Pre-processing the features"
   ]
  },
  {
   "cell_type": "code",
   "execution_count": null,
   "metadata": {},
   "outputs": [],
   "source": [
    "test_indian = cut_indian_movies.copy()\n",
    "#remove {}\n",
    "test_indian['cleared_movie_genres'] = test_indian['movie_genres'].str[1:-1]\n",
    "\n",
    "#remove films without genre\n",
    "test_indian = test_indian.query(\"cleared_movie_genres != ''\")\n",
    "#test_indian['cleared_movie_genres'] = [ele.split(':')[1] for ele in test_indian['cleared_movie_genres']]\n",
    "\n",
    "test_american = cut_american_movies.copy()\n",
    "#remove {}\n",
    "test_american['cleared_movie_genres'] = test_american['movie_genres'].str[1:-1]\n",
    "#remove films without genre\n",
    "test_american = test_american.query(\"cleared_movie_genres != ''\")\n"
   ]
  },
  {
   "cell_type": "code",
   "execution_count": null,
   "metadata": {},
   "outputs": [],
   "source": [
    "test_american.head()"
   ]
  },
  {
   "cell_type": "code",
   "execution_count": null,
   "metadata": {},
   "outputs": [],
   "source": [
    "movie_genre_imdb =  pd.Series(['action','adventure','animation','biography','comedy','crime','documentary','drama','family',\n",
    "                              'fantasy','noir','history', 'horror','musical','mystery','romance','sci-fi','short Film',\n",
    "                              'sport','superhero','thriller','war','western'])\n",
    "spec_chars = [':', '\"', ',', '/m/', 'film']"
   ]
  },
  {
   "cell_type": "code",
   "execution_count": null,
   "metadata": {},
   "outputs": [],
   "source": [
    "\n",
    "for char in spec_chars:\n",
    "    test_indian['cleared_movie_genres'] = test_indian['cleared_movie_genres'].str.replace(char, '')\n",
    "    test_indian['cleared_movie_genres'] = test_indian['cleared_movie_genres'].str.replace('  ', ' ')\n",
    "    test_american['cleared_movie_genres'] = test_american['cleared_movie_genres'].str.replace(char, '')\n",
    "    test_american['cleared_movie_genres'] = test_american['cleared_movie_genres'].str.replace('  ', ' ')"
   ]
  },
  {
   "cell_type": "code",
   "execution_count": null,
   "metadata": {},
   "outputs": [],
   "source": [
    "genre_dummies_indian = pd.DataFrame()\n",
    "for char in movie_genre_imdb:\n",
    "    genre_dummies_indian[char] = pd.Series(test_indian['cleared_movie_genres'].apply(lambda x: pd.Series(x).str.contains(char[:3]).any().astype('int')))\n",
    "    \n",
    "genre_dummies_american = pd.DataFrame()\n",
    "for char in movie_genre_imdb:\n",
    "    genre_dummies_american[char] = pd.Series(test_american['cleared_movie_genres'].apply(lambda x: pd.Series(x).str.contains(char[:3]).any().astype('int')))"
   ]
  },
  {
   "cell_type": "code",
   "execution_count": 409,
   "metadata": {},
   "outputs": [],
   "source": [
    "genre_dummies_indian['wikipedia_movie_id'] = test_indian['wikipedia_movie_id']\n",
    "genre_dummies_american['wikipedia_movie_id'] = test_american['wikipedia_movie_id']\n",
    "features_indian = pd.merge(genre_dummies_indian, df_features_indian_actors, on= 'wikipedia_movie_id', how = 'right')\n",
    "features_american = pd.merge(genre_dummies_american, df_features_american_actors, on= 'wikipedia_movie_id', how = 'right')"
   ]
  },
  {
   "cell_type": "code",
   "execution_count": 410,
   "metadata": {},
   "outputs": [],
   "source": [
    "rating_indian = cut_indian_movies.dropna(subset = 'averageRating')[['wikipedia_movie_id', 'averageRating']]\n",
    "rating_american = cut_american_movies.dropna(subset = 'averageRating')[['wikipedia_movie_id', 'averageRating']]"
   ]
  },
  {
   "cell_type": "code",
   "execution_count": 411,
   "metadata": {},
   "outputs": [],
   "source": [
    "features_indian = pd.merge(features_indian, topic_features_indian, on= 'wikipedia_movie_id', how = 'left')\n",
    "features_american = pd.merge(features_american, topic_features_american, on= 'wikipedia_movie_id', how = 'left')\n",
    "features_indian = pd.merge(features_indian, rating_indian, on= 'wikipedia_movie_id', how = 'right')\n",
    "features_american = pd.merge(features_american, rating_american, on= 'wikipedia_movie_id', how = 'right')\n",
    "features_indian = pd.merge(features_indian, test_indian[['wikipedia_movie_id', 'movie_release_date']], on= 'wikipedia_movie_id', how = 'left')\n",
    "features_american = pd.merge(features_american, test_american[['wikipedia_movie_id', 'movie_release_date']], on= 'wikipedia_movie_id', how = 'left')"
   ]
  },
  {
   "cell_type": "code",
   "execution_count": 413,
   "metadata": {},
   "outputs": [],
   "source": [
    "features_indian.dropna(subset='escape_camp_truck_shoot', inplace = True)\n",
    "features_american.dropna(subset='escape_camp_truck_shoot', inplace = True)\n",
    "features_indian.iloc[:,0:23] = features_indian.iloc[:,0:23].fillna(0) ; features_indian.iloc[:,24:29] = features_indian.iloc[:,24:29].fillna(features_indian.iloc[:,24:29].mean())\n",
    "features_american.iloc[:,0:23] = features_american.iloc[:,0:23].fillna(0) ; features_american.iloc[:,24:29] = features_american.iloc[:,24:29].fillna(features_american.iloc[:,24:29].mean())"
   ]
  },
  {
   "cell_type": "code",
   "execution_count": 414,
   "metadata": {},
   "outputs": [],
   "source": [
    "# to csv\n",
    "features_indian.to_csv('features_indian.csv', index = False)\n",
    "features_american.to_csv('features_american.csv', index = False)"
   ]
  },
  {
   "attachments": {},
   "cell_type": "markdown",
   "metadata": {},
   "source": [
    "# If you don't want to run everything start here !!!"
   ]
  },
  {
   "cell_type": "code",
   "execution_count": null,
   "metadata": {},
   "outputs": [],
   "source": [
    "features_indian = pd.read_csv('features_indian.csv')\n",
    "features_american = pd.read_csv('features_american.csv')"
   ]
  },
  {
   "cell_type": "code",
   "execution_count": null,
   "metadata": {},
   "outputs": [],
   "source": [
    "features_indian_train = features_indian.drop(['wikipedia_movie_id', 'movie_release_date', 'averageRating'], axis = 1).copy()\n",
    "features_american_train = features_american.drop(['wikipedia_movie_id', 'movie_release_date', 'averageRating'], axis = 1).copy()\n",
    "\n",
    "american_ratings = features_american[['averageRating', 'movie_release_date']]\n",
    "indian_ratings = features_indian[['averageRating', 'movie_release_date']]\n",
    "#standardize the data\n",
    "features_indian_train.iloc[:,23:] = (features_indian_train.iloc[:,23:] - features_indian_train.iloc[:,23:].mean())/features_indian_train.iloc[:,23:].std()\n",
    "features_american_train.iloc[:,23:] = (features_american_train.iloc[:,23:] - features_american_train.iloc[:,23:].mean())/features_american_train.iloc[:,23:].std()"
   ]
  },
  {
   "attachments": {},
   "cell_type": "markdown",
   "metadata": {},
   "source": [
    "## Linear regression (for p-values)"
   ]
  },
  {
   "cell_type": "code",
   "execution_count": null,
   "metadata": {},
   "outputs": [],
   "source": [
    "import statsmodels.api as sm\n",
    "import statsmodels.formula.api as smf"
   ]
  },
  {
   "cell_type": "code",
   "execution_count": null,
   "metadata": {},
   "outputs": [],
   "source": [
    "features_indian_train.rename(columns={'short Film': 'short', 'sci-fi':'scifi'}, inplace=True)\n",
    "features_american_train.rename(columns={'short Film': 'short', 'sci-fi':'scifi'}, inplace=True)"
   ]
  },
  {
   "cell_type": "code",
   "execution_count": null,
   "metadata": {},
   "outputs": [],
   "source": [
    "form = 'averageRating ~ ' + ' + '.join('C(' + features_indian_train.columns[:23] + ')') + ' + ' + ' + '.join(features_indian_train.columns[23:])\n",
    "form2 = 'averageRating ~ ' + ' + '.join('C(' + features_american_train.columns[:23] + ')') + ' + ' + ' + '.join(features_american_train.columns[23:])"
   ]
  },
  {
   "cell_type": "code",
   "execution_count": null,
   "metadata": {},
   "outputs": [],
   "source": [
    "mod = smf.ols(formula=form, data=pd.concat([indian_ratings['averageRating'], features_indian_train], axis = 1)).fit()\n",
    "mod.summary()"
   ]
  },
  {
   "cell_type": "code",
   "execution_count": null,
   "metadata": {},
   "outputs": [],
   "source": [
    "mod2 = smf.ols(formula=form2, data=pd.concat([american_ratings['averageRating'], features_american_train], axis = 1)).fit()\n",
    "mod2.summary()"
   ]
  },
  {
   "attachments": {},
   "cell_type": "markdown",
   "metadata": {},
   "source": [
    "## Support-Vector Machine"
   ]
  },
  {
   "cell_type": "code",
   "execution_count": null,
   "metadata": {},
   "outputs": [],
   "source": [
    "# standardize the data\n",
    "features_indian_train = (features_indian_train - features_indian_train.mean())/features_indian_train.std()\n",
    "features_american_train = (features_american_train - features_american_train.mean())/features_american_train.std()\n",
    "\n",
    "# drop the 'noir' column from both datasets because of a lack of data\n",
    "features_indian_train.drop('noir', axis = 1, inplace = True)\n",
    "features_american_train.drop('noir', axis = 1, inplace = True)"
   ]
  },
  {
   "cell_type": "code",
   "execution_count": null,
   "metadata": {},
   "outputs": [],
   "source": [
    "from sklearn.svm import SVR\n",
    "from sklearn import model_selection, metrics"
   ]
  },
  {
   "cell_type": "code",
   "execution_count": null,
   "metadata": {},
   "outputs": [],
   "source": [
    "svr_indian = SVR(kernel='linear', C=1.0)\n",
    "svr_indian.fit(features_indian_train, indian_ratings['averageRating'])\n",
    "print('Mean negative squared error : {:.3f}'.format(np.mean(model_selection.cross_val_score(svr_indian, features_indian_train, indian_ratings['averageRating'], scoring = 'neg_mean_squared_error', cv=5))))"
   ]
  },
  {
   "attachments": {},
   "cell_type": "markdown",
   "metadata": {},
   "source": [
    "We drop the feature 'noir' because it always 0 for Indian movies and thus lead to NaN when standardizing."
   ]
  },
  {
   "cell_type": "code",
   "execution_count": null,
   "metadata": {},
   "outputs": [],
   "source": [
    "plt.figure(figsize=(20,10))\n",
    "plt.bar(features_indian_train.columns, svr_indian.coef_[0])\n",
    "plt.xticks(rotation=90)\n",
    "plt.title('Feature weights for Indian Movies')\n",
    "plt.show()"
   ]
  },
  {
   "cell_type": "code",
   "execution_count": null,
   "metadata": {},
   "outputs": [],
   "source": [
    "svr_american = SVR(kernel='linear', C=1.0)\n",
    "svr_american.fit(features_american_train, american_ratings['averageRating'])\n",
    "print('Mean negative squared error : {:.3f}'.format(np.mean(model_selection.cross_val_score(svr_american, features_american_train, american_ratings['averageRating'], scoring = 'neg_mean_squared_error', cv=5))))"
   ]
  },
  {
   "cell_type": "code",
   "execution_count": null,
   "metadata": {},
   "outputs": [],
   "source": [
    "plt.figure(figsize=(20,10))\n",
    "plt.bar(features_american_train.columns, svr_american.coef_[0])\n",
    "plt.xticks(rotation=90)\n",
    "plt.title('Feature weights for American Movies')\n",
    "plt.show()"
   ]
  },
  {
   "cell_type": "code",
   "execution_count": null,
   "metadata": {},
   "outputs": [],
   "source": [
    "# standardize the coefficients\n",
    "svr_indian_coef = (svr_indian.coef_[0] - svr_indian.coef_[0].mean())/svr_indian.coef_[0].std()\n",
    "svr_american_coef = (svr_american.coef_[0] - svr_american.coef_[0].mean())/svr_american.coef_[0].std()\n",
    "\n",
    "df_diff_features = pd.DataFrame({'feature': features_american_train.columns, 'difference': np.abs(svr_indian_coef) - np.abs(svr_american_coef)})\n",
    "\n",
    "# bar plot of the difference in feature weights\n",
    "plt.figure(figsize=(7,10))\n",
    "plt.title('Difference in feature weights between Indian and American movies')\n",
    "sns.barplot(x = 'difference', y = 'feature', data = df_diff_features ,order = df_diff_features.sort_values('difference')['feature'], palette = 'Blues_d')\n",
    "plt.xlim(-1.3, 1.3)\n",
    "plt.show()"
   ]
  },
  {
   "attachments": {},
   "cell_type": "markdown",
   "metadata": {},
   "source": [
    "Negative values indicate features that are more important in predicting IMDb rating in american films than in Indian films, and positive values indicate the opposite.\n",
    "\n",
    "We can see that romance and drama are the genre features that have the biggest impact on IMDb rating in indian films, while horror and adventure have the biggest impact on IMDb rating in american films."
   ]
  },
  {
   "attachments": {},
   "cell_type": "markdown",
   "metadata": {},
   "source": [
    "# Visualizing American and Indian movies in lower dimension spaces"
   ]
  },
  {
   "cell_type": "code",
   "execution_count": null,
   "metadata": {},
   "outputs": [],
   "source": [
    "labels = np.append(np.repeat(1, len(features_indian_train)), np.repeat(0, len(features_american_train)))\n",
    "features = pd.concat([features_indian_train, features_american_train], axis = 0)\n",
    "years = np.append(features_indian['movie_release_date'], features_american['movie_release_date'])\n",
    "# standardize the data\n",
    "features = (features - features.mean())/features.std()"
   ]
  },
  {
   "attachments": {},
   "cell_type": "markdown",
   "metadata": {},
   "source": [
    "## PCA"
   ]
  },
  {
   "cell_type": "code",
   "execution_count": null,
   "metadata": {},
   "outputs": [],
   "source": [
    "from sklearn.svm import SVC\n",
    "from sklearn import model_selection, metrics, utils\n",
    "features_shuffled, labels_shuffled, years_shuffled = utils.shuffle(features, labels, years)\n",
    "svc = SVC()\n",
    "train_count = 2500\n",
    "svc.fit(features_shuffled.iloc[:train_count, :], labels_shuffled[:train_count])\n",
    "print('We can predict with an F1-score of {:.3f} if a movie is Indian or American'.format(np.mean(model_selection.cross_val_score(svc, features, labels, scoring = 'f1', cv=5))))"
   ]
  },
  {
   "attachments": {},
   "cell_type": "markdown",
   "metadata": {},
   "source": [
    "This accuracy shows that there is a structure in the data that can be used to predict the country of the movie. We should see this structure in the PCA plot but we don't. Maybe by selecting the most important features we can reveal it?"
   ]
  },
  {
   "cell_type": "code",
   "execution_count": null,
   "metadata": {},
   "outputs": [],
   "source": [
    "from sklearn.decomposition import PCA\n",
    "\n",
    "pca = PCA(n_components=8)\n",
    "features_red = pca.fit_transform(features)\n",
    "\n",
    "plt.figure(figsize=(10,7))\n",
    "plt.scatter(features_red[len(features_indian):,0], features_red[len(features_indian):,1], c = 'blue', s=3, alpha = 0.5, label = 'USA')\n",
    "plt.scatter(features_red[:len(features_indian),0], features_red[:len(features_indian),1], c = 'orange', s=3, alpha = 0.5, label = 'India')\n",
    "plt.legend()\n",
    "plt.title('PCA')\n",
    "plt.show()"
   ]
  },
  {
   "attachments": {},
   "cell_type": "markdown",
   "metadata": {},
   "source": [
    "## LDA"
   ]
  },
  {
   "cell_type": "code",
   "execution_count": null,
   "metadata": {},
   "outputs": [],
   "source": [
    "from sklearn.discriminant_analysis import LinearDiscriminantAnalysis as LDA\n",
    "\n",
    "lda = LDA(n_components=1)\n",
    "features_red_lda = lda.fit_transform(features, labels)"
   ]
  },
  {
   "cell_type": "code",
   "execution_count": null,
   "metadata": {},
   "outputs": [],
   "source": [
    "plt.figure(figsize=(10,7))\n",
    "plt.plot(range(len(features_red_lda)), features_red_lda[:,0], 'o', markersize=3, c='grey')\n",
    "plt.vlines(x = len(features_indian_train), ymin = min(features_red_lda[:,0]), ymax = max(features_red_lda[:,0]), color = 'red')\n",
    "plt.text(len(features_indian_train)/2, max(features_red_lda[:,0])*0.9, 'India', fontsize=15)\n",
    "plt.text(len(features_indian_train) + (len(features_american_train) - len(features_indian_train))/2, max(features_red_lda[:,0])*0.9, 'USA', fontsize=15)\n",
    "plt.xticks([])\n",
    "plt.title('LDA')\n",
    "plt.show()"
   ]
  },
  {
   "attachments": {},
   "cell_type": "markdown",
   "metadata": {},
   "source": [
    "## Time series"
   ]
  },
  {
   "cell_type": "code",
   "execution_count": null,
   "metadata": {},
   "outputs": [],
   "source": [
    "features_indian_year = features_indian.drop(columns=['wikipedia_movie_id', 'averageRating', 'noir']).groupby('movie_release_date').mean()\n",
    "features_american_year = features_american.drop(columns=['wikipedia_movie_id', 'averageRating', 'noir']).groupby('movie_release_date').mean()\n",
    "features_indian_year.rename(columns={'short Film': 'short', 'sci-fi':'scifi'}, inplace=True)\n",
    "features_american_year.rename(columns={'short Film': 'short', 'sci-fi':'scifi'}, inplace=True)\n",
    "\n",
    "#standardize the data\n",
    "features_indian_year = (features_indian_year - features_indian_year.mean())/features_indian_year.std()\n",
    "features_american_year = (features_american_year - features_american_year.mean())/features_american_year.std()"
   ]
  },
  {
   "attachments": {},
   "cell_type": "markdown",
   "metadata": {},
   "source": [
    "### Time series analysis with Euclidean distance"
   ]
  },
  {
   "cell_type": "code",
   "execution_count": null,
   "metadata": {},
   "outputs": [],
   "source": [
    "euclidean_dist = np.linalg.norm(features_american_year.loc[features_indian_year.index,:] - features_indian_year, axis=1)\n",
    "dist_mod = smf.ols('euclidean_dist ~ features_indian_year.index', data=locals()).fit()\n",
    "plt.figure(figsize=(10,7))\n",
    "plt.plot(features_indian_year.index, euclidean_dist, 'o', markersize=3)\n",
    "plt.plot(features_indian_year.index, dist_mod.predict(), 'r')\n",
    "plt.xlabel('Year\\nR^2 = {:.2f}   p-value = {:.3e}   coef = {:.3f}'.format(dist_mod.rsquared ,dist_mod.f_pvalue, dist_mod.params[1]))\n",
    "plt.ylabel('Euclidean distance')\n",
    "plt.title('Euclidean distance between Indian and American movies features decreases with time')\n",
    "plt.show()"
   ]
  },
  {
   "cell_type": "code",
   "execution_count": null,
   "metadata": {},
   "outputs": [],
   "source": [
    "weighted_features_indian_train = pd.concat([features_indian_train.drop(columns='noir').mul(features_indian['averageRating'].values, axis='rows', ), features_indian['movie_release_date']], axis=1)\n",
    "weighted_features_american_train = pd.concat([features_american_train.drop(columns='noir').mul(features_american['averageRating'].values, axis='rows'), features_american['movie_release_date']], axis=1)\n",
    "\n",
    "#group per year\n",
    "weighted_features_indian_train_year = weighted_features_indian_train.groupby('movie_release_date').mean()\n",
    "weighted_features_american_train_year = weighted_features_american_train.groupby('movie_release_date').mean()\n",
    "weighted_features_indian_train_year.rename(columns={'short Film': 'short', 'sci-fi':'scifi'}, inplace=True)\n",
    "weighted_features_american_train_year.rename(columns={'short Film': 'short', 'sci-fi':'scifi'}, inplace=True)\n",
    "\n",
    "#standardize the data\n",
    "weighted_features_indian_train_year = (weighted_features_indian_train_year - weighted_features_indian_train_year.mean())/weighted_features_indian_train_year.std()\n",
    "weighted_features_american_train_year = (weighted_features_american_train_year - weighted_features_american_train_year.mean())/weighted_features_american_train_year.std()"
   ]
  },
  {
   "cell_type": "code",
   "execution_count": null,
   "metadata": {},
   "outputs": [],
   "source": [
    "euclidean_dist_weighted = np.linalg.norm(weighted_features_american_train_year.loc[weighted_features_indian_train_year.index,:] - weighted_features_indian_train_year, axis=1)\n",
    "dist_mod_weighted = smf.ols('euclidean_dist_weighted ~ weighted_features_indian_train_year.index', data=locals()).fit()\n",
    "plt.figure(figsize=(10,7))\n",
    "plt.plot(weighted_features_indian_train_year.index, euclidean_dist_weighted, 'o', markersize=3)\n",
    "plt.plot(weighted_features_indian_train_year.index, dist_mod_weighted.predict(), 'r')\n",
    "plt.xlabel('Year\\nR^2 = {:.2f}   p-value = {:.3e}   coef = {:.3f}'.format(dist_mod_weighted.rsquared ,dist_mod_weighted.f_pvalue, dist_mod_weighted.params[1]))\n",
    "plt.ylabel('Euclidean distance')\n",
    "plt.title('Euclidean distance between Indian and American movies features weighted with ratings decreases with time')\n",
    "plt.show()"
   ]
  },
  {
   "cell_type": "code",
   "execution_count": null,
   "metadata": {},
   "outputs": [],
   "source": [
    "weighted_features_indian_train_year_genre = weighted_features_indian_train_year.iloc[:,:22]\n",
    "weighted_features_american_train_year_genre = weighted_features_american_train_year.iloc[:,:22]\n",
    "euclidean_dist_weighted_genre = np.linalg.norm(weighted_features_american_train_year_genre.loc[weighted_features_indian_train_year_genre.index,:] - weighted_features_indian_train_year_genre, axis=1)\n",
    "dist_mod_weighted_genre = smf.ols('euclidean_dist_weighted_genre ~ weighted_features_indian_train_year_genre.index', data=locals()).fit()\n",
    "plt.figure(figsize=(10,7))\n",
    "plt.plot(weighted_features_indian_train_year_genre.index, euclidean_dist_weighted_genre, 'o', markersize=3)\n",
    "plt.plot(weighted_features_indian_train_year_genre.index, dist_mod_weighted_genre.predict(), 'r')\n",
    "plt.xlabel('Year\\nR^2 = {:.2f}   p-value = {:.3e}   coef = {:.3f}'.format(dist_mod_weighted_genre.rsquared ,dist_mod_weighted_genre.f_pvalue, dist_mod_weighted_genre.params[1]))\n",
    "plt.ylabel('Euclidean distance')\n",
    "plt.title('Euclidean distance between Indian and American movies genres weighted with ratings decreases with time')\n",
    "plt.show()"
   ]
  },
  {
   "cell_type": "code",
   "execution_count": null,
   "metadata": {},
   "outputs": [],
   "source": [
    "weighted_features_indian_train_year_actor = weighted_features_indian_train_year.iloc[:,22:26]\n",
    "weighted_features_american_train_year_actor = weighted_features_american_train_year.iloc[:,22:26]\n",
    "euclidean_dist_weighted_actor = np.linalg.norm(weighted_features_american_train_year_actor.loc[weighted_features_indian_train_year_actor.index,:] - weighted_features_indian_train_year_actor, axis=1)\n",
    "dist_mod_weighted_actor = smf.ols('euclidean_dist_weighted_actor ~ weighted_features_indian_train_year_actor.index', data=locals()).fit()\n",
    "plt.figure(figsize=(10,7))\n",
    "plt.plot(weighted_features_indian_train_year_actor.index, euclidean_dist_weighted_actor, 'o', markersize=3)\n",
    "plt.plot(weighted_features_indian_train_year_actor.index, dist_mod_weighted_actor.predict(), 'r')\n",
    "plt.xlabel('Year\\nR^2 = {:.2f}   p-value = {:.3e}   coef = {:.3f}'.format(dist_mod_weighted_actor.rsquared ,dist_mod_weighted_actor.f_pvalue, dist_mod_weighted_actor.params[1]))\n",
    "plt.ylabel('Euclidean distance')\n",
    "plt.title('Euclidean distance between Indian and American movies actors weighted with ratings decreases with time')\n",
    "plt.show()"
   ]
  },
  {
   "cell_type": "code",
   "execution_count": null,
   "metadata": {},
   "outputs": [],
   "source": [
    "weighted_features_indian_train_year_topic = weighted_features_indian_train_year.iloc[:,27:]\n",
    "weighted_features_american_train_year_topic = weighted_features_american_train_year.iloc[:,27:]\n",
    "euclidean_dist_weighted_topic = np.linalg.norm(weighted_features_american_train_year_topic.loc[weighted_features_indian_train_year_topic.index,:] - weighted_features_indian_train_year_topic, axis=1)\n",
    "dist_mod_weighted_topic = smf.ols('euclidean_dist_weighted_topic ~ weighted_features_indian_train_year_topic.index', data=locals()).fit()\n",
    "plt.figure(figsize=(10,7))\n",
    "plt.plot(weighted_features_indian_train_year_topic.index, euclidean_dist_weighted_topic, 'o', markersize=3)\n",
    "plt.plot(weighted_features_indian_train_year_topic.index, dist_mod_weighted_topic.predict(), 'r')\n",
    "plt.xlabel('Year\\nR^2 = {:.2f}   p-value = {:.3e}   coef = {:.3f}'.format(dist_mod_weighted_topic.rsquared ,dist_mod_weighted_topic.f_pvalue, dist_mod_weighted_topic.params[1]))\n",
    "plt.ylabel('Euclidean distance')\n",
    "plt.title('Euclidean distance between Indian and American movies topics weighted with ratings decreases with time')\n",
    "plt.show()"
   ]
  },
  {
   "cell_type": "code",
   "execution_count": null,
   "metadata": {},
   "outputs": [],
   "source": [
    "pca_weighted_features = PCA(n_components=10)\n",
    "pca_weighted_features.fit(pd.concat([weighted_features_indian_train_year, weighted_features_american_train_year]))\n",
    "weighted_features_indian_red = pca_weighted_features.transform(weighted_features_indian_train_year)\n",
    "weighted_features_american_red = pca_weighted_features.transform(weighted_features_american_train_year)\n",
    "\n",
    "\n",
    "plt.figure(figsize=(10,7))\n",
    "plt.plot(weighted_features_american_train_year.index, weighted_features_indian_red[:,0], 'o', markersize=3, label = 'India')\n",
    "plt.plot(weighted_features_american_train_year.index, weighted_features_american_red[:,0], 'o', markersize=3, label = 'USA')\n",
    "plt.legend()\n",
    "plt.xlabel('Year')\n",
    "plt.ylabel('PCA component 1')\n",
    "plt.title('PCA component 1 between Indian and American movies features weighted with ratings explains {:.2f}% of the variance'.format(pca_weighted_features.explained_variance_ratio_[0]*100))\n",
    "plt.show()"
   ]
  },
  {
   "cell_type": "code",
   "execution_count": null,
   "metadata": {},
   "outputs": [],
   "source": [
    "plt.figure(figsize=(10,7))\n",
    "plt.bar(weighted_features_american_train_year.columns, pca_weighted_features.components_[0])\n",
    "plt.xticks(rotation=90)\n",
    "plt.title('?????????????')\n",
    "plt.show()"
   ]
  },
  {
   "attachments": {},
   "cell_type": "markdown",
   "metadata": {},
   "source": [
    "NB : This effect of convergence completely disappears when we don't use the ratings as weights. Moreover the weights are very hardly interpretable here."
   ]
  },
  {
   "cell_type": "markdown",
   "metadata": {},
   "source": [
    "### Segregating the genres"
   ]
  },
  {
   "cell_type": "code",
   "execution_count": null,
   "metadata": {},
   "outputs": [],
   "source": [
    "genres = features_indian.columns[:22]\n",
    "weighted_reg_genre_data = []\n",
    "w = 1\n",
    "\n",
    "plt.figure(figsize=(30,10))\n",
    "plt.subplots_adjust(hspace=0.35)\n",
    "for genre in genres:\n",
    "    weighted_features_indian_train_genre = weighted_features_indian_train.drop(columns='movie_release_date').mul(features_indian[genre], axis='rows')\n",
    "    weighted_features_american_train_genre = weighted_features_american_train.drop(columns='movie_release_date').mul(features_american[genre], axis='rows')\n",
    "\n",
    "    \n",
    "    weighted_features_indian_train_year_genre = weighted_features_indian_train_genre.groupby(features_indian['movie_release_date']).mean()\n",
    "    weighted_features_american_train_year_genre = weighted_features_american_train_genre.groupby(features_indian['movie_release_date']).mean()\n",
    "    \n",
    "    euclidean_dist_weighted_genre = np.linalg.norm(weighted_features_american_train_year_genre.iloc[:,:22] - weighted_features_indian_train_year_genre.iloc[:,:22], axis=1)\n",
    "    euclid_idx = weighted_features_indian_train_year_genre.index[(weighted_features_american_train_year_genre.iloc[:,:22].sum(axis=1) != 0) & (weighted_features_indian_train_year_genre.iloc[:,:22].sum(axis=1) != 0)]\n",
    "    euclidean_dist_weighted_genre = np.delete(euclidean_dist_weighted_genre, (weighted_features_american_train_year_genre.iloc[:,:22].sum(axis=1) == 0) | (weighted_features_indian_train_year_genre.iloc[:,:22].sum(axis=1) == 0))\n",
    "    \n",
    "    \n",
    "    if (sum(features_indian[genre]==1)<100 or sum(features_american[genre]==1)<100):\n",
    "        continue\n",
    "    \n",
    "    \n",
    "    if (len(euclid_idx)>1):\n",
    "        plt.subplot(2,4,w)\n",
    "        plt.title(genre)\n",
    "        plt.plot(euclid_idx, euclidean_dist_weighted_genre, 'o', markersize=3)\n",
    "        dist_mod_weighted_genre = smf.ols('euclidean_dist_weighted_genre ~ euclid_idx', data=locals()).fit()\n",
    "        weighted_reg_genre_data.append([genre, dist_mod_weighted_genre.rsquared ,dist_mod_weighted_genre.f_pvalue, dist_mod_weighted_genre.params[1], sum(features_indian[genre]==1), sum(features_american[genre]==1)])\n",
    "\n",
    "        plt.plot(euclid_idx, dist_mod_weighted_genre.predict(), 'r')\n",
    "        plt.xlabel('Year\\nR^2 = {:.2f}   p-value = {:.3e}   coef = {:.3f}'.format(dist_mod_weighted_genre.rsquared ,dist_mod_weighted_genre.f_pvalue, dist_mod_weighted_genre.params[1]))\n",
    "        w+=1\n",
    "    plt.ylabel('Euclidean distance')\n",
    "plt.show()\n",
    "\n",
    "weighted_reg_genre_data = pd.DataFrame(weighted_reg_genre_data, columns=['genre', 'R^2', 'p-value', 'coef', 'India', 'USA'])"
   ]
  },
  {
   "attachments": {},
   "cell_type": "markdown",
   "metadata": {},
   "source": [
    "Euclidean distance between Indian and American movies weighted with ratings decreases with time in all genres"
   ]
  },
  {
   "cell_type": "code",
   "execution_count": null,
   "metadata": {},
   "outputs": [],
   "source": [
    "weighted_reg_genre_data"
   ]
  },
  {
   "cell_type": "code",
   "execution_count": null,
   "metadata": {},
   "outputs": [],
   "source": [
    "genres = features_indian.columns[:22]\n",
    "reg_genre_data = []\n",
    "w = 1\n",
    "\n",
    "\n",
    "plt.figure(figsize=(30,10))\n",
    "plt.subplots_adjust(hspace=0.35)\n",
    "for genre in genres:\n",
    "    features_indian_train_genre = features_indian_train.mul(features_indian[genre], axis='rows')\n",
    "    features_american_train_genre = features_american_train.mul(features_american[genre], axis='rows')\n",
    "\n",
    "    features_indian_train_year_genre = features_indian_train_genre.groupby(features_indian['movie_release_date']).mean()\n",
    "    features_american_train_year_genre = features_american_train_genre.groupby(features_indian['movie_release_date']).mean()\n",
    "\n",
    "    euclidean_dist_genre = np.linalg.norm(features_american_train_year_genre.iloc[:,:22] - features_indian_train_year_genre.iloc[:,:22], axis=1)\n",
    "    euclid_idx = features_indian_train_year_genre.index[(features_american_train_year_genre.iloc[:,:22].sum(axis=1) != 0) & (features_indian_train_year_genre.iloc[:,:22].sum(axis=1) != 0)]\n",
    "    euclidean_dist_genre = np.delete(euclidean_dist_genre, (features_american_train_year_genre.iloc[:,:22].sum(axis=1) == 0) | (features_indian_train_year_genre.iloc[:,:22].sum(axis=1) == 0))\n",
    "    \n",
    "    \n",
    "    if (sum(features_indian[genre]==1)<100 or sum(features_american[genre]==1)<100):\n",
    "        continue\n",
    "    \n",
    "    \n",
    "    if (len(euclid_idx)>1):\n",
    "        plt.subplot(2,4,w)\n",
    "        plt.title(genre)\n",
    "        plt.plot(euclid_idx, euclidean_dist_genre, 'o', markersize=3)\n",
    "        dist_mod_genre = smf.ols('euclidean_dist_genre ~ euclid_idx', data=locals()).fit()\n",
    "        reg_genre_data.append([genre, dist_mod_genre.rsquared ,dist_mod_genre.f_pvalue, dist_mod_genre.params[1], sum(features_indian[genre]==1), sum(features_american[genre]==1)])\n",
    "\n",
    "        plt.plot(euclid_idx, dist_mod_genre.predict(), 'r')\n",
    "        plt.xlabel('Year\\nR^2 = {:.2f}   p-value = {:.3e}   coef = {:.3f}'.format(dist_mod_genre.rsquared ,dist_mod_genre.f_pvalue, dist_mod_genre.params[1]))\n",
    "        w+=1\n",
    "    plt.ylabel('Euclidean distance')\n",
    "plt.show()\n",
    "\n",
    "reg_genre_data = pd.DataFrame(reg_genre_data, columns=['genre', 'R^2', 'p-value', 'coef', 'India', 'USA'])"
   ]
  },
  {
   "attachments": {},
   "cell_type": "markdown",
   "metadata": {},
   "source": [
    "Weighting with ratings does not change the trend of the decrease of the euclidean distance between Indian and American movies in all genres"
   ]
  },
  {
   "cell_type": "code",
   "execution_count": null,
   "metadata": {},
   "outputs": [],
   "source": [
    "reg_genre_data"
   ]
  },
  {
   "attachments": {},
   "cell_type": "markdown",
   "metadata": {},
   "source": [
    "### Reducing the american dataset to the same size as the indian dataset"
   ]
  },
  {
   "cell_type": "code",
   "execution_count": null,
   "metadata": {},
   "outputs": [],
   "source": [
    "sampled_american_features_year = pd.DataFrame(index=features_indian_year.index, columns=features_indian_train.columns)\n",
    "for i in features_indian['movie_release_date'].unique():\n",
    "    sampled_american_features_year.loc[i,:] = features_american_train[features_american['movie_release_date']==i].sample(sum(features_indian['movie_release_date']==i)).mean()\n",
    "sampled_american_features_year.dropna(inplace=True, axis=0)"
   ]
  },
  {
   "cell_type": "code",
   "execution_count": null,
   "metadata": {},
   "outputs": [],
   "source": [
    "euclidean_dist_sampled = np.linalg.norm(sampled_american_features_year.to_numpy().astype(float) - features_indian_year.to_numpy().astype(float), axis=1)\n",
    "dist_mod_sampled = smf.ols('euclidean_dist_sampled ~ features_indian_year.index', data=locals()).fit()\n",
    "plt.figure(figsize=(10,7))\n",
    "plt.plot(features_indian_year.index, euclidean_dist_sampled, 'o', markersize=3)\n",
    "plt.plot(features_indian_year.index, dist_mod_sampled.predict(), 'r')\n",
    "plt.xlabel('Year\\nR^2 = {:.2f}   p-value = {:.3e}   coef = {:.3f}'.format(dist_mod_sampled.rsquared ,dist_mod_sampled.f_pvalue, dist_mod_sampled.params[1]))\n",
    "plt.ylabel('Euclidean distance')\n",
    "plt.title('The decreasing distance between Indian and American movies is also kept when we sample American movies to match the number of Indian movies')\n",
    "plt.show()"
   ]
  },
  {
   "attachments": {},
   "cell_type": "markdown",
   "metadata": {},
   "source": [
    "Note: the variance is increased when we reduce the number of American movies."
   ]
  },
  {
   "attachments": {},
   "cell_type": "markdown",
   "metadata": {},
   "source": [
    "### Time series analysis with PCA"
   ]
  },
  {
   "cell_type": "code",
   "execution_count": null,
   "metadata": {},
   "outputs": [],
   "source": [
    "plt.figure(figsize=(10,7))\n",
    "features_indian_year_red = pca.transform(features_indian_year)\n",
    "features_american_year_red = pca.transform(features_american_year)\n",
    "plt.plot(features_indian_year.index, features_indian_year_red[:,0], 'o', markersize=3, c='orange', label = 'India')\n",
    "plt.plot(features_american_year.index, features_american_year_red[:,0], 'o', markersize=3, c='blue', label = 'USA')\n",
    "plt.legend()\n",
    "plt.title('PCA')\n",
    "plt.xlabel('Year')\n",
    "plt.ylabel('PC1')\n",
    "plt.show()"
   ]
  },
  {
   "cell_type": "code",
   "execution_count": null,
   "metadata": {},
   "outputs": [],
   "source": [
    "plt.figure(figsize=(10,7))\n",
    "plt.plot(features_indian_year_red[:,0], features_indian_year_red[:,1], 'o', markersize=3, c='orange', label = 'India')\n",
    "plt.plot(features_american_year_red[:,0], features_american_year_red[:,1], 'o', markersize=3, c='blue', label = 'USA')\n",
    "plt.legend()\n",
    "plt.xlabel('PC1')\n",
    "plt.ylabel('PC2')\n",
    "plt.title('PCA')\n",
    "plt.show()"
   ]
  },
  {
   "cell_type": "code",
   "execution_count": null,
   "metadata": {},
   "outputs": [],
   "source": [
    "diff_features_year = np.abs(pca.transform(features_american_year.loc[features_indian_year.index,:])[:,0] - features_indian_year_red[:,0])\n",
    "plt.figure(figsize=(10,7))\n",
    "plt.plot(features_indian_year.index, diff_features_year, 'o', markersize=3)\n",
    "plt.title('Difference between PC1 of Indian and American movies features across time')\n",
    "plt.xlabel('Year')\n",
    "plt.ylabel('PC1 difference')\n",
    "plt.show()"
   ]
  },
  {
   "attachments": {},
   "cell_type": "markdown",
   "metadata": {},
   "source": [
    "### Time series analysis with LDA"
   ]
  },
  {
   "cell_type": "code",
   "execution_count": null,
   "metadata": {},
   "outputs": [],
   "source": [
    "plt.figure(figsize=(10,7))\n",
    "features_indian_year_lda = lda.transform(features_indian_year)\n",
    "features_american_year_lda = lda.transform(features_american_year)\n",
    "plt.plot(features_indian_year.index, features_indian_year_lda[:,0], 'o', markersize=3, c='orange', label = 'India')\n",
    "plt.plot(features_american_year.index, features_american_year_lda[:,0], 'o', markersize=3, c='blue', label = 'USA')\n",
    "plt.legend()\n",
    "plt.title('LDA')\n",
    "plt.xlabel('Year')\n",
    "plt.ylabel('LDA1')\n",
    "plt.show()"
   ]
  },
  {
   "cell_type": "code",
   "execution_count": null,
   "metadata": {},
   "outputs": [],
   "source": [
    "diff_features_year_lda = np.abs(lda.transform(features_american_year.loc[features_indian_year.index,:])[:,0] - features_indian_year_lda[:,0])\n",
    "lda_mod = smf.ols('diff_features_year_lda ~ features_indian_year.index', data=locals()).fit()\n",
    "plt.figure(figsize=(10,7))\n",
    "plt.plot(features_indian_year.index, diff_features_year_lda, 'o', markersize=3)\n",
    "plt.plot(features_indian_year.index, lda_mod.predict(), 'r')\n",
    "plt.xlabel('Year\\nR^2 = {:.2f}   p-value = {:.3e}   coef = {:.3f}'.format(lda_mod.rsquared ,lda_mod.f_pvalue, lda_mod.params[1]))\n",
    "plt.title('Difference between LDA1 of Indian and American movies features across time')\n",
    "plt.ylabel('LDA1 difference')\n",
    "plt.show()"
   ]
  },
  {
   "attachments": {},
   "cell_type": "markdown",
   "metadata": {},
   "source": [
    "## Analysis of feature importances across 3 periodes"
   ]
  },
  {
   "cell_type": "code",
   "execution_count": null,
   "metadata": {},
   "outputs": [],
   "source": [
    "cuts = [1960, 1970, 1980, 1990, 2000, 2005]\n",
    "\n",
    "svr = SVR(kernel='linear', C=1.0)\n",
    "\n",
    "def compute_coefs(feats, rats, cuts):\n",
    "    coefs = np.zeros((len(cuts)+1, feats.shape[1]))\n",
    "    counts=[sum(rats['movie_release_date'] < cuts[0])]\n",
    "    svr.fit(feats.loc[rats['movie_release_date'] < cuts[0] ,:], rats.loc[rats['movie_release_date'] < cuts[0], 'averageRating'])\n",
    "    coefs[0,:] = svr.coef_\n",
    "    for i in range(len(cuts)-1):\n",
    "        svr.fit(feats.loc[(rats['movie_release_date'] >= cuts[i]) & (rats['movie_release_date'] < cuts[i+1]) ,:], rats.loc[(rats['movie_release_date'] >= cuts[i]) & (rats['movie_release_date'] < cuts[i+1]), 'averageRating'])\n",
    "        coefs[i+1,:] = svr.coef_\n",
    "        counts.append(sum((rats['movie_release_date'] >= cuts[i]) & (rats['movie_release_date'] < cuts[i+1])))\n",
    "    svr.fit(feats.loc[rats['movie_release_date'] >= cuts[1] ,:], rats.loc[rats['movie_release_date'] >= cuts[1], 'averageRating'])\n",
    "    coefs[-1,:] = svr.coef_\n",
    "    counts.append(sum(rats['movie_release_date'] >= cuts[1]))\n",
    "    return coefs, counts\n",
    "\n",
    "indian_coef, indian_counts = compute_coefs(features_indian_train, indian_ratings, cuts)\n",
    "american_coef, american_counts = compute_coefs(features_american_train, american_ratings, cuts)"
   ]
  },
  {
   "cell_type": "code",
   "execution_count": null,
   "metadata": {},
   "outputs": [],
   "source": [
    "coef_diff = np.linalg.norm(american_coef - indian_coef, axis=1)\n",
    "x = np.append('1950-'+str(cuts[0]), [str(cuts[i]) + '-' + str(cuts[i+1]) for i in range(len(cuts)-1)])\n",
    "x = np.append(x, str(cuts[-1]) + '-2010')\n",
    "plt.figure(figsize=(10,7))\n",
    "plt.plot(x, coef_diff, markersize=3)\n",
    "plt.title('Euclidean distance in SVR coefficients between Indian and American movies features does not seem to decrease with time')\n",
    "plt.xlabel('Time period')\n",
    "plt.ylabel('Euclidean distance')\n",
    "plt.show()"
   ]
  },
  {
   "cell_type": "code",
   "execution_count": null,
   "metadata": {},
   "outputs": [],
   "source": [
    "plt.figure(figsize=(10,7))\n",
    "plt.plot(x, indian_counts, markersize=3, c='orange', label = 'India')\n",
    "plt.plot(x, american_counts, markersize=3, c='blue', label = 'USA')\n",
    "plt.legend()\n",
    "plt.xlabel('Time period')\n",
    "plt.ylabel('Number of movies')\n",
    "plt.title('Number of movies in each time period is very unequal')\n",
    "plt.show()"
   ]
  },
  {
   "cell_type": "code",
   "execution_count": null,
   "metadata": {},
   "outputs": [],
   "source": [
    "plt.figure(figsize=(10,7))\n",
    "plt.plot(x, np.abs(indian_coef-american_coef), markersize=3, label = features_indian_train.columns)\n",
    "plt.xlabel('Time period')\n",
    "plt.ylabel('Absolute difference in SVR coefficients')\n",
    "plt.title('Absolute difference in SVR coefficients between Indian and American movies features does not seem to converge')\n",
    "plt.legend()\n",
    "plt.show()"
   ]
  },
  {
   "cell_type": "code",
   "execution_count": null,
   "metadata": {},
   "outputs": [],
   "source": []
  }
 ],
 "metadata": {
  "kernelspec": {
   "display_name": "Python 3.9.13 ('ada')",
   "language": "python",
   "name": "python3"
  },
  "language_info": {
   "codemirror_mode": {
    "name": "ipython",
    "version": 3
   },
   "file_extension": ".py",
   "mimetype": "text/x-python",
   "name": "python",
   "nbconvert_exporter": "python",
   "pygments_lexer": "ipython3",
   "version": "3.9.13"
  },
  "orig_nbformat": 4,
  "vscode": {
   "interpreter": {
    "hash": "87259b15c3afccf059722440ab90a1874d985996384e98fcc7aa5e93528035d8"
   }
  }
 },
 "nbformat": 4,
 "nbformat_minor": 2
}
